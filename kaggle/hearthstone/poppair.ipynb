{
 "cells": [
  {
   "cell_type": "code",
   "execution_count": 1,
   "id": "6cf7ea0e",
   "metadata": {
    "execution": {
     "iopub.execute_input": "2022-10-29T00:25:00.387011Z",
     "iopub.status.busy": "2022-10-29T00:25:00.386658Z",
     "iopub.status.idle": "2022-10-29T00:25:01.200877Z",
     "shell.execute_reply": "2022-10-29T00:25:01.200086Z"
    },
    "papermill": {
     "duration": 0.848073,
     "end_time": "2022-10-29T00:25:01.203094",
     "exception": false,
     "start_time": "2022-10-29T00:25:00.355021",
     "status": "completed"
    },
    "tags": []
   },
   "outputs": [],
   "source": [
    "from datetime import timedelta, datetime\n",
    "from ast import literal_eval\n",
    "from pathlib import Path\n",
    "import random\n",
    "import numpy as np\n",
    "import pandas as pd\n",
    "from tqdm import tqdm\n",
    "from collections import Counter\n",
    "import gc\n",
    "from scipy.sparse import csr_matrix\n",
    "from functools import reduce\n",
    "import os\n",
    "\n",
    "import matplotlib.pyplot as plt\n",
    "import seaborn as sns\n",
    "\n",
    "sns.set_theme()\n",
    "\n",
    "%matplotlib inline\n",
    "tqdm.pandas()"
   ]
  },
  {
   "cell_type": "code",
   "execution_count": 2,
   "id": "7e30ab0f",
   "metadata": {
    "execution": {
     "iopub.execute_input": "2022-10-29T00:25:01.265252Z",
     "iopub.status.busy": "2022-10-29T00:25:01.264598Z",
     "iopub.status.idle": "2022-10-29T00:25:01.268974Z",
     "shell.execute_reply": "2022-10-29T00:25:01.268276Z"
    },
    "papermill": {
     "duration": 0.036663,
     "end_time": "2022-10-29T00:25:01.270671",
     "exception": false,
     "start_time": "2022-10-29T00:25:01.234008",
     "status": "completed"
    },
    "tags": []
   },
   "outputs": [],
   "source": [
    "LOCAL = False\n",
    "DATA_PATH = Path(\"./data\") if LOCAL else Path(\"/kaggle/input/what-card-should-i-select-next\")"
   ]
  },
  {
   "cell_type": "code",
   "execution_count": 3,
   "id": "183b5590",
   "metadata": {
    "execution": {
     "iopub.execute_input": "2022-10-29T00:25:01.330109Z",
     "iopub.status.busy": "2022-10-29T00:25:01.329812Z",
     "iopub.status.idle": "2022-10-29T00:25:05.050203Z",
     "shell.execute_reply": "2022-10-29T00:25:05.049573Z"
    },
    "papermill": {
     "duration": 3.752376,
     "end_time": "2022-10-29T00:25:05.052201",
     "exception": false,
     "start_time": "2022-10-29T00:25:01.299825",
     "status": "completed"
    },
    "tags": []
   },
   "outputs": [],
   "source": [
    "# Get the data\n",
    "dfp_train = pd.read_csv(DATA_PATH/\"train.csv\")\n",
    "dfp_test = pd.read_csv(DATA_PATH / \"test.csv\")\n",
    "dfp_cards = pd.read_csv(DATA_PATH / \"cards.csv\")"
   ]
  },
  {
   "cell_type": "code",
   "execution_count": 4,
   "id": "7f1105ee",
   "metadata": {
    "execution": {
     "iopub.execute_input": "2022-10-29T00:25:05.112000Z",
     "iopub.status.busy": "2022-10-29T00:25:05.111517Z",
     "iopub.status.idle": "2022-10-29T00:25:05.131800Z",
     "shell.execute_reply": "2022-10-29T00:25:05.131026Z"
    },
    "papermill": {
     "duration": 0.05167,
     "end_time": "2022-10-29T00:25:05.133405",
     "exception": false,
     "start_time": "2022-10-29T00:25:05.081735",
     "status": "completed"
    },
    "tags": []
   },
   "outputs": [
    {
     "data": {
      "text/html": [
       "<div>\n",
       "<style scoped>\n",
       "    .dataframe tbody tr th:only-of-type {\n",
       "        vertical-align: middle;\n",
       "    }\n",
       "\n",
       "    .dataframe tbody tr th {\n",
       "        vertical-align: top;\n",
       "    }\n",
       "\n",
       "    .dataframe thead th {\n",
       "        text-align: right;\n",
       "    }\n",
       "</style>\n",
       "<table border=\"1\" class=\"dataframe\">\n",
       "  <thead>\n",
       "    <tr style=\"text-align: right;\">\n",
       "      <th></th>\n",
       "      <th>deckid</th>\n",
       "      <th>update_date</th>\n",
       "      <th>hero</th>\n",
       "      <th>is_wild</th>\n",
       "      <th>is_standard</th>\n",
       "      <th>cards</th>\n",
       "    </tr>\n",
       "  </thead>\n",
       "  <tbody>\n",
       "    <tr>\n",
       "      <th>0</th>\n",
       "      <td>b5407c84-8aa8-420d-9cd4-162eeee8762f</td>\n",
       "      <td>2013-05-23</td>\n",
       "      <td>paladin</td>\n",
       "      <td>True</td>\n",
       "      <td>False</td>\n",
       "      <td>[21, 21, 142, 206, 206, 350, 350, 394, 422, 42...</td>\n",
       "    </tr>\n",
       "    <tr>\n",
       "      <th>1</th>\n",
       "      <td>03376e41-6934-4ebd-9256-5a96c1760ac7</td>\n",
       "      <td>2013-05-23</td>\n",
       "      <td>paladin</td>\n",
       "      <td>True</td>\n",
       "      <td>False</td>\n",
       "      <td>[53, 142, 206, 250, 318, 350, 355, 394, 439, 4...</td>\n",
       "    </tr>\n",
       "    <tr>\n",
       "      <th>2</th>\n",
       "      <td>72301a26-1825-4ec4-88aa-132ac97da5e1</td>\n",
       "      <td>2013-05-23</td>\n",
       "      <td>shaman</td>\n",
       "      <td>True</td>\n",
       "      <td>False</td>\n",
       "      <td>[67, 67, 77, 77, 84, 84, 216, 233, 233, 388, 4...</td>\n",
       "    </tr>\n",
       "    <tr>\n",
       "      <th>3</th>\n",
       "      <td>60273017-9a7a-4336-bc31-d5bcf662d3ef</td>\n",
       "      <td>2013-05-24</td>\n",
       "      <td>shaman</td>\n",
       "      <td>True</td>\n",
       "      <td>False</td>\n",
       "      <td>[54, 54, 140, 217, 289, 289, 510, 510, 526, 52...</td>\n",
       "    </tr>\n",
       "    <tr>\n",
       "      <th>4</th>\n",
       "      <td>dfc220aa-6253-4d2f-8707-47523e3ae88a</td>\n",
       "      <td>2013-05-24</td>\n",
       "      <td>shaman</td>\n",
       "      <td>True</td>\n",
       "      <td>False</td>\n",
       "      <td>[55, 55, 88, 88, 152, 152, 217, 275, 275, 289,...</td>\n",
       "    </tr>\n",
       "    <tr>\n",
       "      <th>...</th>\n",
       "      <td>...</td>\n",
       "      <td>...</td>\n",
       "      <td>...</td>\n",
       "      <td>...</td>\n",
       "      <td>...</td>\n",
       "      <td>...</td>\n",
       "    </tr>\n",
       "    <tr>\n",
       "      <th>606936</th>\n",
       "      <td>6e992855-bcb1-4bd1-b425-0b06c4002830</td>\n",
       "      <td>2018-08-28</td>\n",
       "      <td>warrior</td>\n",
       "      <td>True</td>\n",
       "      <td>False</td>\n",
       "      <td>[55523, 55524, 55524, 55529, 55529, 55535, 769...</td>\n",
       "    </tr>\n",
       "    <tr>\n",
       "      <th>606937</th>\n",
       "      <td>2fb6eae8-a11e-457f-b098-9783b65529a4</td>\n",
       "      <td>2018-08-28</td>\n",
       "      <td>warrior</td>\n",
       "      <td>True</td>\n",
       "      <td>False</td>\n",
       "      <td>[664, 664, 55517, 55517, 55523, 55529, 55529, ...</td>\n",
       "    </tr>\n",
       "    <tr>\n",
       "      <th>606938</th>\n",
       "      <td>54f03512-36b3-4cdd-9895-28c5c7372dd4</td>\n",
       "      <td>2018-08-28</td>\n",
       "      <td>mage</td>\n",
       "      <td>True</td>\n",
       "      <td>False</td>\n",
       "      <td>[4, 4, 49, 49, 220, 55552, 55552, 55553, 55553...</td>\n",
       "    </tr>\n",
       "    <tr>\n",
       "      <th>606939</th>\n",
       "      <td>7b1abfd8-1311-4e60-ad20-bcccf5cf4462</td>\n",
       "      <td>2018-08-28</td>\n",
       "      <td>paladin</td>\n",
       "      <td>True</td>\n",
       "      <td>False</td>\n",
       "      <td>[581, 581, 12188, 12188, 12200, 12200, 12216, ...</td>\n",
       "    </tr>\n",
       "    <tr>\n",
       "      <th>606940</th>\n",
       "      <td>8771f68b-68d3-4b0b-ae80-5de05f7fc1be</td>\n",
       "      <td>2018-08-28</td>\n",
       "      <td>priest</td>\n",
       "      <td>True</td>\n",
       "      <td>False</td>\n",
       "      <td>[76, 431, 431, 554, 55463, 55463, 58722, 58722...</td>\n",
       "    </tr>\n",
       "  </tbody>\n",
       "</table>\n",
       "<p>606941 rows × 6 columns</p>\n",
       "</div>"
      ],
      "text/plain": [
       "                                      deckid update_date     hero  is_wild  \\\n",
       "0       b5407c84-8aa8-420d-9cd4-162eeee8762f  2013-05-23  paladin     True   \n",
       "1       03376e41-6934-4ebd-9256-5a96c1760ac7  2013-05-23  paladin     True   \n",
       "2       72301a26-1825-4ec4-88aa-132ac97da5e1  2013-05-23   shaman     True   \n",
       "3       60273017-9a7a-4336-bc31-d5bcf662d3ef  2013-05-24   shaman     True   \n",
       "4       dfc220aa-6253-4d2f-8707-47523e3ae88a  2013-05-24   shaman     True   \n",
       "...                                      ...         ...      ...      ...   \n",
       "606936  6e992855-bcb1-4bd1-b425-0b06c4002830  2018-08-28  warrior     True   \n",
       "606937  2fb6eae8-a11e-457f-b098-9783b65529a4  2018-08-28  warrior     True   \n",
       "606938  54f03512-36b3-4cdd-9895-28c5c7372dd4  2018-08-28     mage     True   \n",
       "606939  7b1abfd8-1311-4e60-ad20-bcccf5cf4462  2018-08-28  paladin     True   \n",
       "606940  8771f68b-68d3-4b0b-ae80-5de05f7fc1be  2018-08-28   priest     True   \n",
       "\n",
       "        is_standard                                              cards  \n",
       "0             False  [21, 21, 142, 206, 206, 350, 350, 394, 422, 42...  \n",
       "1             False  [53, 142, 206, 250, 318, 350, 355, 394, 439, 4...  \n",
       "2             False  [67, 67, 77, 77, 84, 84, 216, 233, 233, 388, 4...  \n",
       "3             False  [54, 54, 140, 217, 289, 289, 510, 510, 526, 52...  \n",
       "4             False  [55, 55, 88, 88, 152, 152, 217, 275, 275, 289,...  \n",
       "...             ...                                                ...  \n",
       "606936        False  [55523, 55524, 55524, 55529, 55529, 55535, 769...  \n",
       "606937        False  [664, 664, 55517, 55517, 55523, 55529, 55529, ...  \n",
       "606938        False  [4, 4, 49, 49, 220, 55552, 55552, 55553, 55553...  \n",
       "606939        False  [581, 581, 12188, 12188, 12200, 12200, 12216, ...  \n",
       "606940        False  [76, 431, 431, 554, 55463, 55463, 58722, 58722...  \n",
       "\n",
       "[606941 rows x 6 columns]"
      ]
     },
     "execution_count": 4,
     "metadata": {},
     "output_type": "execute_result"
    }
   ],
   "source": [
    "dfp_train"
   ]
  },
  {
   "cell_type": "code",
   "execution_count": 5,
   "id": "2f43899d",
   "metadata": {
    "execution": {
     "iopub.execute_input": "2022-10-29T00:25:05.192525Z",
     "iopub.status.busy": "2022-10-29T00:25:05.192248Z",
     "iopub.status.idle": "2022-10-29T00:25:05.205201Z",
     "shell.execute_reply": "2022-10-29T00:25:05.204535Z"
    },
    "papermill": {
     "duration": 0.04426,
     "end_time": "2022-10-29T00:25:05.206850",
     "exception": false,
     "start_time": "2022-10-29T00:25:05.162590",
     "status": "completed"
    },
    "tags": []
   },
   "outputs": [
    {
     "data": {
      "text/html": [
       "<div>\n",
       "<style scoped>\n",
       "    .dataframe tbody tr th:only-of-type {\n",
       "        vertical-align: middle;\n",
       "    }\n",
       "\n",
       "    .dataframe tbody tr th {\n",
       "        vertical-align: top;\n",
       "    }\n",
       "\n",
       "    .dataframe thead th {\n",
       "        text-align: right;\n",
       "    }\n",
       "</style>\n",
       "<table border=\"1\" class=\"dataframe\">\n",
       "  <thead>\n",
       "    <tr style=\"text-align: right;\">\n",
       "      <th></th>\n",
       "      <th>deckid</th>\n",
       "      <th>update_date</th>\n",
       "      <th>hero</th>\n",
       "      <th>is_wild</th>\n",
       "      <th>is_standard</th>\n",
       "      <th>cards_incomplete</th>\n",
       "    </tr>\n",
       "  </thead>\n",
       "  <tbody>\n",
       "    <tr>\n",
       "      <th>0</th>\n",
       "      <td>90509acf-14b3-46c2-baab-94226b4f1ae5</td>\n",
       "      <td>2018-08-29</td>\n",
       "      <td>priest</td>\n",
       "      <td>True</td>\n",
       "      <td>False</td>\n",
       "      <td>[38, 38, 88, 88, 303, 315, 315, 401, 415, 415,...</td>\n",
       "    </tr>\n",
       "    <tr>\n",
       "      <th>1</th>\n",
       "      <td>edbc7193-15d8-4d63-813a-8b02896aebaf</td>\n",
       "      <td>2018-08-29</td>\n",
       "      <td>paladin</td>\n",
       "      <td>True</td>\n",
       "      <td>False</td>\n",
       "      <td>[75, 75, 463, 567, 567, 675, 61831, 61832, 618...</td>\n",
       "    </tr>\n",
       "    <tr>\n",
       "      <th>2</th>\n",
       "      <td>3e1e5712-c7de-4e4b-83b0-639fbeedd98f</td>\n",
       "      <td>2018-08-29</td>\n",
       "      <td>hunter</td>\n",
       "      <td>True</td>\n",
       "      <td>False</td>\n",
       "      <td>[386, 386, 12176, 12188, 12188, 12190, 12254, ...</td>\n",
       "    </tr>\n",
       "    <tr>\n",
       "      <th>3</th>\n",
       "      <td>27037494-cbdc-4f25-a479-a6d266361f07</td>\n",
       "      <td>2018-08-29</td>\n",
       "      <td>priest</td>\n",
       "      <td>True</td>\n",
       "      <td>False</td>\n",
       "      <td>[315, 431, 431, 52588, 55463, 55463, 55540, 55...</td>\n",
       "    </tr>\n",
       "    <tr>\n",
       "      <th>4</th>\n",
       "      <td>6a307895-2441-4ebf-9653-6b54e2e0111b</td>\n",
       "      <td>2018-08-29</td>\n",
       "      <td>mage</td>\n",
       "      <td>True</td>\n",
       "      <td>False</td>\n",
       "      <td>[4, 4, 49, 49, 220, 55552, 55552, 55553, 55553...</td>\n",
       "    </tr>\n",
       "    <tr>\n",
       "      <th>...</th>\n",
       "      <td>...</td>\n",
       "      <td>...</td>\n",
       "      <td>...</td>\n",
       "      <td>...</td>\n",
       "      <td>...</td>\n",
       "      <td>...</td>\n",
       "    </tr>\n",
       "    <tr>\n",
       "      <th>2216</th>\n",
       "      <td>b99e946f-502e-4ed3-b76b-2001408602f1</td>\n",
       "      <td>2018-09-17</td>\n",
       "      <td>priest</td>\n",
       "      <td>True</td>\n",
       "      <td>False</td>\n",
       "      <td>[207, 207, 303, 431, 431, 436, 62886, 62886, 6...</td>\n",
       "    </tr>\n",
       "    <tr>\n",
       "      <th>2217</th>\n",
       "      <td>950ad114-5fda-41b9-a469-3d1da5be356d</td>\n",
       "      <td>2018-09-17</td>\n",
       "      <td>druid</td>\n",
       "      <td>True</td>\n",
       "      <td>False</td>\n",
       "      <td>[154, 154, 619, 619, 73327, 73327, 76870, 7687...</td>\n",
       "    </tr>\n",
       "    <tr>\n",
       "      <th>2218</th>\n",
       "      <td>cc5f646c-299d-4347-9099-381fe0fe7b21</td>\n",
       "      <td>2018-09-17</td>\n",
       "      <td>priest</td>\n",
       "      <td>True</td>\n",
       "      <td>False</td>\n",
       "      <td>[76, 431, 431, 442, 554, 55463, 55463, 55540, ...</td>\n",
       "    </tr>\n",
       "    <tr>\n",
       "      <th>2219</th>\n",
       "      <td>e9fe9eef-3201-4df0-9342-faaa305f3553</td>\n",
       "      <td>2018-09-17</td>\n",
       "      <td>mage</td>\n",
       "      <td>True</td>\n",
       "      <td>False</td>\n",
       "      <td>[4, 4, 177, 177, 263, 263, 411, 411, 589, 589,...</td>\n",
       "    </tr>\n",
       "    <tr>\n",
       "      <th>2220</th>\n",
       "      <td>1411bcc7-5a34-41a3-af2f-c4548121e69c</td>\n",
       "      <td>2018-09-17</td>\n",
       "      <td>mage</td>\n",
       "      <td>True</td>\n",
       "      <td>False</td>\n",
       "      <td>[4, 4, 177, 177, 263, 263, 411, 411, 589, 589,...</td>\n",
       "    </tr>\n",
       "  </tbody>\n",
       "</table>\n",
       "<p>2221 rows × 6 columns</p>\n",
       "</div>"
      ],
      "text/plain": [
       "                                    deckid update_date     hero  is_wild  \\\n",
       "0     90509acf-14b3-46c2-baab-94226b4f1ae5  2018-08-29   priest     True   \n",
       "1     edbc7193-15d8-4d63-813a-8b02896aebaf  2018-08-29  paladin     True   \n",
       "2     3e1e5712-c7de-4e4b-83b0-639fbeedd98f  2018-08-29   hunter     True   \n",
       "3     27037494-cbdc-4f25-a479-a6d266361f07  2018-08-29   priest     True   \n",
       "4     6a307895-2441-4ebf-9653-6b54e2e0111b  2018-08-29     mage     True   \n",
       "...                                    ...         ...      ...      ...   \n",
       "2216  b99e946f-502e-4ed3-b76b-2001408602f1  2018-09-17   priest     True   \n",
       "2217  950ad114-5fda-41b9-a469-3d1da5be356d  2018-09-17    druid     True   \n",
       "2218  cc5f646c-299d-4347-9099-381fe0fe7b21  2018-09-17   priest     True   \n",
       "2219  e9fe9eef-3201-4df0-9342-faaa305f3553  2018-09-17     mage     True   \n",
       "2220  1411bcc7-5a34-41a3-af2f-c4548121e69c  2018-09-17     mage     True   \n",
       "\n",
       "      is_standard                                   cards_incomplete  \n",
       "0           False  [38, 38, 88, 88, 303, 315, 315, 401, 415, 415,...  \n",
       "1           False  [75, 75, 463, 567, 567, 675, 61831, 61832, 618...  \n",
       "2           False  [386, 386, 12176, 12188, 12188, 12190, 12254, ...  \n",
       "3           False  [315, 431, 431, 52588, 55463, 55463, 55540, 55...  \n",
       "4           False  [4, 4, 49, 49, 220, 55552, 55552, 55553, 55553...  \n",
       "...           ...                                                ...  \n",
       "2216        False  [207, 207, 303, 431, 431, 436, 62886, 62886, 6...  \n",
       "2217        False  [154, 154, 619, 619, 73327, 73327, 76870, 7687...  \n",
       "2218        False  [76, 431, 431, 442, 554, 55463, 55463, 55540, ...  \n",
       "2219        False  [4, 4, 177, 177, 263, 263, 411, 411, 589, 589,...  \n",
       "2220        False  [4, 4, 177, 177, 263, 263, 411, 411, 589, 589,...  \n",
       "\n",
       "[2221 rows x 6 columns]"
      ]
     },
     "execution_count": 5,
     "metadata": {},
     "output_type": "execute_result"
    }
   ],
   "source": [
    "dfp_test"
   ]
  },
  {
   "cell_type": "code",
   "execution_count": 6,
   "id": "f87b5230",
   "metadata": {
    "execution": {
     "iopub.execute_input": "2022-10-29T00:25:05.265945Z",
     "iopub.status.busy": "2022-10-29T00:25:05.265719Z",
     "iopub.status.idle": "2022-10-29T00:25:36.194648Z",
     "shell.execute_reply": "2022-10-29T00:25:36.193867Z"
    },
    "papermill": {
     "duration": 30.9606,
     "end_time": "2022-10-29T00:25:36.196557",
     "exception": false,
     "start_time": "2022-10-29T00:25:05.235957",
     "status": "completed"
    },
    "tags": []
   },
   "outputs": [
    {
     "name": "stderr",
     "output_type": "stream",
     "text": [
      "100%|██████████| 606941/606941 [00:30<00:00, 19728.40it/s]\n",
      "100%|██████████| 2221/2221 [00:00<00:00, 21048.90it/s]\n"
     ]
    }
   ],
   "source": [
    "# convert str 'cards' to list\n",
    "dfp_train[\"cards\"] = dfp_train[\"cards\"].progress_apply(lambda cards: literal_eval(cards))\n",
    "dfp_test[\"cards_incomplete\"] = dfp_test[\"cards_incomplete\"].progress_apply(lambda cards: literal_eval(cards))"
   ]
  },
  {
   "cell_type": "code",
   "execution_count": 7,
   "id": "87582229",
   "metadata": {
    "execution": {
     "iopub.execute_input": "2022-10-29T00:25:36.287624Z",
     "iopub.status.busy": "2022-10-29T00:25:36.287285Z",
     "iopub.status.idle": "2022-10-29T00:25:36.389902Z",
     "shell.execute_reply": "2022-10-29T00:25:36.389016Z"
    },
    "papermill": {
     "duration": 0.150287,
     "end_time": "2022-10-29T00:25:36.391962",
     "exception": false,
     "start_time": "2022-10-29T00:25:36.241675",
     "status": "completed"
    },
    "tags": []
   },
   "outputs": [],
   "source": [
    "# change update_date to datetime\n",
    "dfp_train[\"update_date\"] = pd.to_datetime(dfp_train[\"update_date\"])\n",
    "dfp_test[\"update_date\"] =  pd.to_datetime(dfp_test[\"update_date\"])"
   ]
  },
  {
   "cell_type": "code",
   "execution_count": 8,
   "id": "3b4e7a7d",
   "metadata": {
    "execution": {
     "iopub.execute_input": "2022-10-29T00:25:36.483221Z",
     "iopub.status.busy": "2022-10-29T00:25:36.482909Z",
     "iopub.status.idle": "2022-10-29T00:25:36.489394Z",
     "shell.execute_reply": "2022-10-29T00:25:36.488740Z"
    },
    "papermill": {
     "duration": 0.053991,
     "end_time": "2022-10-29T00:25:36.491078",
     "exception": false,
     "start_time": "2022-10-29T00:25:36.437087",
     "status": "completed"
    },
    "tags": []
   },
   "outputs": [
    {
     "data": {
      "text/plain": [
       "Timestamp('2013-05-23 00:00:00')"
      ]
     },
     "execution_count": 8,
     "metadata": {},
     "output_type": "execute_result"
    }
   ],
   "source": [
    "# oldest deck?\n",
    "dfp_train[\"update_date\"].min()"
   ]
  },
  {
   "cell_type": "code",
   "execution_count": 9,
   "id": "25fe18b6",
   "metadata": {
    "execution": {
     "iopub.execute_input": "2022-10-29T00:25:36.582153Z",
     "iopub.status.busy": "2022-10-29T00:25:36.581339Z",
     "iopub.status.idle": "2022-10-29T00:25:36.588893Z",
     "shell.execute_reply": "2022-10-29T00:25:36.588191Z"
    },
    "papermill": {
     "duration": 0.054827,
     "end_time": "2022-10-29T00:25:36.590516",
     "exception": false,
     "start_time": "2022-10-29T00:25:36.535689",
     "status": "completed"
    },
    "tags": []
   },
   "outputs": [
    {
     "data": {
      "text/plain": [
       "Timestamp('2018-08-28 00:00:00')"
      ]
     },
     "execution_count": 9,
     "metadata": {},
     "output_type": "execute_result"
    }
   ],
   "source": [
    "# add timedelta as int variable\n",
    "last_train_update_date = dfp_train[\"update_date\"].max()\n",
    "last_train_update_date"
   ]
  },
  {
   "cell_type": "code",
   "execution_count": 10,
   "id": "7517bf24",
   "metadata": {
    "execution": {
     "iopub.execute_input": "2022-10-29T00:25:36.681468Z",
     "iopub.status.busy": "2022-10-29T00:25:36.681023Z",
     "iopub.status.idle": "2022-10-29T00:25:36.696957Z",
     "shell.execute_reply": "2022-10-29T00:25:36.696309Z"
    },
    "papermill": {
     "duration": 0.06278,
     "end_time": "2022-10-29T00:25:36.698789",
     "exception": false,
     "start_time": "2022-10-29T00:25:36.636009",
     "status": "completed"
    },
    "tags": []
   },
   "outputs": [],
   "source": [
    "dfp_train[\"update_delta\"] = (last_train_update_date - dfp_train[\"update_date\"]).dt.days\n",
    "dfp_test[\"update_delta\"] = (last_train_update_date - dfp_test[\"update_date\"]).dt.days"
   ]
  },
  {
   "cell_type": "code",
   "execution_count": 11,
   "id": "f1002b08",
   "metadata": {
    "execution": {
     "iopub.execute_input": "2022-10-29T00:25:36.789559Z",
     "iopub.status.busy": "2022-10-29T00:25:36.789229Z",
     "iopub.status.idle": "2022-10-29T00:25:36.799019Z",
     "shell.execute_reply": "2022-10-29T00:25:36.798430Z"
    },
    "papermill": {
     "duration": 0.05677,
     "end_time": "2022-10-29T00:25:36.800525",
     "exception": false,
     "start_time": "2022-10-29T00:25:36.743755",
     "status": "completed"
    },
    "tags": []
   },
   "outputs": [
    {
     "data": {
      "text/plain": [
       "-20     91\n",
       "-19     76\n",
       "-18     50\n",
       "-17    135\n",
       "-16     80\n",
       "-15     86\n",
       "-14     75\n",
       "-13    109\n",
       "-12     91\n",
       "-11    165\n",
       "-10    176\n",
       "-9     105\n",
       "-8      87\n",
       "-7      84\n",
       "-6     124\n",
       "-5     133\n",
       "-4      90\n",
       "-3     184\n",
       "-2     147\n",
       "-1     133\n",
       "Name: update_delta, dtype: int64"
      ]
     },
     "execution_count": 11,
     "metadata": {},
     "output_type": "execute_result"
    }
   ],
   "source": [
    "dfp_test[\"update_delta\"].value_counts().sort_index()"
   ]
  },
  {
   "cell_type": "code",
   "execution_count": 12,
   "id": "d6d18376",
   "metadata": {
    "execution": {
     "iopub.execute_input": "2022-10-29T00:25:36.894478Z",
     "iopub.status.busy": "2022-10-29T00:25:36.893644Z",
     "iopub.status.idle": "2022-10-29T00:25:36.899569Z",
     "shell.execute_reply": "2022-10-29T00:25:36.899010Z"
    },
    "papermill": {
     "duration": 0.056272,
     "end_time": "2022-10-29T00:25:36.901066",
     "exception": false,
     "start_time": "2022-10-29T00:25:36.844794",
     "status": "completed"
    },
    "tags": []
   },
   "outputs": [
    {
     "data": {
      "text/plain": [
       "275.0"
      ]
     },
     "execution_count": 12,
     "metadata": {},
     "output_type": "execute_result"
    }
   ],
   "source": [
    "np.ceil(dfp_train.update_delta.max() / 7)"
   ]
  },
  {
   "cell_type": "code",
   "execution_count": 13,
   "id": "c60d10df",
   "metadata": {
    "execution": {
     "iopub.execute_input": "2022-10-29T00:25:36.992680Z",
     "iopub.status.busy": "2022-10-29T00:25:36.991893Z",
     "iopub.status.idle": "2022-10-29T00:25:36.999530Z",
     "shell.execute_reply": "2022-10-29T00:25:36.998747Z"
    },
    "papermill": {
     "duration": 0.054678,
     "end_time": "2022-10-29T00:25:37.001180",
     "exception": false,
     "start_time": "2022-10-29T00:25:36.946502",
     "status": "completed"
    },
    "tags": []
   },
   "outputs": [
    {
     "data": {
      "text/plain": [
       "(True, False)"
      ]
     },
     "execution_count": 13,
     "metadata": {},
     "output_type": "execute_result"
    }
   ],
   "source": [
    "# checking that there's no non-wild-nor-standard deck nor overlap\n",
    "covers_all = lambda df: (df['is_wild'] | df['is_standard']).all()\n",
    "has_overlap = lambda df: (df['is_wild'] & df['is_standard']).any()\n",
    "\n",
    "covers_all(dfp_train), has_overlap(dfp_train)"
   ]
  },
  {
   "cell_type": "code",
   "execution_count": 14,
   "id": "26493cd3",
   "metadata": {
    "execution": {
     "iopub.execute_input": "2022-10-29T00:25:37.093685Z",
     "iopub.status.busy": "2022-10-29T00:25:37.092856Z",
     "iopub.status.idle": "2022-10-29T00:25:37.098919Z",
     "shell.execute_reply": "2022-10-29T00:25:37.098105Z"
    },
    "papermill": {
     "duration": 0.053563,
     "end_time": "2022-10-29T00:25:37.100459",
     "exception": false,
     "start_time": "2022-10-29T00:25:37.046896",
     "status": "completed"
    },
    "tags": []
   },
   "outputs": [
    {
     "data": {
      "text/plain": [
       "(True, False)"
      ]
     },
     "execution_count": 14,
     "metadata": {},
     "output_type": "execute_result"
    }
   ],
   "source": [
    "covers_all(dfp_test), has_overlap(dfp_test)"
   ]
  },
  {
   "cell_type": "code",
   "execution_count": 15,
   "id": "63c36cd8",
   "metadata": {
    "execution": {
     "iopub.execute_input": "2022-10-29T00:25:37.192590Z",
     "iopub.status.busy": "2022-10-29T00:25:37.192201Z",
     "iopub.status.idle": "2022-10-29T00:25:37.198302Z",
     "shell.execute_reply": "2022-10-29T00:25:37.197632Z"
    },
    "papermill": {
     "duration": 0.053879,
     "end_time": "2022-10-29T00:25:37.199938",
     "exception": false,
     "start_time": "2022-10-29T00:25:37.146059",
     "status": "completed"
    },
    "tags": []
   },
   "outputs": [
    {
     "data": {
      "text/plain": [
       "(606917, 24)"
      ]
     },
     "execution_count": 15,
     "metadata": {},
     "output_type": "execute_result"
    }
   ],
   "source": [
    "# how many of each type in the train set?\n",
    "dfp_train['is_wild'].sum(), dfp_train['is_standard'].sum()"
   ]
  },
  {
   "cell_type": "code",
   "execution_count": 16,
   "id": "88a33db7",
   "metadata": {
    "execution": {
     "iopub.execute_input": "2022-10-29T00:25:37.294000Z",
     "iopub.status.busy": "2022-10-29T00:25:37.293310Z",
     "iopub.status.idle": "2022-10-29T00:25:37.298988Z",
     "shell.execute_reply": "2022-10-29T00:25:37.298346Z"
    },
    "papermill": {
     "duration": 0.054615,
     "end_time": "2022-10-29T00:25:37.300441",
     "exception": false,
     "start_time": "2022-10-29T00:25:37.245826",
     "status": "completed"
    },
    "tags": []
   },
   "outputs": [
    {
     "data": {
      "text/plain": [
       "(2221, 0)"
      ]
     },
     "execution_count": 16,
     "metadata": {},
     "output_type": "execute_result"
    }
   ],
   "source": [
    "# how many of each type in the test set?\n",
    "dfp_test['is_wild'].sum(), dfp_test['is_standard'].sum()"
   ]
  },
  {
   "cell_type": "markdown",
   "id": "21d4f23a",
   "metadata": {
    "papermill": {
     "duration": 0.044804,
     "end_time": "2022-10-29T00:25:37.390981",
     "exception": false,
     "start_time": "2022-10-29T00:25:37.346177",
     "status": "completed"
    },
    "tags": []
   },
   "source": [
    "No standard decks in the test set + there're only a few in the train set, are they at least from the last week?"
   ]
  },
  {
   "cell_type": "code",
   "execution_count": 17,
   "id": "3d9b97fd",
   "metadata": {
    "execution": {
     "iopub.execute_input": "2022-10-29T00:25:37.484110Z",
     "iopub.status.busy": "2022-10-29T00:25:37.483596Z",
     "iopub.status.idle": "2022-10-29T00:25:37.491099Z",
     "shell.execute_reply": "2022-10-29T00:25:37.490522Z"
    },
    "papermill": {
     "duration": 0.056181,
     "end_time": "2022-10-29T00:25:37.492632",
     "exception": false,
     "start_time": "2022-10-29T00:25:37.436451",
     "status": "completed"
    },
    "tags": []
   },
   "outputs": [
    {
     "data": {
      "text/plain": [
       "2014-07-28    1\n",
       "2014-08-02    1\n",
       "2014-08-11    1\n",
       "2015-03-09    2\n",
       "2015-03-31    1\n",
       "2015-04-01    1\n",
       "2015-04-03    1\n",
       "2015-04-10    1\n",
       "2015-04-22    1\n",
       "2015-06-07    1\n",
       "2015-06-16    1\n",
       "2015-08-20    1\n",
       "2015-08-22    1\n",
       "2015-11-18    1\n",
       "2015-12-30    1\n",
       "2016-04-08    1\n",
       "2016-04-24    1\n",
       "2016-10-13    1\n",
       "2016-10-17    1\n",
       "2016-12-15    1\n",
       "2017-03-29    1\n",
       "2017-05-24    1\n",
       "2017-06-21    1\n",
       "Name: update_date, dtype: int64"
      ]
     },
     "execution_count": 17,
     "metadata": {},
     "output_type": "execute_result"
    }
   ],
   "source": [
    "dfp_train['update_date'][dfp_train['is_standard']].value_counts().sort_index()"
   ]
  },
  {
   "cell_type": "markdown",
   "id": "d7483253",
   "metadata": {
    "papermill": {
     "duration": 0.045334,
     "end_time": "2022-10-29T00:25:37.583978",
     "exception": false,
     "start_time": "2022-10-29T00:25:37.538644",
     "status": "completed"
    },
    "tags": []
   },
   "source": [
    "They're extremely sparse + the last one was over an year ago from latest train-set day -> dropping them"
   ]
  },
  {
   "cell_type": "code",
   "execution_count": 18,
   "id": "be7fa254",
   "metadata": {
    "execution": {
     "iopub.execute_input": "2022-10-29T00:25:37.676590Z",
     "iopub.status.busy": "2022-10-29T00:25:37.676087Z",
     "iopub.status.idle": "2022-10-29T00:25:37.723709Z",
     "shell.execute_reply": "2022-10-29T00:25:37.722883Z"
    },
    "papermill": {
     "duration": 0.096232,
     "end_time": "2022-10-29T00:25:37.725524",
     "exception": false,
     "start_time": "2022-10-29T00:25:37.629292",
     "status": "completed"
    },
    "tags": []
   },
   "outputs": [
    {
     "data": {
      "text/plain": [
       "(606917, 0)"
      ]
     },
     "execution_count": 18,
     "metadata": {},
     "output_type": "execute_result"
    }
   ],
   "source": [
    "dfp_train = dfp_train[~dfp_train['is_standard']]\n",
    "dfp_train['is_wild'].sum(), dfp_train['is_standard'].sum()"
   ]
  },
  {
   "cell_type": "code",
   "execution_count": 19,
   "id": "c34a5064",
   "metadata": {
    "execution": {
     "iopub.execute_input": "2022-10-29T00:25:37.819077Z",
     "iopub.status.busy": "2022-10-29T00:25:37.818594Z",
     "iopub.status.idle": "2022-10-29T00:25:37.857453Z",
     "shell.execute_reply": "2022-10-29T00:25:37.856588Z"
    },
    "papermill": {
     "duration": 0.087522,
     "end_time": "2022-10-29T00:25:37.859665",
     "exception": false,
     "start_time": "2022-10-29T00:25:37.772143",
     "status": "completed"
    },
    "tags": []
   },
   "outputs": [],
   "source": [
    "# dropping columns as now all decks are wild\n",
    "dfp_train = dfp_train.drop(columns=['is_wild','is_standard'])\n",
    "dfp_test = dfp_test.drop(columns=['is_wild','is_standard'])"
   ]
  },
  {
   "cell_type": "code",
   "execution_count": 20,
   "id": "12b22145",
   "metadata": {
    "execution": {
     "iopub.execute_input": "2022-10-29T00:25:37.952277Z",
     "iopub.status.busy": "2022-10-29T00:25:37.951774Z",
     "iopub.status.idle": "2022-10-29T00:25:37.997664Z",
     "shell.execute_reply": "2022-10-29T00:25:37.996790Z"
    },
    "papermill": {
     "duration": 0.094235,
     "end_time": "2022-10-29T00:25:37.999771",
     "exception": false,
     "start_time": "2022-10-29T00:25:37.905536",
     "status": "completed"
    },
    "tags": []
   },
   "outputs": [],
   "source": [
    "all_heroes=dfp_train[\"hero\"].unique().tolist()"
   ]
  },
  {
   "cell_type": "code",
   "execution_count": 21,
   "id": "8d67225f",
   "metadata": {
    "execution": {
     "iopub.execute_input": "2022-10-29T00:25:38.093790Z",
     "iopub.status.busy": "2022-10-29T00:25:38.093304Z",
     "iopub.status.idle": "2022-10-29T00:25:52.358209Z",
     "shell.execute_reply": "2022-10-29T00:25:52.357621Z"
    },
    "papermill": {
     "duration": 14.313763,
     "end_time": "2022-10-29T00:25:52.359844",
     "exception": false,
     "start_time": "2022-10-29T00:25:38.046081",
     "status": "completed"
    },
    "tags": []
   },
   "outputs": [
    {
     "data": {
      "text/html": [
       "<div>\n",
       "<style scoped>\n",
       "    .dataframe tbody tr th:only-of-type {\n",
       "        vertical-align: middle;\n",
       "    }\n",
       "\n",
       "    .dataframe tbody tr th {\n",
       "        vertical-align: top;\n",
       "    }\n",
       "\n",
       "    .dataframe thead th {\n",
       "        text-align: right;\n",
       "    }\n",
       "</style>\n",
       "<table border=\"1\" class=\"dataframe\">\n",
       "  <thead>\n",
       "    <tr style=\"text-align: right;\">\n",
       "      <th></th>\n",
       "      <th>week_update</th>\n",
       "      <th>hero</th>\n",
       "      <th>size</th>\n",
       "    </tr>\n",
       "  </thead>\n",
       "  <tbody>\n",
       "    <tr>\n",
       "      <th>0</th>\n",
       "      <td>2013-05-20</td>\n",
       "      <td>druid</td>\n",
       "      <td>16</td>\n",
       "    </tr>\n",
       "    <tr>\n",
       "      <th>1</th>\n",
       "      <td>2013-05-20</td>\n",
       "      <td>hunter</td>\n",
       "      <td>13</td>\n",
       "    </tr>\n",
       "    <tr>\n",
       "      <th>2</th>\n",
       "      <td>2013-05-20</td>\n",
       "      <td>mage</td>\n",
       "      <td>15</td>\n",
       "    </tr>\n",
       "    <tr>\n",
       "      <th>3</th>\n",
       "      <td>2013-05-20</td>\n",
       "      <td>paladin</td>\n",
       "      <td>24</td>\n",
       "    </tr>\n",
       "    <tr>\n",
       "      <th>4</th>\n",
       "      <td>2013-05-20</td>\n",
       "      <td>priest</td>\n",
       "      <td>16</td>\n",
       "    </tr>\n",
       "    <tr>\n",
       "      <th>...</th>\n",
       "      <td>...</td>\n",
       "      <td>...</td>\n",
       "      <td>...</td>\n",
       "    </tr>\n",
       "    <tr>\n",
       "      <th>2479</th>\n",
       "      <td>2018-08-27</td>\n",
       "      <td>priest</td>\n",
       "      <td>44</td>\n",
       "    </tr>\n",
       "    <tr>\n",
       "      <th>2480</th>\n",
       "      <td>2018-08-27</td>\n",
       "      <td>rogue</td>\n",
       "      <td>37</td>\n",
       "    </tr>\n",
       "    <tr>\n",
       "      <th>2481</th>\n",
       "      <td>2018-08-27</td>\n",
       "      <td>shaman</td>\n",
       "      <td>23</td>\n",
       "    </tr>\n",
       "    <tr>\n",
       "      <th>2482</th>\n",
       "      <td>2018-08-27</td>\n",
       "      <td>warlock</td>\n",
       "      <td>21</td>\n",
       "    </tr>\n",
       "    <tr>\n",
       "      <th>2483</th>\n",
       "      <td>2018-08-27</td>\n",
       "      <td>warrior</td>\n",
       "      <td>17</td>\n",
       "    </tr>\n",
       "  </tbody>\n",
       "</table>\n",
       "<p>2484 rows × 3 columns</p>\n",
       "</div>"
      ],
      "text/plain": [
       "     week_update     hero  size\n",
       "0     2013-05-20    druid    16\n",
       "1     2013-05-20   hunter    13\n",
       "2     2013-05-20     mage    15\n",
       "3     2013-05-20  paladin    24\n",
       "4     2013-05-20   priest    16\n",
       "...          ...      ...   ...\n",
       "2479  2018-08-27   priest    44\n",
       "2480  2018-08-27    rogue    37\n",
       "2481  2018-08-27   shaman    23\n",
       "2482  2018-08-27  warlock    21\n",
       "2483  2018-08-27  warrior    17\n",
       "\n",
       "[2484 rows x 3 columns]"
      ]
     },
     "execution_count": 21,
     "metadata": {},
     "output_type": "execute_result"
    }
   ],
   "source": [
    "weekly_counts = dfp_train\n",
    "weekly_counts['week_update'] = weekly_counts.apply(lambda row: row['update_date'] - timedelta(days=row['update_date'].weekday()), axis=1)\n",
    "\n",
    "weekly_counts = weekly_counts[['week_update','hero']].groupby(['week_update','hero'],as_index=False).size()\n",
    "weekly_counts"
   ]
  },
  {
   "cell_type": "code",
   "execution_count": 22,
   "id": "80b32063",
   "metadata": {
    "execution": {
     "iopub.execute_input": "2022-10-29T00:25:52.457284Z",
     "iopub.status.busy": "2022-10-29T00:25:52.456850Z",
     "iopub.status.idle": "2022-10-29T00:25:54.095874Z",
     "shell.execute_reply": "2022-10-29T00:25:54.095015Z"
    },
    "papermill": {
     "duration": 1.690595,
     "end_time": "2022-10-29T00:25:54.098628",
     "exception": false,
     "start_time": "2022-10-29T00:25:52.408033",
     "status": "completed"
    },
    "tags": []
   },
   "outputs": [
    {
     "data": {
      "image/png": "[encoded data removed]",
      "text/plain": [
       "<Figure size 1296x720 with 1 Axes>"
      ]
     },
     "metadata": {
      "needs_background": "light"
     },
     "output_type": "display_data"
    }
   ],
   "source": [
    "from matplotlib.ticker import MultipleLocator\n",
    "\n",
    "fig, ax = plt.subplots(figsize=(18,10))\n",
    "sns.lineplot(data=weekly_counts, x=\"week_update\", y=\"size\",hue=\"hero\", ax=ax)\n",
    "ax.xaxis.set_major_locator(MultipleLocator(30))\n",
    "ax.tick_params(rotation=90)\n",
    "plt.show()"
   ]
  },
  {
   "cell_type": "code",
   "execution_count": 23,
   "id": "855e2c7a",
   "metadata": {
    "execution": {
     "iopub.execute_input": "2022-10-29T00:25:54.198558Z",
     "iopub.status.busy": "2022-10-29T00:25:54.197491Z",
     "iopub.status.idle": "2022-10-29T00:26:10.096545Z",
     "shell.execute_reply": "2022-10-29T00:26:10.095648Z"
    },
    "papermill": {
     "duration": 15.950959,
     "end_time": "2022-10-29T00:26:10.098317",
     "exception": false,
     "start_time": "2022-10-29T00:25:54.147358",
     "status": "completed"
    },
    "tags": []
   },
   "outputs": [
    {
     "data": {
      "text/html": [
       "<div>\n",
       "<style scoped>\n",
       "    .dataframe tbody tr th:only-of-type {\n",
       "        vertical-align: middle;\n",
       "    }\n",
       "\n",
       "    .dataframe tbody tr th {\n",
       "        vertical-align: top;\n",
       "    }\n",
       "\n",
       "    .dataframe thead th {\n",
       "        text-align: right;\n",
       "    }\n",
       "</style>\n",
       "<table border=\"1\" class=\"dataframe\">\n",
       "  <thead>\n",
       "    <tr style=\"text-align: right;\">\n",
       "      <th></th>\n",
       "      <th>month_update</th>\n",
       "      <th>hero</th>\n",
       "      <th>size</th>\n",
       "    </tr>\n",
       "  </thead>\n",
       "  <tbody>\n",
       "    <tr>\n",
       "      <th>0</th>\n",
       "      <td>2013-04-30</td>\n",
       "      <td>druid</td>\n",
       "      <td>29</td>\n",
       "    </tr>\n",
       "    <tr>\n",
       "      <th>1</th>\n",
       "      <td>2013-04-30</td>\n",
       "      <td>hunter</td>\n",
       "      <td>26</td>\n",
       "    </tr>\n",
       "    <tr>\n",
       "      <th>2</th>\n",
       "      <td>2013-04-30</td>\n",
       "      <td>mage</td>\n",
       "      <td>28</td>\n",
       "    </tr>\n",
       "    <tr>\n",
       "      <th>3</th>\n",
       "      <td>2013-04-30</td>\n",
       "      <td>paladin</td>\n",
       "      <td>34</td>\n",
       "    </tr>\n",
       "    <tr>\n",
       "      <th>4</th>\n",
       "      <td>2013-04-30</td>\n",
       "      <td>priest</td>\n",
       "      <td>23</td>\n",
       "    </tr>\n",
       "    <tr>\n",
       "      <th>...</th>\n",
       "      <td>...</td>\n",
       "      <td>...</td>\n",
       "      <td>...</td>\n",
       "    </tr>\n",
       "    <tr>\n",
       "      <th>571</th>\n",
       "      <td>2018-07-31</td>\n",
       "      <td>priest</td>\n",
       "      <td>1328</td>\n",
       "    </tr>\n",
       "    <tr>\n",
       "      <th>572</th>\n",
       "      <td>2018-07-31</td>\n",
       "      <td>rogue</td>\n",
       "      <td>1496</td>\n",
       "    </tr>\n",
       "    <tr>\n",
       "      <th>573</th>\n",
       "      <td>2018-07-31</td>\n",
       "      <td>shaman</td>\n",
       "      <td>886</td>\n",
       "    </tr>\n",
       "    <tr>\n",
       "      <th>574</th>\n",
       "      <td>2018-07-31</td>\n",
       "      <td>warlock</td>\n",
       "      <td>1328</td>\n",
       "    </tr>\n",
       "    <tr>\n",
       "      <th>575</th>\n",
       "      <td>2018-07-31</td>\n",
       "      <td>warrior</td>\n",
       "      <td>375</td>\n",
       "    </tr>\n",
       "  </tbody>\n",
       "</table>\n",
       "<p>576 rows × 3 columns</p>\n",
       "</div>"
      ],
      "text/plain": [
       "    month_update     hero  size\n",
       "0     2013-04-30    druid    29\n",
       "1     2013-04-30   hunter    26\n",
       "2     2013-04-30     mage    28\n",
       "3     2013-04-30  paladin    34\n",
       "4     2013-04-30   priest    23\n",
       "..           ...      ...   ...\n",
       "571   2018-07-31   priest  1328\n",
       "572   2018-07-31    rogue  1496\n",
       "573   2018-07-31   shaman   886\n",
       "574   2018-07-31  warlock  1328\n",
       "575   2018-07-31  warrior   375\n",
       "\n",
       "[576 rows x 3 columns]"
      ]
     },
     "execution_count": 23,
     "metadata": {},
     "output_type": "execute_result"
    }
   ],
   "source": [
    "monthly_counts = dfp_train\n",
    "monthly_counts['month_update'] = monthly_counts.apply(lambda row: row['update_date'] - timedelta(days=row['update_date'].day), axis=1)\n",
    "\n",
    "monthly_counts = monthly_counts[['month_update','hero']].groupby(['month_update','hero'],as_index=False).size()\n",
    "monthly_counts"
   ]
  },
  {
   "cell_type": "code",
   "execution_count": 24,
   "id": "a1ac2a35",
   "metadata": {
    "execution": {
     "iopub.execute_input": "2022-10-29T00:26:10.196136Z",
     "iopub.status.busy": "2022-10-29T00:26:10.195581Z",
     "iopub.status.idle": "2022-10-29T00:26:10.671103Z",
     "shell.execute_reply": "2022-10-29T00:26:10.670405Z"
    },
    "papermill": {
     "duration": 0.526072,
     "end_time": "2022-10-29T00:26:10.672902",
     "exception": false,
     "start_time": "2022-10-29T00:26:10.146830",
     "status": "completed"
    },
    "tags": []
   },
   "outputs": [
    {
     "data": {
      "image/png": "[encoded data removed]",
      "text/plain": [
       "<Figure size 1296x720 with 1 Axes>"
      ]
     },
     "metadata": {
      "needs_background": "light"
     },
     "output_type": "display_data"
    }
   ],
   "source": [
    "fig, ax = plt.subplots(figsize=(18,10))\n",
    "sns.lineplot(data=monthly_counts, x=\"month_update\", y=\"size\",hue=\"hero\")\n",
    "ax.xaxis.set_major_locator(MultipleLocator(90))\n",
    "ax.tick_params(rotation=45)\n",
    "plt.show()"
   ]
  },
  {
   "cell_type": "markdown",
   "id": "fa1c382a",
   "metadata": {
    "papermill": {
     "duration": 0.049849,
     "end_time": "2022-10-29T00:26:10.773241",
     "exception": false,
     "start_time": "2022-10-29T00:26:10.723392",
     "status": "completed"
    },
    "tags": []
   },
   "source": [
    "# Sanitizing decks"
   ]
  },
  {
   "cell_type": "code",
   "execution_count": 25,
   "id": "22c0ed8e",
   "metadata": {
    "execution": {
     "iopub.execute_input": "2022-10-29T00:26:10.875075Z",
     "iopub.status.busy": "2022-10-29T00:26:10.874572Z",
     "iopub.status.idle": "2022-10-29T00:26:10.889217Z",
     "shell.execute_reply": "2022-10-29T00:26:10.888540Z"
    },
    "papermill": {
     "duration": 0.067342,
     "end_time": "2022-10-29T00:26:10.890796",
     "exception": false,
     "start_time": "2022-10-29T00:26:10.823454",
     "status": "completed"
    },
    "tags": []
   },
   "outputs": [
    {
     "data": {
      "text/plain": [
       "[21,\n",
       " 21,\n",
       " 142,\n",
       " 206,\n",
       " 206,\n",
       " 350,\n",
       " 350,\n",
       " 394,\n",
       " 422,\n",
       " 422,\n",
       " 463,\n",
       " 499,\n",
       " 564,\n",
       " 564,\n",
       " 603,\n",
       " 603,\n",
       " 642,\n",
       " 657,\n",
       " 657,\n",
       " 475033,\n",
       " 475042,\n",
       " 475042,\n",
       " 475050,\n",
       " 475050,\n",
       " 475051,\n",
       " 475051,\n",
       " 475054,\n",
       " 475054,\n",
       " 475175,\n",
       " 475175]"
      ]
     },
     "execution_count": 25,
     "metadata": {},
     "output_type": "execute_result"
    }
   ],
   "source": [
    "dfp_train.loc[0, \"cards\"]"
   ]
  },
  {
   "cell_type": "code",
   "execution_count": 26,
   "id": "593285bd",
   "metadata": {
    "execution": {
     "iopub.execute_input": "2022-10-29T00:26:10.993783Z",
     "iopub.status.busy": "2022-10-29T00:26:10.993296Z",
     "iopub.status.idle": "2022-10-29T00:26:11.016333Z",
     "shell.execute_reply": "2022-10-29T00:26:11.015510Z"
    },
    "papermill": {
     "duration": 0.076295,
     "end_time": "2022-10-29T00:26:11.018110",
     "exception": false,
     "start_time": "2022-10-29T00:26:10.941815",
     "status": "completed"
    },
    "tags": []
   },
   "outputs": [
    {
     "data": {
      "text/html": [
       "<div>\n",
       "<style scoped>\n",
       "    .dataframe tbody tr th:only-of-type {\n",
       "        vertical-align: middle;\n",
       "    }\n",
       "\n",
       "    .dataframe tbody tr th {\n",
       "        vertical-align: top;\n",
       "    }\n",
       "\n",
       "    .dataframe thead th {\n",
       "        text-align: right;\n",
       "    }\n",
       "</style>\n",
       "<table border=\"1\" class=\"dataframe\">\n",
       "  <thead>\n",
       "    <tr style=\"text-align: right;\">\n",
       "      <th></th>\n",
       "      <th>id</th>\n",
       "      <th>name</th>\n",
       "      <th>img</th>\n",
       "      <th>card_text</th>\n",
       "      <th>flavor_text</th>\n",
       "      <th>type</th>\n",
       "      <th>class</th>\n",
       "      <th>rarity</th>\n",
       "      <th>set</th>\n",
       "      <th>race</th>\n",
       "      <th>...</th>\n",
       "      <th>is_overload_card</th>\n",
       "      <th>is_lifesteal_card</th>\n",
       "      <th>is_freeze_card</th>\n",
       "      <th>is_discover_card</th>\n",
       "      <th>is_windfury_card</th>\n",
       "      <th>is_echo_card</th>\n",
       "      <th>is_secret_card</th>\n",
       "      <th>cost</th>\n",
       "      <th>attack</th>\n",
       "      <th>health</th>\n",
       "    </tr>\n",
       "  </thead>\n",
       "  <tbody>\n",
       "    <tr>\n",
       "      <th>0</th>\n",
       "      <td>90145</td>\n",
       "      <td>Shirvallah, the Tiger</td>\n",
       "      <td>https://cards.hearthpwn.com/enUS/TRL_300.png?1...</td>\n",
       "      <td>Divine Shield, Rush, Lifesteal Costs (1) less ...</td>\n",
       "      <td>On bended knee Thekal placed his weapon upon S...</td>\n",
       "      <td>minion</td>\n",
       "      <td>paladin</td>\n",
       "      <td>legendary</td>\n",
       "      <td>rastakhan's rumble</td>\n",
       "      <td>beast</td>\n",
       "      <td>...</td>\n",
       "      <td>False</td>\n",
       "      <td>True</td>\n",
       "      <td>False</td>\n",
       "      <td>False</td>\n",
       "      <td>False</td>\n",
       "      <td>False</td>\n",
       "      <td>False</td>\n",
       "      <td>25</td>\n",
       "      <td>7</td>\n",
       "      <td>5</td>\n",
       "    </tr>\n",
       "    <tr>\n",
       "      <th>1</th>\n",
       "      <td>42049</td>\n",
       "      <td>Arcane Giant</td>\n",
       "      <td>https://cards.hearthpwn.com/enUS/KAR_711.png?1...</td>\n",
       "      <td>Costs (1) less for each spellyou've cast this ...</td>\n",
       "      <td>Claims to be drawn to Karazhan because of the ...</td>\n",
       "      <td>minion</td>\n",
       "      <td>NaN</td>\n",
       "      <td>epic</td>\n",
       "      <td>one night in karazhan</td>\n",
       "      <td>NaN</td>\n",
       "      <td>...</td>\n",
       "      <td>False</td>\n",
       "      <td>False</td>\n",
       "      <td>False</td>\n",
       "      <td>False</td>\n",
       "      <td>False</td>\n",
       "      <td>False</td>\n",
       "      <td>False</td>\n",
       "      <td>12</td>\n",
       "      <td>8</td>\n",
       "      <td>8</td>\n",
       "    </tr>\n",
       "    <tr>\n",
       "      <th>2</th>\n",
       "      <td>475011</td>\n",
       "      <td>Clockwork Giant</td>\n",
       "      <td>https://cards.hearthpwn.com/enUS/CORE_GVG_121....</td>\n",
       "      <td>Costs (1) less for each card in your opponent'...</td>\n",
       "      <td>He and Mountain Giant don't get along.</td>\n",
       "      <td>minion</td>\n",
       "      <td>NaN</td>\n",
       "      <td>epic</td>\n",
       "      <td>removed from core</td>\n",
       "      <td>mechanical</td>\n",
       "      <td>...</td>\n",
       "      <td>False</td>\n",
       "      <td>False</td>\n",
       "      <td>False</td>\n",
       "      <td>False</td>\n",
       "      <td>False</td>\n",
       "      <td>False</td>\n",
       "      <td>False</td>\n",
       "      <td>12</td>\n",
       "      <td>8</td>\n",
       "      <td>8</td>\n",
       "    </tr>\n",
       "    <tr>\n",
       "      <th>3</th>\n",
       "      <td>264</td>\n",
       "      <td>Mountain Giant</td>\n",
       "      <td>https://cards.hearthpwn.com/enUS/EX1_105.png?1...</td>\n",
       "      <td>Costs (1) less for each other card in your hand.</td>\n",
       "      <td>His mother said that he was just big boned.</td>\n",
       "      <td>minion</td>\n",
       "      <td>NaN</td>\n",
       "      <td>epic</td>\n",
       "      <td>legacy</td>\n",
       "      <td>elemental</td>\n",
       "      <td>...</td>\n",
       "      <td>False</td>\n",
       "      <td>False</td>\n",
       "      <td>False</td>\n",
       "      <td>False</td>\n",
       "      <td>False</td>\n",
       "      <td>False</td>\n",
       "      <td>False</td>\n",
       "      <td>12</td>\n",
       "      <td>8</td>\n",
       "      <td>8</td>\n",
       "    </tr>\n",
       "    <tr>\n",
       "      <th>4</th>\n",
       "      <td>31110</td>\n",
       "      <td>C'Thun</td>\n",
       "      <td>https://cards.hearthpwn.com/enUS/OG_280.png?14...</td>\n",
       "      <td>Battlecry: Deal damage equal to this minion's ...</td>\n",
       "      <td>C'Thun's least favorite Hearthstone card: Eye ...</td>\n",
       "      <td>minion</td>\n",
       "      <td>NaN</td>\n",
       "      <td>legendary</td>\n",
       "      <td>whispers of the old gods</td>\n",
       "      <td>NaN</td>\n",
       "      <td>...</td>\n",
       "      <td>False</td>\n",
       "      <td>False</td>\n",
       "      <td>False</td>\n",
       "      <td>False</td>\n",
       "      <td>False</td>\n",
       "      <td>False</td>\n",
       "      <td>False</td>\n",
       "      <td>10</td>\n",
       "      <td>6</td>\n",
       "      <td>6</td>\n",
       "    </tr>\n",
       "    <tr>\n",
       "      <th>...</th>\n",
       "      <td>...</td>\n",
       "      <td>...</td>\n",
       "      <td>...</td>\n",
       "      <td>...</td>\n",
       "      <td>...</td>\n",
       "      <td>...</td>\n",
       "      <td>...</td>\n",
       "      <td>...</td>\n",
       "      <td>...</td>\n",
       "      <td>...</td>\n",
       "      <td>...</td>\n",
       "      <td>...</td>\n",
       "      <td>...</td>\n",
       "      <td>...</td>\n",
       "      <td>...</td>\n",
       "      <td>...</td>\n",
       "      <td>...</td>\n",
       "      <td>...</td>\n",
       "      <td>...</td>\n",
       "      <td>...</td>\n",
       "      <td>...</td>\n",
       "    </tr>\n",
       "    <tr>\n",
       "      <th>2623</th>\n",
       "      <td>55496</td>\n",
       "      <td>Molten Blade</td>\n",
       "      <td>https://cards.hearthpwn.com/enUS/UNG_929.png?1...</td>\n",
       "      <td>Each turn this is in your hand, transform it i...</td>\n",
       "      <td>It’s a sword! It’s a knife! It’s a swizzle-stick!</td>\n",
       "      <td>weapon</td>\n",
       "      <td>warrior</td>\n",
       "      <td>rare</td>\n",
       "      <td>journey to un'goro</td>\n",
       "      <td>NaN</td>\n",
       "      <td>...</td>\n",
       "      <td>False</td>\n",
       "      <td>False</td>\n",
       "      <td>False</td>\n",
       "      <td>False</td>\n",
       "      <td>False</td>\n",
       "      <td>False</td>\n",
       "      <td>False</td>\n",
       "      <td>1</td>\n",
       "      <td>1</td>\n",
       "      <td>1</td>\n",
       "    </tr>\n",
       "    <tr>\n",
       "      <th>2624</th>\n",
       "      <td>329906</td>\n",
       "      <td>Sphere of Sapience</td>\n",
       "      <td>https://cards.hearthpwn.com/enUS/SCH_259.png?1...</td>\n",
       "      <td>At the start of your turn,look at your top car...</td>\n",
       "      <td>This is what it sounds like when spheres scry.</td>\n",
       "      <td>weapon</td>\n",
       "      <td>NaN</td>\n",
       "      <td>legendary</td>\n",
       "      <td>scholomance academy</td>\n",
       "      <td>NaN</td>\n",
       "      <td>...</td>\n",
       "      <td>False</td>\n",
       "      <td>False</td>\n",
       "      <td>False</td>\n",
       "      <td>False</td>\n",
       "      <td>False</td>\n",
       "      <td>False</td>\n",
       "      <td>False</td>\n",
       "      <td>1</td>\n",
       "      <td>0</td>\n",
       "      <td>4</td>\n",
       "    </tr>\n",
       "    <tr>\n",
       "      <th>2625</th>\n",
       "      <td>42042</td>\n",
       "      <td>Spirit Claws</td>\n",
       "      <td>https://cards.hearthpwn.com/enUS/KAR_063.png?1...</td>\n",
       "      <td>Has +2 Attack while youhave Spell Damage.</td>\n",
       "      <td>They'll be MUCH easier to use once they add th...</td>\n",
       "      <td>weapon</td>\n",
       "      <td>shaman</td>\n",
       "      <td>common</td>\n",
       "      <td>one night in karazhan</td>\n",
       "      <td>NaN</td>\n",
       "      <td>...</td>\n",
       "      <td>False</td>\n",
       "      <td>False</td>\n",
       "      <td>False</td>\n",
       "      <td>False</td>\n",
       "      <td>False</td>\n",
       "      <td>False</td>\n",
       "      <td>False</td>\n",
       "      <td>1</td>\n",
       "      <td>1</td>\n",
       "      <td>3</td>\n",
       "    </tr>\n",
       "    <tr>\n",
       "      <th>2626</th>\n",
       "      <td>90271</td>\n",
       "      <td>Serrated Tooth</td>\n",
       "      <td>https://cards.hearthpwn.com/enUS/TRL_074.png?1...</td>\n",
       "      <td>Deathrattle: Give your minions Rush.</td>\n",
       "      <td>The tooth hurts, don’t it?</td>\n",
       "      <td>weapon</td>\n",
       "      <td>rogue</td>\n",
       "      <td>common</td>\n",
       "      <td>rastakhan's rumble</td>\n",
       "      <td>NaN</td>\n",
       "      <td>...</td>\n",
       "      <td>False</td>\n",
       "      <td>False</td>\n",
       "      <td>False</td>\n",
       "      <td>False</td>\n",
       "      <td>False</td>\n",
       "      <td>False</td>\n",
       "      <td>False</td>\n",
       "      <td>1</td>\n",
       "      <td>1</td>\n",
       "      <td>3</td>\n",
       "    </tr>\n",
       "    <tr>\n",
       "      <th>2627</th>\n",
       "      <td>329946</td>\n",
       "      <td>Trueaim Crescent</td>\n",
       "      <td>https://cards.hearthpwn.com/enUS/SCH_279.png?1...</td>\n",
       "      <td>After your Hero attacks a minion, your minions...</td>\n",
       "      <td>You could have just pointed.</td>\n",
       "      <td>weapon</td>\n",
       "      <td>hunter</td>\n",
       "      <td>epic</td>\n",
       "      <td>scholomance academy</td>\n",
       "      <td>NaN</td>\n",
       "      <td>...</td>\n",
       "      <td>False</td>\n",
       "      <td>False</td>\n",
       "      <td>False</td>\n",
       "      <td>False</td>\n",
       "      <td>False</td>\n",
       "      <td>False</td>\n",
       "      <td>False</td>\n",
       "      <td>1</td>\n",
       "      <td>1</td>\n",
       "      <td>4</td>\n",
       "    </tr>\n",
       "  </tbody>\n",
       "</table>\n",
       "<p>2628 rows × 30 columns</p>\n",
       "</div>"
      ],
      "text/plain": [
       "          id                   name  \\\n",
       "0      90145  Shirvallah, the Tiger   \n",
       "1      42049           Arcane Giant   \n",
       "2     475011        Clockwork Giant   \n",
       "3        264         Mountain Giant   \n",
       "4      31110                 C'Thun   \n",
       "...      ...                    ...   \n",
       "2623   55496           Molten Blade   \n",
       "2624  329906     Sphere of Sapience   \n",
       "2625   42042           Spirit Claws   \n",
       "2626   90271         Serrated Tooth   \n",
       "2627  329946       Trueaim Crescent   \n",
       "\n",
       "                                                    img  \\\n",
       "0     https://cards.hearthpwn.com/enUS/TRL_300.png?1...   \n",
       "1     https://cards.hearthpwn.com/enUS/KAR_711.png?1...   \n",
       "2     https://cards.hearthpwn.com/enUS/CORE_GVG_121....   \n",
       "3     https://cards.hearthpwn.com/enUS/EX1_105.png?1...   \n",
       "4     https://cards.hearthpwn.com/enUS/OG_280.png?14...   \n",
       "...                                                 ...   \n",
       "2623  https://cards.hearthpwn.com/enUS/UNG_929.png?1...   \n",
       "2624  https://cards.hearthpwn.com/enUS/SCH_259.png?1...   \n",
       "2625  https://cards.hearthpwn.com/enUS/KAR_063.png?1...   \n",
       "2626  https://cards.hearthpwn.com/enUS/TRL_074.png?1...   \n",
       "2627  https://cards.hearthpwn.com/enUS/SCH_279.png?1...   \n",
       "\n",
       "                                              card_text  \\\n",
       "0     Divine Shield, Rush, Lifesteal Costs (1) less ...   \n",
       "1     Costs (1) less for each spellyou've cast this ...   \n",
       "2     Costs (1) less for each card in your opponent'...   \n",
       "3      Costs (1) less for each other card in your hand.   \n",
       "4     Battlecry: Deal damage equal to this minion's ...   \n",
       "...                                                 ...   \n",
       "2623  Each turn this is in your hand, transform it i...   \n",
       "2624  At the start of your turn,look at your top car...   \n",
       "2625          Has +2 Attack while youhave Spell Damage.   \n",
       "2626               Deathrattle: Give your minions Rush.   \n",
       "2627  After your Hero attacks a minion, your minions...   \n",
       "\n",
       "                                            flavor_text    type     class  \\\n",
       "0     On bended knee Thekal placed his weapon upon S...  minion   paladin   \n",
       "1     Claims to be drawn to Karazhan because of the ...  minion       NaN   \n",
       "2                He and Mountain Giant don't get along.  minion       NaN   \n",
       "3           His mother said that he was just big boned.  minion       NaN   \n",
       "4     C'Thun's least favorite Hearthstone card: Eye ...  minion       NaN   \n",
       "...                                                 ...     ...       ...   \n",
       "2623  It’s a sword! It’s a knife! It’s a swizzle-stick!  weapon   warrior   \n",
       "2624     This is what it sounds like when spheres scry.  weapon       NaN   \n",
       "2625  They'll be MUCH easier to use once they add th...  weapon    shaman   \n",
       "2626                         The tooth hurts, don’t it?  weapon     rogue   \n",
       "2627                       You could have just pointed.  weapon    hunter   \n",
       "\n",
       "         rarity                       set        race  ... is_overload_card  \\\n",
       "0     legendary        rastakhan's rumble       beast  ...            False   \n",
       "1          epic     one night in karazhan         NaN  ...            False   \n",
       "2          epic         removed from core  mechanical  ...            False   \n",
       "3          epic                    legacy   elemental  ...            False   \n",
       "4     legendary  whispers of the old gods         NaN  ...            False   \n",
       "...         ...                       ...         ...  ...              ...   \n",
       "2623       rare        journey to un'goro         NaN  ...            False   \n",
       "2624  legendary       scholomance academy         NaN  ...            False   \n",
       "2625     common     one night in karazhan         NaN  ...            False   \n",
       "2626     common        rastakhan's rumble         NaN  ...            False   \n",
       "2627       epic       scholomance academy         NaN  ...            False   \n",
       "\n",
       "      is_lifesteal_card  is_freeze_card  is_discover_card  is_windfury_card  \\\n",
       "0                  True           False             False             False   \n",
       "1                 False           False             False             False   \n",
       "2                 False           False             False             False   \n",
       "3                 False           False             False             False   \n",
       "4                 False           False             False             False   \n",
       "...                 ...             ...               ...               ...   \n",
       "2623              False           False             False             False   \n",
       "2624              False           False             False             False   \n",
       "2625              False           False             False             False   \n",
       "2626              False           False             False             False   \n",
       "2627              False           False             False             False   \n",
       "\n",
       "      is_echo_card  is_secret_card  cost  attack  health  \n",
       "0            False           False    25       7       5  \n",
       "1            False           False    12       8       8  \n",
       "2            False           False    12       8       8  \n",
       "3            False           False    12       8       8  \n",
       "4            False           False    10       6       6  \n",
       "...            ...             ...   ...     ...     ...  \n",
       "2623         False           False     1       1       1  \n",
       "2624         False           False     1       0       4  \n",
       "2625         False           False     1       1       3  \n",
       "2626         False           False     1       1       3  \n",
       "2627         False           False     1       1       4  \n",
       "\n",
       "[2628 rows x 30 columns]"
      ]
     },
     "execution_count": 26,
     "metadata": {},
     "output_type": "execute_result"
    }
   ],
   "source": [
    "dfp_cards"
   ]
  },
  {
   "cell_type": "code",
   "execution_count": 27,
   "id": "efa3054b",
   "metadata": {
    "execution": {
     "iopub.execute_input": "2022-10-29T00:26:11.121668Z",
     "iopub.status.busy": "2022-10-29T00:26:11.121354Z",
     "iopub.status.idle": "2022-10-29T00:26:11.134864Z",
     "shell.execute_reply": "2022-10-29T00:26:11.133955Z"
    },
    "papermill": {
     "duration": 0.066991,
     "end_time": "2022-10-29T00:26:11.136438",
     "exception": false,
     "start_time": "2022-10-29T00:26:11.069447",
     "status": "completed"
    },
    "tags": []
   },
   "outputs": [
    {
     "name": "stdout",
     "output_type": "stream",
     "text": [
      "<class 'pandas.core.frame.DataFrame'>\n",
      "RangeIndex: 2628 entries, 0 to 2627\n",
      "Data columns (total 30 columns):\n",
      " #   Column                Non-Null Count  Dtype \n",
      "---  ------                --------------  ----- \n",
      " 0   id                    2628 non-null   int64 \n",
      " 1   name                  2628 non-null   object\n",
      " 2   img                   2628 non-null   object\n",
      " 3   card_text             2581 non-null   object\n",
      " 4   flavor_text           2576 non-null   object\n",
      " 5   type                  2628 non-null   object\n",
      " 6   class                 1681 non-null   object\n",
      " 7   rarity                2596 non-null   object\n",
      " 8   set                   2628 non-null   object\n",
      " 9   race                  715 non-null    object\n",
      " 10  raw_attributes        2628 non-null   object\n",
      " 11  is_battlecry_card     2628 non-null   bool  \n",
      " 12  is_divineshield_card  2628 non-null   bool  \n",
      " 13  is_rush_card          2628 non-null   bool  \n",
      " 14  is_deathrattle_card   2628 non-null   bool  \n",
      " 15  is_taunt_card         2628 non-null   bool  \n",
      " 16  is_combo_card         2628 non-null   bool  \n",
      " 17  is_inspire_card       2628 non-null   bool  \n",
      " 18  is_stealth_card       2628 non-null   bool  \n",
      " 19  is_charge_card        2628 non-null   bool  \n",
      " 20  is_overload_card      2628 non-null   bool  \n",
      " 21  is_lifesteal_card     2628 non-null   bool  \n",
      " 22  is_freeze_card        2628 non-null   bool  \n",
      " 23  is_discover_card      2628 non-null   bool  \n",
      " 24  is_windfury_card      2628 non-null   bool  \n",
      " 25  is_echo_card          2628 non-null   bool  \n",
      " 26  is_secret_card        2628 non-null   bool  \n",
      " 27  cost                  2628 non-null   int64 \n",
      " 28  attack                2628 non-null   int64 \n",
      " 29  health                2628 non-null   int64 \n",
      "dtypes: bool(16), int64(4), object(10)\n",
      "memory usage: 328.6+ KB\n"
     ]
    }
   ],
   "source": [
    "dfp_cards.info()"
   ]
  },
  {
   "cell_type": "code",
   "execution_count": 28,
   "id": "d97d9b01",
   "metadata": {
    "execution": {
     "iopub.execute_input": "2022-10-29T00:26:11.240834Z",
     "iopub.status.busy": "2022-10-29T00:26:11.240231Z",
     "iopub.status.idle": "2022-10-29T00:26:11.244400Z",
     "shell.execute_reply": "2022-10-29T00:26:11.243837Z"
    },
    "papermill": {
     "duration": 0.058423,
     "end_time": "2022-10-29T00:26:11.246095",
     "exception": false,
     "start_time": "2022-10-29T00:26:11.187672",
     "status": "completed"
    },
    "tags": []
   },
   "outputs": [],
   "source": [
    "# set card ids as index\n",
    "dfp_cards.set_index(\"id\", inplace=True)"
   ]
  },
  {
   "cell_type": "markdown",
   "id": "ab3de106",
   "metadata": {
    "papermill": {
     "duration": 0.061161,
     "end_time": "2022-10-29T00:26:11.361803",
     "exception": false,
     "start_time": "2022-10-29T00:26:11.300642",
     "status": "completed"
    },
    "tags": []
   },
   "source": [
    "## Rarity shouldn't have missing values"
   ]
  },
  {
   "cell_type": "code",
   "execution_count": 29,
   "id": "e37d6fb5",
   "metadata": {
    "execution": {
     "iopub.execute_input": "2022-10-29T00:26:11.465763Z",
     "iopub.status.busy": "2022-10-29T00:26:11.465211Z",
     "iopub.status.idle": "2022-10-29T00:26:11.487431Z",
     "shell.execute_reply": "2022-10-29T00:26:11.486512Z"
    },
    "papermill": {
     "duration": 0.076473,
     "end_time": "2022-10-29T00:26:11.489385",
     "exception": false,
     "start_time": "2022-10-29T00:26:11.412912",
     "status": "completed"
    },
    "tags": []
   },
   "outputs": [
    {
     "name": "stdout",
     "output_type": "stream",
     "text": [
      "32\n"
     ]
    },
    {
     "data": {
      "text/html": [
       "<div>\n",
       "<style scoped>\n",
       "    .dataframe tbody tr th:only-of-type {\n",
       "        vertical-align: middle;\n",
       "    }\n",
       "\n",
       "    .dataframe tbody tr th {\n",
       "        vertical-align: top;\n",
       "    }\n",
       "\n",
       "    .dataframe thead th {\n",
       "        text-align: right;\n",
       "    }\n",
       "</style>\n",
       "<table border=\"1\" class=\"dataframe\">\n",
       "  <thead>\n",
       "    <tr style=\"text-align: right;\">\n",
       "      <th></th>\n",
       "      <th>name</th>\n",
       "      <th>img</th>\n",
       "      <th>card_text</th>\n",
       "      <th>flavor_text</th>\n",
       "      <th>type</th>\n",
       "      <th>class</th>\n",
       "      <th>rarity</th>\n",
       "      <th>set</th>\n",
       "      <th>race</th>\n",
       "      <th>raw_attributes</th>\n",
       "    </tr>\n",
       "    <tr>\n",
       "      <th>id</th>\n",
       "      <th></th>\n",
       "      <th></th>\n",
       "      <th></th>\n",
       "      <th></th>\n",
       "      <th></th>\n",
       "      <th></th>\n",
       "      <th></th>\n",
       "      <th></th>\n",
       "      <th></th>\n",
       "      <th></th>\n",
       "    </tr>\n",
       "  </thead>\n",
       "  <tbody>\n",
       "    <tr>\n",
       "      <th>21</th>\n",
       "      <td>Squire</td>\n",
       "      <td>https://cards.hearthpwn.com/enUS/CS2_152.png?1...</td>\n",
       "      <td>NaN</td>\n",
       "      <td>NaN</td>\n",
       "      <td>minion</td>\n",
       "      <td>NaN</td>\n",
       "      <td>NaN</td>\n",
       "      <td>legacy</td>\n",
       "      <td>NaN</td>\n",
       "      <td>{}</td>\n",
       "    </tr>\n",
       "    <tr>\n",
       "      <th>53</th>\n",
       "      <td>Ashbringer</td>\n",
       "      <td>https://cards.hearthpwn.com/enUS/EX1_383t.png?...</td>\n",
       "      <td>NaN</td>\n",
       "      <td>NaN</td>\n",
       "      <td>weapon</td>\n",
       "      <td>paladin</td>\n",
       "      <td>NaN</td>\n",
       "      <td>legacy</td>\n",
       "      <td>NaN</td>\n",
       "      <td>{}</td>\n",
       "    </tr>\n",
       "    <tr>\n",
       "      <th>58</th>\n",
       "      <td>Rampant Growth</td>\n",
       "      <td>https://cards.hearthpwn.com/enUS/EX1_164a.png?...</td>\n",
       "      <td>Gain 2 Mana Crystals.</td>\n",
       "      <td>NaN</td>\n",
       "      <td>ability</td>\n",
       "      <td>druid</td>\n",
       "      <td>NaN</td>\n",
       "      <td>legacy</td>\n",
       "      <td>NaN</td>\n",
       "      <td>{}</td>\n",
       "    </tr>\n",
       "    <tr>\n",
       "      <th>63</th>\n",
       "      <td>Violet Apprentice</td>\n",
       "      <td>https://cards.hearthpwn.com/enUS/NEW1_026t.png...</td>\n",
       "      <td>NaN</td>\n",
       "      <td>NaN</td>\n",
       "      <td>minion</td>\n",
       "      <td>NaN</td>\n",
       "      <td>NaN</td>\n",
       "      <td>legacy</td>\n",
       "      <td>NaN</td>\n",
       "      <td>{}</td>\n",
       "    </tr>\n",
       "    <tr>\n",
       "      <th>141</th>\n",
       "      <td>The Coin</td>\n",
       "      <td>https://cards.hearthpwn.com/enUS/GAME_005.png?...</td>\n",
       "      <td>Gain 1 Mana Crystal this turn only.</td>\n",
       "      <td>Whether you spend it or save it, it's always t...</td>\n",
       "      <td>ability</td>\n",
       "      <td>NaN</td>\n",
       "      <td>NaN</td>\n",
       "      <td>core (2022)</td>\n",
       "      <td>NaN</td>\n",
       "      <td>{}</td>\n",
       "    </tr>\n",
       "    <tr>\n",
       "      <th>159</th>\n",
       "      <td>Shan'do's Lesson</td>\n",
       "      <td>https://cards.hearthpwn.com/enUS/EX1_573b.png?...</td>\n",
       "      <td>Summon two 2/2 Treants with Taunt.</td>\n",
       "      <td>NaN</td>\n",
       "      <td>ability</td>\n",
       "      <td>druid</td>\n",
       "      <td>NaN</td>\n",
       "      <td>legacy</td>\n",
       "      <td>NaN</td>\n",
       "      <td>{Taunt}</td>\n",
       "    </tr>\n",
       "    <tr>\n",
       "      <th>204</th>\n",
       "      <td>Leader of the Pack</td>\n",
       "      <td>https://cards.hearthpwn.com/enUS/EX1_160b.png?...</td>\n",
       "      <td>Give your minions +1/+1.</td>\n",
       "      <td>NaN</td>\n",
       "      <td>ability</td>\n",
       "      <td>druid</td>\n",
       "      <td>NaN</td>\n",
       "      <td>legacy</td>\n",
       "      <td>NaN</td>\n",
       "      <td>{}</td>\n",
       "    </tr>\n",
       "    <tr>\n",
       "      <th>219</th>\n",
       "      <td>Summon a Panther</td>\n",
       "      <td>https://cards.hearthpwn.com/enUS/EX1_160a.png?...</td>\n",
       "      <td>Summon a 3/2 Panther.</td>\n",
       "      <td>NaN</td>\n",
       "      <td>ability</td>\n",
       "      <td>druid</td>\n",
       "      <td>NaN</td>\n",
       "      <td>legacy</td>\n",
       "      <td>NaN</td>\n",
       "      <td>{}</td>\n",
       "    </tr>\n",
       "    <tr>\n",
       "      <th>231</th>\n",
       "      <td>Bananas</td>\n",
       "      <td>https://cards.hearthpwn.com/enUS/EX1_014t.png?...</td>\n",
       "      <td>Give a minion +1/+1.</td>\n",
       "      <td>NaN</td>\n",
       "      <td>ability</td>\n",
       "      <td>NaN</td>\n",
       "      <td>NaN</td>\n",
       "      <td>legacy</td>\n",
       "      <td>NaN</td>\n",
       "      <td>{}</td>\n",
       "    </tr>\n",
       "    <tr>\n",
       "      <th>240</th>\n",
       "      <td>Emboldener 3000</td>\n",
       "      <td>https://cards.hearthpwn.com/enUS/Mekka3.png?14...</td>\n",
       "      <td>At the end of your turn, give a random minion ...</td>\n",
       "      <td>NaN</td>\n",
       "      <td>minion</td>\n",
       "      <td>NaN</td>\n",
       "      <td>NaN</td>\n",
       "      <td>hall of fame</td>\n",
       "      <td>mechanical</td>\n",
       "      <td>{}</td>\n",
       "    </tr>\n",
       "    <tr>\n",
       "      <th>318</th>\n",
       "      <td>Defender</td>\n",
       "      <td>https://cards.hearthpwn.com/enUS/EX1_130a.png?...</td>\n",
       "      <td>NaN</td>\n",
       "      <td>NaN</td>\n",
       "      <td>minion</td>\n",
       "      <td>paladin</td>\n",
       "      <td>NaN</td>\n",
       "      <td>legacy</td>\n",
       "      <td>NaN</td>\n",
       "      <td>{}</td>\n",
       "    </tr>\n",
       "    <tr>\n",
       "      <th>354</th>\n",
       "      <td>Devilsaur</td>\n",
       "      <td>https://cards.hearthpwn.com/enUS/EX1_tk29.png?...</td>\n",
       "      <td>NaN</td>\n",
       "      <td>NaN</td>\n",
       "      <td>minion</td>\n",
       "      <td>NaN</td>\n",
       "      <td>NaN</td>\n",
       "      <td>legacy</td>\n",
       "      <td>beast</td>\n",
       "      <td>{}</td>\n",
       "    </tr>\n",
       "    <tr>\n",
       "      <th>358</th>\n",
       "      <td>Demigod's Favor</td>\n",
       "      <td>https://cards.hearthpwn.com/enUS/EX1_573a.png?...</td>\n",
       "      <td>Give your other minions +2/+2.</td>\n",
       "      <td>NaN</td>\n",
       "      <td>ability</td>\n",
       "      <td>druid</td>\n",
       "      <td>NaN</td>\n",
       "      <td>legacy</td>\n",
       "      <td>NaN</td>\n",
       "      <td>{}</td>\n",
       "    </tr>\n",
       "    <tr>\n",
       "      <th>403</th>\n",
       "      <td>Battle Axe</td>\n",
       "      <td>https://cards.hearthpwn.com/enUS/EX1_398t.png?...</td>\n",
       "      <td>NaN</td>\n",
       "      <td>NaN</td>\n",
       "      <td>weapon</td>\n",
       "      <td>warrior</td>\n",
       "      <td>NaN</td>\n",
       "      <td>legacy</td>\n",
       "      <td>NaN</td>\n",
       "      <td>{}</td>\n",
       "    </tr>\n",
       "    <tr>\n",
       "      <th>405</th>\n",
       "      <td>Poultryizer</td>\n",
       "      <td>https://cards.hearthpwn.com/enUS/Mekka4.png?14...</td>\n",
       "      <td>At the start of your turn, transform a random ...</td>\n",
       "      <td>NaN</td>\n",
       "      <td>minion</td>\n",
       "      <td>NaN</td>\n",
       "      <td>NaN</td>\n",
       "      <td>hall of fame</td>\n",
       "      <td>mechanical</td>\n",
       "      <td>{}</td>\n",
       "    </tr>\n",
       "    <tr>\n",
       "      <th>439</th>\n",
       "      <td>Repair Bot</td>\n",
       "      <td>https://cards.hearthpwn.com/enUS/Mekka2.png?14...</td>\n",
       "      <td>At the end of your turn, restore 6 Health to a...</td>\n",
       "      <td>NaN</td>\n",
       "      <td>minion</td>\n",
       "      <td>NaN</td>\n",
       "      <td>NaN</td>\n",
       "      <td>hall of fame</td>\n",
       "      <td>mechanical</td>\n",
       "      <td>{}</td>\n",
       "    </tr>\n",
       "    <tr>\n",
       "      <th>451</th>\n",
       "      <td>Spirit Wolf</td>\n",
       "      <td>https://cards.hearthpwn.com/enUS/EX1_tk11.png?...</td>\n",
       "      <td>Taunt</td>\n",
       "      <td>NaN</td>\n",
       "      <td>minion</td>\n",
       "      <td>shaman</td>\n",
       "      <td>NaN</td>\n",
       "      <td>legacy</td>\n",
       "      <td>NaN</td>\n",
       "      <td>{Taunt}</td>\n",
       "    </tr>\n",
       "    <tr>\n",
       "      <th>485</th>\n",
       "      <td>Enrich</td>\n",
       "      <td>https://cards.hearthpwn.com/enUS/EX1_164b.png?...</td>\n",
       "      <td>Draw 3 cards.</td>\n",
       "      <td>NaN</td>\n",
       "      <td>ability</td>\n",
       "      <td>druid</td>\n",
       "      <td>NaN</td>\n",
       "      <td>legacy</td>\n",
       "      <td>NaN</td>\n",
       "      <td>{}</td>\n",
       "    </tr>\n",
       "    <tr>\n",
       "      <th>527</th>\n",
       "      <td>Whelp</td>\n",
       "      <td>https://cards.hearthpwn.com/enUS/ds1_whelptoke...</td>\n",
       "      <td>NaN</td>\n",
       "      <td>NaN</td>\n",
       "      <td>minion</td>\n",
       "      <td>NaN</td>\n",
       "      <td>NaN</td>\n",
       "      <td>legacy</td>\n",
       "      <td>dragon</td>\n",
       "      <td>{}</td>\n",
       "    </tr>\n",
       "    <tr>\n",
       "      <th>541</th>\n",
       "      <td>Pip Quickwit</td>\n",
       "      <td>https://cards.hearthpwn.com/enUS/EX1_finkle.pn...</td>\n",
       "      <td>NaN</td>\n",
       "      <td>NaN</td>\n",
       "      <td>minion</td>\n",
       "      <td>NaN</td>\n",
       "      <td>NaN</td>\n",
       "      <td>legacy</td>\n",
       "      <td>NaN</td>\n",
       "      <td>{}</td>\n",
       "    </tr>\n",
       "    <tr>\n",
       "      <th>552</th>\n",
       "      <td>Chicken</td>\n",
       "      <td>https://cards.hearthpwn.com/enUS/Mekka4t.png?1...</td>\n",
       "      <td>Hey Chicken!</td>\n",
       "      <td>NaN</td>\n",
       "      <td>minion</td>\n",
       "      <td>NaN</td>\n",
       "      <td>NaN</td>\n",
       "      <td>hall of fame</td>\n",
       "      <td>beast</td>\n",
       "      <td>{}</td>\n",
       "    </tr>\n",
       "    <tr>\n",
       "      <th>582</th>\n",
       "      <td>Shadow of Nothing</td>\n",
       "      <td>https://cards.hearthpwn.com/enUS/EX1_345t.png?...</td>\n",
       "      <td>Mindgames whiffed! Your opponent had no minions!</td>\n",
       "      <td>NaN</td>\n",
       "      <td>minion</td>\n",
       "      <td>priest</td>\n",
       "      <td>NaN</td>\n",
       "      <td>legacy</td>\n",
       "      <td>NaN</td>\n",
       "      <td>{}</td>\n",
       "    </tr>\n",
       "    <tr>\n",
       "      <th>27259</th>\n",
       "      <td>Lantern of Power</td>\n",
       "      <td>https://cards.hearthpwn.com/enUS/LOEA16_3.png?...</td>\n",
       "      <td>Give a minion +10/+10.</td>\n",
       "      <td>NaN</td>\n",
       "      <td>ability</td>\n",
       "      <td>NaN</td>\n",
       "      <td>NaN</td>\n",
       "      <td>the league of explorers</td>\n",
       "      <td>NaN</td>\n",
       "      <td>{}</td>\n",
       "    </tr>\n",
       "    <tr>\n",
       "      <th>35385</th>\n",
       "      <td>Dragonscale Warrior</td>\n",
       "      <td>https://cards.hearthpwn.com/enUS/TB_Coopv3_100...</td>\n",
       "      <td>Whenever any player targets this minion with a...</td>\n",
       "      <td>NaN</td>\n",
       "      <td>minion</td>\n",
       "      <td>NaN</td>\n",
       "      <td>NaN</td>\n",
       "      <td>tavern brawl</td>\n",
       "      <td>NaN</td>\n",
       "      <td>{}</td>\n",
       "    </tr>\n",
       "    <tr>\n",
       "      <th>35386</th>\n",
       "      <td>Freewheeling Skulker</td>\n",
       "      <td>https://cards.hearthpwn.com/enUS/TB_Coopv3_101...</td>\n",
       "      <td>At the end of your turn, switch sides.</td>\n",
       "      <td>NaN</td>\n",
       "      <td>minion</td>\n",
       "      <td>NaN</td>\n",
       "      <td>NaN</td>\n",
       "      <td>tavern brawl</td>\n",
       "      <td>NaN</td>\n",
       "      <td>{}</td>\n",
       "    </tr>\n",
       "    <tr>\n",
       "      <th>35388</th>\n",
       "      <td>Shadow or Light?</td>\n",
       "      <td>https://cards.hearthpwn.com/enUS/TB_Coopv3_102...</td>\n",
       "      <td>Choose One - Each player draws 2 cards; or Res...</td>\n",
       "      <td>NaN</td>\n",
       "      <td>ability</td>\n",
       "      <td>priest</td>\n",
       "      <td>NaN</td>\n",
       "      <td>tavern brawl</td>\n",
       "      <td>NaN</td>\n",
       "      <td>{\"Choose One -\"}</td>\n",
       "    </tr>\n",
       "    <tr>\n",
       "      <th>35391</th>\n",
       "      <td>Intrepid Dragonstalker</td>\n",
       "      <td>https://cards.hearthpwn.com/enUS/TB_Coopv3_103...</td>\n",
       "      <td>Whenever ANY player plays a card, gain +1/+1.</td>\n",
       "      <td>NaN</td>\n",
       "      <td>minion</td>\n",
       "      <td>NaN</td>\n",
       "      <td>NaN</td>\n",
       "      <td>tavern brawl</td>\n",
       "      <td>NaN</td>\n",
       "      <td>{}</td>\n",
       "    </tr>\n",
       "    <tr>\n",
       "      <th>35392</th>\n",
       "      <td>Main Tank</td>\n",
       "      <td>https://cards.hearthpwn.com/enUS/TB_Coopv3_104...</td>\n",
       "      <td>Battlecry: Give all other minions +2/+2, excep...</td>\n",
       "      <td>NaN</td>\n",
       "      <td>minion</td>\n",
       "      <td>NaN</td>\n",
       "      <td>NaN</td>\n",
       "      <td>tavern brawl</td>\n",
       "      <td>NaN</td>\n",
       "      <td>{Battlecry:,Boss}</td>\n",
       "    </tr>\n",
       "    <tr>\n",
       "      <th>35394</th>\n",
       "      <td>Raid Healer</td>\n",
       "      <td>https://cards.hearthpwn.com/enUS/TB_Coopv3_105...</td>\n",
       "      <td>Whenever your hero is healed, also heal your t...</td>\n",
       "      <td>NaN</td>\n",
       "      <td>minion</td>\n",
       "      <td>NaN</td>\n",
       "      <td>NaN</td>\n",
       "      <td>tavern brawl</td>\n",
       "      <td>NaN</td>\n",
       "      <td>{}</td>\n",
       "    </tr>\n",
       "    <tr>\n",
       "      <th>52584</th>\n",
       "      <td>Amara, Warden of Hope</td>\n",
       "      <td>https://cards.hearthpwn.com/enUS/UNG_940t8.png...</td>\n",
       "      <td>TauntBattlecry: Set yourhero's Health to 40.</td>\n",
       "      <td>NaN</td>\n",
       "      <td>minion</td>\n",
       "      <td>priest</td>\n",
       "      <td>NaN</td>\n",
       "      <td>journey to un'goro</td>\n",
       "      <td>NaN</td>\n",
       "      <td>{Taunt,Battlecry:}</td>\n",
       "    </tr>\n",
       "    <tr>\n",
       "      <th>63171</th>\n",
       "      <td>Blood Beast</td>\n",
       "      <td>https://cards.hearthpwn.com/enUS/ICCA09_001t1....</td>\n",
       "      <td>At the start of your turn, restore 3 Health to...</td>\n",
       "      <td>NaN</td>\n",
       "      <td>minion</td>\n",
       "      <td>NaN</td>\n",
       "      <td>NaN</td>\n",
       "      <td>knights of the frozen throne</td>\n",
       "      <td>NaN</td>\n",
       "      <td>{}</td>\n",
       "    </tr>\n",
       "    <tr>\n",
       "      <th>63177</th>\n",
       "      <td>Skeletal Knight</td>\n",
       "      <td>https://cards.hearthpwn.com/enUS/ICCA11_001.pn...</td>\n",
       "      <td>Deathrattle: Add a Knights of the Frozen Thron...</td>\n",
       "      <td>NaN</td>\n",
       "      <td>minion</td>\n",
       "      <td>NaN</td>\n",
       "      <td>NaN</td>\n",
       "      <td>knights of the frozen throne</td>\n",
       "      <td>NaN</td>\n",
       "      <td>{Deathrattle:,\"Knights of the Frozen Throne\"}</td>\n",
       "    </tr>\n",
       "  </tbody>\n",
       "</table>\n",
       "</div>"
      ],
      "text/plain": [
       "                         name  \\\n",
       "id                              \n",
       "21                     Squire   \n",
       "53                 Ashbringer   \n",
       "58             Rampant Growth   \n",
       "63          Violet Apprentice   \n",
       "141                  The Coin   \n",
       "159          Shan'do's Lesson   \n",
       "204        Leader of the Pack   \n",
       "219          Summon a Panther   \n",
       "231                   Bananas   \n",
       "240           Emboldener 3000   \n",
       "318                  Defender   \n",
       "354                 Devilsaur   \n",
       "358           Demigod's Favor   \n",
       "403                Battle Axe   \n",
       "405               Poultryizer   \n",
       "439                Repair Bot   \n",
       "451               Spirit Wolf   \n",
       "485                    Enrich   \n",
       "527                     Whelp   \n",
       "541              Pip Quickwit   \n",
       "552                   Chicken   \n",
       "582         Shadow of Nothing   \n",
       "27259        Lantern of Power   \n",
       "35385     Dragonscale Warrior   \n",
       "35386    Freewheeling Skulker   \n",
       "35388        Shadow or Light?   \n",
       "35391  Intrepid Dragonstalker   \n",
       "35392               Main Tank   \n",
       "35394             Raid Healer   \n",
       "52584   Amara, Warden of Hope   \n",
       "63171             Blood Beast   \n",
       "63177         Skeletal Knight   \n",
       "\n",
       "                                                     img  \\\n",
       "id                                                         \n",
       "21     https://cards.hearthpwn.com/enUS/CS2_152.png?1...   \n",
       "53     https://cards.hearthpwn.com/enUS/EX1_383t.png?...   \n",
       "58     https://cards.hearthpwn.com/enUS/EX1_164a.png?...   \n",
       "63     https://cards.hearthpwn.com/enUS/NEW1_026t.png...   \n",
       "141    https://cards.hearthpwn.com/enUS/GAME_005.png?...   \n",
       "159    https://cards.hearthpwn.com/enUS/EX1_573b.png?...   \n",
       "204    https://cards.hearthpwn.com/enUS/EX1_160b.png?...   \n",
       "219    https://cards.hearthpwn.com/enUS/EX1_160a.png?...   \n",
       "231    https://cards.hearthpwn.com/enUS/EX1_014t.png?...   \n",
       "240    https://cards.hearthpwn.com/enUS/Mekka3.png?14...   \n",
       "318    https://cards.hearthpwn.com/enUS/EX1_130a.png?...   \n",
       "354    https://cards.hearthpwn.com/enUS/EX1_tk29.png?...   \n",
       "358    https://cards.hearthpwn.com/enUS/EX1_573a.png?...   \n",
       "403    https://cards.hearthpwn.com/enUS/EX1_398t.png?...   \n",
       "405    https://cards.hearthpwn.com/enUS/Mekka4.png?14...   \n",
       "439    https://cards.hearthpwn.com/enUS/Mekka2.png?14...   \n",
       "451    https://cards.hearthpwn.com/enUS/EX1_tk11.png?...   \n",
       "485    https://cards.hearthpwn.com/enUS/EX1_164b.png?...   \n",
       "527    https://cards.hearthpwn.com/enUS/ds1_whelptoke...   \n",
       "541    https://cards.hearthpwn.com/enUS/EX1_finkle.pn...   \n",
       "552    https://cards.hearthpwn.com/enUS/Mekka4t.png?1...   \n",
       "582    https://cards.hearthpwn.com/enUS/EX1_345t.png?...   \n",
       "27259  https://cards.hearthpwn.com/enUS/LOEA16_3.png?...   \n",
       "35385  https://cards.hearthpwn.com/enUS/TB_Coopv3_100...   \n",
       "35386  https://cards.hearthpwn.com/enUS/TB_Coopv3_101...   \n",
       "35388  https://cards.hearthpwn.com/enUS/TB_Coopv3_102...   \n",
       "35391  https://cards.hearthpwn.com/enUS/TB_Coopv3_103...   \n",
       "35392  https://cards.hearthpwn.com/enUS/TB_Coopv3_104...   \n",
       "35394  https://cards.hearthpwn.com/enUS/TB_Coopv3_105...   \n",
       "52584  https://cards.hearthpwn.com/enUS/UNG_940t8.png...   \n",
       "63171  https://cards.hearthpwn.com/enUS/ICCA09_001t1....   \n",
       "63177  https://cards.hearthpwn.com/enUS/ICCA11_001.pn...   \n",
       "\n",
       "                                               card_text  \\\n",
       "id                                                         \n",
       "21                                                   NaN   \n",
       "53                                                   NaN   \n",
       "58                                 Gain 2 Mana Crystals.   \n",
       "63                                                   NaN   \n",
       "141                  Gain 1 Mana Crystal this turn only.   \n",
       "159                   Summon two 2/2 Treants with Taunt.   \n",
       "204                             Give your minions +1/+1.   \n",
       "219                                Summon a 3/2 Panther.   \n",
       "231                                 Give a minion +1/+1.   \n",
       "240    At the end of your turn, give a random minion ...   \n",
       "318                                                  NaN   \n",
       "354                                                  NaN   \n",
       "358                       Give your other minions +2/+2.   \n",
       "403                                                  NaN   \n",
       "405    At the start of your turn, transform a random ...   \n",
       "439    At the end of your turn, restore 6 Health to a...   \n",
       "451                                                Taunt   \n",
       "485                                        Draw 3 cards.   \n",
       "527                                                  NaN   \n",
       "541                                                  NaN   \n",
       "552                                         Hey Chicken!   \n",
       "582     Mindgames whiffed! Your opponent had no minions!   \n",
       "27259                             Give a minion +10/+10.   \n",
       "35385  Whenever any player targets this minion with a...   \n",
       "35386             At the end of your turn, switch sides.   \n",
       "35388  Choose One - Each player draws 2 cards; or Res...   \n",
       "35391      Whenever ANY player plays a card, gain +1/+1.   \n",
       "35392  Battlecry: Give all other minions +2/+2, excep...   \n",
       "35394  Whenever your hero is healed, also heal your t...   \n",
       "52584       TauntBattlecry: Set yourhero's Health to 40.   \n",
       "63171  At the start of your turn, restore 3 Health to...   \n",
       "63177  Deathrattle: Add a Knights of the Frozen Thron...   \n",
       "\n",
       "                                             flavor_text     type     class  \\\n",
       "id                                                                            \n",
       "21                                                   NaN   minion       NaN   \n",
       "53                                                   NaN   weapon   paladin   \n",
       "58                                                   NaN  ability     druid   \n",
       "63                                                   NaN   minion       NaN   \n",
       "141    Whether you spend it or save it, it's always t...  ability       NaN   \n",
       "159                                                  NaN  ability     druid   \n",
       "204                                                  NaN  ability     druid   \n",
       "219                                                  NaN  ability     druid   \n",
       "231                                                  NaN  ability       NaN   \n",
       "240                                                  NaN   minion       NaN   \n",
       "318                                                  NaN   minion   paladin   \n",
       "354                                                  NaN   minion       NaN   \n",
       "358                                                  NaN  ability     druid   \n",
       "403                                                  NaN   weapon   warrior   \n",
       "405                                                  NaN   minion       NaN   \n",
       "439                                                  NaN   minion       NaN   \n",
       "451                                                  NaN   minion    shaman   \n",
       "485                                                  NaN  ability     druid   \n",
       "527                                                  NaN   minion       NaN   \n",
       "541                                                  NaN   minion       NaN   \n",
       "552                                                  NaN   minion       NaN   \n",
       "582                                                  NaN   minion    priest   \n",
       "27259                                                NaN  ability       NaN   \n",
       "35385                                                NaN   minion       NaN   \n",
       "35386                                                NaN   minion       NaN   \n",
       "35388                                                NaN  ability    priest   \n",
       "35391                                                NaN   minion       NaN   \n",
       "35392                                                NaN   minion       NaN   \n",
       "35394                                                NaN   minion       NaN   \n",
       "52584                                                NaN   minion    priest   \n",
       "63171                                                NaN   minion       NaN   \n",
       "63177                                                NaN   minion       NaN   \n",
       "\n",
       "      rarity                           set        race  \\\n",
       "id                                                       \n",
       "21       NaN                        legacy         NaN   \n",
       "53       NaN                        legacy         NaN   \n",
       "58       NaN                        legacy         NaN   \n",
       "63       NaN                        legacy         NaN   \n",
       "141      NaN                   core (2022)         NaN   \n",
       "159      NaN                        legacy         NaN   \n",
       "204      NaN                        legacy         NaN   \n",
       "219      NaN                        legacy         NaN   \n",
       "231      NaN                        legacy         NaN   \n",
       "240      NaN                  hall of fame  mechanical   \n",
       "318      NaN                        legacy         NaN   \n",
       "354      NaN                        legacy       beast   \n",
       "358      NaN                        legacy         NaN   \n",
       "403      NaN                        legacy         NaN   \n",
       "405      NaN                  hall of fame  mechanical   \n",
       "439      NaN                  hall of fame  mechanical   \n",
       "451      NaN                        legacy         NaN   \n",
       "485      NaN                        legacy         NaN   \n",
       "527      NaN                        legacy      dragon   \n",
       "541      NaN                        legacy         NaN   \n",
       "552      NaN                  hall of fame       beast   \n",
       "582      NaN                        legacy         NaN   \n",
       "27259    NaN       the league of explorers         NaN   \n",
       "35385    NaN                  tavern brawl         NaN   \n",
       "35386    NaN                  tavern brawl         NaN   \n",
       "35388    NaN                  tavern brawl         NaN   \n",
       "35391    NaN                  tavern brawl         NaN   \n",
       "35392    NaN                  tavern brawl         NaN   \n",
       "35394    NaN                  tavern brawl         NaN   \n",
       "52584    NaN            journey to un'goro         NaN   \n",
       "63171    NaN  knights of the frozen throne         NaN   \n",
       "63177    NaN  knights of the frozen throne         NaN   \n",
       "\n",
       "                                      raw_attributes  \n",
       "id                                                    \n",
       "21                                                {}  \n",
       "53                                                {}  \n",
       "58                                                {}  \n",
       "63                                                {}  \n",
       "141                                               {}  \n",
       "159                                          {Taunt}  \n",
       "204                                               {}  \n",
       "219                                               {}  \n",
       "231                                               {}  \n",
       "240                                               {}  \n",
       "318                                               {}  \n",
       "354                                               {}  \n",
       "358                                               {}  \n",
       "403                                               {}  \n",
       "405                                               {}  \n",
       "439                                               {}  \n",
       "451                                          {Taunt}  \n",
       "485                                               {}  \n",
       "527                                               {}  \n",
       "541                                               {}  \n",
       "552                                               {}  \n",
       "582                                               {}  \n",
       "27259                                             {}  \n",
       "35385                                             {}  \n",
       "35386                                             {}  \n",
       "35388                               {\"Choose One -\"}  \n",
       "35391                                             {}  \n",
       "35392                              {Battlecry:,Boss}  \n",
       "35394                                             {}  \n",
       "52584                             {Taunt,Battlecry:}  \n",
       "63171                                             {}  \n",
       "63177  {Deathrattle:,\"Knights of the Frozen Throne\"}  "
      ]
     },
     "execution_count": 29,
     "metadata": {},
     "output_type": "execute_result"
    }
   ],
   "source": [
    "_ = dfp_cards.iloc[:,:10][dfp_cards[\"rarity\"].isna()]\n",
    "print(len(_))\n",
    "_.sort_index()"
   ]
  },
  {
   "cell_type": "code",
   "execution_count": 30,
   "id": "b7856e9b",
   "metadata": {
    "execution": {
     "iopub.execute_input": "2022-10-29T00:26:11.596103Z",
     "iopub.status.busy": "2022-10-29T00:26:11.595802Z",
     "iopub.status.idle": "2022-10-29T00:26:22.576304Z",
     "shell.execute_reply": "2022-10-29T00:26:22.575474Z"
    },
    "papermill": {
     "duration": 11.035841,
     "end_time": "2022-10-29T00:26:22.578149",
     "exception": false,
     "start_time": "2022-10-29T00:26:11.542308",
     "status": "completed"
    },
    "tags": []
   },
   "outputs": [
    {
     "data": {
      "text/plain": [
       "62"
      ]
     },
     "execution_count": 30,
     "metadata": {},
     "output_type": "execute_result"
    }
   ],
   "source": [
    "df, deck_key = dfp_train, \"cards\"\n",
    "(df.explode(deck_key).merge(dfp_cards[\"rarity\"], left_on=deck_key, right_index=True, how='left')[\"rarity\"].isna()).sum()"
   ]
  },
  {
   "cell_type": "code",
   "execution_count": 31,
   "id": "6437a7dc",
   "metadata": {
    "execution": {
     "iopub.execute_input": "2022-10-29T00:26:22.683921Z",
     "iopub.status.busy": "2022-10-29T00:26:22.683368Z",
     "iopub.status.idle": "2022-10-29T00:26:22.735057Z",
     "shell.execute_reply": "2022-10-29T00:26:22.734140Z"
    },
    "papermill": {
     "duration": 0.106554,
     "end_time": "2022-10-29T00:26:22.736914",
     "exception": false,
     "start_time": "2022-10-29T00:26:22.630360",
     "status": "completed"
    },
    "tags": []
   },
   "outputs": [
    {
     "data": {
      "text/plain": [
       "0"
      ]
     },
     "execution_count": 31,
     "metadata": {},
     "output_type": "execute_result"
    }
   ],
   "source": [
    "df, deck_key = dfp_test, \"cards_incomplete\"\n",
    "(df.explode(deck_key).merge(dfp_cards[\"rarity\"], left_on=deck_key, right_index=True)[\"rarity\"].isna()).sum()"
   ]
  },
  {
   "cell_type": "markdown",
   "id": "9e17f34d",
   "metadata": {
    "papermill": {
     "duration": 0.092864,
     "end_time": "2022-10-29T00:26:22.882066",
     "exception": false,
     "start_time": "2022-10-29T00:26:22.789202",
     "status": "completed"
    },
    "tags": []
   },
   "source": [
    "As no test decks have said invalid cards, we're dropping both the cards in the card set and the corresponding decks in the train set"
   ]
  },
  {
   "cell_type": "code",
   "execution_count": 32,
   "id": "efbad71c",
   "metadata": {
    "execution": {
     "iopub.execute_input": "2022-10-29T00:26:22.988080Z",
     "iopub.status.busy": "2022-10-29T00:26:22.987517Z",
     "iopub.status.idle": "2022-10-29T00:26:24.170879Z",
     "shell.execute_reply": "2022-10-29T00:26:24.170097Z"
    },
    "papermill": {
     "duration": 1.238651,
     "end_time": "2022-10-29T00:26:24.172861",
     "exception": false,
     "start_time": "2022-10-29T00:26:22.934210",
     "status": "completed"
    },
    "tags": []
   },
   "outputs": [],
   "source": [
    "invalid_cards = set(dfp_cards.index[dfp_cards[\"rarity\"].isna()])\n",
    "should_delete = dfp_train[\"cards\"].apply(lambda deck: len(set(deck) & invalid_cards) > 0)"
   ]
  },
  {
   "cell_type": "code",
   "execution_count": 33,
   "id": "a06c442e",
   "metadata": {
    "execution": {
     "iopub.execute_input": "2022-10-29T00:26:24.278845Z",
     "iopub.status.busy": "2022-10-29T00:26:24.278120Z",
     "iopub.status.idle": "2022-10-29T00:26:24.283938Z",
     "shell.execute_reply": "2022-10-29T00:26:24.283334Z"
    },
    "papermill": {
     "duration": 0.060108,
     "end_time": "2022-10-29T00:26:24.285543",
     "exception": false,
     "start_time": "2022-10-29T00:26:24.225435",
     "status": "completed"
    },
    "tags": []
   },
   "outputs": [
    {
     "data": {
      "text/plain": [
       "20"
      ]
     },
     "execution_count": 33,
     "metadata": {},
     "output_type": "execute_result"
    }
   ],
   "source": [
    "# how many decks will be dropped? (we know it's <= 62)\n",
    "should_delete.sum()"
   ]
  },
  {
   "cell_type": "code",
   "execution_count": 34,
   "id": "55983d9f",
   "metadata": {
    "execution": {
     "iopub.execute_input": "2022-10-29T00:26:24.390658Z",
     "iopub.status.busy": "2022-10-29T00:26:24.390124Z",
     "iopub.status.idle": "2022-10-29T00:26:24.394053Z",
     "shell.execute_reply": "2022-10-29T00:26:24.393505Z"
    },
    "papermill": {
     "duration": 0.058182,
     "end_time": "2022-10-29T00:26:24.395660",
     "exception": false,
     "start_time": "2022-10-29T00:26:24.337478",
     "status": "completed"
    },
    "tags": []
   },
   "outputs": [],
   "source": [
    "def idx_value(series, value=True):\n",
    "    return series[series == value].index.to_list()"
   ]
  },
  {
   "cell_type": "code",
   "execution_count": 35,
   "id": "c7158c5d",
   "metadata": {
    "execution": {
     "iopub.execute_input": "2022-10-29T00:26:24.501330Z",
     "iopub.status.busy": "2022-10-29T00:26:24.500769Z",
     "iopub.status.idle": "2022-10-29T00:26:24.505964Z",
     "shell.execute_reply": "2022-10-29T00:26:24.505402Z"
    },
    "papermill": {
     "duration": 0.060111,
     "end_time": "2022-10-29T00:26:24.507703",
     "exception": false,
     "start_time": "2022-10-29T00:26:24.447592",
     "status": "completed"
    },
    "tags": []
   },
   "outputs": [],
   "source": [
    "should_delete_idxs = idx_value(should_delete)"
   ]
  },
  {
   "cell_type": "code",
   "execution_count": 36,
   "id": "52b3f275",
   "metadata": {
    "execution": {
     "iopub.execute_input": "2022-10-29T00:26:24.613124Z",
     "iopub.status.busy": "2022-10-29T00:26:24.612564Z",
     "iopub.status.idle": "2022-10-29T00:26:24.621977Z",
     "shell.execute_reply": "2022-10-29T00:26:24.621016Z"
    },
    "papermill": {
     "duration": 0.063942,
     "end_time": "2022-10-29T00:26:24.623711",
     "exception": false,
     "start_time": "2022-10-29T00:26:24.559769",
     "status": "completed"
    },
    "tags": []
   },
   "outputs": [
    {
     "name": "stdout",
     "output_type": "stream",
     "text": [
      "0 [21, 21]\n",
      "1 [53, 318, 439]\n",
      "2 [405]\n",
      "12 [53, 231, 231, 405, 439, 439, 527, 527]\n",
      "17 [53, 63, 63, 141, 141, 541, 552]\n",
      "22 [582]\n",
      "24 [451]\n",
      "25 [240, 403, 439]\n",
      "26 [58, 159, 159, 204, 204, 219, 358, 358, 485, 485]\n",
      "27 [354]\n",
      "28 [240]\n",
      "29 [53]\n",
      "30 [53]\n",
      "32 [141, 141]\n",
      "35 [354]\n",
      "190226 [27259, 27259]\n",
      "423883 [52584]\n",
      "518533 [63171, 63171, 63171, 63171, 63171, 63171, 63177, 63177]\n",
      "555759 [35385, 35386, 35391, 35392]\n",
      "555762 [35388, 35388, 35392, 35394]\n"
     ]
    }
   ],
   "source": [
    "for idx in should_delete_idxs:\n",
    "    deck = dfp_train.loc[idx][\"cards\"]\n",
    "    print(idx, [card for card in deck if card in invalid_cards])"
   ]
  },
  {
   "cell_type": "code",
   "execution_count": 37,
   "id": "153cb040",
   "metadata": {
    "execution": {
     "iopub.execute_input": "2022-10-29T00:26:24.729308Z",
     "iopub.status.busy": "2022-10-29T00:26:24.729011Z",
     "iopub.status.idle": "2022-10-29T00:26:24.781123Z",
     "shell.execute_reply": "2022-10-29T00:26:24.780164Z"
    },
    "papermill": {
     "duration": 0.107176,
     "end_time": "2022-10-29T00:26:24.782988",
     "exception": false,
     "start_time": "2022-10-29T00:26:24.675812",
     "status": "completed"
    },
    "tags": []
   },
   "outputs": [
    {
     "name": "stdout",
     "output_type": "stream",
     "text": [
      "Before 606917 rows\n",
      "After 606897 rows\n"
     ]
    }
   ],
   "source": [
    "print(\"Before\",len(dfp_train),\"rows\")\n",
    "dfp_train.drop(index=should_delete_idxs, inplace=True)\n",
    "print(\"After\",len(dfp_train),\"rows\")"
   ]
  },
  {
   "cell_type": "code",
   "execution_count": 38,
   "id": "17a72545",
   "metadata": {
    "execution": {
     "iopub.execute_input": "2022-10-29T00:26:24.890475Z",
     "iopub.status.busy": "2022-10-29T00:26:24.890186Z",
     "iopub.status.idle": "2022-10-29T00:26:24.896814Z",
     "shell.execute_reply": "2022-10-29T00:26:24.895915Z"
    },
    "papermill": {
     "duration": 0.062435,
     "end_time": "2022-10-29T00:26:24.898433",
     "exception": false,
     "start_time": "2022-10-29T00:26:24.835998",
     "status": "completed"
    },
    "tags": []
   },
   "outputs": [
    {
     "name": "stdout",
     "output_type": "stream",
     "text": [
      "Before 2628 rows\n",
      "After 2596 rows\n"
     ]
    }
   ],
   "source": [
    "print(\"Before\",len(dfp_cards),\"rows\")\n",
    "dfp_cards.drop(index=list(invalid_cards), inplace=True)\n",
    "print(\"After\",len(dfp_cards),\"rows\")"
   ]
  },
  {
   "cell_type": "markdown",
   "id": "526c8a3c",
   "metadata": {
    "papermill": {
     "duration": 0.052546,
     "end_time": "2022-10-29T00:26:25.003137",
     "exception": false,
     "start_time": "2022-10-29T00:26:24.950591",
     "status": "completed"
    },
    "tags": []
   },
   "source": [
    "## Fix class and race \"missing\" values\n",
    "\n",
    "They're not missing, cards without a class are available to all classes and 'bandless' is another kind of race in itself"
   ]
  },
  {
   "cell_type": "code",
   "execution_count": 39,
   "id": "db6d9bb4",
   "metadata": {
    "execution": {
     "iopub.execute_input": "2022-10-29T00:26:25.110540Z",
     "iopub.status.busy": "2022-10-29T00:26:25.110012Z",
     "iopub.status.idle": "2022-10-29T00:26:25.115176Z",
     "shell.execute_reply": "2022-10-29T00:26:25.114396Z"
    },
    "papermill": {
     "duration": 0.060568,
     "end_time": "2022-10-29T00:26:25.116682",
     "exception": false,
     "start_time": "2022-10-29T00:26:25.056114",
     "status": "completed"
    },
    "tags": []
   },
   "outputs": [],
   "source": [
    "dfp_cards[\"class\"].fillna(\"all\", inplace=True)\n",
    "dfp_cards[\"race\"].fillna(\"no_class\", inplace=True)"
   ]
  },
  {
   "cell_type": "code",
   "execution_count": 40,
   "id": "63afc421",
   "metadata": {
    "execution": {
     "iopub.execute_input": "2022-10-29T00:26:25.223057Z",
     "iopub.status.busy": "2022-10-29T00:26:25.222495Z",
     "iopub.status.idle": "2022-10-29T00:26:25.230269Z",
     "shell.execute_reply": "2022-10-29T00:26:25.229693Z"
    },
    "papermill": {
     "duration": 0.062435,
     "end_time": "2022-10-29T00:26:25.231918",
     "exception": false,
     "start_time": "2022-10-29T00:26:25.169483",
     "status": "completed"
    },
    "tags": []
   },
   "outputs": [
    {
     "data": {
      "text/plain": [
       "all        928\n",
       "druid      198\n",
       "paladin    197\n",
       "priest     192\n",
       "mage       188\n",
       "warlock    186\n",
       "hunter     185\n",
       "rogue      179\n",
       "shaman     178\n",
       "warrior    165\n",
       "Name: class, dtype: int64"
      ]
     },
     "execution_count": 40,
     "metadata": {},
     "output_type": "execute_result"
    }
   ],
   "source": [
    "# fix class names\n",
    "dfp_cards[\"class\"] = dfp_cards[\"class\"].apply(lambda text: text.strip())\n",
    "dfp_cards[\"class\"].value_counts()"
   ]
  },
  {
   "cell_type": "markdown",
   "id": "f5685a6f",
   "metadata": {
    "papermill": {
     "duration": 0.052614,
     "end_time": "2022-10-29T00:26:25.336556",
     "exception": false,
     "start_time": "2022-10-29T00:26:25.283942",
     "status": "completed"
    },
    "tags": []
   },
   "source": [
    "## Decks shouldn't have more than 2 copies of each card if common, or 1 if legendary"
   ]
  },
  {
   "cell_type": "code",
   "execution_count": 41,
   "id": "a0bc3890",
   "metadata": {
    "execution": {
     "iopub.execute_input": "2022-10-29T00:26:25.444183Z",
     "iopub.status.busy": "2022-10-29T00:26:25.443885Z",
     "iopub.status.idle": "2022-10-29T00:26:25.448866Z",
     "shell.execute_reply": "2022-10-29T00:26:25.448024Z"
    },
    "papermill": {
     "duration": 0.060432,
     "end_time": "2022-10-29T00:26:25.450532",
     "exception": false,
     "start_time": "2022-10-29T00:26:25.390100",
     "status": "completed"
    },
    "tags": []
   },
   "outputs": [],
   "source": [
    "dfp_cards[\"max_count\"] = 2 - (dfp_cards[\"rarity\"]==\"legendary\")"
   ]
  },
  {
   "cell_type": "code",
   "execution_count": 42,
   "id": "af9fbd71",
   "metadata": {
    "execution": {
     "iopub.execute_input": "2022-10-29T00:26:25.557272Z",
     "iopub.status.busy": "2022-10-29T00:26:25.556534Z",
     "iopub.status.idle": "2022-10-29T00:26:25.613550Z",
     "shell.execute_reply": "2022-10-29T00:26:25.612499Z"
    },
    "papermill": {
     "duration": 0.11216,
     "end_time": "2022-10-29T00:26:25.615260",
     "exception": false,
     "start_time": "2022-10-29T00:26:25.503100",
     "status": "completed"
    },
    "tags": []
   },
   "outputs": [
    {
     "name": "stdout",
     "output_type": "stream",
     "text": [
      "CPU times: user 45.2 ms, sys: 20 µs, total: 45.2 ms\n",
      "Wall time: 48.7 ms\n"
     ]
    },
    {
     "data": {
      "text/plain": [
       "exceeding    5\n",
       "dtype: int64"
      ]
     },
     "execution_count": 42,
     "metadata": {},
     "output_type": "execute_result"
    }
   ],
   "source": [
    "%%time\n",
    "_ = (\n",
    "    df[[\"deckid\",\"hero\",deck_key]]\n",
    "    .explode(deck_key)\n",
    "    .groupby([\"deckid\",deck_key])\n",
    "    .size()\n",
    "    .rename(\"count\")\n",
    "    .reset_index()\n",
    "    .merge(dfp_cards[\"max_count\"], right_index=True, left_on=deck_key)\n",
    ")\n",
    "\n",
    "_[\"exceeding\"] = _[\"count\"] - _[\"max_count\"]\n",
    "\n",
    "(_.groupby(\"deckid\").agg({\"exceeding\":np.max}) > 0).sum()"
   ]
  },
  {
   "cell_type": "code",
   "execution_count": 43,
   "id": "f6de28c0",
   "metadata": {
    "execution": {
     "iopub.execute_input": "2022-10-29T00:26:25.722738Z",
     "iopub.status.busy": "2022-10-29T00:26:25.722029Z",
     "iopub.status.idle": "2022-10-29T00:26:44.983401Z",
     "shell.execute_reply": "2022-10-29T00:26:44.982425Z"
    },
    "papermill": {
     "duration": 19.317297,
     "end_time": "2022-10-29T00:26:44.985683",
     "exception": false,
     "start_time": "2022-10-29T00:26:25.668386",
     "status": "completed"
    },
    "tags": []
   },
   "outputs": [
    {
     "name": "stdout",
     "output_type": "stream",
     "text": [
      "exceeding    5585\n",
      "dtype: int64\n",
      "exceeding    5\n",
      "dtype: int64\n"
     ]
    }
   ],
   "source": [
    "# How many count-restriction-violating decks are in each set?\n",
    "invalid_decks = []\n",
    "for df, deck_key in ((dfp_train, \"cards\"), (dfp_test, \"cards_incomplete\")):\n",
    "    _ = (\n",
    "        df[[\"deckid\",\"hero\",deck_key]]\n",
    "        .explode(deck_key)\n",
    "        .groupby([\"deckid\",deck_key])\n",
    "        .size()\n",
    "        .rename(\"count\")\n",
    "        .reset_index()\n",
    "        .merge(dfp_cards[\"max_count\"], right_index=True, left_on=deck_key)\n",
    "    )\n",
    "\n",
    "    _[\"exceeding\"] = _[\"count\"] - _[\"max_count\"]\n",
    "    \n",
    "    deck_is_exceeded = _.groupby(\"deckid\").agg({\"exceeding\":np.max}) > 0\n",
    "    assert deck_is_exceeded.index.nunique() == df[\"deckid\"].nunique()\n",
    "    \n",
    "    # sort by df order of appearance\n",
    "    invalid_decks.append(deck_is_exceeded[\"exceeding\"].loc[df[\"deckid\"]])\n",
    "    print(deck_is_exceeded.sum())"
   ]
  },
  {
   "cell_type": "code",
   "execution_count": 44,
   "id": "c238f7bf",
   "metadata": {
    "execution": {
     "iopub.execute_input": "2022-10-29T00:26:45.092815Z",
     "iopub.status.busy": "2022-10-29T00:26:45.092404Z",
     "iopub.status.idle": "2022-10-29T00:26:45.111417Z",
     "shell.execute_reply": "2022-10-29T00:26:45.110543Z"
    },
    "papermill": {
     "duration": 0.074039,
     "end_time": "2022-10-29T00:26:45.113192",
     "exception": false,
     "start_time": "2022-10-29T00:26:45.039153",
     "status": "completed"
    },
    "tags": []
   },
   "outputs": [
    {
     "name": "stdout",
     "output_type": "stream",
     "text": [
      "Class: ROGUE\n",
      "Edwin VanCleef                 x1\trogue\tlegacy\n",
      "Boulderfist Ogre               x2\tall\thall of fame\n",
      "Molten Giant                   x1\tall\tlegacy\n",
      "Priestess of Elune             x1\tall\tlegacy\n",
      "Imp Master                     x1\tall\tlegacy\n",
      "Sunwalker                      x1\tall\tlegacy\n",
      "Mind Control Tech              x1\tall\tlegacy\n",
      "Defias Ringleader              x2\trogue\tlegacy\n",
      "Knife Juggler                  x1\tall\tlegacy\n",
      "Leper Gnome                    x2\tall\tlegacy\n",
      "Goldshire Footman              x1\tall\thall of fame\n",
      "Abomination                    x2\tall\tlegacy\n",
      "Emperor Cobra                  x1\tall\tlegacy\n",
      "Windfury Harpy                 x2\tall\tlegacy\n",
      "Assassinate                    x1\trogue\tcore (2022)\n",
      "Cairne Bloodhoof               x1\tall\tcore (2022)\n",
      "Crazed Alchemist               x1\tall\tcore (2022)\n",
      "Assassin's Blade               x1\trogue\tcore (2022)\n",
      "Backstab                       x2\trogue\tcore (2022)\n",
      "Raid Leader                    x1\tall\tcore (2022)\n",
      "Stormwind Champion             x2\tall\tcore (2022)\n",
      "Acolyte of Pain                x2\tall\tcore (2022)\n"
     ]
    }
   ],
   "source": [
    "# prepare a deck printer utility function just in case\n",
    "def print_deck(row):\n",
    "    print(\"Class:\",row[\"hero\"].upper())\n",
    "    card_list_key = \"cards\" if \"cards\" in row else \"cards_incomplete\"\n",
    "    for card_id, count in Counter(row[card_list_key]).items():\n",
    "        card_info = dfp_cards.loc[card_id]\n",
    "        print(f'{card_info[\"name\"]:<30} x{count}\\t{card_info[\"class\"]}\\t{card_info[\"set\"]}')\n",
    "        \n",
    "# show usage\n",
    "print_deck(dfp_train.loc[10])"
   ]
  },
  {
   "cell_type": "code",
   "execution_count": 45,
   "id": "3ea2ecb2",
   "metadata": {
    "execution": {
     "iopub.execute_input": "2022-10-29T00:26:45.219740Z",
     "iopub.status.busy": "2022-10-29T00:26:45.219232Z",
     "iopub.status.idle": "2022-10-29T00:26:45.270274Z",
     "shell.execute_reply": "2022-10-29T00:26:45.269655Z"
    },
    "papermill": {
     "duration": 0.105871,
     "end_time": "2022-10-29T00:26:45.271914",
     "exception": false,
     "start_time": "2022-10-29T00:26:45.166043",
     "status": "completed"
    },
    "tags": []
   },
   "outputs": [
    {
     "data": {
      "text/plain": [
       "(True, True)"
      ]
     },
     "execution_count": 45,
     "metadata": {},
     "output_type": "execute_result"
    }
   ],
   "source": [
    "all(invalid_decks[0].index == dfp_train[\"deckid\"]), all(invalid_decks[1].index == dfp_test[\"deckid\"])"
   ]
  },
  {
   "cell_type": "code",
   "execution_count": 46,
   "id": "ec424a9c",
   "metadata": {
    "execution": {
     "iopub.execute_input": "2022-10-29T00:26:45.382566Z",
     "iopub.status.busy": "2022-10-29T00:26:45.381831Z",
     "iopub.status.idle": "2022-10-29T00:26:45.388096Z",
     "shell.execute_reply": "2022-10-29T00:26:45.387452Z"
    },
    "papermill": {
     "duration": 0.062784,
     "end_time": "2022-10-29T00:26:45.389704",
     "exception": false,
     "start_time": "2022-10-29T00:26:45.326920",
     "status": "completed"
    },
    "tags": []
   },
   "outputs": [
    {
     "data": {
      "text/plain": [
       "5"
      ]
     },
     "execution_count": 46,
     "metadata": {},
     "output_type": "execute_result"
    }
   ],
   "source": [
    "(invalid_decks[1] == True).sum()"
   ]
  },
  {
   "cell_type": "code",
   "execution_count": 47,
   "id": "25c18d32",
   "metadata": {
    "execution": {
     "iopub.execute_input": "2022-10-29T00:26:45.499265Z",
     "iopub.status.busy": "2022-10-29T00:26:45.498950Z",
     "iopub.status.idle": "2022-10-29T00:26:45.505943Z",
     "shell.execute_reply": "2022-10-29T00:26:45.505142Z"
    },
    "papermill": {
     "duration": 0.062723,
     "end_time": "2022-10-29T00:26:45.507678",
     "exception": false,
     "start_time": "2022-10-29T00:26:45.444955",
     "status": "completed"
    },
    "tags": []
   },
   "outputs": [
    {
     "data": {
      "text/plain": [
       "deckid\n",
       "90509acf-14b3-46c2-baab-94226b4f1ae5    False\n",
       "edbc7193-15d8-4d63-813a-8b02896aebaf    False\n",
       "3e1e5712-c7de-4e4b-83b0-639fbeedd98f    False\n",
       "27037494-cbdc-4f25-a479-a6d266361f07    False\n",
       "6a307895-2441-4ebf-9653-6b54e2e0111b    False\n",
       "                                        ...  \n",
       "b99e946f-502e-4ed3-b76b-2001408602f1    False\n",
       "950ad114-5fda-41b9-a469-3d1da5be356d    False\n",
       "cc5f646c-299d-4347-9099-381fe0fe7b21    False\n",
       "e9fe9eef-3201-4df0-9342-faaa305f3553    False\n",
       "1411bcc7-5a34-41a3-af2f-c4548121e69c    False\n",
       "Name: exceeding, Length: 2221, dtype: bool"
      ]
     },
     "execution_count": 47,
     "metadata": {},
     "output_type": "execute_result"
    }
   ],
   "source": [
    "invalid_decks[1]"
   ]
  },
  {
   "cell_type": "code",
   "execution_count": 48,
   "id": "5228f9ad",
   "metadata": {
    "execution": {
     "iopub.execute_input": "2022-10-29T00:26:45.616260Z",
     "iopub.status.busy": "2022-10-29T00:26:45.615745Z",
     "iopub.status.idle": "2022-10-29T00:26:45.621438Z",
     "shell.execute_reply": "2022-10-29T00:26:45.620841Z"
    },
    "papermill": {
     "duration": 0.061643,
     "end_time": "2022-10-29T00:26:45.623060",
     "exception": false,
     "start_time": "2022-10-29T00:26:45.561417",
     "status": "completed"
    },
    "tags": []
   },
   "outputs": [
    {
     "data": {
      "text/plain": [
       "['440bf874-8794-4835-93a8-3665679722be',\n",
       " '828065fe-1a84-41f1-a62f-61c9b21156de',\n",
       " '2aeb9838-345d-44b2-b7a2-3af2f5359e8e',\n",
       " 'dbed33f5-3fe5-4a5f-96b5-8f49a49c8038',\n",
       " 'c4396398-14ce-4161-820a-7070ac716ef5']"
      ]
     },
     "execution_count": 48,
     "metadata": {},
     "output_type": "execute_result"
    }
   ],
   "source": [
    "idx_value(invalid_decks[1],True)"
   ]
  },
  {
   "cell_type": "code",
   "execution_count": 49,
   "id": "dc2631ee",
   "metadata": {
    "execution": {
     "iopub.execute_input": "2022-10-29T00:26:45.730739Z",
     "iopub.status.busy": "2022-10-29T00:26:45.730252Z",
     "iopub.status.idle": "2022-10-29T00:26:45.755436Z",
     "shell.execute_reply": "2022-10-29T00:26:45.754750Z"
    },
    "papermill": {
     "duration": 0.081077,
     "end_time": "2022-10-29T00:26:45.757310",
     "exception": false,
     "start_time": "2022-10-29T00:26:45.676233",
     "status": "completed"
    },
    "tags": []
   },
   "outputs": [
    {
     "name": "stdout",
     "output_type": "stream",
     "text": [
      "Class: MAGE\n",
      "Boulderfist Ogre               x1\tall\thall of fame\n",
      "Sunwalker                      x1\tall\tlegacy\n",
      "War Golem                      x1\tall\thall of fame\n",
      "Dragonling Mechanic            x1\tall\thall of fame\n",
      "Reckless Rocketeer             x1\tall\thall of fame\n",
      "Bloodfen Raptor                x1\tall\thall of fame\n",
      "Arcane Missiles                x1\tmage\thall of fame\n",
      "Frost Elemental                x1\tall\tlegacy\n",
      "Silver Hand Knight             x1\tall\tlegacy\n",
      "Glacial Shard                  x1\tall\tjourney to un'goro\n",
      "Coldwraith                     x1\tmage\tknights of the frozen throne\n",
      "Corpsetaker                    x1\tall\tknights of the frozen throne\n",
      "Fallen Sun Cleric              x3\tall\tknights of the frozen throne\n",
      "Frozen Clone                   x1\tmage\tknights of the frozen throne\n",
      "Dragonslayer                   x1\tall\tkobolds and catacombs\n",
      "Green Jelly                    x1\tall\tkobolds and catacombs\n",
      "Violet Wurm                    x1\tall\tkobolds and catacombs\n",
      "Shrieking Shroom               x1\tall\tkobolds and catacombs\n",
      "Scaleworm                      x1\tall\tthe witchwood\n",
      "Witchwood Grizzly              x1\tall\tthe witchwood\n",
      "Swamp Leech                    x1\tall\tthe witchwood\n",
      "Weaponized Piñata              x1\tall\tthe boomsday project\n",
      "Bull Dozer                     x1\tall\tthe boomsday project\n",
      "Arcane Intellect               x1\tmage\tcore (2022)\n",
      "Shooting Star                  x1\tmage\tcore (2022)\n",
      "Elven Archer                   x1\tall\tcore (2022)\n",
      "Dire Wolf Alpha                x1\tall\tcore (2022)\n",
      "----------------------------------------------------------------------------------------------------\n",
      "Class: WARRIOR\n",
      "Spellbreaker                   x1\tall\tlegacy\n",
      "Harvest Golem                  x1\tall\tlegacy\n",
      "Emperor Cobra                  x1\tall\tlegacy\n",
      "Battle Rage                    x1\twarrior\tlegacy\n",
      "Stegodon                       x1\tall\tjourney to un'goro\n",
      "Ornery Direhorn                x1\twarrior\tjourney to un'goro\n",
      "Tar Lord                       x1\twarrior\tjourney to un'goro\n",
      "Charged Devilsaur              x1\tall\tjourney to un'goro\n",
      "Hoarding Dragon                x1\tall\tkobolds and catacombs\n",
      "Master Oakheart                x1\tall\tkobolds and catacombs\n",
      "Cursed Disciple                x1\tall\tkobolds and catacombs\n",
      "Corrosive Sludge               x1\tall\tkobolds and catacombs\n",
      "Shroom Brewer                  x1\tall\tkobolds and catacombs\n",
      "Warpath                        x3\twarrior\tthe witchwood\n",
      "Witchwood Grizzly              x1\tall\tthe witchwood\n",
      "Woodcutter's Axe               x1\twarrior\tthe witchwood\n",
      "Supercollider                  x1\twarrior\tthe boomsday project\n",
      "Dyn-o-matic                    x1\twarrior\tthe boomsday project\n",
      "Steel Rager                    x1\tall\tthe boomsday project\n",
      "Spring Rocket                  x1\tall\tthe boomsday project\n",
      "Microtech Controller           x1\tall\tthe boomsday project\n",
      "Kaboom Bot                     x1\tall\tthe boomsday project\n",
      "Bull Dozer                     x1\tall\tthe boomsday project\n",
      "Gorehowl                       x1\twarrior\tcore (2022)\n",
      "Execute                        x1\twarrior\tcore (2022)\n",
      "Loot Hoarder                   x1\tall\tcore (2022)\n",
      "Wild Pyromancer                x1\tall\tcore (2022)\n",
      "----------------------------------------------------------------------------------------------------\n",
      "Class: DRUID\n",
      "Savage Roar                    x1\tdruid\thall of fame\n",
      "Starfall                       x1\tdruid\tlegacy\n",
      "Venture Co. Mercenary          x1\tall\tlegacy\n",
      "Swipe                          x3\tdruid\thall of fame\n",
      "Living Mana                    x1\tdruid\tjourney to un'goro\n",
      "Evolving Spores                x1\tdruid\tjourney to un'goro\n",
      "Sated Threshadon               x2\tall\tjourney to un'goro\n",
      "Shellshifter                   x1\tdruid\tjourney to un'goro\n",
      "Eggnapper                      x1\tall\tjourney to un'goro\n",
      "Druid of the Swarm             x2\tdruid\tknights of the frozen throne\n",
      "Fungal Enchanter               x1\tall\tkobolds and catacombs\n",
      "Violet Wurm                    x1\tall\tkobolds and catacombs\n",
      "Walnut Sprite                  x1\tall\tthe witchwood\n",
      "Giggling Inventor              x1\tall\tthe boomsday project\n",
      "Gloop Sprayer                  x1\tdruid\tthe boomsday project\n",
      "Mecharoo                       x1\tall\tthe boomsday project\n",
      "Mark of the Wild               x1\tdruid\tcore (2022)\n",
      "Defender of Argus              x1\tall\tcore (2022)\n",
      "Mad Bomber                     x1\tall\tcore (2022)\n",
      "Grim Necromancer               x1\tall\tcore (2022)\n",
      "Murloc Tidehunter              x1\tall\tcore (2022)\n",
      "Stranglethorn Tiger            x1\tall\tcore (2022)\n",
      "Sea Giant                      x1\tall\tcore (2022)\n",
      "Tar Creeper                    x2\tall\tcore (2022)\n",
      "----------------------------------------------------------------------------------------------------\n",
      "Class: ROGUE\n",
      "Cult Master                    x1\tall\tlegacy\n",
      "Sap                            x1\trogue\thall of fame\n",
      "Kidnapper                      x2\trogue\tlegacy\n",
      "Fire Fly                       x1\tall\tjourney to un'goro\n",
      "Vilespine Slayer               x1\trogue\tjourney to un'goro\n",
      "Nesting Roc                    x1\tall\tjourney to un'goro\n",
      "Razorpetal Lasher              x1\trogue\tjourney to un'goro\n",
      "Hallucination                  x2\trogue\tjourney to un'goro\n",
      "Hyldnir Frostrider             x1\tall\tknights of the frozen throne\n",
      "The Lich King                  x1\tall\tknights of the frozen throne\n",
      "Elven Minstrel                 x1\trogue\tkobolds and catacombs\n",
      "Fungalmancer                   x3\tall\tkobolds and catacombs\n",
      "Dragonslayer                   x1\tall\tkobolds and catacombs\n",
      "Pumpkin Peasant                x1\tall\tthe witchwood\n",
      "Cheap Shot                     x1\trogue\tthe witchwood\n",
      "Tanglefur Mystic               x1\tall\tthe witchwood\n",
      "Giggling Inventor              x1\tall\tthe boomsday project\n",
      "Coppertail Imposter            x1\tall\tthe boomsday project\n",
      "Injured Blademaster            x1\tall\tremoved from core\n",
      "Grim Necromancer               x3\tall\tcore (2022)\n",
      "Youthful Brewmaster            x1\tall\tcore (2022)\n",
      "Acolyte of Pain                x1\tall\tcore (2022)\n",
      "Sea Giant                      x1\tall\tcore (2022)\n",
      "----------------------------------------------------------------------------------------------------\n",
      "Class: ROGUE\n",
      "Raging Worgen                  x1\tall\tlegacy\n",
      "Betrayal                       x1\trogue\tlegacy\n",
      "Fan of Knives                  x3\trogue\thall of fame\n",
      "Fen Creeper                    x1\tall\tlegacy\n",
      "Stormwind Knight               x1\tall\thall of fame\n",
      "Spiteful Smith                 x1\tall\tlegacy\n",
      "Bonemare                       x1\tall\tknights of the frozen throne\n",
      "Shadowblade                    x1\trogue\tknights of the frozen throne\n",
      "Tainted Zealot                 x2\tall\tknights of the frozen throne\n",
      "Fal'dorei Strider              x1\trogue\tkobolds and catacombs\n",
      "Cursed Disciple                x1\tall\tkobolds and catacombs\n",
      "Dragonslayer                   x1\tall\tkobolds and catacombs\n",
      "Violet Wurm                    x1\tall\tkobolds and catacombs\n",
      "Pumpkin Peasant                x1\tall\tthe witchwood\n",
      "Cheap Shot                     x1\trogue\tthe witchwood\n",
      "Gilnean Royal Guard            x1\tall\tthe witchwood\n",
      "Blink Fox                      x1\trogue\tthe witchwood\n",
      "Hench-Clan Thug                x1\tall\tthe witchwood\n",
      "Wargear                        x1\tall\tthe boomsday project\n",
      "Zilliax                        x1\tall\tthe boomsday project\n",
      "Giggling Inventor              x1\tall\tthe boomsday project\n",
      "Mecharoo                       x1\tall\tthe boomsday project\n",
      "Bull Dozer                     x1\tall\tthe boomsday project\n",
      "Sprint                         x1\trogue\tcore (2022)\n",
      "Kobold Geomancer               x1\tall\tcore (2022)\n",
      "Youthful Brewmaster            x1\tall\tcore (2022)\n",
      "----------------------------------------------------------------------------------------------------\n"
     ]
    }
   ],
   "source": [
    "# look at the 5 weird decks in the test set\n",
    "aux = dfp_test.set_index(\"deckid\")\n",
    "for deckid in idx_value(invalid_decks[1]):\n",
    "    print_deck(aux.loc[deckid])\n",
    "    print(\"-\"*100)"
   ]
  },
  {
   "cell_type": "markdown",
   "id": "bfdfa7f9",
   "metadata": {
    "papermill": {
     "duration": 0.053425,
     "end_time": "2022-10-29T00:26:45.865958",
     "exception": false,
     "start_time": "2022-10-29T00:26:45.812533",
     "status": "completed"
    },
    "tags": []
   },
   "source": [
    "These aren't the weirdest decks out there since they have a maximum number of 3 copies of a card. We will do as follows:\n",
    "\n",
    "* Drop the restriction-violating decks in the train set\n",
    "* Care that models can handle incomplete decks for which counts exceed 2 as input"
   ]
  },
  {
   "cell_type": "code",
   "execution_count": 50,
   "id": "652827f9",
   "metadata": {
    "execution": {
     "iopub.execute_input": "2022-10-29T00:26:45.974004Z",
     "iopub.status.busy": "2022-10-29T00:26:45.973692Z",
     "iopub.status.idle": "2022-10-29T00:26:46.068269Z",
     "shell.execute_reply": "2022-10-29T00:26:46.067034Z"
    },
    "papermill": {
     "duration": 0.150689,
     "end_time": "2022-10-29T00:26:46.070375",
     "exception": false,
     "start_time": "2022-10-29T00:26:45.919686",
     "status": "completed"
    },
    "tags": []
   },
   "outputs": [
    {
     "name": "stdout",
     "output_type": "stream",
     "text": [
      "Before 606897 rows\n",
      "After 601312 rows\n"
     ]
    }
   ],
   "source": [
    "# drop said rows from train set\n",
    "should_delete = dfp_train.index[dfp_train[\"deckid\"].isin(set(idx_value(invalid_decks[0])))].to_list()\n",
    " \n",
    "print(\"Before\",len(dfp_train),\"rows\")\n",
    "dfp_train.drop(index=should_delete, inplace=True)\n",
    "print(\"After\",len(dfp_train),\"rows\")"
   ]
  },
  {
   "cell_type": "code",
   "execution_count": 51,
   "id": "9fd07f48",
   "metadata": {
    "execution": {
     "iopub.execute_input": "2022-10-29T00:26:46.181011Z",
     "iopub.status.busy": "2022-10-29T00:26:46.180676Z",
     "iopub.status.idle": "2022-10-29T00:26:46.184587Z",
     "shell.execute_reply": "2022-10-29T00:26:46.183743Z"
    },
    "papermill": {
     "duration": 0.060559,
     "end_time": "2022-10-29T00:26:46.186241",
     "exception": false,
     "start_time": "2022-10-29T00:26:46.125682",
     "status": "completed"
    },
    "tags": []
   },
   "outputs": [],
   "source": [
    "# resetting train index\n",
    "dfp_train.reset_index(inplace=True, drop=True)"
   ]
  },
  {
   "cell_type": "markdown",
   "id": "ab3d39b8",
   "metadata": {
    "papermill": {
     "duration": 0.054791,
     "end_time": "2022-10-29T00:26:46.295679",
     "exception": false,
     "start_time": "2022-10-29T00:26:46.240888",
     "status": "completed"
    },
    "tags": []
   },
   "source": [
    "## No decks should have class cards from a different class"
   ]
  },
  {
   "cell_type": "code",
   "execution_count": 52,
   "id": "99d4cc9f",
   "metadata": {
    "execution": {
     "iopub.execute_input": "2022-10-29T00:26:46.406253Z",
     "iopub.status.busy": "2022-10-29T00:26:46.405712Z",
     "iopub.status.idle": "2022-10-29T00:26:46.414214Z",
     "shell.execute_reply": "2022-10-29T00:26:46.412953Z"
    },
    "papermill": {
     "duration": 0.065671,
     "end_time": "2022-10-29T00:26:46.415884",
     "exception": false,
     "start_time": "2022-10-29T00:26:46.350213",
     "status": "completed"
    },
    "tags": []
   },
   "outputs": [
    {
     "name": "stdout",
     "output_type": "stream",
     "text": [
      "Class: ROGUE\n",
      "Coldlight Oracle               x2\tall\tlegacy\n",
      "Blade Flurry                   x1\trogue\tlegacy\n",
      "Fan of Knives                  x1\trogue\thall of fame\n",
      "Eviscerate                     x2\trogue\tlegacy\n",
      "Sap                            x2\trogue\thall of fame\n",
      "Novice Engineer                x1\tall\thall of fame\n",
      "Kidnapper                      x1\trogue\tlegacy\n",
      "Vanish                         x2\trogue\thall of fame\n",
      "Dancing Swords                 x2\tall\tcurse of naxxramas\n",
      "Loatheb                        x1\tall\tcurse of naxxramas\n",
      "Deathlord                      x1\tall\tcurse of naxxramas\n",
      "King Mukla                     x1\tall\tremoved from core\n",
      "SI:7 Agent                     x2\trogue\tcore (2022)\n",
      "Deadly Poison                  x2\trogue\tcore (2022)\n",
      "Shadowstep                     x2\trogue\tcore (2022)\n",
      "Preparation                    x2\trogue\tcore (2022)\n",
      "Backstab                       x2\trogue\tcore (2022)\n",
      "Voodoo Doctor                  x1\tall\tcore (2022)\n",
      "Youthful Brewmaster            x2\tall\tcore (2022)\n"
     ]
    }
   ],
   "source": [
    "print_deck(dfp_train.loc[66914])"
   ]
  },
  {
   "cell_type": "code",
   "execution_count": 53,
   "id": "e5e91306",
   "metadata": {
    "execution": {
     "iopub.execute_input": "2022-10-29T00:26:46.525262Z",
     "iopub.status.busy": "2022-10-29T00:26:46.524938Z",
     "iopub.status.idle": "2022-10-29T00:26:48.527404Z",
     "shell.execute_reply": "2022-10-29T00:26:48.526484Z"
    },
    "papermill": {
     "duration": 2.059557,
     "end_time": "2022-10-29T00:26:48.529290",
     "exception": false,
     "start_time": "2022-10-29T00:26:46.469733",
     "status": "completed"
    },
    "tags": []
   },
   "outputs": [
    {
     "name": "stdout",
     "output_type": "stream",
     "text": [
      "paladin 0\n",
      "shaman 1\n",
      "priest 1\n",
      "rogue 0\n",
      "druid 0\n",
      "warrior 0\n",
      "hunter 0\n",
      "mage 0\n",
      "warlock 1\n"
     ]
    }
   ],
   "source": [
    "df, deck_key = dfp_train, \"cards\"\n",
    "for hero in all_heroes:\n",
    "    cards = df[deck_key][df[\"hero\"]==hero].explode(ignore_index=True).unique()\n",
    "    #print(hero+\":\",*pd.value_counts(dfp_cards[\"class\"].loc[cards]).index.to_list())\n",
    "    allowed_cards = set(idx_value((dfp_cards[\"class\"]==hero) | (dfp_cards[\"class\"]==\"all\")))\n",
    "    _ = sum(card not in allowed_cards for card in cards)\n",
    "    print(hero, _)"
   ]
  },
  {
   "cell_type": "code",
   "execution_count": 54,
   "id": "a430744c",
   "metadata": {
    "execution": {
     "iopub.execute_input": "2022-10-29T00:26:48.638829Z",
     "iopub.status.busy": "2022-10-29T00:26:48.638524Z",
     "iopub.status.idle": "2022-10-29T00:26:48.662799Z",
     "shell.execute_reply": "2022-10-29T00:26:48.661918Z"
    },
    "papermill": {
     "duration": 0.08059,
     "end_time": "2022-10-29T00:26:48.664446",
     "exception": false,
     "start_time": "2022-10-29T00:26:48.583856",
     "status": "completed"
    },
    "tags": []
   },
   "outputs": [
    {
     "name": "stdout",
     "output_type": "stream",
     "text": [
      "paladin 0\n",
      "shaman 0\n",
      "priest 0\n",
      "rogue 0\n",
      "druid 0\n",
      "warrior 0\n",
      "hunter 0\n",
      "mage 0\n",
      "warlock 0\n"
     ]
    }
   ],
   "source": [
    "df, deck_key = dfp_test, \"cards_incomplete\"\n",
    "for hero in all_heroes:\n",
    "    cards = df[deck_key][df[\"hero\"]==hero].explode(ignore_index=True).unique()\n",
    "    #print(hero+\":\",*pd.value_counts(dfp_cards[\"class\"].loc[cards]).index.to_list())\n",
    "    allowed_cards = set(idx_value((dfp_cards[\"class\"]==hero) | (dfp_cards[\"class\"]==\"all\")))\n",
    "    _ = sum(card not in allowed_cards for card in cards)\n",
    "    print(hero, _)"
   ]
  },
  {
   "cell_type": "markdown",
   "id": "b104f8b0",
   "metadata": {
    "papermill": {
     "duration": 0.053126,
     "end_time": "2022-10-29T00:26:48.771182",
     "exception": false,
     "start_time": "2022-10-29T00:26:48.718056",
     "status": "completed"
    },
    "tags": []
   },
   "source": [
    "As there are no cross-class violations in the test set, we will just drop the invalid decks in the train set"
   ]
  },
  {
   "cell_type": "code",
   "execution_count": 55,
   "id": "557abd8d",
   "metadata": {
    "execution": {
     "iopub.execute_input": "2022-10-29T00:26:48.881390Z",
     "iopub.status.busy": "2022-10-29T00:26:48.881082Z",
     "iopub.status.idle": "2022-10-29T00:26:51.599089Z",
     "shell.execute_reply": "2022-10-29T00:26:51.598236Z"
    },
    "papermill": {
     "duration": 2.775102,
     "end_time": "2022-10-29T00:26:51.600962",
     "exception": false,
     "start_time": "2022-10-29T00:26:48.825860",
     "status": "completed"
    },
    "tags": []
   },
   "outputs": [
    {
     "name": "stderr",
     "output_type": "stream",
     "text": [
      "100%|██████████| 9/9 [00:02<00:00,  3.33it/s]\n"
     ]
    },
    {
     "data": {
      "text/plain": [
       "3.0"
      ]
     },
     "execution_count": 55,
     "metadata": {},
     "output_type": "execute_result"
    }
   ],
   "source": [
    "should_delete = np.empty(shape=len(dfp_train))\n",
    "\n",
    "for hero in tqdm(all_heroes):\n",
    "    allowed_cards = set(idx_value((dfp_cards[\"class\"]==hero) | (dfp_cards[\"class\"]==\"all\")))\n",
    "    mask = dfp_train[\"hero\"]==hero\n",
    "    should_delete[mask] = dfp_train.loc[mask][\"cards\"].apply(lambda deck: any(card not in allowed_cards for card in deck))\n",
    "\n",
    "should_delete.sum()"
   ]
  },
  {
   "cell_type": "code",
   "execution_count": 56,
   "id": "5b2adf75",
   "metadata": {
    "execution": {
     "iopub.execute_input": "2022-10-29T00:26:51.712281Z",
     "iopub.status.busy": "2022-10-29T00:26:51.711990Z",
     "iopub.status.idle": "2022-10-29T00:26:51.727482Z",
     "shell.execute_reply": "2022-10-29T00:26:51.726783Z"
    },
    "papermill": {
     "duration": 0.072848,
     "end_time": "2022-10-29T00:26:51.729053",
     "exception": false,
     "start_time": "2022-10-29T00:26:51.656205",
     "status": "completed"
    },
    "tags": []
   },
   "outputs": [
    {
     "name": "stdout",
     "output_type": "stream",
     "text": [
      "Class: WARLOCK\n",
      "Soulfire                       x1\twarlock\thall of fame\n",
      "Piloted Sky Golem              x2\tall\tgoblins vs gnomes\n",
      "Enhance-o Mechano              x2\tall\tgoblins vs gnomes\n",
      "Madder Bomber                  x2\tall\tgoblins vs gnomes\n",
      "Dr. Boom                       x1\tall\tgoblins vs gnomes\n",
      "Blingtron 3000                 x1\tall\tgoblins vs gnomes\n",
      "Upgraded Repair Bot            x2\tpriest\tgoblins vs gnomes\n",
      "Sneed's Old Shredder           x1\tall\tgoblins vs gnomes\n",
      "Mechwarper                     x2\tall\tgoblins vs gnomes\n",
      "Micro Machine                  x2\tall\tgoblins vs gnomes\n",
      "Mimiron's Head                 x1\tall\tgoblins vs gnomes\n",
      "Piloted Shredder               x2\tall\tgoblins vs gnomes\n",
      "Bomb Lobber                    x2\tall\tgoblins vs gnomes\n",
      "Mekgineer Thermaplugg          x1\tall\tgoblins vs gnomes\n",
      "Recombobulator                 x2\tall\tgoblins vs gnomes\n",
      "Annoy-o-Tron                   x2\tall\tcore (2022)\n",
      "Cogmaster                      x2\tall\tremoved from core\n",
      "Explosive Sheep                x2\tall\tcore (2022)\n",
      "----------------------------------------------------------------------------------------------------\n",
      "Class: PRIEST\n",
      "Sylvanas Windrunner            x1\tall\tlegacy\n",
      "Circle of Healing              x2\tpriest\tlegacy\n",
      "Power Word: Shield             x2\tpriest\thall of fame\n",
      "Auchenai Soulpriest            x2\tpriest\tlegacy\n",
      "Nexus-Champion Saraad          x1\tall\tthe grand tournament\n",
      "Justicar Trueheart             x1\tall\tthe grand tournament\n",
      "Entomb                         x2\tpriest\tthe league of explorers\n",
      "C'Thun                         x1\tall\twhispers of the old gods\n",
      "Twilight Elder                 x2\tall\twhispers of the old gods\n",
      "Beckoner of Evil               x2\tall\twhispers of the old gods\n",
      "C'Thun's Chosen                x2\tall\twhispers of the old gods\n",
      "Undercity Huckster             x2\trogue\twhispers of the old gods\n",
      "Injured Blademaster            x2\tall\tremoved from core\n",
      "Shadow Word: Death             x2\tpriest\tcore (2022)\n",
      "Holy Nova                      x2\tpriest\tcore (2022)\n",
      "Northshire Cleric              x2\tpriest\tcore (2022)\n",
      "Azure Drake                    x2\tall\tcore (2022)\n",
      "----------------------------------------------------------------------------------------------------\n",
      "Class: SHAMAN\n",
      "Southsea Deckhand              x2\tall\tlegacy\n",
      "Lava Burst                     x2\tshaman\tlegacy\n",
      "Totem Golem                    x2\tshaman\tthe grand tournament\n",
      "Tunnel Trogg                   x2\tshaman\tthe league of explorers\n",
      "Flamewreathed Faceless         x2\tshaman\twhispers of the old gods\n",
      "Spirit Claws                   x2\tshaman\tone night in karazhan\n",
      "Patches the Pirate             x1\tall\tmean streets of gadgetzan\n",
      "Small-Time Recruits            x2\tpaladin\tmean streets of gadgetzan\n",
      "Aya Blackpaw                   x1\tall\tmean streets of gadgetzan\n",
      "Jade Lightning                 x2\tshaman\tmean streets of gadgetzan\n",
      "Jade Claws                     x2\tshaman\tmean streets of gadgetzan\n",
      "Feral Spirit                   x2\tshaman\tcore (2022)\n",
      "Bloodmage Thalnos              x1\tall\tcore (2022)\n",
      "Doomhammer                     x1\tshaman\tcore (2022)\n",
      "Lightning Bolt                 x2\tshaman\tcore (2022)\n",
      "Flametongue Totem              x2\tshaman\tcore (2022)\n",
      "Maelstrom Portal               x1\tshaman\tcore (2022)\n",
      "Sir Finley Mrrgglton           x1\tall\tcore (2022)\n",
      "----------------------------------------------------------------------------------------------------\n"
     ]
    }
   ],
   "source": [
    "for x in np.where(should_delete)[0]:\n",
    "    print_deck(dfp_train.loc[x])\n",
    "    print(\"-\"*100)"
   ]
  },
  {
   "cell_type": "code",
   "execution_count": 57,
   "id": "0f19625d",
   "metadata": {
    "execution": {
     "iopub.execute_input": "2022-10-29T00:26:51.840186Z",
     "iopub.status.busy": "2022-10-29T00:26:51.839908Z",
     "iopub.status.idle": "2022-10-29T00:26:51.892822Z",
     "shell.execute_reply": "2022-10-29T00:26:51.892112Z"
    },
    "papermill": {
     "duration": 0.110761,
     "end_time": "2022-10-29T00:26:51.894691",
     "exception": false,
     "start_time": "2022-10-29T00:26:51.783930",
     "status": "completed"
    },
    "tags": []
   },
   "outputs": [
    {
     "name": "stdout",
     "output_type": "stream",
     "text": [
      "Before 601312 rows\n",
      "After 601309 rows\n"
     ]
    }
   ],
   "source": [
    "print(\"Before\",len(dfp_train),\"rows\")\n",
    "dfp_train.drop(index=np.where(should_delete)[0], inplace=True)\n",
    "print(\"After\",len(dfp_train),\"rows\")"
   ]
  },
  {
   "cell_type": "markdown",
   "id": "9bcad77b",
   "metadata": {
    "papermill": {
     "duration": 0.055346,
     "end_time": "2022-10-29T00:26:52.005669",
     "exception": false,
     "start_time": "2022-10-29T00:26:51.950323",
     "status": "completed"
    },
    "tags": []
   },
   "source": [
    "## Sanitizing card sets"
   ]
  },
  {
   "cell_type": "code",
   "execution_count": 58,
   "id": "cf5f0a3b",
   "metadata": {
    "execution": {
     "iopub.execute_input": "2022-10-29T00:26:52.118347Z",
     "iopub.status.busy": "2022-10-29T00:26:52.118029Z",
     "iopub.status.idle": "2022-10-29T00:26:52.124156Z",
     "shell.execute_reply": "2022-10-29T00:26:52.123468Z"
    },
    "papermill": {
     "duration": 0.064497,
     "end_time": "2022-10-29T00:26:52.125753",
     "exception": false,
     "start_time": "2022-10-29T00:26:52.061256",
     "status": "completed"
    },
    "tags": []
   },
   "outputs": [
    {
     "data": {
      "text/plain": [
       "{'ashes of outland',\n",
       " 'blackrock mountain',\n",
       " 'core (2022)',\n",
       " 'curse of naxxramas',\n",
       " 'darkmoon faire',\n",
       " 'descent of dragons',\n",
       " 'forged in the barrens',\n",
       " 'fractured in alterac valley',\n",
       " \"galakrond's awakening\",\n",
       " 'goblins vs gnomes',\n",
       " 'hall of fame',\n",
       " \"journey to un'goro\",\n",
       " 'knights of the frozen throne',\n",
       " 'kobolds and catacombs',\n",
       " 'legacy',\n",
       " 'mean streets of gadgetzan',\n",
       " 'missions',\n",
       " 'one night in karazhan',\n",
       " \"rastakhan's rumble\",\n",
       " 'removed from core',\n",
       " 'rise of shadows',\n",
       " 'saviors of uldum',\n",
       " 'scholomance academy',\n",
       " 'the boomsday project',\n",
       " 'the grand tournament',\n",
       " 'the league of explorers',\n",
       " 'the witchwood',\n",
       " 'united in stormwind',\n",
       " 'voyage to the sunken city',\n",
       " 'whispers of the old gods'}"
      ]
     },
     "execution_count": 58,
     "metadata": {},
     "output_type": "execute_result"
    }
   ],
   "source": [
    "card_sets = set(dfp_cards[\"set\"])\n",
    "card_sets"
   ]
  },
  {
   "cell_type": "code",
   "execution_count": 59,
   "id": "69509d01",
   "metadata": {
    "execution": {
     "iopub.execute_input": "2022-10-29T00:26:52.237248Z",
     "iopub.status.busy": "2022-10-29T00:26:52.236943Z",
     "iopub.status.idle": "2022-10-29T00:26:52.257959Z",
     "shell.execute_reply": "2022-10-29T00:26:52.257166Z"
    },
    "papermill": {
     "duration": 0.078418,
     "end_time": "2022-10-29T00:26:52.259536",
     "exception": false,
     "start_time": "2022-10-29T00:26:52.181118",
     "status": "completed"
    },
    "tags": []
   },
   "outputs": [
    {
     "data": {
      "text/html": [
       "<div>\n",
       "<style scoped>\n",
       "    .dataframe tbody tr th:only-of-type {\n",
       "        vertical-align: middle;\n",
       "    }\n",
       "\n",
       "    .dataframe tbody tr th {\n",
       "        vertical-align: top;\n",
       "    }\n",
       "\n",
       "    .dataframe thead th {\n",
       "        text-align: right;\n",
       "    }\n",
       "</style>\n",
       "<table border=\"1\" class=\"dataframe\">\n",
       "  <thead>\n",
       "    <tr style=\"text-align: right;\">\n",
       "      <th></th>\n",
       "      <th>name</th>\n",
       "      <th>img</th>\n",
       "      <th>card_text</th>\n",
       "      <th>flavor_text</th>\n",
       "      <th>type</th>\n",
       "      <th>class</th>\n",
       "      <th>rarity</th>\n",
       "      <th>set</th>\n",
       "      <th>race</th>\n",
       "      <th>raw_attributes</th>\n",
       "      <th>...</th>\n",
       "      <th>is_lifesteal_card</th>\n",
       "      <th>is_freeze_card</th>\n",
       "      <th>is_discover_card</th>\n",
       "      <th>is_windfury_card</th>\n",
       "      <th>is_echo_card</th>\n",
       "      <th>is_secret_card</th>\n",
       "      <th>cost</th>\n",
       "      <th>attack</th>\n",
       "      <th>health</th>\n",
       "      <th>max_count</th>\n",
       "    </tr>\n",
       "    <tr>\n",
       "      <th>id</th>\n",
       "      <th></th>\n",
       "      <th></th>\n",
       "      <th></th>\n",
       "      <th></th>\n",
       "      <th></th>\n",
       "      <th></th>\n",
       "      <th></th>\n",
       "      <th></th>\n",
       "      <th></th>\n",
       "      <th></th>\n",
       "      <th></th>\n",
       "      <th></th>\n",
       "      <th></th>\n",
       "      <th></th>\n",
       "      <th></th>\n",
       "      <th></th>\n",
       "      <th></th>\n",
       "      <th></th>\n",
       "      <th></th>\n",
       "      <th></th>\n",
       "      <th></th>\n",
       "    </tr>\n",
       "  </thead>\n",
       "  <tbody>\n",
       "    <tr>\n",
       "      <th>408</th>\n",
       "      <td>Druid of the Claw</td>\n",
       "      <td>https://cards.hearthpwn.com/enUS/EX1_165t1.png...</td>\n",
       "      <td>Rush</td>\n",
       "      <td>NaN</td>\n",
       "      <td>minion</td>\n",
       "      <td>druid</td>\n",
       "      <td>common</td>\n",
       "      <td>legacy</td>\n",
       "      <td>beast</td>\n",
       "      <td>{Rush}</td>\n",
       "      <td>...</td>\n",
       "      <td>False</td>\n",
       "      <td>False</td>\n",
       "      <td>False</td>\n",
       "      <td>False</td>\n",
       "      <td>False</td>\n",
       "      <td>False</td>\n",
       "      <td>5</td>\n",
       "      <td>5</td>\n",
       "      <td>4</td>\n",
       "      <td>2</td>\n",
       "    </tr>\n",
       "    <tr>\n",
       "      <th>474988</th>\n",
       "      <td>Druid of the Claw</td>\n",
       "      <td>https://cards.hearthpwn.com/enUS/CORE_EX1_165....</td>\n",
       "      <td>Choose One - Transforminto a 5/4 with Rush;or ...</td>\n",
       "      <td>Cat or Bear? Cat or Bear?! I just cannot CHOOSE!</td>\n",
       "      <td>minion</td>\n",
       "      <td>druid</td>\n",
       "      <td>common</td>\n",
       "      <td>core (2022)</td>\n",
       "      <td>no_class</td>\n",
       "      <td>{\"Choose One -\",Rush,Taunt}</td>\n",
       "      <td>...</td>\n",
       "      <td>False</td>\n",
       "      <td>False</td>\n",
       "      <td>False</td>\n",
       "      <td>False</td>\n",
       "      <td>False</td>\n",
       "      <td>False</td>\n",
       "      <td>5</td>\n",
       "      <td>5</td>\n",
       "      <td>4</td>\n",
       "      <td>2</td>\n",
       "    </tr>\n",
       "    <tr>\n",
       "      <th>45</th>\n",
       "      <td>Druid of the Claw</td>\n",
       "      <td>https://cards.hearthpwn.com/enUS/EX1_165t2.png...</td>\n",
       "      <td>Taunt</td>\n",
       "      <td>NaN</td>\n",
       "      <td>minion</td>\n",
       "      <td>druid</td>\n",
       "      <td>common</td>\n",
       "      <td>legacy</td>\n",
       "      <td>beast</td>\n",
       "      <td>{Taunt}</td>\n",
       "      <td>...</td>\n",
       "      <td>False</td>\n",
       "      <td>False</td>\n",
       "      <td>False</td>\n",
       "      <td>False</td>\n",
       "      <td>False</td>\n",
       "      <td>False</td>\n",
       "      <td>5</td>\n",
       "      <td>5</td>\n",
       "      <td>6</td>\n",
       "      <td>2</td>\n",
       "    </tr>\n",
       "    <tr>\n",
       "      <th>650</th>\n",
       "      <td>Mirror Image</td>\n",
       "      <td>https://cards.hearthpwn.com/enUS/CS2_mirror.pn...</td>\n",
       "      <td>Taunt</td>\n",
       "      <td>NaN</td>\n",
       "      <td>minion</td>\n",
       "      <td>mage</td>\n",
       "      <td>common</td>\n",
       "      <td>hall of fame</td>\n",
       "      <td>no_class</td>\n",
       "      <td>{Taunt}</td>\n",
       "      <td>...</td>\n",
       "      <td>False</td>\n",
       "      <td>False</td>\n",
       "      <td>False</td>\n",
       "      <td>False</td>\n",
       "      <td>False</td>\n",
       "      <td>False</td>\n",
       "      <td>0</td>\n",
       "      <td>0</td>\n",
       "      <td>2</td>\n",
       "      <td>2</td>\n",
       "    </tr>\n",
       "    <tr>\n",
       "      <th>475049</th>\n",
       "      <td>Pursuit of Justice</td>\n",
       "      <td>https://cards.hearthpwn.com/enUS/CS3_029.png?1...</td>\n",
       "      <td>Give +1 Attack to Silver Hand Recruits you sum...</td>\n",
       "      <td>\"Is this about justice or just us?\"</td>\n",
       "      <td>ability</td>\n",
       "      <td>paladin</td>\n",
       "      <td>epic</td>\n",
       "      <td>hall of fame</td>\n",
       "      <td>no_class</td>\n",
       "      <td>{}</td>\n",
       "      <td>...</td>\n",
       "      <td>False</td>\n",
       "      <td>False</td>\n",
       "      <td>False</td>\n",
       "      <td>False</td>\n",
       "      <td>False</td>\n",
       "      <td>False</td>\n",
       "      <td>2</td>\n",
       "      <td>0</td>\n",
       "      <td>0</td>\n",
       "      <td>2</td>\n",
       "    </tr>\n",
       "    <tr>\n",
       "      <th>1024945</th>\n",
       "      <td>Pursuit of Justice</td>\n",
       "      <td>https://cards.hearthpwn.com/enUS/CORE_CS3_029....</td>\n",
       "      <td>Give +1 Attack to Silver Hand Recruits you sum...</td>\n",
       "      <td>\"Is this about justice or just us?\"</td>\n",
       "      <td>ability</td>\n",
       "      <td>paladin</td>\n",
       "      <td>epic</td>\n",
       "      <td>removed from core</td>\n",
       "      <td>no_class</td>\n",
       "      <td>{}</td>\n",
       "      <td>...</td>\n",
       "      <td>False</td>\n",
       "      <td>False</td>\n",
       "      <td>False</td>\n",
       "      <td>False</td>\n",
       "      <td>False</td>\n",
       "      <td>False</td>\n",
       "      <td>2</td>\n",
       "      <td>0</td>\n",
       "      <td>0</td>\n",
       "      <td>2</td>\n",
       "    </tr>\n",
       "    <tr>\n",
       "      <th>30</th>\n",
       "      <td>Mirror Image</td>\n",
       "      <td>https://cards.hearthpwn.com/enUS/CS2_027.png?1...</td>\n",
       "      <td>Summon two 0/2 minions with Taunt.</td>\n",
       "      <td>Oh hey it's Mirror Image! !egamI rorriM s'ti y...</td>\n",
       "      <td>ability</td>\n",
       "      <td>mage</td>\n",
       "      <td>free</td>\n",
       "      <td>hall of fame</td>\n",
       "      <td>no_class</td>\n",
       "      <td>{Taunt}</td>\n",
       "      <td>...</td>\n",
       "      <td>False</td>\n",
       "      <td>False</td>\n",
       "      <td>False</td>\n",
       "      <td>False</td>\n",
       "      <td>False</td>\n",
       "      <td>False</td>\n",
       "      <td>1</td>\n",
       "      <td>0</td>\n",
       "      <td>0</td>\n",
       "      <td>2</td>\n",
       "    </tr>\n",
       "  </tbody>\n",
       "</table>\n",
       "<p>7 rows × 30 columns</p>\n",
       "</div>"
      ],
      "text/plain": [
       "                       name  \\\n",
       "id                            \n",
       "408       Druid of the Claw   \n",
       "474988    Druid of the Claw   \n",
       "45        Druid of the Claw   \n",
       "650            Mirror Image   \n",
       "475049   Pursuit of Justice   \n",
       "1024945  Pursuit of Justice   \n",
       "30             Mirror Image   \n",
       "\n",
       "                                                       img  \\\n",
       "id                                                           \n",
       "408      https://cards.hearthpwn.com/enUS/EX1_165t1.png...   \n",
       "474988   https://cards.hearthpwn.com/enUS/CORE_EX1_165....   \n",
       "45       https://cards.hearthpwn.com/enUS/EX1_165t2.png...   \n",
       "650      https://cards.hearthpwn.com/enUS/CS2_mirror.pn...   \n",
       "475049   https://cards.hearthpwn.com/enUS/CS3_029.png?1...   \n",
       "1024945  https://cards.hearthpwn.com/enUS/CORE_CS3_029....   \n",
       "30       https://cards.hearthpwn.com/enUS/CS2_027.png?1...   \n",
       "\n",
       "                                                 card_text  \\\n",
       "id                                                           \n",
       "408                                                   Rush   \n",
       "474988   Choose One - Transforminto a 5/4 with Rush;or ...   \n",
       "45                                                   Taunt   \n",
       "650                                                  Taunt   \n",
       "475049   Give +1 Attack to Silver Hand Recruits you sum...   \n",
       "1024945  Give +1 Attack to Silver Hand Recruits you sum...   \n",
       "30                      Summon two 0/2 minions with Taunt.   \n",
       "\n",
       "                                               flavor_text     type    class  \\\n",
       "id                                                                             \n",
       "408                                                    NaN   minion    druid   \n",
       "474988    Cat or Bear? Cat or Bear?! I just cannot CHOOSE!   minion    druid   \n",
       "45                                                     NaN   minion    druid   \n",
       "650                                                    NaN   minion     mage   \n",
       "475049                 \"Is this about justice or just us?\"  ability  paladin   \n",
       "1024945                \"Is this about justice or just us?\"  ability  paladin   \n",
       "30       Oh hey it's Mirror Image! !egamI rorriM s'ti y...  ability     mage   \n",
       "\n",
       "         rarity                set      race               raw_attributes  \\\n",
       "id                                                                          \n",
       "408      common             legacy     beast                       {Rush}   \n",
       "474988   common        core (2022)  no_class  {\"Choose One -\",Rush,Taunt}   \n",
       "45       common             legacy     beast                      {Taunt}   \n",
       "650      common       hall of fame  no_class                      {Taunt}   \n",
       "475049     epic       hall of fame  no_class                           {}   \n",
       "1024945    epic  removed from core  no_class                           {}   \n",
       "30         free       hall of fame  no_class                      {Taunt}   \n",
       "\n",
       "         ...  is_lifesteal_card  is_freeze_card  is_discover_card  \\\n",
       "id       ...                                                        \n",
       "408      ...              False           False             False   \n",
       "474988   ...              False           False             False   \n",
       "45       ...              False           False             False   \n",
       "650      ...              False           False             False   \n",
       "475049   ...              False           False             False   \n",
       "1024945  ...              False           False             False   \n",
       "30       ...              False           False             False   \n",
       "\n",
       "         is_windfury_card  is_echo_card  is_secret_card  cost  attack  health  \\\n",
       "id                                                                              \n",
       "408                 False         False           False     5       5       4   \n",
       "474988              False         False           False     5       5       4   \n",
       "45                  False         False           False     5       5       6   \n",
       "650                 False         False           False     0       0       2   \n",
       "475049              False         False           False     2       0       0   \n",
       "1024945             False         False           False     2       0       0   \n",
       "30                  False         False           False     1       0       0   \n",
       "\n",
       "         max_count  \n",
       "id                  \n",
       "408              2  \n",
       "474988           2  \n",
       "45               2  \n",
       "650              2  \n",
       "475049           2  \n",
       "1024945          2  \n",
       "30               2  \n",
       "\n",
       "[7 rows x 30 columns]"
      ]
     },
     "execution_count": 59,
     "metadata": {},
     "output_type": "execute_result"
    }
   ],
   "source": [
    "# core sets produce duplicates, are there any here?\n",
    "dfp_cards[dfp_cards[\"name\"].duplicated(keep=False)]"
   ]
  },
  {
   "cell_type": "code",
   "execution_count": 60,
   "id": "373fc587",
   "metadata": {
    "execution": {
     "iopub.execute_input": "2022-10-29T00:26:52.372022Z",
     "iopub.status.busy": "2022-10-29T00:26:52.371705Z",
     "iopub.status.idle": "2022-10-29T00:26:52.387604Z",
     "shell.execute_reply": "2022-10-29T00:26:52.386641Z"
    },
    "papermill": {
     "duration": 0.073294,
     "end_time": "2022-10-29T00:26:52.389293",
     "exception": false,
     "start_time": "2022-10-29T00:26:52.315999",
     "status": "completed"
    },
    "tags": []
   },
   "outputs": [
    {
     "data": {
      "text/plain": [
       "0"
      ]
     },
     "execution_count": 60,
     "metadata": {},
     "output_type": "execute_result"
    }
   ],
   "source": [
    "sum(dfp_cards.duplicated())"
   ]
  },
  {
   "cell_type": "code",
   "execution_count": 61,
   "id": "1d37a19c",
   "metadata": {
    "execution": {
     "iopub.execute_input": "2022-10-29T00:26:52.502683Z",
     "iopub.status.busy": "2022-10-29T00:26:52.502341Z",
     "iopub.status.idle": "2022-10-29T00:26:52.510716Z",
     "shell.execute_reply": "2022-10-29T00:26:52.509916Z"
    },
    "papermill": {
     "duration": 0.067042,
     "end_time": "2022-10-29T00:26:52.512343",
     "exception": false,
     "start_time": "2022-10-29T00:26:52.445301",
     "status": "completed"
    },
    "tags": []
   },
   "outputs": [
    {
     "data": {
      "text/plain": [
       "id\n",
       "475011               Clockwork Giant\n",
       "475159                Natalie Seline\n",
       "474980                Ancient of War\n",
       "475036             Guardian of Kings\n",
       "475115                Coldarra Drake\n",
       "475006                Dread Infernal\n",
       "474994     High Inquisitor Whitemane\n",
       "463947               Earth Elemental\n",
       "475190           Gurubashi Berserker\n",
       "463944              Menagerie Warden\n",
       "475158               Temple Enforcer\n",
       "474997               Baron Rivendare\n",
       "475067           Draenei Totemcarver\n",
       "475123               Water Elemental\n",
       "474999                    Brightwing\n",
       "475090                     Bearshark\n",
       "475161          Earthen Ring Farseer\n",
       "475163             Flesheating Ghoul\n",
       "475166                     Ice Rager\n",
       "474998                    King Mukla\n",
       "475031           Injured Blademaster\n",
       "475146                    Lightspawn\n",
       "475001                     Mini-Mage\n",
       "475180            Stoneskin Basilisk\n",
       "475177                   Spider Tank\n",
       "475140             Warsong Commander\n",
       "475068             Unbound Elemental\n",
       "475135                   Fallen Hero\n",
       "475104              Patient Assassin\n",
       "475191               River Crocolisk\n",
       "475095              Scavenging Hyena\n",
       "475194                  Toxicologist\n",
       "475114                Bladed Cultist\n",
       "475164                Arcane Anomaly\n",
       "475167                 Argent Squire\n",
       "474978               Enchanted Raven\n",
       "475170                     Cogmaster\n",
       "475027            Possessed Villager\n",
       "475105                    Webspinner\n",
       "475043               Young Priestess\n",
       "475008                   Landscaping\n",
       "475126                 Mirror Entity\n",
       "475050                    Holy Light\n",
       "1024945           Pursuit of Justice\n",
       "475125                    Shadowform\n",
       "475071                      Windfury\n",
       "475110                 Lock and Load\n",
       "1024940               Ritual of Doom\n",
       "475100          Headhunter's Hatchet\n",
       "Name: name, dtype: object"
      ]
     },
     "execution_count": 61,
     "metadata": {},
     "output_type": "execute_result"
    }
   ],
   "source": [
    "dfp_cards.loc[dfp_cards[\"set\"]=='removed from core',\"name\"]"
   ]
  },
  {
   "cell_type": "markdown",
   "id": "57c333e3",
   "metadata": {
    "papermill": {
     "duration": 0.055551,
     "end_time": "2022-10-29T00:26:52.623319",
     "exception": false,
     "start_time": "2022-10-29T00:26:52.567768",
     "status": "completed"
    },
    "tags": []
   },
   "source": [
    "* There are multiple Pursuit of justice instances + only one of the 'removed from the core' cards is here, meaning that other cards' sets are actually mislabelled. For example, Baron Rivendare belongs in the Naxxramas set and River Crocolisk is a classic/legacy card.\n",
    "* Mirror Image has both the spell and the minion present\n",
    "* Druid of the claw 3 instances match the card and both of its transformations (which are not playable cards)"
   ]
  },
  {
   "cell_type": "code",
   "execution_count": 62,
   "id": "5b1b71fd",
   "metadata": {
    "execution": {
     "iopub.execute_input": "2022-10-29T00:26:52.735030Z",
     "iopub.status.busy": "2022-10-29T00:26:52.734720Z",
     "iopub.status.idle": "2022-10-29T00:26:52.746214Z",
     "shell.execute_reply": "2022-10-29T00:26:52.745346Z"
    },
    "papermill": {
     "duration": 0.069332,
     "end_time": "2022-10-29T00:26:52.747977",
     "exception": false,
     "start_time": "2022-10-29T00:26:52.678645",
     "status": "completed"
    },
    "tags": []
   },
   "outputs": [],
   "source": [
    "launch_dates = {'ashes of outland': datetime(2020,4,7),\n",
    " 'blackrock mountain': datetime(2015,4,2),\n",
    " 'core (2022)': datetime(2022,4,12), # this is special (cards already existed)\n",
    " 'curse of naxxramas': datetime(2014, 7,22),\n",
    " 'darkmoon faire': datetime(2020,11,17),\n",
    " 'descent of dragons': datetime(2019,12,10),\n",
    " 'forged in the barrens': datetime(2021,3,30),\n",
    " 'fractured in alterac valley': datetime(2021,12,7),\n",
    " \"galakrond's awakening\": datetime(2020,1,21),\n",
    " 'goblins vs gnomes': datetime(2014,12,8),\n",
    " 'hall of fame': datetime(2017,4,4), # this is special (cards already existed)\n",
    " \"journey to un'goro\": datetime(2017,4,6),\n",
    " 'knights of the frozen throne': datetime(2017,8,10),\n",
    " 'kobolds and catacombs': datetime(2017,12,7),\n",
    " 'legacy': datetime(2014,3,11), # using the original set date, not when it got renamed\n",
    " 'mean streets of gadgetzan': datetime(2016,12,1),\n",
    " 'missions': dfp_train[\"update_date\"].min(), # placeholder date\n",
    " 'one night in karazhan': datetime(2016,8,11),\n",
    " \"rastakhan's rumble\": datetime(2018,12,4),\n",
    " 'removed from core': datetime(2021,4,12), # this is special (cards already existed)\n",
    " 'rise of shadows': datetime(2019,4,9),\n",
    " 'saviors of uldum': datetime(2019,8,6),\n",
    " 'scholomance academy': datetime(2020,8,6),\n",
    " 'tavern brawl': datetime(2020,2,20), #  placeholder date, this is neither wild nor standard\n",
    " 'the boomsday project': datetime(2018,8,7),\n",
    " 'the grand tournament': datetime(2015,8,24),\n",
    " 'the league of explorers': datetime(2015,11,12),\n",
    " 'the witchwood': datetime(2018,4,12),\n",
    " 'united in stormwind': datetime(2021,8,3),\n",
    " 'voyage to the sunken city': datetime(2022,4,12),\n",
    " 'whispers of the old gods': datetime(2016,4,26)\n",
    "}"
   ]
  },
  {
   "cell_type": "code",
   "execution_count": 63,
   "id": "a2a7fc89",
   "metadata": {
    "execution": {
     "iopub.execute_input": "2022-10-29T00:26:52.859368Z",
     "iopub.status.busy": "2022-10-29T00:26:52.859059Z",
     "iopub.status.idle": "2022-10-29T00:26:52.865142Z",
     "shell.execute_reply": "2022-10-29T00:26:52.864603Z"
    },
    "papermill": {
     "duration": 0.063613,
     "end_time": "2022-10-29T00:26:52.866595",
     "exception": false,
     "start_time": "2022-10-29T00:26:52.802982",
     "status": "completed"
    },
    "tags": []
   },
   "outputs": [
    {
     "data": {
      "text/plain": [
       "{105, 299, 404, 441, 443, 494, 586, 606, 622}"
      ]
     },
     "execution_count": 63,
     "metadata": {},
     "output_type": "execute_result"
    }
   ],
   "source": [
    "mission_cards = set(dfp_cards.loc[dfp_cards[\"set\"]=='missions'].index.to_list())\n",
    "mission_cards"
   ]
  },
  {
   "cell_type": "code",
   "execution_count": 64,
   "id": "ef50e9c5",
   "metadata": {
    "execution": {
     "iopub.execute_input": "2022-10-29T00:26:52.978840Z",
     "iopub.status.busy": "2022-10-29T00:26:52.978558Z",
     "iopub.status.idle": "2022-10-29T00:26:55.743218Z",
     "shell.execute_reply": "2022-10-29T00:26:55.742584Z"
    },
    "papermill": {
     "duration": 2.822639,
     "end_time": "2022-10-29T00:26:55.744834",
     "exception": false,
     "start_time": "2022-10-29T00:26:52.922195",
     "status": "completed"
    },
    "tags": []
   },
   "outputs": [
    {
     "name": "stderr",
     "output_type": "stream",
     "text": [
      "100%|██████████| 601309/601309 [00:02<00:00, 230716.68it/s]\n"
     ]
    },
    {
     "data": {
      "text/html": [
       "<div>\n",
       "<style scoped>\n",
       "    .dataframe tbody tr th:only-of-type {\n",
       "        vertical-align: middle;\n",
       "    }\n",
       "\n",
       "    .dataframe tbody tr th {\n",
       "        vertical-align: top;\n",
       "    }\n",
       "\n",
       "    .dataframe thead th {\n",
       "        text-align: right;\n",
       "    }\n",
       "</style>\n",
       "<table border=\"1\" class=\"dataframe\">\n",
       "  <thead>\n",
       "    <tr style=\"text-align: right;\">\n",
       "      <th></th>\n",
       "      <th>cards</th>\n",
       "      <th>update_date</th>\n",
       "    </tr>\n",
       "  </thead>\n",
       "  <tbody>\n",
       "    <tr>\n",
       "      <th>8</th>\n",
       "      <td>[105, 622]</td>\n",
       "      <td>2013-05-24</td>\n",
       "    </tr>\n",
       "    <tr>\n",
       "      <th>9</th>\n",
       "      <td>[105, 622]</td>\n",
       "      <td>2013-05-24</td>\n",
       "    </tr>\n",
       "    <tr>\n",
       "      <th>10</th>\n",
       "      <td>[105, 622]</td>\n",
       "      <td>2013-05-24</td>\n",
       "    </tr>\n",
       "    <tr>\n",
       "      <th>11</th>\n",
       "      <td>[622, 622]</td>\n",
       "      <td>2013-05-24</td>\n",
       "    </tr>\n",
       "    <tr>\n",
       "      <th>15</th>\n",
       "      <td>[622, 622]</td>\n",
       "      <td>2013-05-24</td>\n",
       "    </tr>\n",
       "  </tbody>\n",
       "</table>\n",
       "</div>"
      ],
      "text/plain": [
       "         cards update_date\n",
       "8   [105, 622]  2013-05-24\n",
       "9   [105, 622]  2013-05-24\n",
       "10  [105, 622]  2013-05-24\n",
       "11  [622, 622]  2013-05-24\n",
       "15  [622, 622]  2013-05-24"
      ]
     },
     "execution_count": 64,
     "metadata": {},
     "output_type": "execute_result"
    }
   ],
   "source": [
    "_ = dfp_train[\"cards\"].progress_apply(lambda cards: [x for x in cards if x in mission_cards])\n",
    "decks_with_mission_cards = (_[np.array([len(x) for x in _]) > 0]\n",
    "                            .to_frame()\n",
    "                            .merge(dfp_train[\"update_date\"],left_index=True, right_index=True))\n",
    "decks_with_mission_cards"
   ]
  },
  {
   "cell_type": "code",
   "execution_count": 65,
   "id": "ff1849aa",
   "metadata": {
    "execution": {
     "iopub.execute_input": "2022-10-29T00:26:55.859602Z",
     "iopub.status.busy": "2022-10-29T00:26:55.859286Z",
     "iopub.status.idle": "2022-10-29T00:26:55.865683Z",
     "shell.execute_reply": "2022-10-29T00:26:55.864859Z"
    },
    "papermill": {
     "duration": 0.065814,
     "end_time": "2022-10-29T00:26:55.867327",
     "exception": false,
     "start_time": "2022-10-29T00:26:55.801513",
     "status": "completed"
    },
    "tags": []
   },
   "outputs": [
    {
     "data": {
      "text/plain": [
       "27"
      ]
     },
     "execution_count": 65,
     "metadata": {},
     "output_type": "execute_result"
    }
   ],
   "source": [
    "max([len(x) for x in dfp_cards[\"name\"]])"
   ]
  },
  {
   "cell_type": "code",
   "execution_count": 66,
   "id": "ca5e87d7",
   "metadata": {
    "execution": {
     "iopub.execute_input": "2022-10-29T00:26:55.983231Z",
     "iopub.status.busy": "2022-10-29T00:26:55.982446Z",
     "iopub.status.idle": "2022-10-29T00:26:56.015602Z",
     "shell.execute_reply": "2022-10-29T00:26:56.014719Z"
    },
    "papermill": {
     "duration": 0.093969,
     "end_time": "2022-10-29T00:26:56.017377",
     "exception": false,
     "start_time": "2022-10-29T00:26:55.923408",
     "status": "completed"
    },
    "tags": []
   },
   "outputs": [
    {
     "name": "stderr",
     "output_type": "stream",
     "text": [
      "100%|██████████| 2221/2221 [00:00<00:00, 300987.05it/s]\n"
     ]
    },
    {
     "data": {
      "text/plain": [
       "Series([], Name: cards_incomplete, dtype: object)"
      ]
     },
     "execution_count": 66,
     "metadata": {},
     "output_type": "execute_result"
    }
   ],
   "source": [
    "# check that no mission cards are present in the test set: they shouldn't! They belong to the beta release\n",
    "_ = dfp_test[\"cards_incomplete\"].progress_apply(lambda cards: [x for x in cards if x in mission_cards])\n",
    "_[np.array([len(x) for x in _]) > 0]"
   ]
  },
  {
   "cell_type": "code",
   "execution_count": 67,
   "id": "25a79fbe",
   "metadata": {
    "execution": {
     "iopub.execute_input": "2022-10-29T00:26:56.134021Z",
     "iopub.status.busy": "2022-10-29T00:26:56.133373Z",
     "iopub.status.idle": "2022-10-29T00:26:56.813651Z",
     "shell.execute_reply": "2022-10-29T00:26:56.812664Z"
    },
    "papermill": {
     "duration": 0.740286,
     "end_time": "2022-10-29T00:26:56.815404",
     "exception": false,
     "start_time": "2022-10-29T00:26:56.075118",
     "status": "completed"
    },
    "tags": []
   },
   "outputs": [
    {
     "name": "stderr",
     "output_type": "stream",
     "text": [
      "100%|██████████| 2221/2221 [00:00<00:00, 3439.70it/s]\n"
     ]
    },
    {
     "data": {
      "text/plain": [
       "Counter({'legacy': 7070,\n",
       "         'hall of fame': 4950,\n",
       "         'mean streets of gadgetzan': 886,\n",
       "         \"journey to un'goro\": 6066,\n",
       "         'kobolds and catacombs': 7896,\n",
       "         'core (2022)': 16595,\n",
       "         'knights of the frozen throne': 4014,\n",
       "         'the witchwood': 4228,\n",
       "         'the boomsday project': 8006,\n",
       "         'goblins vs gnomes': 899,\n",
       "         'removed from core': 1223,\n",
       "         'curse of naxxramas': 369,\n",
       "         'whispers of the old gods': 935,\n",
       "         'the grand tournament': 519,\n",
       "         'the league of explorers': 252,\n",
       "         'one night in karazhan': 249,\n",
       "         'blackrock mountain': 269,\n",
       "         'missions': 1,\n",
       "         \"rastakhan's rumble\": 1,\n",
       "         'united in stormwind': 1,\n",
       "         'voyage to the sunken city': 1,\n",
       "         'scholomance academy': 1,\n",
       "         'rise of shadows': 1,\n",
       "         'forged in the barrens': 1,\n",
       "         \"galakrond's awakening\": 1,\n",
       "         'fractured in alterac valley': 1,\n",
       "         'darkmoon faire': 1,\n",
       "         'descent of dragons': 1,\n",
       "         'ashes of outland': 1,\n",
       "         'saviors of uldum': 1})"
      ]
     },
     "execution_count": 67,
     "metadata": {},
     "output_type": "execute_result"
    }
   ],
   "source": [
    "# number of cards for each set\n",
    "_ = dfp_test[\"cards_incomplete\"].progress_apply(lambda cards: Counter([dfp_cards.loc[card, \"set\"] for card in cards]))\n",
    "_ = sum(_,Counter())\n",
    "\n",
    "# There's a +1 shift so that card sets that are not represented in the test set show here with a count of 1\n",
    "test_set_counts = _ + Counter(card_sets)\n",
    "test_set_counts"
   ]
  },
  {
   "cell_type": "code",
   "execution_count": 68,
   "id": "6cf697f0",
   "metadata": {
    "execution": {
     "iopub.execute_input": "2022-10-29T00:26:56.934066Z",
     "iopub.status.busy": "2022-10-29T00:26:56.933761Z",
     "iopub.status.idle": "2022-10-29T00:30:03.132535Z",
     "shell.execute_reply": "2022-10-29T00:30:03.131643Z"
    },
    "papermill": {
     "duration": 186.260489,
     "end_time": "2022-10-29T00:30:03.134697",
     "exception": false,
     "start_time": "2022-10-29T00:26:56.874208",
     "status": "completed"
    },
    "tags": []
   },
   "outputs": [
    {
     "name": "stderr",
     "output_type": "stream",
     "text": [
      "100%|██████████| 601309/601309 [03:01<00:00, 3307.09it/s]\n"
     ]
    },
    {
     "data": {
      "text/plain": [
       "Counter({'legacy': 2718521,\n",
       "         'hall of fame': 1840841,\n",
       "         'core (2022)': 6495954,\n",
       "         'removed from core': 551458,\n",
       "         'missions': 11,\n",
       "         'curse of naxxramas': 638924,\n",
       "         'goblins vs gnomes': 920813,\n",
       "         'blackrock mountain': 395574,\n",
       "         'the grand tournament': 670532,\n",
       "         'the league of explorers': 316481,\n",
       "         'whispers of the old gods': 1056230,\n",
       "         'one night in karazhan': 305763,\n",
       "         'mean streets of gadgetzan': 627820,\n",
       "         \"journey to un'goro\": 809241,\n",
       "         'knights of the frozen throne': 222965,\n",
       "         'kobolds and catacombs': 250028,\n",
       "         'the witchwood': 140244,\n",
       "         'the boomsday project': 77888,\n",
       "         \"rastakhan's rumble\": 1,\n",
       "         'united in stormwind': 1,\n",
       "         'voyage to the sunken city': 1,\n",
       "         'scholomance academy': 1,\n",
       "         'rise of shadows': 1,\n",
       "         'forged in the barrens': 1,\n",
       "         \"galakrond's awakening\": 1,\n",
       "         'fractured in alterac valley': 1,\n",
       "         'darkmoon faire': 1,\n",
       "         'descent of dragons': 1,\n",
       "         'ashes of outland': 1,\n",
       "         'saviors of uldum': 1})"
      ]
     },
     "execution_count": 68,
     "metadata": {},
     "output_type": "execute_result"
    }
   ],
   "source": [
    "_ = dfp_train[\"cards\"].progress_apply(lambda cards: Counter([dfp_cards.loc[card, \"set\"] for card in cards]))\n",
    "_ = sum(_,Counter())\n",
    "\n",
    "# There's a +1 shift so that card sets that are not represented in the test set show here with a count of 1\n",
    "train_set_counts = _ + Counter(card_sets)\n",
    "train_set_counts"
   ]
  },
  {
   "cell_type": "code",
   "execution_count": 69,
   "id": "1d1e7276",
   "metadata": {
    "execution": {
     "iopub.execute_input": "2022-10-29T00:30:03.442265Z",
     "iopub.status.busy": "2022-10-29T00:30:03.441950Z",
     "iopub.status.idle": "2022-10-29T00:30:03.458336Z",
     "shell.execute_reply": "2022-10-29T00:30:03.457453Z"
    },
    "papermill": {
     "duration": 0.173356,
     "end_time": "2022-10-29T00:30:03.460325",
     "exception": false,
     "start_time": "2022-10-29T00:30:03.286969",
     "status": "completed"
    },
    "tags": []
   },
   "outputs": [
    {
     "data": {
      "text/html": [
       "<div>\n",
       "<style scoped>\n",
       "    .dataframe tbody tr th:only-of-type {\n",
       "        vertical-align: middle;\n",
       "    }\n",
       "\n",
       "    .dataframe tbody tr th {\n",
       "        vertical-align: top;\n",
       "    }\n",
       "\n",
       "    .dataframe thead th {\n",
       "        text-align: right;\n",
       "    }\n",
       "</style>\n",
       "<table border=\"1\" class=\"dataframe\">\n",
       "  <thead>\n",
       "    <tr style=\"text-align: right;\">\n",
       "      <th></th>\n",
       "      <th>card_set</th>\n",
       "      <th>train</th>\n",
       "      <th>test</th>\n",
       "      <th>release_date</th>\n",
       "    </tr>\n",
       "  </thead>\n",
       "  <tbody>\n",
       "    <tr>\n",
       "      <th>0</th>\n",
       "      <td>missions</td>\n",
       "      <td>10</td>\n",
       "      <td>0</td>\n",
       "      <td>2013-05-24</td>\n",
       "    </tr>\n",
       "    <tr>\n",
       "      <th>1</th>\n",
       "      <td>legacy</td>\n",
       "      <td>2718520</td>\n",
       "      <td>7069</td>\n",
       "      <td>2014-03-11</td>\n",
       "    </tr>\n",
       "    <tr>\n",
       "      <th>23</th>\n",
       "      <td>curse of naxxramas</td>\n",
       "      <td>638923</td>\n",
       "      <td>368</td>\n",
       "      <td>2014-07-22</td>\n",
       "    </tr>\n",
       "    <tr>\n",
       "      <th>20</th>\n",
       "      <td>goblins vs gnomes</td>\n",
       "      <td>920812</td>\n",
       "      <td>898</td>\n",
       "      <td>2014-12-08</td>\n",
       "    </tr>\n",
       "    <tr>\n",
       "      <th>2</th>\n",
       "      <td>blackrock mountain</td>\n",
       "      <td>395573</td>\n",
       "      <td>268</td>\n",
       "      <td>2015-04-02</td>\n",
       "    </tr>\n",
       "    <tr>\n",
       "      <th>18</th>\n",
       "      <td>the grand tournament</td>\n",
       "      <td>670531</td>\n",
       "      <td>518</td>\n",
       "      <td>2015-08-24</td>\n",
       "    </tr>\n",
       "    <tr>\n",
       "      <th>9</th>\n",
       "      <td>the league of explorers</td>\n",
       "      <td>316480</td>\n",
       "      <td>251</td>\n",
       "      <td>2015-11-12</td>\n",
       "    </tr>\n",
       "    <tr>\n",
       "      <th>17</th>\n",
       "      <td>whispers of the old gods</td>\n",
       "      <td>1056229</td>\n",
       "      <td>934</td>\n",
       "      <td>2016-04-26</td>\n",
       "    </tr>\n",
       "    <tr>\n",
       "      <th>7</th>\n",
       "      <td>one night in karazhan</td>\n",
       "      <td>305762</td>\n",
       "      <td>248</td>\n",
       "      <td>2016-08-11</td>\n",
       "    </tr>\n",
       "    <tr>\n",
       "      <th>22</th>\n",
       "      <td>mean streets of gadgetzan</td>\n",
       "      <td>627819</td>\n",
       "      <td>885</td>\n",
       "      <td>2016-12-01</td>\n",
       "    </tr>\n",
       "    <tr>\n",
       "      <th>28</th>\n",
       "      <td>hall of fame</td>\n",
       "      <td>1840840</td>\n",
       "      <td>4949</td>\n",
       "      <td>2017-04-04</td>\n",
       "    </tr>\n",
       "    <tr>\n",
       "      <th>10</th>\n",
       "      <td>journey to un'goro</td>\n",
       "      <td>809240</td>\n",
       "      <td>6065</td>\n",
       "      <td>2017-04-06</td>\n",
       "    </tr>\n",
       "    <tr>\n",
       "      <th>16</th>\n",
       "      <td>knights of the frozen throne</td>\n",
       "      <td>222964</td>\n",
       "      <td>4013</td>\n",
       "      <td>2017-08-10</td>\n",
       "    </tr>\n",
       "    <tr>\n",
       "      <th>26</th>\n",
       "      <td>kobolds and catacombs</td>\n",
       "      <td>250027</td>\n",
       "      <td>7895</td>\n",
       "      <td>2017-12-07</td>\n",
       "    </tr>\n",
       "    <tr>\n",
       "      <th>12</th>\n",
       "      <td>the witchwood</td>\n",
       "      <td>140243</td>\n",
       "      <td>4227</td>\n",
       "      <td>2018-04-12</td>\n",
       "    </tr>\n",
       "    <tr>\n",
       "      <th>11</th>\n",
       "      <td>the boomsday project</td>\n",
       "      <td>77887</td>\n",
       "      <td>8005</td>\n",
       "      <td>2018-08-07</td>\n",
       "    </tr>\n",
       "    <tr>\n",
       "      <th>3</th>\n",
       "      <td>rastakhan's rumble</td>\n",
       "      <td>0</td>\n",
       "      <td>0</td>\n",
       "      <td>2018-12-04</td>\n",
       "    </tr>\n",
       "    <tr>\n",
       "      <th>13</th>\n",
       "      <td>rise of shadows</td>\n",
       "      <td>0</td>\n",
       "      <td>0</td>\n",
       "      <td>2019-04-09</td>\n",
       "    </tr>\n",
       "    <tr>\n",
       "      <th>29</th>\n",
       "      <td>saviors of uldum</td>\n",
       "      <td>0</td>\n",
       "      <td>0</td>\n",
       "      <td>2019-08-06</td>\n",
       "    </tr>\n",
       "    <tr>\n",
       "      <th>25</th>\n",
       "      <td>descent of dragons</td>\n",
       "      <td>0</td>\n",
       "      <td>0</td>\n",
       "      <td>2019-12-10</td>\n",
       "    </tr>\n",
       "    <tr>\n",
       "      <th>15</th>\n",
       "      <td>galakrond's awakening</td>\n",
       "      <td>0</td>\n",
       "      <td>0</td>\n",
       "      <td>2020-01-21</td>\n",
       "    </tr>\n",
       "    <tr>\n",
       "      <th>27</th>\n",
       "      <td>ashes of outland</td>\n",
       "      <td>0</td>\n",
       "      <td>0</td>\n",
       "      <td>2020-04-07</td>\n",
       "    </tr>\n",
       "    <tr>\n",
       "      <th>8</th>\n",
       "      <td>scholomance academy</td>\n",
       "      <td>0</td>\n",
       "      <td>0</td>\n",
       "      <td>2020-08-06</td>\n",
       "    </tr>\n",
       "    <tr>\n",
       "      <th>24</th>\n",
       "      <td>darkmoon faire</td>\n",
       "      <td>0</td>\n",
       "      <td>0</td>\n",
       "      <td>2020-11-17</td>\n",
       "    </tr>\n",
       "    <tr>\n",
       "      <th>14</th>\n",
       "      <td>forged in the barrens</td>\n",
       "      <td>0</td>\n",
       "      <td>0</td>\n",
       "      <td>2021-03-30</td>\n",
       "    </tr>\n",
       "    <tr>\n",
       "      <th>6</th>\n",
       "      <td>removed from core</td>\n",
       "      <td>551457</td>\n",
       "      <td>1222</td>\n",
       "      <td>2021-04-12</td>\n",
       "    </tr>\n",
       "    <tr>\n",
       "      <th>4</th>\n",
       "      <td>united in stormwind</td>\n",
       "      <td>0</td>\n",
       "      <td>0</td>\n",
       "      <td>2021-08-03</td>\n",
       "    </tr>\n",
       "    <tr>\n",
       "      <th>19</th>\n",
       "      <td>fractured in alterac valley</td>\n",
       "      <td>0</td>\n",
       "      <td>0</td>\n",
       "      <td>2021-12-07</td>\n",
       "    </tr>\n",
       "    <tr>\n",
       "      <th>21</th>\n",
       "      <td>core (2022)</td>\n",
       "      <td>6495953</td>\n",
       "      <td>16594</td>\n",
       "      <td>2022-04-12</td>\n",
       "    </tr>\n",
       "    <tr>\n",
       "      <th>5</th>\n",
       "      <td>voyage to the sunken city</td>\n",
       "      <td>0</td>\n",
       "      <td>0</td>\n",
       "      <td>2022-04-12</td>\n",
       "    </tr>\n",
       "  </tbody>\n",
       "</table>\n",
       "</div>"
      ],
      "text/plain": [
       "                        card_set    train   test release_date\n",
       "0                       missions       10      0   2013-05-24\n",
       "1                         legacy  2718520   7069   2014-03-11\n",
       "23            curse of naxxramas   638923    368   2014-07-22\n",
       "20             goblins vs gnomes   920812    898   2014-12-08\n",
       "2             blackrock mountain   395573    268   2015-04-02\n",
       "18          the grand tournament   670531    518   2015-08-24\n",
       "9        the league of explorers   316480    251   2015-11-12\n",
       "17      whispers of the old gods  1056229    934   2016-04-26\n",
       "7          one night in karazhan   305762    248   2016-08-11\n",
       "22     mean streets of gadgetzan   627819    885   2016-12-01\n",
       "28                  hall of fame  1840840   4949   2017-04-04\n",
       "10            journey to un'goro   809240   6065   2017-04-06\n",
       "16  knights of the frozen throne   222964   4013   2017-08-10\n",
       "26         kobolds and catacombs   250027   7895   2017-12-07\n",
       "12                 the witchwood   140243   4227   2018-04-12\n",
       "11          the boomsday project    77887   8005   2018-08-07\n",
       "3             rastakhan's rumble        0      0   2018-12-04\n",
       "13               rise of shadows        0      0   2019-04-09\n",
       "29              saviors of uldum        0      0   2019-08-06\n",
       "25            descent of dragons        0      0   2019-12-10\n",
       "15         galakrond's awakening        0      0   2020-01-21\n",
       "27              ashes of outland        0      0   2020-04-07\n",
       "8            scholomance academy        0      0   2020-08-06\n",
       "24                darkmoon faire        0      0   2020-11-17\n",
       "14         forged in the barrens        0      0   2021-03-30\n",
       "6              removed from core   551457   1222   2021-04-12\n",
       "4            united in stormwind        0      0   2021-08-03\n",
       "19   fractured in alterac valley        0      0   2021-12-07\n",
       "21                   core (2022)  6495953  16594   2022-04-12\n",
       "5      voyage to the sunken city        0      0   2022-04-12"
      ]
     },
     "execution_count": 69,
     "metadata": {},
     "output_type": "execute_result"
    }
   ],
   "source": [
    "# put it all together\n",
    "card_set_counts = pd.DataFrame({k:v for k,v in zip([\"card_set\",\"train\",\"test\", \"release_date\"],\n",
    "                                                   list(zip(*[(x, train_set_counts[x], test_set_counts[x], launch_dates[x]) for x in card_sets])))\n",
    "                               })\n",
    "# fix values\n",
    "card_set_counts[[\"train\",\"test\"]] -= 1\n",
    "\n",
    "# sort by release date\n",
    "card_set_counts.sort_values(\"release_date\")"
   ]
  },
  {
   "cell_type": "markdown",
   "id": "5a85402e",
   "metadata": {
    "papermill": {
     "duration": 0.14906,
     "end_time": "2022-10-29T00:30:03.760571",
     "exception": false,
     "start_time": "2022-10-29T00:30:03.611511",
     "status": "completed"
    },
    "tags": []
   },
   "source": [
    "* Again both *core* sets are included even if they are listed as newer, meanwhile actually newer-than-dataset sets like *Rastakhan's Rumble* are not.\n",
    "* Both *missions* and *tavern brawl* are **neither** Standard nor Wild, they belong to special modes like Brawl and Adventure/Tutorial, hence should be removed.\n",
    "\n",
    "With this we can remove lots of cards, some invalid train-set observations and remap IDs so as to make a better item matrix"
   ]
  },
  {
   "cell_type": "code",
   "execution_count": 70,
   "id": "dacf3ebf",
   "metadata": {
    "execution": {
     "iopub.execute_input": "2022-10-29T00:30:04.063377Z",
     "iopub.status.busy": "2022-10-29T00:30:04.062864Z",
     "iopub.status.idle": "2022-10-29T00:30:05.878563Z",
     "shell.execute_reply": "2022-10-29T00:30:05.877760Z"
    },
    "papermill": {
     "duration": 1.969978,
     "end_time": "2022-10-29T00:30:05.880190",
     "exception": false,
     "start_time": "2022-10-29T00:30:03.910212",
     "status": "completed"
    },
    "tags": []
   },
   "outputs": [
    {
     "name": "stdout",
     "output_type": "stream",
     "text": [
      "deleting 5 invalid decks\n"
     ]
    }
   ],
   "source": [
    "# drop train set rows that include missions and brawl cards\n",
    "invalid_cards = mission_cards | set(dfp_cards.loc[dfp_cards[\"set\"]=='tavern brawl'].index.to_list())\n",
    "\n",
    "valid_decks = dfp_train[\"cards\"].apply(lambda deck: not any(card in invalid_cards for card in deck))\n",
    "print(\"deleting\",sum(~valid_decks),\"invalid decks\")\n",
    "dfp_train = dfp_train[valid_decks].reset_index(drop=True)"
   ]
  },
  {
   "cell_type": "code",
   "execution_count": 71,
   "id": "41f99888",
   "metadata": {
    "execution": {
     "iopub.execute_input": "2022-10-29T00:30:06.215065Z",
     "iopub.status.busy": "2022-10-29T00:30:06.214554Z",
     "iopub.status.idle": "2022-10-29T00:30:06.219757Z",
     "shell.execute_reply": "2022-10-29T00:30:06.219158Z"
    },
    "papermill": {
     "duration": 0.19252,
     "end_time": "2022-10-29T00:30:06.221337",
     "exception": false,
     "start_time": "2022-10-29T00:30:06.028817",
     "status": "completed"
    },
    "tags": []
   },
   "outputs": [],
   "source": [
    "# drop unused sets in the cards set\n",
    "unused_card_sets = set(card_set_counts[\"card_set\"][card_set_counts[\"test\"]==0])\n",
    "dfp_cards = dfp_cards[~ dfp_cards[\"set\"].isin(unused_card_sets)]"
   ]
  },
  {
   "cell_type": "code",
   "execution_count": 72,
   "id": "f534b362",
   "metadata": {
    "execution": {
     "iopub.execute_input": "2022-10-29T00:30:06.525204Z",
     "iopub.status.busy": "2022-10-29T00:30:06.524707Z",
     "iopub.status.idle": "2022-10-29T00:30:16.257075Z",
     "shell.execute_reply": "2022-10-29T00:30:16.255667Z"
    },
    "papermill": {
     "duration": 9.888884,
     "end_time": "2022-10-29T00:30:16.258900",
     "exception": false,
     "start_time": "2022-10-29T00:30:06.370016",
     "status": "completed"
    },
    "tags": []
   },
   "outputs": [
    {
     "name": "stderr",
     "output_type": "stream",
     "text": [
      "100%|██████████| 601304/601304 [00:04<00:00, 148726.74it/s]\n",
      "100%|██████████| 2221/2221 [00:00<00:00, 271305.60it/s]\n"
     ]
    }
   ],
   "source": [
    "train_seen_cards = reduce(lambda a,b: a|b, dfp_train[\"cards\"].progress_apply(lambda cards: set(cards)),set())\n",
    "test_seen_cards =  reduce(lambda a,b: a|b, dfp_test[\"cards_incomplete\"].progress_apply(lambda cards: set(cards)),set())"
   ]
  },
  {
   "cell_type": "code",
   "execution_count": 73,
   "id": "948b2081",
   "metadata": {
    "execution": {
     "iopub.execute_input": "2022-10-29T00:30:16.562790Z",
     "iopub.status.busy": "2022-10-29T00:30:16.562178Z",
     "iopub.status.idle": "2022-10-29T00:30:16.567909Z",
     "shell.execute_reply": "2022-10-29T00:30:16.567073Z"
    },
    "papermill": {
     "duration": 0.158819,
     "end_time": "2022-10-29T00:30:16.569706",
     "exception": false,
     "start_time": "2022-10-29T00:30:16.410887",
     "status": "completed"
    },
    "tags": []
   },
   "outputs": [
    {
     "data": {
      "text/plain": [
       "0"
      ]
     },
     "execution_count": 73,
     "metadata": {},
     "output_type": "execute_result"
    }
   ],
   "source": [
    "# are there any cards that are present in the test set but NOT in the train set?\n",
    "len(test_seen_cards - train_seen_cards)"
   ]
  },
  {
   "cell_type": "code",
   "execution_count": 74,
   "id": "06dc8377",
   "metadata": {
    "execution": {
     "iopub.execute_input": "2022-10-29T00:30:16.875727Z",
     "iopub.status.busy": "2022-10-29T00:30:16.874783Z",
     "iopub.status.idle": "2022-10-29T00:30:16.880474Z",
     "shell.execute_reply": "2022-10-29T00:30:16.879718Z"
    },
    "papermill": {
     "duration": 0.162292,
     "end_time": "2022-10-29T00:30:16.882028",
     "exception": false,
     "start_time": "2022-10-29T00:30:16.719736",
     "status": "completed"
    },
    "tags": []
   },
   "outputs": [
    {
     "data": {
      "text/plain": [
       "52"
      ]
     },
     "execution_count": 74,
     "metadata": {},
     "output_type": "execute_result"
    }
   ],
   "source": [
    "# how many cards from the card set are NOT seen in the train set?\n",
    "len(set(dfp_cards.index) - train_seen_cards)"
   ]
  },
  {
   "cell_type": "code",
   "execution_count": 75,
   "id": "d5ac8051",
   "metadata": {
    "execution": {
     "iopub.execute_input": "2022-10-29T00:30:17.195669Z",
     "iopub.status.busy": "2022-10-29T00:30:17.194766Z",
     "iopub.status.idle": "2022-10-29T00:30:17.201076Z",
     "shell.execute_reply": "2022-10-29T00:30:17.200503Z"
    },
    "papermill": {
     "duration": 0.16417,
     "end_time": "2022-10-29T00:30:17.202498",
     "exception": false,
     "start_time": "2022-10-29T00:30:17.038328",
     "status": "completed"
    },
    "tags": []
   },
   "outputs": [],
   "source": [
    "# remove them, either way we can't learn from them\n",
    "dfp_cards = dfp_cards[dfp_cards.index.isin(train_seen_cards)]"
   ]
  },
  {
   "cell_type": "code",
   "execution_count": 76,
   "id": "d88400cc",
   "metadata": {
    "execution": {
     "iopub.execute_input": "2022-10-29T00:30:17.507125Z",
     "iopub.status.busy": "2022-10-29T00:30:17.506147Z",
     "iopub.status.idle": "2022-10-29T00:30:17.511094Z",
     "shell.execute_reply": "2022-10-29T00:30:17.510556Z"
    },
    "papermill": {
     "duration": 0.161479,
     "end_time": "2022-10-29T00:30:17.512512",
     "exception": false,
     "start_time": "2022-10-29T00:30:17.351033",
     "status": "completed"
    },
    "tags": []
   },
   "outputs": [
    {
     "data": {
      "text/plain": [
       "0.6531463229719484"
      ]
     },
     "execution_count": 76,
     "metadata": {},
     "output_type": "execute_result"
    }
   ],
   "source": [
    "len(dfp_cards) / 2638"
   ]
  },
  {
   "cell_type": "code",
   "execution_count": 77,
   "id": "798bea94",
   "metadata": {
    "execution": {
     "iopub.execute_input": "2022-10-29T00:30:17.822843Z",
     "iopub.status.busy": "2022-10-29T00:30:17.822190Z",
     "iopub.status.idle": "2022-10-29T00:30:17.827887Z",
     "shell.execute_reply": "2022-10-29T00:30:17.826982Z"
    },
    "papermill": {
     "duration": 0.16191,
     "end_time": "2022-10-29T00:30:17.829842",
     "exception": false,
     "start_time": "2022-10-29T00:30:17.667932",
     "status": "completed"
    },
    "tags": []
   },
   "outputs": [
    {
     "data": {
      "text/plain": [
       "1723"
      ]
     },
     "execution_count": 77,
     "metadata": {},
     "output_type": "execute_result"
    }
   ],
   "source": [
    "len(dfp_cards)"
   ]
  },
  {
   "cell_type": "markdown",
   "id": "25ed6b4e",
   "metadata": {
    "papermill": {
     "duration": 0.149482,
     "end_time": "2022-10-29T00:30:18.130595",
     "exception": false,
     "start_time": "2022-10-29T00:30:17.981113",
     "status": "completed"
    },
    "tags": []
   },
   "source": [
    "* Reduced the possible cards space by 1/3\n",
    "* Can now remap decks to a 1723-wide CSR matrix or use a dense lower-mem embedding column on long format\n",
    "* Removed invalid rows from the train set\n",
    "* Test-set cards-by-set levels show that cards from newer sets are more likely to be picked than those from older ones\n",
    "    * This implies a trend-oriented approach might work, also backed by the well-performing last-week-popular-cards baseline"
   ]
  },
  {
   "cell_type": "code",
   "execution_count": 78,
   "id": "2b02df72",
   "metadata": {
    "execution": {
     "iopub.execute_input": "2022-10-29T00:30:18.471695Z",
     "iopub.status.busy": "2022-10-29T00:30:18.471188Z",
     "iopub.status.idle": "2022-10-29T00:30:18.476659Z",
     "shell.execute_reply": "2022-10-29T00:30:18.476110Z"
    },
    "papermill": {
     "duration": 0.195906,
     "end_time": "2022-10-29T00:30:18.478203",
     "exception": false,
     "start_time": "2022-10-29T00:30:18.282297",
     "status": "completed"
    },
    "tags": []
   },
   "outputs": [],
   "source": [
    "dfp_cards.reset_index(inplace=True)\n",
    "card_ids = dfp_cards.pop(\"id\")\n",
    "card_id_mapper = {old_idx:new_idx for new_idx, old_idx in enumerate(card_ids.to_list())}\n",
    "inverse_card_id_mapper = {v:k for k,v in card_id_mapper.items()}"
   ]
  },
  {
   "cell_type": "code",
   "execution_count": 79,
   "id": "8e380195",
   "metadata": {
    "execution": {
     "iopub.execute_input": "2022-10-29T00:30:18.778660Z",
     "iopub.status.busy": "2022-10-29T00:30:18.777941Z",
     "iopub.status.idle": "2022-10-29T00:30:18.799789Z",
     "shell.execute_reply": "2022-10-29T00:30:18.798999Z"
    },
    "papermill": {
     "duration": 0.173234,
     "end_time": "2022-10-29T00:30:18.801384",
     "exception": false,
     "start_time": "2022-10-29T00:30:18.628150",
     "status": "completed"
    },
    "tags": []
   },
   "outputs": [
    {
     "data": {
      "text/html": [
       "<div>\n",
       "<style scoped>\n",
       "    .dataframe tbody tr th:only-of-type {\n",
       "        vertical-align: middle;\n",
       "    }\n",
       "\n",
       "    .dataframe tbody tr th {\n",
       "        vertical-align: top;\n",
       "    }\n",
       "\n",
       "    .dataframe thead th {\n",
       "        text-align: right;\n",
       "    }\n",
       "</style>\n",
       "<table border=\"1\" class=\"dataframe\">\n",
       "  <thead>\n",
       "    <tr style=\"text-align: right;\">\n",
       "      <th></th>\n",
       "      <th>name</th>\n",
       "      <th>img</th>\n",
       "      <th>card_text</th>\n",
       "      <th>flavor_text</th>\n",
       "      <th>type</th>\n",
       "      <th>class</th>\n",
       "      <th>rarity</th>\n",
       "      <th>set</th>\n",
       "      <th>race</th>\n",
       "      <th>raw_attributes</th>\n",
       "      <th>...</th>\n",
       "      <th>is_lifesteal_card</th>\n",
       "      <th>is_freeze_card</th>\n",
       "      <th>is_discover_card</th>\n",
       "      <th>is_windfury_card</th>\n",
       "      <th>is_echo_card</th>\n",
       "      <th>is_secret_card</th>\n",
       "      <th>cost</th>\n",
       "      <th>attack</th>\n",
       "      <th>health</th>\n",
       "      <th>max_count</th>\n",
       "    </tr>\n",
       "  </thead>\n",
       "  <tbody>\n",
       "    <tr>\n",
       "      <th>0</th>\n",
       "      <td>Arcane Giant</td>\n",
       "      <td>https://cards.hearthpwn.com/enUS/KAR_711.png?1...</td>\n",
       "      <td>Costs (1) less for each spellyou've cast this ...</td>\n",
       "      <td>Claims to be drawn to Karazhan because of the ...</td>\n",
       "      <td>minion</td>\n",
       "      <td>all</td>\n",
       "      <td>epic</td>\n",
       "      <td>one night in karazhan</td>\n",
       "      <td>no_class</td>\n",
       "      <td>{}</td>\n",
       "      <td>...</td>\n",
       "      <td>False</td>\n",
       "      <td>False</td>\n",
       "      <td>False</td>\n",
       "      <td>False</td>\n",
       "      <td>False</td>\n",
       "      <td>False</td>\n",
       "      <td>12</td>\n",
       "      <td>8</td>\n",
       "      <td>8</td>\n",
       "      <td>2</td>\n",
       "    </tr>\n",
       "    <tr>\n",
       "      <th>1</th>\n",
       "      <td>Clockwork Giant</td>\n",
       "      <td>https://cards.hearthpwn.com/enUS/CORE_GVG_121....</td>\n",
       "      <td>Costs (1) less for each card in your opponent'...</td>\n",
       "      <td>He and Mountain Giant don't get along.</td>\n",
       "      <td>minion</td>\n",
       "      <td>all</td>\n",
       "      <td>epic</td>\n",
       "      <td>removed from core</td>\n",
       "      <td>mechanical</td>\n",
       "      <td>{}</td>\n",
       "      <td>...</td>\n",
       "      <td>False</td>\n",
       "      <td>False</td>\n",
       "      <td>False</td>\n",
       "      <td>False</td>\n",
       "      <td>False</td>\n",
       "      <td>False</td>\n",
       "      <td>12</td>\n",
       "      <td>8</td>\n",
       "      <td>8</td>\n",
       "      <td>2</td>\n",
       "    </tr>\n",
       "    <tr>\n",
       "      <th>2</th>\n",
       "      <td>Mountain Giant</td>\n",
       "      <td>https://cards.hearthpwn.com/enUS/EX1_105.png?1...</td>\n",
       "      <td>Costs (1) less for each other card in your hand.</td>\n",
       "      <td>His mother said that he was just big boned.</td>\n",
       "      <td>minion</td>\n",
       "      <td>all</td>\n",
       "      <td>epic</td>\n",
       "      <td>legacy</td>\n",
       "      <td>elemental</td>\n",
       "      <td>{}</td>\n",
       "      <td>...</td>\n",
       "      <td>False</td>\n",
       "      <td>False</td>\n",
       "      <td>False</td>\n",
       "      <td>False</td>\n",
       "      <td>False</td>\n",
       "      <td>False</td>\n",
       "      <td>12</td>\n",
       "      <td>8</td>\n",
       "      <td>8</td>\n",
       "      <td>2</td>\n",
       "    </tr>\n",
       "    <tr>\n",
       "      <th>3</th>\n",
       "      <td>C'Thun</td>\n",
       "      <td>https://cards.hearthpwn.com/enUS/OG_280.png?14...</td>\n",
       "      <td>Battlecry: Deal damage equal to this minion's ...</td>\n",
       "      <td>C'Thun's least favorite Hearthstone card: Eye ...</td>\n",
       "      <td>minion</td>\n",
       "      <td>all</td>\n",
       "      <td>legendary</td>\n",
       "      <td>whispers of the old gods</td>\n",
       "      <td>no_class</td>\n",
       "      <td>{Battlecry:}</td>\n",
       "      <td>...</td>\n",
       "      <td>False</td>\n",
       "      <td>False</td>\n",
       "      <td>False</td>\n",
       "      <td>False</td>\n",
       "      <td>False</td>\n",
       "      <td>False</td>\n",
       "      <td>10</td>\n",
       "      <td>6</td>\n",
       "      <td>6</td>\n",
       "      <td>1</td>\n",
       "    </tr>\n",
       "    <tr>\n",
       "      <th>4</th>\n",
       "      <td>Deathwing</td>\n",
       "      <td>https://cards.hearthpwn.com/enUS/NEW1_030.png?...</td>\n",
       "      <td>Battlecry: Destroy all other minions and disca...</td>\n",
       "      <td>Once a noble dragon known as Neltharion, Death...</td>\n",
       "      <td>minion</td>\n",
       "      <td>all</td>\n",
       "      <td>legendary</td>\n",
       "      <td>legacy</td>\n",
       "      <td>dragon</td>\n",
       "      <td>{Battlecry:}</td>\n",
       "      <td>...</td>\n",
       "      <td>False</td>\n",
       "      <td>False</td>\n",
       "      <td>False</td>\n",
       "      <td>False</td>\n",
       "      <td>False</td>\n",
       "      <td>False</td>\n",
       "      <td>10</td>\n",
       "      <td>12</td>\n",
       "      <td>12</td>\n",
       "      <td>1</td>\n",
       "    </tr>\n",
       "    <tr>\n",
       "      <th>...</th>\n",
       "      <td>...</td>\n",
       "      <td>...</td>\n",
       "      <td>...</td>\n",
       "      <td>...</td>\n",
       "      <td>...</td>\n",
       "      <td>...</td>\n",
       "      <td>...</td>\n",
       "      <td>...</td>\n",
       "      <td>...</td>\n",
       "      <td>...</td>\n",
       "      <td>...</td>\n",
       "      <td>...</td>\n",
       "      <td>...</td>\n",
       "      <td>...</td>\n",
       "      <td>...</td>\n",
       "      <td>...</td>\n",
       "      <td>...</td>\n",
       "      <td>...</td>\n",
       "      <td>...</td>\n",
       "      <td>...</td>\n",
       "      <td>...</td>\n",
       "    </tr>\n",
       "    <tr>\n",
       "      <th>1718</th>\n",
       "      <td>Woodcutter's Axe</td>\n",
       "      <td>https://cards.hearthpwn.com/enUS/GIL_653.png?1...</td>\n",
       "      <td>Deathrattle: Give +2/+1 to a random friendly R...</td>\n",
       "      <td>It's a lumberjack's axe and that's ok.</td>\n",
       "      <td>weapon</td>\n",
       "      <td>warrior</td>\n",
       "      <td>common</td>\n",
       "      <td>the witchwood</td>\n",
       "      <td>no_class</td>\n",
       "      <td>{Deathrattle:,Rush}</td>\n",
       "      <td>...</td>\n",
       "      <td>False</td>\n",
       "      <td>False</td>\n",
       "      <td>False</td>\n",
       "      <td>False</td>\n",
       "      <td>False</td>\n",
       "      <td>False</td>\n",
       "      <td>2</td>\n",
       "      <td>2</td>\n",
       "      <td>2</td>\n",
       "      <td>2</td>\n",
       "    </tr>\n",
       "    <tr>\n",
       "      <th>1719</th>\n",
       "      <td>Kingsbane</td>\n",
       "      <td>https://cards.hearthpwn.com/enUS/LOOT_542.png?...</td>\n",
       "      <td>Always keepsenchantments.Deathrattle: Shuffle ...</td>\n",
       "      <td>But it has a soft spot for emperors.</td>\n",
       "      <td>weapon</td>\n",
       "      <td>rogue</td>\n",
       "      <td>legendary</td>\n",
       "      <td>kobolds and catacombs</td>\n",
       "      <td>no_class</td>\n",
       "      <td>{Deathrattle:}</td>\n",
       "      <td>...</td>\n",
       "      <td>False</td>\n",
       "      <td>False</td>\n",
       "      <td>False</td>\n",
       "      <td>False</td>\n",
       "      <td>False</td>\n",
       "      <td>False</td>\n",
       "      <td>1</td>\n",
       "      <td>1</td>\n",
       "      <td>3</td>\n",
       "      <td>1</td>\n",
       "    </tr>\n",
       "    <tr>\n",
       "      <th>1720</th>\n",
       "      <td>Light's Justice</td>\n",
       "      <td>https://cards.hearthpwn.com/enUS/CS2_091.png?1...</td>\n",
       "      <td>NaN</td>\n",
       "      <td>Prince Malchezaar was a collector of rare weap...</td>\n",
       "      <td>weapon</td>\n",
       "      <td>paladin</td>\n",
       "      <td>free</td>\n",
       "      <td>hall of fame</td>\n",
       "      <td>no_class</td>\n",
       "      <td>{}</td>\n",
       "      <td>...</td>\n",
       "      <td>False</td>\n",
       "      <td>False</td>\n",
       "      <td>False</td>\n",
       "      <td>False</td>\n",
       "      <td>False</td>\n",
       "      <td>False</td>\n",
       "      <td>1</td>\n",
       "      <td>1</td>\n",
       "      <td>4</td>\n",
       "      <td>2</td>\n",
       "    </tr>\n",
       "    <tr>\n",
       "      <th>1721</th>\n",
       "      <td>Molten Blade</td>\n",
       "      <td>https://cards.hearthpwn.com/enUS/UNG_929.png?1...</td>\n",
       "      <td>Each turn this is in your hand, transform it i...</td>\n",
       "      <td>It’s a sword! It’s a knife! It’s a swizzle-stick!</td>\n",
       "      <td>weapon</td>\n",
       "      <td>warrior</td>\n",
       "      <td>rare</td>\n",
       "      <td>journey to un'goro</td>\n",
       "      <td>no_class</td>\n",
       "      <td>{}</td>\n",
       "      <td>...</td>\n",
       "      <td>False</td>\n",
       "      <td>False</td>\n",
       "      <td>False</td>\n",
       "      <td>False</td>\n",
       "      <td>False</td>\n",
       "      <td>False</td>\n",
       "      <td>1</td>\n",
       "      <td>1</td>\n",
       "      <td>1</td>\n",
       "      <td>2</td>\n",
       "    </tr>\n",
       "    <tr>\n",
       "      <th>1722</th>\n",
       "      <td>Spirit Claws</td>\n",
       "      <td>https://cards.hearthpwn.com/enUS/KAR_063.png?1...</td>\n",
       "      <td>Has +2 Attack while youhave Spell Damage.</td>\n",
       "      <td>They'll be MUCH easier to use once they add th...</td>\n",
       "      <td>weapon</td>\n",
       "      <td>shaman</td>\n",
       "      <td>common</td>\n",
       "      <td>one night in karazhan</td>\n",
       "      <td>no_class</td>\n",
       "      <td>{\"Spell Damage\"}</td>\n",
       "      <td>...</td>\n",
       "      <td>False</td>\n",
       "      <td>False</td>\n",
       "      <td>False</td>\n",
       "      <td>False</td>\n",
       "      <td>False</td>\n",
       "      <td>False</td>\n",
       "      <td>1</td>\n",
       "      <td>1</td>\n",
       "      <td>3</td>\n",
       "      <td>2</td>\n",
       "    </tr>\n",
       "  </tbody>\n",
       "</table>\n",
       "<p>1723 rows × 30 columns</p>\n",
       "</div>"
      ],
      "text/plain": [
       "                  name                                                img  \\\n",
       "0         Arcane Giant  https://cards.hearthpwn.com/enUS/KAR_711.png?1...   \n",
       "1      Clockwork Giant  https://cards.hearthpwn.com/enUS/CORE_GVG_121....   \n",
       "2       Mountain Giant  https://cards.hearthpwn.com/enUS/EX1_105.png?1...   \n",
       "3               C'Thun  https://cards.hearthpwn.com/enUS/OG_280.png?14...   \n",
       "4            Deathwing  https://cards.hearthpwn.com/enUS/NEW1_030.png?...   \n",
       "...                ...                                                ...   \n",
       "1718  Woodcutter's Axe  https://cards.hearthpwn.com/enUS/GIL_653.png?1...   \n",
       "1719         Kingsbane  https://cards.hearthpwn.com/enUS/LOOT_542.png?...   \n",
       "1720   Light's Justice  https://cards.hearthpwn.com/enUS/CS2_091.png?1...   \n",
       "1721      Molten Blade  https://cards.hearthpwn.com/enUS/UNG_929.png?1...   \n",
       "1722      Spirit Claws  https://cards.hearthpwn.com/enUS/KAR_063.png?1...   \n",
       "\n",
       "                                              card_text  \\\n",
       "0     Costs (1) less for each spellyou've cast this ...   \n",
       "1     Costs (1) less for each card in your opponent'...   \n",
       "2      Costs (1) less for each other card in your hand.   \n",
       "3     Battlecry: Deal damage equal to this minion's ...   \n",
       "4     Battlecry: Destroy all other minions and disca...   \n",
       "...                                                 ...   \n",
       "1718  Deathrattle: Give +2/+1 to a random friendly R...   \n",
       "1719  Always keepsenchantments.Deathrattle: Shuffle ...   \n",
       "1720                                                NaN   \n",
       "1721  Each turn this is in your hand, transform it i...   \n",
       "1722          Has +2 Attack while youhave Spell Damage.   \n",
       "\n",
       "                                            flavor_text    type    class  \\\n",
       "0     Claims to be drawn to Karazhan because of the ...  minion      all   \n",
       "1                He and Mountain Giant don't get along.  minion      all   \n",
       "2           His mother said that he was just big boned.  minion      all   \n",
       "3     C'Thun's least favorite Hearthstone card: Eye ...  minion      all   \n",
       "4     Once a noble dragon known as Neltharion, Death...  minion      all   \n",
       "...                                                 ...     ...      ...   \n",
       "1718             It's a lumberjack's axe and that's ok.  weapon  warrior   \n",
       "1719               But it has a soft spot for emperors.  weapon    rogue   \n",
       "1720  Prince Malchezaar was a collector of rare weap...  weapon  paladin   \n",
       "1721  It’s a sword! It’s a knife! It’s a swizzle-stick!  weapon  warrior   \n",
       "1722  They'll be MUCH easier to use once they add th...  weapon   shaman   \n",
       "\n",
       "         rarity                       set        race       raw_attributes  \\\n",
       "0          epic     one night in karazhan    no_class                   {}   \n",
       "1          epic         removed from core  mechanical                   {}   \n",
       "2          epic                    legacy   elemental                   {}   \n",
       "3     legendary  whispers of the old gods    no_class         {Battlecry:}   \n",
       "4     legendary                    legacy      dragon         {Battlecry:}   \n",
       "...         ...                       ...         ...                  ...   \n",
       "1718     common             the witchwood    no_class  {Deathrattle:,Rush}   \n",
       "1719  legendary     kobolds and catacombs    no_class       {Deathrattle:}   \n",
       "1720       free              hall of fame    no_class                   {}   \n",
       "1721       rare        journey to un'goro    no_class                   {}   \n",
       "1722     common     one night in karazhan    no_class     {\"Spell Damage\"}   \n",
       "\n",
       "      ...  is_lifesteal_card  is_freeze_card  is_discover_card  \\\n",
       "0     ...              False           False             False   \n",
       "1     ...              False           False             False   \n",
       "2     ...              False           False             False   \n",
       "3     ...              False           False             False   \n",
       "4     ...              False           False             False   \n",
       "...   ...                ...             ...               ...   \n",
       "1718  ...              False           False             False   \n",
       "1719  ...              False           False             False   \n",
       "1720  ...              False           False             False   \n",
       "1721  ...              False           False             False   \n",
       "1722  ...              False           False             False   \n",
       "\n",
       "      is_windfury_card  is_echo_card  is_secret_card  cost  attack  health  \\\n",
       "0                False         False           False    12       8       8   \n",
       "1                False         False           False    12       8       8   \n",
       "2                False         False           False    12       8       8   \n",
       "3                False         False           False    10       6       6   \n",
       "4                False         False           False    10      12      12   \n",
       "...                ...           ...             ...   ...     ...     ...   \n",
       "1718             False         False           False     2       2       2   \n",
       "1719             False         False           False     1       1       3   \n",
       "1720             False         False           False     1       1       4   \n",
       "1721             False         False           False     1       1       1   \n",
       "1722             False         False           False     1       1       3   \n",
       "\n",
       "      max_count  \n",
       "0             2  \n",
       "1             2  \n",
       "2             2  \n",
       "3             1  \n",
       "4             1  \n",
       "...         ...  \n",
       "1718          2  \n",
       "1719          1  \n",
       "1720          2  \n",
       "1721          2  \n",
       "1722          2  \n",
       "\n",
       "[1723 rows x 30 columns]"
      ]
     },
     "execution_count": 79,
     "metadata": {},
     "output_type": "execute_result"
    }
   ],
   "source": [
    "dfp_cards"
   ]
  },
  {
   "cell_type": "code",
   "execution_count": 80,
   "id": "5a4bf4a8",
   "metadata": {
    "execution": {
     "iopub.execute_input": "2022-10-29T00:30:19.108541Z",
     "iopub.status.busy": "2022-10-29T00:30:19.108224Z",
     "iopub.status.idle": "2022-10-29T00:30:19.112243Z",
     "shell.execute_reply": "2022-10-29T00:30:19.111506Z"
    },
    "papermill": {
     "duration": 0.161417,
     "end_time": "2022-10-29T00:30:19.113729",
     "exception": false,
     "start_time": "2022-10-29T00:30:18.952312",
     "status": "completed"
    },
    "tags": []
   },
   "outputs": [],
   "source": [
    "def remap_cards(deck):\n",
    "    return [card_id_mapper[card_id] for card_id in deck]"
   ]
  },
  {
   "cell_type": "code",
   "execution_count": 81,
   "id": "7fc0b2b9",
   "metadata": {
    "execution": {
     "iopub.execute_input": "2022-10-29T00:30:19.422086Z",
     "iopub.status.busy": "2022-10-29T00:30:19.421761Z",
     "iopub.status.idle": "2022-10-29T00:30:22.863404Z",
     "shell.execute_reply": "2022-10-29T00:30:22.862515Z"
    },
    "papermill": {
     "duration": 3.597355,
     "end_time": "2022-10-29T00:30:22.865072",
     "exception": false,
     "start_time": "2022-10-29T00:30:19.267717",
     "status": "completed"
    },
    "tags": []
   },
   "outputs": [
    {
     "name": "stderr",
     "output_type": "stream",
     "text": [
      "100%|██████████| 601304/601304 [00:03<00:00, 176835.70it/s]\n",
      "100%|██████████| 2221/2221 [00:00<00:00, 194312.78it/s]\n"
     ]
    }
   ],
   "source": [
    "dfp_train[\"cards\"] = dfp_train[\"cards\"].progress_apply(remap_cards)\n",
    "dfp_test[\"cards_incomplete\"] = dfp_test[\"cards_incomplete\"].progress_apply(remap_cards)"
   ]
  },
  {
   "cell_type": "markdown",
   "id": "8e3f0ba5",
   "metadata": {
    "papermill": {
     "duration": 0.153722,
     "end_time": "2022-10-29T00:30:23.176470",
     "exception": false,
     "start_time": "2022-10-29T00:30:23.022748",
     "status": "completed"
    },
    "tags": []
   },
   "source": [
    "# Baseline: Most popular cards by hero"
   ]
  },
  {
   "cell_type": "code",
   "execution_count": 82,
   "id": "14556f3b",
   "metadata": {
    "execution": {
     "iopub.execute_input": "2022-10-29T00:30:23.490731Z",
     "iopub.status.busy": "2022-10-29T00:30:23.490409Z",
     "iopub.status.idle": "2022-10-29T00:30:23.496604Z",
     "shell.execute_reply": "2022-10-29T00:30:23.495862Z"
    },
    "papermill": {
     "duration": 0.163365,
     "end_time": "2022-10-29T00:30:23.498337",
     "exception": false,
     "start_time": "2022-10-29T00:30:23.334972",
     "status": "completed"
    },
    "tags": []
   },
   "outputs": [],
   "source": [
    "df_train_last_patch = dfp_train[dfp_train[\"update_date\"] >= launch_dates[\"the boomsday project\"]]"
   ]
  },
  {
   "cell_type": "code",
   "execution_count": 83,
   "id": "a4bb90f1",
   "metadata": {
    "execution": {
     "iopub.execute_input": "2022-10-29T00:30:23.845752Z",
     "iopub.status.busy": "2022-10-29T00:30:23.845450Z",
     "iopub.status.idle": "2022-10-29T00:30:23.905803Z",
     "shell.execute_reply": "2022-10-29T00:30:23.905114Z"
    },
    "papermill": {
     "duration": 0.256085,
     "end_time": "2022-10-29T00:30:23.907893",
     "exception": false,
     "start_time": "2022-10-29T00:30:23.651808",
     "status": "completed"
    },
    "tags": []
   },
   "outputs": [
    {
     "data": {
      "text/html": [
       "<div>\n",
       "<style scoped>\n",
       "    .dataframe tbody tr th:only-of-type {\n",
       "        vertical-align: middle;\n",
       "    }\n",
       "\n",
       "    .dataframe tbody tr th {\n",
       "        vertical-align: top;\n",
       "    }\n",
       "\n",
       "    .dataframe thead th {\n",
       "        text-align: right;\n",
       "    }\n",
       "</style>\n",
       "<table border=\"1\" class=\"dataframe\">\n",
       "  <thead>\n",
       "    <tr style=\"text-align: right;\">\n",
       "      <th></th>\n",
       "      <th>deckid</th>\n",
       "      <th>update_date</th>\n",
       "      <th>hero</th>\n",
       "      <th>cards</th>\n",
       "      <th>update_delta</th>\n",
       "      <th>week_update</th>\n",
       "      <th>month_update</th>\n",
       "    </tr>\n",
       "  </thead>\n",
       "  <tbody>\n",
       "    <tr>\n",
       "      <th>0</th>\n",
       "      <td>639ddeb7-8328-4e6a-b1d5-f3dbd9119358</td>\n",
       "      <td>2018-08-07</td>\n",
       "      <td>shaman</td>\n",
       "      <td>1579</td>\n",
       "      <td>21</td>\n",
       "      <td>2018-08-06</td>\n",
       "      <td>2018-07-31</td>\n",
       "    </tr>\n",
       "    <tr>\n",
       "      <th>1</th>\n",
       "      <td>639ddeb7-8328-4e6a-b1d5-f3dbd9119358</td>\n",
       "      <td>2018-08-07</td>\n",
       "      <td>shaman</td>\n",
       "      <td>1292</td>\n",
       "      <td>21</td>\n",
       "      <td>2018-08-06</td>\n",
       "      <td>2018-07-31</td>\n",
       "    </tr>\n",
       "    <tr>\n",
       "      <th>2</th>\n",
       "      <td>639ddeb7-8328-4e6a-b1d5-f3dbd9119358</td>\n",
       "      <td>2018-08-07</td>\n",
       "      <td>shaman</td>\n",
       "      <td>1117</td>\n",
       "      <td>21</td>\n",
       "      <td>2018-08-06</td>\n",
       "      <td>2018-07-31</td>\n",
       "    </tr>\n",
       "    <tr>\n",
       "      <th>3</th>\n",
       "      <td>639ddeb7-8328-4e6a-b1d5-f3dbd9119358</td>\n",
       "      <td>2018-08-07</td>\n",
       "      <td>shaman</td>\n",
       "      <td>1117</td>\n",
       "      <td>21</td>\n",
       "      <td>2018-08-06</td>\n",
       "      <td>2018-07-31</td>\n",
       "    </tr>\n",
       "    <tr>\n",
       "      <th>4</th>\n",
       "      <td>639ddeb7-8328-4e6a-b1d5-f3dbd9119358</td>\n",
       "      <td>2018-08-07</td>\n",
       "      <td>shaman</td>\n",
       "      <td>83</td>\n",
       "      <td>21</td>\n",
       "      <td>2018-08-06</td>\n",
       "      <td>2018-07-31</td>\n",
       "    </tr>\n",
       "    <tr>\n",
       "      <th>...</th>\n",
       "      <td>...</td>\n",
       "      <td>...</td>\n",
       "      <td>...</td>\n",
       "      <td>...</td>\n",
       "      <td>...</td>\n",
       "      <td>...</td>\n",
       "      <td>...</td>\n",
       "    </tr>\n",
       "    <tr>\n",
       "      <th>168685</th>\n",
       "      <td>8771f68b-68d3-4b0b-ae80-5de05f7fc1be</td>\n",
       "      <td>2018-08-28</td>\n",
       "      <td>priest</td>\n",
       "      <td>992</td>\n",
       "      <td>0</td>\n",
       "      <td>2018-08-27</td>\n",
       "      <td>2018-07-31</td>\n",
       "    </tr>\n",
       "    <tr>\n",
       "      <th>168686</th>\n",
       "      <td>8771f68b-68d3-4b0b-ae80-5de05f7fc1be</td>\n",
       "      <td>2018-08-28</td>\n",
       "      <td>priest</td>\n",
       "      <td>962</td>\n",
       "      <td>0</td>\n",
       "      <td>2018-08-27</td>\n",
       "      <td>2018-07-31</td>\n",
       "    </tr>\n",
       "    <tr>\n",
       "      <th>168687</th>\n",
       "      <td>8771f68b-68d3-4b0b-ae80-5de05f7fc1be</td>\n",
       "      <td>2018-08-28</td>\n",
       "      <td>priest</td>\n",
       "      <td>962</td>\n",
       "      <td>0</td>\n",
       "      <td>2018-08-27</td>\n",
       "      <td>2018-07-31</td>\n",
       "    </tr>\n",
       "    <tr>\n",
       "      <th>168688</th>\n",
       "      <td>8771f68b-68d3-4b0b-ae80-5de05f7fc1be</td>\n",
       "      <td>2018-08-28</td>\n",
       "      <td>priest</td>\n",
       "      <td>1036</td>\n",
       "      <td>0</td>\n",
       "      <td>2018-08-27</td>\n",
       "      <td>2018-07-31</td>\n",
       "    </tr>\n",
       "    <tr>\n",
       "      <th>168689</th>\n",
       "      <td>8771f68b-68d3-4b0b-ae80-5de05f7fc1be</td>\n",
       "      <td>2018-08-28</td>\n",
       "      <td>priest</td>\n",
       "      <td>1036</td>\n",
       "      <td>0</td>\n",
       "      <td>2018-08-27</td>\n",
       "      <td>2018-07-31</td>\n",
       "    </tr>\n",
       "  </tbody>\n",
       "</table>\n",
       "<p>168690 rows × 7 columns</p>\n",
       "</div>"
      ],
      "text/plain": [
       "                                      deckid update_date    hero cards  \\\n",
       "0       639ddeb7-8328-4e6a-b1d5-f3dbd9119358  2018-08-07  shaman  1579   \n",
       "1       639ddeb7-8328-4e6a-b1d5-f3dbd9119358  2018-08-07  shaman  1292   \n",
       "2       639ddeb7-8328-4e6a-b1d5-f3dbd9119358  2018-08-07  shaman  1117   \n",
       "3       639ddeb7-8328-4e6a-b1d5-f3dbd9119358  2018-08-07  shaman  1117   \n",
       "4       639ddeb7-8328-4e6a-b1d5-f3dbd9119358  2018-08-07  shaman    83   \n",
       "...                                      ...         ...     ...   ...   \n",
       "168685  8771f68b-68d3-4b0b-ae80-5de05f7fc1be  2018-08-28  priest   992   \n",
       "168686  8771f68b-68d3-4b0b-ae80-5de05f7fc1be  2018-08-28  priest   962   \n",
       "168687  8771f68b-68d3-4b0b-ae80-5de05f7fc1be  2018-08-28  priest   962   \n",
       "168688  8771f68b-68d3-4b0b-ae80-5de05f7fc1be  2018-08-28  priest  1036   \n",
       "168689  8771f68b-68d3-4b0b-ae80-5de05f7fc1be  2018-08-28  priest  1036   \n",
       "\n",
       "        update_delta week_update month_update  \n",
       "0                 21  2018-08-06   2018-07-31  \n",
       "1                 21  2018-08-06   2018-07-31  \n",
       "2                 21  2018-08-06   2018-07-31  \n",
       "3                 21  2018-08-06   2018-07-31  \n",
       "4                 21  2018-08-06   2018-07-31  \n",
       "...              ...         ...          ...  \n",
       "168685             0  2018-08-27   2018-07-31  \n",
       "168686             0  2018-08-27   2018-07-31  \n",
       "168687             0  2018-08-27   2018-07-31  \n",
       "168688             0  2018-08-27   2018-07-31  \n",
       "168689             0  2018-08-27   2018-07-31  \n",
       "\n",
       "[168690 rows x 7 columns]"
      ]
     },
     "execution_count": 83,
     "metadata": {},
     "output_type": "execute_result"
    }
   ],
   "source": [
    "# explode deck\n",
    "df_train_long_last_patch = df_train_last_patch.explode(\"cards\",ignore_index=True)\n",
    "df_train_long_last_patch"
   ]
  },
  {
   "cell_type": "code",
   "execution_count": 84,
   "id": "bd1b1d7f",
   "metadata": {
    "execution": {
     "iopub.execute_input": "2022-10-29T00:30:24.222300Z",
     "iopub.status.busy": "2022-10-29T00:30:24.222018Z",
     "iopub.status.idle": "2022-10-29T00:30:24.246912Z",
     "shell.execute_reply": "2022-10-29T00:30:24.246081Z"
    },
    "papermill": {
     "duration": 0.186506,
     "end_time": "2022-10-29T00:30:24.248599",
     "exception": false,
     "start_time": "2022-10-29T00:30:24.062093",
     "status": "completed"
    },
    "tags": []
   },
   "outputs": [
    {
     "name": "stdout",
     "output_type": "stream",
     "text": [
      "CPU times: user 6.34 ms, sys: 8 µs, total: 6.35 ms\n",
      "Wall time: 6.31 ms\n"
     ]
    },
    {
     "data": {
      "text/html": [
       "<div>\n",
       "<style scoped>\n",
       "    .dataframe tbody tr th:only-of-type {\n",
       "        vertical-align: middle;\n",
       "    }\n",
       "\n",
       "    .dataframe tbody tr th {\n",
       "        vertical-align: top;\n",
       "    }\n",
       "\n",
       "    .dataframe thead th {\n",
       "        text-align: right;\n",
       "    }\n",
       "</style>\n",
       "<table border=\"1\" class=\"dataframe\">\n",
       "  <thead>\n",
       "    <tr style=\"text-align: right;\">\n",
       "      <th></th>\n",
       "      <th>deckid</th>\n",
       "      <th>update_date</th>\n",
       "      <th>hero</th>\n",
       "      <th>update_delta</th>\n",
       "      <th>week_update</th>\n",
       "      <th>month_update</th>\n",
       "      <th>card</th>\n",
       "    </tr>\n",
       "  </thead>\n",
       "  <tbody>\n",
       "    <tr>\n",
       "      <th>0</th>\n",
       "      <td>639ddeb7-8328-4e6a-b1d5-f3dbd9119358</td>\n",
       "      <td>2018-08-07</td>\n",
       "      <td>shaman</td>\n",
       "      <td>21</td>\n",
       "      <td>2018-08-06</td>\n",
       "      <td>2018-07-31</td>\n",
       "      <td>1579</td>\n",
       "    </tr>\n",
       "    <tr>\n",
       "      <th>1</th>\n",
       "      <td>639ddeb7-8328-4e6a-b1d5-f3dbd9119358</td>\n",
       "      <td>2018-08-07</td>\n",
       "      <td>shaman</td>\n",
       "      <td>21</td>\n",
       "      <td>2018-08-06</td>\n",
       "      <td>2018-07-31</td>\n",
       "      <td>1292</td>\n",
       "    </tr>\n",
       "    <tr>\n",
       "      <th>2</th>\n",
       "      <td>639ddeb7-8328-4e6a-b1d5-f3dbd9119358</td>\n",
       "      <td>2018-08-07</td>\n",
       "      <td>shaman</td>\n",
       "      <td>21</td>\n",
       "      <td>2018-08-06</td>\n",
       "      <td>2018-07-31</td>\n",
       "      <td>1117</td>\n",
       "    </tr>\n",
       "    <tr>\n",
       "      <th>3</th>\n",
       "      <td>639ddeb7-8328-4e6a-b1d5-f3dbd9119358</td>\n",
       "      <td>2018-08-07</td>\n",
       "      <td>shaman</td>\n",
       "      <td>21</td>\n",
       "      <td>2018-08-06</td>\n",
       "      <td>2018-07-31</td>\n",
       "      <td>1117</td>\n",
       "    </tr>\n",
       "    <tr>\n",
       "      <th>4</th>\n",
       "      <td>639ddeb7-8328-4e6a-b1d5-f3dbd9119358</td>\n",
       "      <td>2018-08-07</td>\n",
       "      <td>shaman</td>\n",
       "      <td>21</td>\n",
       "      <td>2018-08-06</td>\n",
       "      <td>2018-07-31</td>\n",
       "      <td>83</td>\n",
       "    </tr>\n",
       "    <tr>\n",
       "      <th>...</th>\n",
       "      <td>...</td>\n",
       "      <td>...</td>\n",
       "      <td>...</td>\n",
       "      <td>...</td>\n",
       "      <td>...</td>\n",
       "      <td>...</td>\n",
       "      <td>...</td>\n",
       "    </tr>\n",
       "    <tr>\n",
       "      <th>168685</th>\n",
       "      <td>8771f68b-68d3-4b0b-ae80-5de05f7fc1be</td>\n",
       "      <td>2018-08-28</td>\n",
       "      <td>priest</td>\n",
       "      <td>0</td>\n",
       "      <td>2018-08-27</td>\n",
       "      <td>2018-07-31</td>\n",
       "      <td>992</td>\n",
       "    </tr>\n",
       "    <tr>\n",
       "      <th>168686</th>\n",
       "      <td>8771f68b-68d3-4b0b-ae80-5de05f7fc1be</td>\n",
       "      <td>2018-08-28</td>\n",
       "      <td>priest</td>\n",
       "      <td>0</td>\n",
       "      <td>2018-08-27</td>\n",
       "      <td>2018-07-31</td>\n",
       "      <td>962</td>\n",
       "    </tr>\n",
       "    <tr>\n",
       "      <th>168687</th>\n",
       "      <td>8771f68b-68d3-4b0b-ae80-5de05f7fc1be</td>\n",
       "      <td>2018-08-28</td>\n",
       "      <td>priest</td>\n",
       "      <td>0</td>\n",
       "      <td>2018-08-27</td>\n",
       "      <td>2018-07-31</td>\n",
       "      <td>962</td>\n",
       "    </tr>\n",
       "    <tr>\n",
       "      <th>168688</th>\n",
       "      <td>8771f68b-68d3-4b0b-ae80-5de05f7fc1be</td>\n",
       "      <td>2018-08-28</td>\n",
       "      <td>priest</td>\n",
       "      <td>0</td>\n",
       "      <td>2018-08-27</td>\n",
       "      <td>2018-07-31</td>\n",
       "      <td>1036</td>\n",
       "    </tr>\n",
       "    <tr>\n",
       "      <th>168689</th>\n",
       "      <td>8771f68b-68d3-4b0b-ae80-5de05f7fc1be</td>\n",
       "      <td>2018-08-28</td>\n",
       "      <td>priest</td>\n",
       "      <td>0</td>\n",
       "      <td>2018-08-27</td>\n",
       "      <td>2018-07-31</td>\n",
       "      <td>1036</td>\n",
       "    </tr>\n",
       "  </tbody>\n",
       "</table>\n",
       "<p>168690 rows × 7 columns</p>\n",
       "</div>"
      ],
      "text/plain": [
       "                                      deckid update_date    hero  \\\n",
       "0       639ddeb7-8328-4e6a-b1d5-f3dbd9119358  2018-08-07  shaman   \n",
       "1       639ddeb7-8328-4e6a-b1d5-f3dbd9119358  2018-08-07  shaman   \n",
       "2       639ddeb7-8328-4e6a-b1d5-f3dbd9119358  2018-08-07  shaman   \n",
       "3       639ddeb7-8328-4e6a-b1d5-f3dbd9119358  2018-08-07  shaman   \n",
       "4       639ddeb7-8328-4e6a-b1d5-f3dbd9119358  2018-08-07  shaman   \n",
       "...                                      ...         ...     ...   \n",
       "168685  8771f68b-68d3-4b0b-ae80-5de05f7fc1be  2018-08-28  priest   \n",
       "168686  8771f68b-68d3-4b0b-ae80-5de05f7fc1be  2018-08-28  priest   \n",
       "168687  8771f68b-68d3-4b0b-ae80-5de05f7fc1be  2018-08-28  priest   \n",
       "168688  8771f68b-68d3-4b0b-ae80-5de05f7fc1be  2018-08-28  priest   \n",
       "168689  8771f68b-68d3-4b0b-ae80-5de05f7fc1be  2018-08-28  priest   \n",
       "\n",
       "        update_delta week_update month_update  card  \n",
       "0                 21  2018-08-06   2018-07-31  1579  \n",
       "1                 21  2018-08-06   2018-07-31  1292  \n",
       "2                 21  2018-08-06   2018-07-31  1117  \n",
       "3                 21  2018-08-06   2018-07-31  1117  \n",
       "4                 21  2018-08-06   2018-07-31    83  \n",
       "...              ...         ...          ...   ...  \n",
       "168685             0  2018-08-27   2018-07-31   992  \n",
       "168686             0  2018-08-27   2018-07-31   962  \n",
       "168687             0  2018-08-27   2018-07-31   962  \n",
       "168688             0  2018-08-27   2018-07-31  1036  \n",
       "168689             0  2018-08-27   2018-07-31  1036  \n",
       "\n",
       "[168690 rows x 7 columns]"
      ]
     },
     "execution_count": 84,
     "metadata": {},
     "output_type": "execute_result"
    }
   ],
   "source": [
    "%%time\n",
    "# make decks smaller\n",
    "df_train_long_last_patch[\"card\"] = df_train_long_last_patch.pop(\"cards\").astype(np.uint16)\n",
    "df_train_long_last_patch"
   ]
  },
  {
   "cell_type": "code",
   "execution_count": 85,
   "id": "54183ddb",
   "metadata": {
    "execution": {
     "iopub.execute_input": "2022-10-29T00:30:24.582639Z",
     "iopub.status.busy": "2022-10-29T00:30:24.582154Z",
     "iopub.status.idle": "2022-10-29T00:30:24.589458Z",
     "shell.execute_reply": "2022-10-29T00:30:24.588755Z"
    },
    "papermill": {
     "duration": 0.164965,
     "end_time": "2022-10-29T00:30:24.591087",
     "exception": false,
     "start_time": "2022-10-29T00:30:24.426122",
     "status": "completed"
    },
    "tags": []
   },
   "outputs": [
    {
     "data": {
      "text/plain": [
       "0"
      ]
     },
     "execution_count": 85,
     "metadata": {},
     "output_type": "execute_result"
    }
   ],
   "source": [
    "# check that all cards were successfully converted\n",
    "df_train_long_last_patch[\"card\"].isna().sum()"
   ]
  },
  {
   "cell_type": "code",
   "execution_count": 86,
   "id": "0aa6991c",
   "metadata": {
    "execution": {
     "iopub.execute_input": "2022-10-29T00:30:24.898873Z",
     "iopub.status.busy": "2022-10-29T00:30:24.898515Z",
     "iopub.status.idle": "2022-10-29T00:30:24.928629Z",
     "shell.execute_reply": "2022-10-29T00:30:24.927536Z"
    },
    "papermill": {
     "duration": 0.184339,
     "end_time": "2022-10-29T00:30:24.930444",
     "exception": false,
     "start_time": "2022-10-29T00:30:24.746105",
     "status": "completed"
    },
    "tags": []
   },
   "outputs": [
    {
     "name": "stdout",
     "output_type": "stream",
     "text": [
      "CPU times: user 20.1 ms, sys: 3 µs, total: 20.1 ms\n",
      "Wall time: 20.1 ms\n"
     ]
    },
    {
     "data": {
      "text/html": [
       "<div>\n",
       "<style scoped>\n",
       "    .dataframe tbody tr th:only-of-type {\n",
       "        vertical-align: middle;\n",
       "    }\n",
       "\n",
       "    .dataframe tbody tr th {\n",
       "        vertical-align: top;\n",
       "    }\n",
       "\n",
       "    .dataframe thead th {\n",
       "        text-align: right;\n",
       "    }\n",
       "</style>\n",
       "<table border=\"1\" class=\"dataframe\">\n",
       "  <thead>\n",
       "    <tr style=\"text-align: right;\">\n",
       "      <th></th>\n",
       "      <th>card</th>\n",
       "      <th>size</th>\n",
       "    </tr>\n",
       "    <tr>\n",
       "      <th>hero</th>\n",
       "      <th></th>\n",
       "      <th></th>\n",
       "    </tr>\n",
       "  </thead>\n",
       "  <tbody>\n",
       "    <tr>\n",
       "      <th>druid</th>\n",
       "      <td>0</td>\n",
       "      <td>8</td>\n",
       "    </tr>\n",
       "    <tr>\n",
       "      <th>druid</th>\n",
       "      <td>1</td>\n",
       "      <td>2</td>\n",
       "    </tr>\n",
       "    <tr>\n",
       "      <th>druid</th>\n",
       "      <td>2</td>\n",
       "      <td>20</td>\n",
       "    </tr>\n",
       "    <tr>\n",
       "      <th>druid</th>\n",
       "      <td>3</td>\n",
       "      <td>5</td>\n",
       "    </tr>\n",
       "    <tr>\n",
       "      <th>druid</th>\n",
       "      <td>4</td>\n",
       "      <td>13</td>\n",
       "    </tr>\n",
       "    <tr>\n",
       "      <th>...</th>\n",
       "      <td>...</td>\n",
       "      <td>...</td>\n",
       "    </tr>\n",
       "    <tr>\n",
       "      <th>warrior</th>\n",
       "      <td>1695</td>\n",
       "      <td>18</td>\n",
       "    </tr>\n",
       "    <tr>\n",
       "      <th>warrior</th>\n",
       "      <td>1704</td>\n",
       "      <td>133</td>\n",
       "    </tr>\n",
       "    <tr>\n",
       "      <th>warrior</th>\n",
       "      <td>1711</td>\n",
       "      <td>13</td>\n",
       "    </tr>\n",
       "    <tr>\n",
       "      <th>warrior</th>\n",
       "      <td>1718</td>\n",
       "      <td>28</td>\n",
       "    </tr>\n",
       "    <tr>\n",
       "      <th>warrior</th>\n",
       "      <td>1721</td>\n",
       "      <td>9</td>\n",
       "    </tr>\n",
       "  </tbody>\n",
       "</table>\n",
       "<p>4342 rows × 2 columns</p>\n",
       "</div>"
      ],
      "text/plain": [
       "         card  size\n",
       "hero               \n",
       "druid       0     8\n",
       "druid       1     2\n",
       "druid       2    20\n",
       "druid       3     5\n",
       "druid       4    13\n",
       "...       ...   ...\n",
       "warrior  1695    18\n",
       "warrior  1704   133\n",
       "warrior  1711    13\n",
       "warrior  1718    28\n",
       "warrior  1721     9\n",
       "\n",
       "[4342 rows x 2 columns]"
      ]
     },
     "execution_count": 86,
     "metadata": {},
     "output_type": "execute_result"
    }
   ],
   "source": [
    "%%time\n",
    "# get popular cards for each class\n",
    "last_patch_count_by_class = df_train_long_last_patch.groupby([\"hero\",\"card\"], as_index=False).size().set_index(\"hero\")\n",
    "last_patch_count_by_class"
   ]
  },
  {
   "cell_type": "code",
   "execution_count": 87,
   "id": "97602b89",
   "metadata": {
    "execution": {
     "iopub.execute_input": "2022-10-29T00:30:25.246803Z",
     "iopub.status.busy": "2022-10-29T00:30:25.245823Z",
     "iopub.status.idle": "2022-10-29T00:30:25.259885Z",
     "shell.execute_reply": "2022-10-29T00:30:25.259065Z"
    },
    "papermill": {
     "duration": 0.176272,
     "end_time": "2022-10-29T00:30:25.261497",
     "exception": false,
     "start_time": "2022-10-29T00:30:25.085225",
     "status": "completed"
    },
    "tags": []
   },
   "outputs": [
    {
     "data": {
      "text/html": [
       "<div>\n",
       "<style scoped>\n",
       "    .dataframe tbody tr th:only-of-type {\n",
       "        vertical-align: middle;\n",
       "    }\n",
       "\n",
       "    .dataframe tbody tr th {\n",
       "        vertical-align: top;\n",
       "    }\n",
       "\n",
       "    .dataframe thead th {\n",
       "        text-align: right;\n",
       "    }\n",
       "</style>\n",
       "<table border=\"1\" class=\"dataframe\">\n",
       "  <thead>\n",
       "    <tr style=\"text-align: right;\">\n",
       "      <th></th>\n",
       "      <th>card</th>\n",
       "      <th>size</th>\n",
       "      <th>is_legendary</th>\n",
       "    </tr>\n",
       "    <tr>\n",
       "      <th>hero</th>\n",
       "      <th></th>\n",
       "      <th></th>\n",
       "      <th></th>\n",
       "    </tr>\n",
       "  </thead>\n",
       "  <tbody>\n",
       "    <tr>\n",
       "      <th>druid</th>\n",
       "      <td>0</td>\n",
       "      <td>8</td>\n",
       "      <td>False</td>\n",
       "    </tr>\n",
       "    <tr>\n",
       "      <th>mage</th>\n",
       "      <td>0</td>\n",
       "      <td>10</td>\n",
       "      <td>False</td>\n",
       "    </tr>\n",
       "    <tr>\n",
       "      <th>priest</th>\n",
       "      <td>0</td>\n",
       "      <td>2</td>\n",
       "      <td>False</td>\n",
       "    </tr>\n",
       "    <tr>\n",
       "      <th>warlock</th>\n",
       "      <td>0</td>\n",
       "      <td>1</td>\n",
       "      <td>False</td>\n",
       "    </tr>\n",
       "    <tr>\n",
       "      <th>druid</th>\n",
       "      <td>1</td>\n",
       "      <td>2</td>\n",
       "      <td>False</td>\n",
       "    </tr>\n",
       "    <tr>\n",
       "      <th>...</th>\n",
       "      <td>...</td>\n",
       "      <td>...</td>\n",
       "      <td>...</td>\n",
       "    </tr>\n",
       "    <tr>\n",
       "      <th>warrior</th>\n",
       "      <td>1695</td>\n",
       "      <td>18</td>\n",
       "      <td>False</td>\n",
       "    </tr>\n",
       "    <tr>\n",
       "      <th>warrior</th>\n",
       "      <td>1704</td>\n",
       "      <td>133</td>\n",
       "      <td>False</td>\n",
       "    </tr>\n",
       "    <tr>\n",
       "      <th>warrior</th>\n",
       "      <td>1711</td>\n",
       "      <td>13</td>\n",
       "      <td>False</td>\n",
       "    </tr>\n",
       "    <tr>\n",
       "      <th>warrior</th>\n",
       "      <td>1718</td>\n",
       "      <td>28</td>\n",
       "      <td>False</td>\n",
       "    </tr>\n",
       "    <tr>\n",
       "      <th>warrior</th>\n",
       "      <td>1721</td>\n",
       "      <td>9</td>\n",
       "      <td>False</td>\n",
       "    </tr>\n",
       "  </tbody>\n",
       "</table>\n",
       "<p>4342 rows × 3 columns</p>\n",
       "</div>"
      ],
      "text/plain": [
       "         card  size  is_legendary\n",
       "hero                             \n",
       "druid       0     8         False\n",
       "mage        0    10         False\n",
       "priest      0     2         False\n",
       "warlock     0     1         False\n",
       "druid       1     2         False\n",
       "...       ...   ...           ...\n",
       "warrior  1695    18         False\n",
       "warrior  1704   133         False\n",
       "warrior  1711    13         False\n",
       "warrior  1718    28         False\n",
       "warrior  1721     9         False\n",
       "\n",
       "[4342 rows x 3 columns]"
      ]
     },
     "execution_count": 87,
     "metadata": {},
     "output_type": "execute_result"
    }
   ],
   "source": [
    "# add card type so it doesn't recommend legendaries + faster lookup\n",
    "\n",
    "last_patch_count_by_class = last_patch_count_by_class.merge(dfp_cards[\"rarity\"]==\"legendary\",right_index=True, left_on=\"card\")\n",
    "last_patch_count_by_class.rename(columns={'rarity':'is_legendary'}, inplace=True)\n",
    "last_patch_count_by_class"
   ]
  },
  {
   "cell_type": "code",
   "execution_count": 88,
   "id": "385583f6",
   "metadata": {
    "execution": {
     "iopub.execute_input": "2022-10-29T00:30:25.569748Z",
     "iopub.status.busy": "2022-10-29T00:30:25.568733Z",
     "iopub.status.idle": "2022-10-29T00:30:25.579190Z",
     "shell.execute_reply": "2022-10-29T00:30:25.578624Z"
    },
    "papermill": {
     "duration": 0.16593,
     "end_time": "2022-10-29T00:30:25.580899",
     "exception": false,
     "start_time": "2022-10-29T00:30:25.414969",
     "status": "completed"
    },
    "tags": []
   },
   "outputs": [],
   "source": [
    "last_patch_popularity = {\n",
    "    hero:last_patch_count_by_class.loc[hero].sort_values(\"size\",ascending=False)\n",
    "        for hero in all_heroes\n",
    "}"
   ]
  },
  {
   "cell_type": "code",
   "execution_count": 89,
   "id": "f85a59ec",
   "metadata": {
    "execution": {
     "iopub.execute_input": "2022-10-29T00:30:25.921450Z",
     "iopub.status.busy": "2022-10-29T00:30:25.920626Z",
     "iopub.status.idle": "2022-10-29T00:30:25.927525Z",
     "shell.execute_reply": "2022-10-29T00:30:25.926659Z"
    },
    "papermill": {
     "duration": 0.194586,
     "end_time": "2022-10-29T00:30:25.929129",
     "exception": false,
     "start_time": "2022-10-29T00:30:25.734543",
     "status": "completed"
    },
    "tags": []
   },
   "outputs": [
    {
     "data": {
      "text/plain": [
       "{'paladin': 487,\n",
       " 'shaman': 511,\n",
       " 'priest': 525,\n",
       " 'rogue': 482,\n",
       " 'druid': 537,\n",
       " 'warrior': 434,\n",
       " 'hunter': 423,\n",
       " 'mage': 470,\n",
       " 'warlock': 473}"
      ]
     },
     "execution_count": 89,
     "metadata": {},
     "output_type": "execute_result"
    }
   ],
   "source": [
    "# how many cards does every subset have?\n",
    "{hero:len(df) for hero,df in last_patch_popularity.items()}"
   ]
  },
  {
   "cell_type": "code",
   "execution_count": 90,
   "id": "8b88e94c",
   "metadata": {
    "execution": {
     "iopub.execute_input": "2022-10-29T00:30:26.244115Z",
     "iopub.status.busy": "2022-10-29T00:30:26.243797Z",
     "iopub.status.idle": "2022-10-29T00:30:26.249200Z",
     "shell.execute_reply": "2022-10-29T00:30:26.248648Z"
    },
    "papermill": {
     "duration": 0.162695,
     "end_time": "2022-10-29T00:30:26.250848",
     "exception": false,
     "start_time": "2022-10-29T00:30:26.088153",
     "status": "completed"
    },
    "tags": []
   },
   "outputs": [],
   "source": [
    "# no need to check for the \"no more recommendations\" case as each subset has >33 options\n",
    "def recommend_id(deck, hero, popularities):\n",
    "    cnt = Counter(deck)\n",
    "    recommendation = []\n",
    "    for card_id, is_legendary in popularities[hero][[\"card\",\"is_legendary\"]].itertuples(index=False):\n",
    "        # check that it doesn't exceed the per-deck card limit i.e. 1 for legendary, 2 otherwise\n",
    "        if cnt[card_id] < 1 + (not is_legendary):\n",
    "            recommendation.append(card_id)\n",
    "        \n",
    "        # if the list is full, return it\n",
    "        if len(recommendation) == 3:\n",
    "            return recommendation"
   ]
  },
  {
   "cell_type": "code",
   "execution_count": 91,
   "id": "8efd0f80",
   "metadata": {
    "execution": {
     "iopub.execute_input": "2022-10-29T00:30:26.561438Z",
     "iopub.status.busy": "2022-10-29T00:30:26.560461Z",
     "iopub.status.idle": "2022-10-29T00:30:28.022362Z",
     "shell.execute_reply": "2022-10-29T00:30:28.021586Z"
    },
    "papermill": {
     "duration": 1.619467,
     "end_time": "2022-10-29T00:30:28.024307",
     "exception": false,
     "start_time": "2022-10-29T00:30:26.404840",
     "status": "completed"
    },
    "tags": []
   },
   "outputs": [],
   "source": [
    "# predict for test set\n",
    "popular_by_hero_preds = [recommend_id(deck, hero, last_patch_popularity) \n",
    "                         for deck, hero in dfp_test[[\"cards_incomplete\",\"hero\"]].itertuples(index=False)]"
   ]
  },
  {
   "cell_type": "code",
   "execution_count": 92,
   "id": "61c4b965",
   "metadata": {
    "execution": {
     "iopub.execute_input": "2022-10-29T00:30:28.332765Z",
     "iopub.status.busy": "2022-10-29T00:30:28.332426Z",
     "iopub.status.idle": "2022-10-29T00:30:28.337410Z",
     "shell.execute_reply": "2022-10-29T00:30:28.336520Z"
    },
    "papermill": {
     "duration": 0.160278,
     "end_time": "2022-10-29T00:30:28.339204",
     "exception": false,
     "start_time": "2022-10-29T00:30:28.178926",
     "status": "completed"
    },
    "tags": []
   },
   "outputs": [],
   "source": [
    "def submit(deck_ids, preds):\n",
    "    str_preds = [\" \".join([str(inverse_card_id_mapper[card_id]) for card_id in deck]) for deck in preds]\n",
    "    return pd.DataFrame({\n",
    "        \"deckid\":deck_ids,\n",
    "        \"recommendations\": str_preds\n",
    "    })"
   ]
  },
  {
   "cell_type": "code",
   "execution_count": 93,
   "id": "72bc0967",
   "metadata": {
    "execution": {
     "iopub.execute_input": "2022-10-29T00:30:28.644930Z",
     "iopub.status.busy": "2022-10-29T00:30:28.644571Z",
     "iopub.status.idle": "2022-10-29T00:30:28.657885Z",
     "shell.execute_reply": "2022-10-29T00:30:28.657098Z"
    },
    "papermill": {
     "duration": 0.168609,
     "end_time": "2022-10-29T00:30:28.659413",
     "exception": false,
     "start_time": "2022-10-29T00:30:28.490804",
     "status": "completed"
    },
    "tags": []
   },
   "outputs": [
    {
     "data": {
      "text/html": [
       "<div>\n",
       "<style scoped>\n",
       "    .dataframe tbody tr th:only-of-type {\n",
       "        vertical-align: middle;\n",
       "    }\n",
       "\n",
       "    .dataframe tbody tr th {\n",
       "        vertical-align: top;\n",
       "    }\n",
       "\n",
       "    .dataframe thead th {\n",
       "        text-align: right;\n",
       "    }\n",
       "</style>\n",
       "<table border=\"1\" class=\"dataframe\">\n",
       "  <thead>\n",
       "    <tr style=\"text-align: right;\">\n",
       "      <th></th>\n",
       "      <th>deckid</th>\n",
       "      <th>recommendations</th>\n",
       "    </tr>\n",
       "  </thead>\n",
       "  <tbody>\n",
       "    <tr>\n",
       "      <th>0</th>\n",
       "      <td>90509acf-14b3-46c2-baab-94226b4f1ae5</td>\n",
       "      <td>431 1024939 1024998</td>\n",
       "    </tr>\n",
       "    <tr>\n",
       "      <th>1</th>\n",
       "      <td>edbc7193-15d8-4d63-813a-8b02896aebaf</td>\n",
       "      <td>89799 76886 89896</td>\n",
       "    </tr>\n",
       "    <tr>\n",
       "      <th>2</th>\n",
       "      <td>3e1e5712-c7de-4e4b-83b0-639fbeedd98f</td>\n",
       "      <td>89807 89913 1024978</td>\n",
       "    </tr>\n",
       "    <tr>\n",
       "      <th>3</th>\n",
       "      <td>27037494-cbdc-4f25-a479-a6d266361f07</td>\n",
       "      <td>1024939 1024998 554</td>\n",
       "    </tr>\n",
       "    <tr>\n",
       "      <th>4</th>\n",
       "      <td>6a307895-2441-4ebf-9653-6b54e2e0111b</td>\n",
       "      <td>177 475124 263</td>\n",
       "    </tr>\n",
       "    <tr>\n",
       "      <th>...</th>\n",
       "      <td>...</td>\n",
       "      <td>...</td>\n",
       "    </tr>\n",
       "    <tr>\n",
       "      <th>2216</th>\n",
       "      <td>b99e946f-502e-4ed3-b76b-2001408602f1</td>\n",
       "      <td>55463 1024998 76911</td>\n",
       "    </tr>\n",
       "    <tr>\n",
       "      <th>2217</th>\n",
       "      <td>950ad114-5fda-41b9-a469-3d1da5be356d</td>\n",
       "      <td>620 329 475014</td>\n",
       "    </tr>\n",
       "    <tr>\n",
       "      <th>2218</th>\n",
       "      <td>cc5f646c-299d-4347-9099-381fe0fe7b21</td>\n",
       "      <td>1024939 76911 554</td>\n",
       "    </tr>\n",
       "    <tr>\n",
       "      <th>2219</th>\n",
       "      <td>e9fe9eef-3201-4df0-9342-faaa305f3553</td>\n",
       "      <td>55552 89450 89861</td>\n",
       "    </tr>\n",
       "    <tr>\n",
       "      <th>2220</th>\n",
       "      <td>1411bcc7-5a34-41a3-af2f-c4548121e69c</td>\n",
       "      <td>55552 1024977 89805</td>\n",
       "    </tr>\n",
       "  </tbody>\n",
       "</table>\n",
       "<p>2221 rows × 2 columns</p>\n",
       "</div>"
      ],
      "text/plain": [
       "                                    deckid      recommendations\n",
       "0     90509acf-14b3-46c2-baab-94226b4f1ae5  431 1024939 1024998\n",
       "1     edbc7193-15d8-4d63-813a-8b02896aebaf    89799 76886 89896\n",
       "2     3e1e5712-c7de-4e4b-83b0-639fbeedd98f  89807 89913 1024978\n",
       "3     27037494-cbdc-4f25-a479-a6d266361f07  1024939 1024998 554\n",
       "4     6a307895-2441-4ebf-9653-6b54e2e0111b       177 475124 263\n",
       "...                                    ...                  ...\n",
       "2216  b99e946f-502e-4ed3-b76b-2001408602f1  55463 1024998 76911\n",
       "2217  950ad114-5fda-41b9-a469-3d1da5be356d       620 329 475014\n",
       "2218  cc5f646c-299d-4347-9099-381fe0fe7b21    1024939 76911 554\n",
       "2219  e9fe9eef-3201-4df0-9342-faaa305f3553    55552 89450 89861\n",
       "2220  1411bcc7-5a34-41a3-af2f-c4548121e69c  55552 1024977 89805\n",
       "\n",
       "[2221 rows x 2 columns]"
      ]
     },
     "execution_count": 93,
     "metadata": {},
     "output_type": "execute_result"
    }
   ],
   "source": [
    "popular_by_hero = submit(dfp_test[\"deckid\"], popular_by_hero_preds)\n",
    "popular_by_hero"
   ]
  },
  {
   "cell_type": "code",
   "execution_count": 94,
   "id": "c8d9e3aa",
   "metadata": {
    "execution": {
     "iopub.execute_input": "2022-10-29T00:30:28.973297Z",
     "iopub.status.busy": "2022-10-29T00:30:28.972369Z",
     "iopub.status.idle": "2022-10-29T00:30:28.981302Z",
     "shell.execute_reply": "2022-10-29T00:30:28.980783Z"
    },
    "papermill": {
     "duration": 0.165645,
     "end_time": "2022-10-29T00:30:28.983020",
     "exception": false,
     "start_time": "2022-10-29T00:30:28.817375",
     "status": "completed"
    },
    "tags": []
   },
   "outputs": [],
   "source": [
    "popular_by_hero.to_csv(\"popular_by_hero.csv\", index=False)"
   ]
  },
  {
   "cell_type": "markdown",
   "id": "57a35145",
   "metadata": {
    "papermill": {
     "duration": 0.15414,
     "end_time": "2022-10-29T00:30:29.329399",
     "exception": false,
     "start_time": "2022-10-29T00:30:29.175259",
     "status": "completed"
    },
    "tags": []
   },
   "source": [
    "This gets a **0.17251 Public MAP@3**, which is decent (8/22 LB) but could be better."
   ]
  },
  {
   "cell_type": "code",
   "execution_count": 95,
   "id": "05333d94",
   "metadata": {
    "execution": {
     "iopub.execute_input": "2022-10-29T00:30:29.638353Z",
     "iopub.status.busy": "2022-10-29T00:30:29.637498Z",
     "iopub.status.idle": "2022-10-29T00:30:29.642341Z",
     "shell.execute_reply": "2022-10-29T00:30:29.641839Z"
    },
    "papermill": {
     "duration": 0.160871,
     "end_time": "2022-10-29T00:30:29.643821",
     "exception": false,
     "start_time": "2022-10-29T00:30:29.482950",
     "status": "completed"
    },
    "tags": []
   },
   "outputs": [
    {
     "data": {
      "text/plain": [
       "0"
      ]
     },
     "execution_count": 95,
     "metadata": {},
     "output_type": "execute_result"
    }
   ],
   "source": [
    "sum((Counter(card_sets) - Counter(card_sets)).values())"
   ]
  },
  {
   "cell_type": "code",
   "execution_count": 96,
   "id": "d37973d9",
   "metadata": {
    "execution": {
     "iopub.execute_input": "2022-10-29T00:30:29.953185Z",
     "iopub.status.busy": "2022-10-29T00:30:29.952732Z",
     "iopub.status.idle": "2022-10-29T00:30:29.961217Z",
     "shell.execute_reply": "2022-10-29T00:30:29.960394Z"
    },
    "papermill": {
     "duration": 0.165069,
     "end_time": "2022-10-29T00:30:29.962773",
     "exception": false,
     "start_time": "2022-10-29T00:30:29.797704",
     "status": "completed"
    },
    "tags": []
   },
   "outputs": [],
   "source": [
    "# class version\n",
    "class PopularityModel:\n",
    "    def fit(self, df_train, df_cards, deck_key=\"cards\"):\n",
    "        card_counts_by_hero = (\n",
    "           df_train\n",
    "           .explode(deck_key,ignore_index=True)\n",
    "           .groupby([\"hero\",deck_key], as_index=False)\n",
    "           .size()\n",
    "           .set_index(\"hero\")\n",
    "           .merge(df_cards[\"rarity\"]==\"legendary\",right_index=True, left_on=deck_key)\n",
    "           .rename(columns={'rarity':'is_legendary'})\n",
    "        )\n",
    "    \n",
    "        self.card_popularity = {\n",
    "            hero:card_counts_by_hero.loc[hero].sort_values(\"size\",ascending=False)\n",
    "                for hero in all_heroes\n",
    "        }\n",
    "        \n",
    "        self.deck_key = deck_key\n",
    "        return self\n",
    "    \n",
    "    def recommend_one(self, deck, hero, max_k):\n",
    "        cnt = Counter(deck)\n",
    "        recommendation = []\n",
    "        for card_id, is_legendary in self.card_popularity[hero][[self.deck_key,\"is_legendary\"]].itertuples(index=False):\n",
    "            # check that it doesn't exceed the per-deck card limit i.e. 1 for legendary, 2 otherwise\n",
    "            if cnt[card_id] < 1 + (not is_legendary):\n",
    "                recommendation.append(card_id)\n",
    "        \n",
    "            # if the list is full, return it\n",
    "            if len(recommendation) == max_k:\n",
    "                return recommendation\n",
    "        \n",
    "    def predict(self, df_test, deck_key=\"cards_incomplete\", max_k=3):\n",
    "        return [self.recommend_one(deck, hero, max_k) \n",
    "                         for deck, hero in df_test[[deck_key,\"hero\"]].itertuples(index=False)]"
   ]
  },
  {
   "cell_type": "code",
   "execution_count": 97,
   "id": "153ec6f5",
   "metadata": {
    "execution": {
     "iopub.execute_input": "2022-10-29T00:30:30.275813Z",
     "iopub.status.busy": "2022-10-29T00:30:30.275497Z",
     "iopub.status.idle": "2022-10-29T00:30:31.828412Z",
     "shell.execute_reply": "2022-10-29T00:30:31.827749Z"
    },
    "papermill": {
     "duration": 1.712478,
     "end_time": "2022-10-29T00:30:31.830334",
     "exception": false,
     "start_time": "2022-10-29T00:30:30.117856",
     "status": "completed"
    },
    "tags": []
   },
   "outputs": [],
   "source": [
    "# check that this gives the same predictions as before\n",
    "m1 = PopularityModel().fit(df_train_last_patch, dfp_cards)\n",
    "m1_preds = m1.predict(dfp_test)\n",
    "\n",
    "assert all([all(a==b for a,b in zip(x,y)) for x,y in zip(popular_by_hero_preds, m1_preds)])"
   ]
  },
  {
   "cell_type": "markdown",
   "id": "0085715e",
   "metadata": {
    "papermill": {
     "duration": 0.158616,
     "end_time": "2022-10-29T00:30:32.146654",
     "exception": false,
     "start_time": "2022-10-29T00:30:31.988038",
     "status": "completed"
    },
    "tags": []
   },
   "source": [
    "## Correction for duplicate decks"
   ]
  },
  {
   "cell_type": "code",
   "execution_count": 98,
   "id": "69823f3d",
   "metadata": {
    "execution": {
     "iopub.execute_input": "2022-10-29T00:30:32.502460Z",
     "iopub.status.busy": "2022-10-29T00:30:32.502120Z",
     "iopub.status.idle": "2022-10-29T00:30:33.952205Z",
     "shell.execute_reply": "2022-10-29T00:30:33.950893Z"
    },
    "papermill": {
     "duration": 1.609058,
     "end_time": "2022-10-29T00:30:33.954197",
     "exception": false,
     "start_time": "2022-10-29T00:30:32.345139",
     "status": "completed"
    },
    "tags": []
   },
   "outputs": [
    {
     "name": "stdout",
     "output_type": "stream",
     "text": [
      "87578 (0.146) duplicates\n"
     ]
    }
   ],
   "source": [
    "# are there duplicate decks in the train set?\n",
    "_ = len(dfp_train) \n",
    "__ = dfp_train[\"cards\"].apply(lambda deck: tuple(sorted(deck))).nunique()\n",
    "print(f\"{_-__} ({(_ - __)/_:.3f}) duplicates\")"
   ]
  },
  {
   "cell_type": "code",
   "execution_count": 99,
   "id": "9f15a97d",
   "metadata": {
    "execution": {
     "iopub.execute_input": "2022-10-29T00:30:34.266412Z",
     "iopub.status.busy": "2022-10-29T00:30:34.265801Z",
     "iopub.status.idle": "2022-10-29T00:30:44.667956Z",
     "shell.execute_reply": "2022-10-29T00:30:44.666887Z"
    },
    "papermill": {
     "duration": 10.558271,
     "end_time": "2022-10-29T00:30:44.669995",
     "exception": false,
     "start_time": "2022-10-29T00:30:34.111724",
     "status": "completed"
    },
    "tags": []
   },
   "outputs": [
    {
     "name": "stdout",
     "output_type": "stream",
     "text": [
      "CPU times: user 8.83 s, sys: 1.56 s, total: 10.4 s\n",
      "Wall time: 10.4 s\n"
     ]
    }
   ],
   "source": [
    "%%time\n",
    "# move decks to CSR format for faster calculations\n",
    "def df_deck_to_csr(df, deck_col,shape=None):\n",
    "    aux = (df\n",
    "           .reset_index()\n",
    "           .explode(deck_col, ignore_index=False)\n",
    "           .groupby([\"index\",deck_col])\n",
    "           .size()\n",
    "           .rename(\"card_count\")\n",
    "           .reset_index()\n",
    "           .rename(columns={\"index\":\"deck_idx\", deck_col:\"card_id\"}))\n",
    "    # use the (data, (row_idx, col_idx)) constructor\n",
    "    return csr_matrix((aux[\"card_count\"],(aux[\"deck_idx\"], aux[\"card_id\"])), \n",
    "                      dtype=np.uint8,\n",
    "                      shape=shape)\n",
    "          \n",
    "train_csr = df_deck_to_csr(dfp_train, \"cards\")\n",
    "test_csr = df_deck_to_csr(dfp_test, \"cards_incomplete\")"
   ]
  },
  {
   "cell_type": "code",
   "execution_count": 100,
   "id": "79890bc1",
   "metadata": {
    "execution": {
     "iopub.execute_input": "2022-10-29T00:30:44.985796Z",
     "iopub.status.busy": "2022-10-29T00:30:44.985212Z",
     "iopub.status.idle": "2022-10-29T00:30:44.989959Z",
     "shell.execute_reply": "2022-10-29T00:30:44.989182Z"
    },
    "papermill": {
     "duration": 0.162985,
     "end_time": "2022-10-29T00:30:44.991579",
     "exception": false,
     "start_time": "2022-10-29T00:30:44.828594",
     "status": "completed"
    },
    "tags": []
   },
   "outputs": [
    {
     "data": {
      "text/plain": [
       "(<601304x1723 sparse matrix of type '<class 'numpy.uint8'>'\n",
       " \twith 11543225 stored elements in Compressed Sparse Row format>,\n",
       " <2221x1723 sparse matrix of type '<class 'numpy.uint8'>'\n",
       " \twith 39456 stored elements in Compressed Sparse Row format>)"
      ]
     },
     "execution_count": 100,
     "metadata": {},
     "output_type": "execute_result"
    }
   ],
   "source": [
    "train_csr, test_csr"
   ]
  },
  {
   "cell_type": "code",
   "execution_count": 101,
   "id": "02a92cc6",
   "metadata": {
    "execution": {
     "iopub.execute_input": "2022-10-29T00:30:45.308778Z",
     "iopub.status.busy": "2022-10-29T00:30:45.308240Z",
     "iopub.status.idle": "2022-10-29T00:30:45.313582Z",
     "shell.execute_reply": "2022-10-29T00:30:45.312798Z"
    },
    "papermill": {
     "duration": 0.168373,
     "end_time": "2022-10-29T00:30:45.315226",
     "exception": false,
     "start_time": "2022-10-29T00:30:45.146853",
     "status": "completed"
    },
    "tags": []
   },
   "outputs": [
    {
     "data": {
      "text/plain": [
       "['paladin',\n",
       " 'shaman',\n",
       " 'priest',\n",
       " 'rogue',\n",
       " 'druid',\n",
       " 'warrior',\n",
       " 'hunter',\n",
       " 'mage',\n",
       " 'warlock']"
      ]
     },
     "execution_count": 101,
     "metadata": {},
     "output_type": "execute_result"
    }
   ],
   "source": [
    "all_heroes"
   ]
  },
  {
   "cell_type": "code",
   "execution_count": 102,
   "id": "928c8a22",
   "metadata": {
    "execution": {
     "iopub.execute_input": "2022-10-29T00:30:45.629248Z",
     "iopub.status.busy": "2022-10-29T00:30:45.628964Z",
     "iopub.status.idle": "2022-10-29T00:30:53.830471Z",
     "shell.execute_reply": "2022-10-29T00:30:53.829508Z"
    },
    "papermill": {
     "duration": 8.362003,
     "end_time": "2022-10-29T00:30:53.832222",
     "exception": false,
     "start_time": "2022-10-29T00:30:45.470219",
     "status": "completed"
    },
    "tags": []
   },
   "outputs": [
    {
     "name": "stderr",
     "output_type": "stream",
     "text": [
      "100%|██████████| 9/9 [00:06<00:00,  1.44it/s]\n"
     ]
    },
    {
     "data": {
      "text/plain": [
       "{'paladin': <67672x1723 sparse matrix of type '<class 'numpy.uint8'>'\n",
       " \twith 1334864 stored elements in Compressed Sparse Row format>,\n",
       " 'shaman': <54926x1723 sparse matrix of type '<class 'numpy.uint8'>'\n",
       " \twith 1044540 stored elements in Compressed Sparse Row format>,\n",
       " 'priest': <73709x1723 sparse matrix of type '<class 'numpy.uint8'>'\n",
       " \twith 1464120 stored elements in Compressed Sparse Row format>,\n",
       " 'rogue': <55961x1723 sparse matrix of type '<class 'numpy.uint8'>'\n",
       " \twith 1078795 stored elements in Compressed Sparse Row format>,\n",
       " 'druid': <54917x1723 sparse matrix of type '<class 'numpy.uint8'>'\n",
       " \twith 1038458 stored elements in Compressed Sparse Row format>,\n",
       " 'warrior': <53239x1723 sparse matrix of type '<class 'numpy.uint8'>'\n",
       " \twith 1035359 stored elements in Compressed Sparse Row format>,\n",
       " 'hunter': <49618x1723 sparse matrix of type '<class 'numpy.uint8'>'\n",
       " \twith 936177 stored elements in Compressed Sparse Row format>,\n",
       " 'mage': <67499x1723 sparse matrix of type '<class 'numpy.uint8'>'\n",
       " \twith 1349931 stored elements in Compressed Sparse Row format>,\n",
       " 'warlock': <36203x1723 sparse matrix of type '<class 'numpy.uint8'>'\n",
       " \twith 693635 stored elements in Compressed Sparse Row format>}"
      ]
     },
     "execution_count": 102,
     "metadata": {},
     "output_type": "execute_result"
    }
   ],
   "source": [
    "_ = dfp_train[[\"hero\",\"cards\"]].copy()\n",
    "_[\"sorted_cards\"] = _[\"cards\"].apply(lambda deck: tuple(sorted(deck)))\n",
    "_.drop_duplicates(subset=[\"hero\",\"sorted_cards\"], inplace=True)\n",
    "\n",
    "# this is faster\n",
    "subsets = {hero: _[_[\"hero\"]==hero].reset_index(drop=True) for hero in all_heroes}\n",
    "\n",
    "train_unique_csr_by_hero = {\n",
    "    hero: df_deck_to_csr(subsets[hero], \n",
    "                         \"cards\", \n",
    "                         shape=(len(subsets[hero]),train_csr.shape[1]))\n",
    "        for hero in tqdm(all_heroes)\n",
    "}\n",
    "\n",
    "train_unique_csr_by_hero"
   ]
  },
  {
   "cell_type": "code",
   "execution_count": 103,
   "id": "20b33618",
   "metadata": {
    "execution": {
     "iopub.execute_input": "2022-10-29T00:30:54.179824Z",
     "iopub.status.busy": "2022-10-29T00:30:54.179517Z",
     "iopub.status.idle": "2022-10-29T00:30:54.411560Z",
     "shell.execute_reply": "2022-10-29T00:30:54.410524Z"
    },
    "papermill": {
     "duration": 0.426741,
     "end_time": "2022-10-29T00:30:54.413557",
     "exception": false,
     "start_time": "2022-10-29T00:30:53.986816",
     "status": "completed"
    },
    "tags": []
   },
   "outputs": [],
   "source": [
    "from sklearn.neighbors import NearestNeighbors"
   ]
  },
  {
   "cell_type": "code",
   "execution_count": 104,
   "id": "d7af41de",
   "metadata": {
    "execution": {
     "iopub.execute_input": "2022-10-29T00:30:54.724442Z",
     "iopub.status.busy": "2022-10-29T00:30:54.723959Z",
     "iopub.status.idle": "2022-10-29T00:31:02.725564Z",
     "shell.execute_reply": "2022-10-29T00:31:02.724660Z"
    },
    "papermill": {
     "duration": 8.158588,
     "end_time": "2022-10-29T00:31:02.727399",
     "exception": false,
     "start_time": "2022-10-29T00:30:54.568811",
     "status": "completed"
    },
    "tags": []
   },
   "outputs": [
    {
     "name": "stderr",
     "output_type": "stream",
     "text": [
      "100%|██████████| 9/9 [00:07<00:00,  1.13it/s]\n"
     ]
    }
   ],
   "source": [
    "knn_by_hero = {}\n",
    "\n",
    "dist_mat = np.empty((len(dfp_test),3))\n",
    "idx_mat =  np.empty((len(dfp_test),3),dtype=int)\n",
    "\n",
    "for hero in tqdm(all_heroes):\n",
    "    \n",
    "    # fit per-hero 3-NN models\n",
    "    model = NearestNeighbors(n_neighbors=3, metric=\"l1\", n_jobs=-1).fit(train_unique_csr_by_hero[hero])\n",
    "    knn_by_hero[hero] = model\n",
    "    \n",
    "    # predict on said hero's test rows\n",
    "    test_idxs = dfp_test[\"hero\"]==hero\n",
    "    per_hero_dist, per_hero_idx = model.kneighbors(test_csr[test_idxs])\n",
    "    \n",
    "    # save it to general matrices\n",
    "    dist_mat[test_idxs] = per_hero_dist\n",
    "    idx_mat[test_idxs] = per_hero_idx"
   ]
  },
  {
   "cell_type": "code",
   "execution_count": 105,
   "id": "8e6c9282",
   "metadata": {
    "execution": {
     "iopub.execute_input": "2022-10-29T00:31:03.039885Z",
     "iopub.status.busy": "2022-10-29T00:31:03.039202Z",
     "iopub.status.idle": "2022-10-29T00:31:03.054885Z",
     "shell.execute_reply": "2022-10-29T00:31:03.053754Z"
    },
    "papermill": {
     "duration": 0.174004,
     "end_time": "2022-10-29T00:31:03.056690",
     "exception": false,
     "start_time": "2022-10-29T00:31:02.882686",
     "status": "completed"
    },
    "tags": []
   },
   "outputs": [
    {
     "name": "stdout",
     "output_type": "stream",
     "text": [
      "[464  54  22]\n",
      "[20.89  2.43  0.99] % of the test set\n"
     ]
    }
   ],
   "source": [
    "_ = (dist_mat == 1).sum(axis=0)\n",
    "print(_)\n",
    "print((_ / len(dfp_test)).round(4) * 100, \"% of the test set\")"
   ]
  },
  {
   "cell_type": "markdown",
   "id": "dd864e74",
   "metadata": {
    "papermill": {
     "duration": 0.157042,
     "end_time": "2022-10-29T00:31:03.369547",
     "exception": false,
     "start_time": "2022-10-29T00:31:03.212505",
     "status": "completed"
    },
    "tags": []
   },
   "source": [
    "* ~20\\% of the decks in test set have an almost-exact overlap in the train set\n",
    "* ~2.4 and 1\\% of the decks in the test set not only have one almost-exact match, but 2 or 3+ (meaning there are decks that only differ in 1 card and that's the one missing in the test set).\n",
    "* It should be noted that as the distances are sorted in ascending order, the set of decks with i matches is a subset of those with i-1 matches.\n",
    "\n",
    "For the 464-54=410 decks that have exactly 1 match we have some confidence that the missing card is the correct recommendation. In the other cases we are less certain, but as it's a very small fraction of the set it should drift the score too much."
   ]
  },
  {
   "cell_type": "code",
   "execution_count": 106,
   "id": "19479cba",
   "metadata": {
    "execution": {
     "iopub.execute_input": "2022-10-29T00:31:03.682843Z",
     "iopub.status.busy": "2022-10-29T00:31:03.682517Z",
     "iopub.status.idle": "2022-10-29T00:31:03.687896Z",
     "shell.execute_reply": "2022-10-29T00:31:03.687008Z"
    },
    "papermill": {
     "duration": 0.163828,
     "end_time": "2022-10-29T00:31:03.689884",
     "exception": false,
     "start_time": "2022-10-29T00:31:03.526056",
     "status": "completed"
    },
    "tags": []
   },
   "outputs": [],
   "source": [
    "# retrieving the recommendations\n",
    "def recommend(src_deck, distances, indices, hero):\n",
    "    recommendations = []\n",
    "    for dist, idx in zip(distances, indices):\n",
    "        # if dist is not 1 it's not a match\n",
    "        if dist > 1:\n",
    "            break\n",
    "        # retrieve the missing card_id\n",
    "        tgt_deck = train_unique_csr_by_hero[hero][idx]\n",
    "        # nonzero gives a tuple by dim -> we want the 0th element of col idxs \n",
    "        recommendations.append((tgt_deck-src_deck).nonzero()[1][0])\n",
    "    return recommendations"
   ]
  },
  {
   "cell_type": "code",
   "execution_count": 107,
   "id": "3ea7ebbc",
   "metadata": {
    "execution": {
     "iopub.execute_input": "2022-10-29T00:31:04.004832Z",
     "iopub.status.busy": "2022-10-29T00:31:04.004122Z",
     "iopub.status.idle": "2022-10-29T00:31:04.217769Z",
     "shell.execute_reply": "2022-10-29T00:31:04.217062Z"
    },
    "papermill": {
     "duration": 0.372362,
     "end_time": "2022-10-29T00:31:04.219775",
     "exception": false,
     "start_time": "2022-10-29T00:31:03.847413",
     "status": "completed"
    },
    "tags": []
   },
   "outputs": [],
   "source": [
    "duplicate_correction_recommendations = [recommend(deck, dist, idx, hero) \n",
    "                                        for deck, dist, idx, hero in zip(test_csr, \n",
    "                                                                         dist_mat, \n",
    "                                                                         idx_mat, \n",
    "                                                                         dfp_test[\"hero\"])]"
   ]
  },
  {
   "cell_type": "code",
   "execution_count": 108,
   "id": "9143f168",
   "metadata": {
    "execution": {
     "iopub.execute_input": "2022-10-29T00:31:04.572960Z",
     "iopub.status.busy": "2022-10-29T00:31:04.572654Z",
     "iopub.status.idle": "2022-10-29T00:31:04.578251Z",
     "shell.execute_reply": "2022-10-29T00:31:04.577470Z"
    },
    "papermill": {
     "duration": 0.203475,
     "end_time": "2022-10-29T00:31:04.580013",
     "exception": false,
     "start_time": "2022-10-29T00:31:04.376538",
     "status": "completed"
    },
    "tags": []
   },
   "outputs": [
    {
     "data": {
      "text/plain": [
       "[[], [], [], [], [677], [], [], [1117], [], [908]]"
      ]
     },
     "execution_count": 108,
     "metadata": {},
     "output_type": "execute_result"
    }
   ],
   "source": [
    "# peek\n",
    "duplicate_correction_recommendations[:10]"
   ]
  },
  {
   "cell_type": "code",
   "execution_count": 109,
   "id": "92882d04",
   "metadata": {
    "execution": {
     "iopub.execute_input": "2022-10-29T00:31:04.894735Z",
     "iopub.status.busy": "2022-10-29T00:31:04.894158Z",
     "iopub.status.idle": "2022-10-29T00:31:04.898111Z",
     "shell.execute_reply": "2022-10-29T00:31:04.897310Z"
    },
    "papermill": {
     "duration": 0.16394,
     "end_time": "2022-10-29T00:31:04.899525",
     "exception": false,
     "start_time": "2022-10-29T00:31:04.735585",
     "status": "completed"
    },
    "tags": []
   },
   "outputs": [],
   "source": [
    "# utility function\n",
    "def remove_duplicates(s):\n",
    "    return list(dict.fromkeys(s))"
   ]
  },
  {
   "cell_type": "code",
   "execution_count": 110,
   "id": "d750095d",
   "metadata": {
    "execution": {
     "iopub.execute_input": "2022-10-29T00:31:05.214895Z",
     "iopub.status.busy": "2022-10-29T00:31:05.214112Z",
     "iopub.status.idle": "2022-10-29T00:31:05.227446Z",
     "shell.execute_reply": "2022-10-29T00:31:05.226928Z"
    },
    "papermill": {
     "duration": 0.173469,
     "end_time": "2022-10-29T00:31:05.229189",
     "exception": false,
     "start_time": "2022-10-29T00:31:05.055720",
     "status": "completed"
    },
    "tags": []
   },
   "outputs": [],
   "source": [
    "# keep all the recommendations from the correction\n",
    "def append_corrections(preds, corrections, k_corrections=3, k_predictions=3):\n",
    "    return [remove_duplicates(correction[:k_corrections] + pred)[:k_predictions] \n",
    "            for correction, pred in zip(corrections, preds)]\n",
    "\n",
    "duplicate_corrected_preds_all = [append_corrections(popular_by_hero_preds,\n",
    "                                                     duplicate_correction_recommendations,\n",
    "                                                     k_corrections=i+1)\n",
    "                                 for i in range(3)]"
   ]
  },
  {
   "cell_type": "code",
   "execution_count": 111,
   "id": "378e27a7",
   "metadata": {
    "execution": {
     "iopub.execute_input": "2022-10-29T00:31:05.544886Z",
     "iopub.status.busy": "2022-10-29T00:31:05.544406Z",
     "iopub.status.idle": "2022-10-29T00:31:05.570512Z",
     "shell.execute_reply": "2022-10-29T00:31:05.569961Z"
    },
    "papermill": {
     "duration": 0.186195,
     "end_time": "2022-10-29T00:31:05.572131",
     "exception": false,
     "start_time": "2022-10-29T00:31:05.385936",
     "status": "completed"
    },
    "tags": []
   },
   "outputs": [],
   "source": [
    "# push multiple\n",
    "for i in range(3):\n",
    "    submit(dfp_test[\"deckid\"], duplicate_corrected_preds_all[i]).to_csv(f\"duplicate_correction_first_{i+1}.csv\",index=False)"
   ]
  },
  {
   "cell_type": "markdown",
   "id": "52cac133",
   "metadata": {
    "papermill": {
     "duration": 0.158962,
     "end_time": "2022-10-29T00:31:05.888794",
     "exception": false,
     "start_time": "2022-10-29T00:31:05.729832",
     "status": "completed"
    },
    "tags": []
   },
   "source": [
    "**LB performance so far**\n",
    "\n",
    "Submission | LB MAP@3\n",
    ":---: | :---: \n",
    "Popular | 0.17251\n",
    "Duplicate correction (first) | 0.29237\n",
    "Duplicate correction (first 2) | 0.29432\n",
    "Duplicate correction (all 3) | 0.29462\n",
    "\n",
    "* This shows that even in the more uncertain cases, there's still benefit in using highly-overlapped decks\n",
    "* The performance increase makes a lot of sense if we assume the duplicate correction has a very good performance, since 0.17251 + 0.2 * (0.8-0.17251) = 0.298 which is close to the LB performance after the correction"
   ]
  },
  {
   "cell_type": "code",
   "execution_count": 112,
   "id": "5ddd52ee",
   "metadata": {
    "execution": {
     "iopub.execute_input": "2022-10-29T00:31:06.207714Z",
     "iopub.status.busy": "2022-10-29T00:31:06.207185Z",
     "iopub.status.idle": "2022-10-29T00:31:06.218938Z",
     "shell.execute_reply": "2022-10-29T00:31:06.218375Z"
    },
    "papermill": {
     "duration": 0.174396,
     "end_time": "2022-10-29T00:31:06.220503",
     "exception": false,
     "start_time": "2022-10-29T00:31:06.046107",
     "status": "completed"
    },
    "tags": []
   },
   "outputs": [],
   "source": [
    "# class version\n",
    "class DuplicateCorrector:\n",
    "    def fit(self, df_train, df_cards, deck_key=\"cards\", max_k=20):\n",
    "        # drop (hero, deck) duplicates\n",
    "        self.deck_key = deck_key\n",
    "        self.max_k = max_k\n",
    "        unique_decks = df_train[[\"hero\",deck_key]].copy()\n",
    "        unique_decks[\"sorted_cards\"] = unique_decks[deck_key].apply(lambda deck: tuple(sorted(deck)))\n",
    "        unique_decks.drop_duplicates(subset=[\"hero\",\"sorted_cards\"], inplace=True)\n",
    "        \n",
    "        # build the CSR matrix for unique decks\n",
    "        subsets = {hero: unique_decks[unique_decks[\"hero\"]==hero].reset_index(drop=True) for hero in all_heroes}\n",
    "\n",
    "        self.train_unique_csr_by_hero = {\n",
    "            hero: df_deck_to_csr(subsets[hero], \n",
    "                                 deck_key, \n",
    "                                 shape=(len(subsets[hero]),len(df_cards)))\n",
    "                for hero in tqdm(all_heroes)\n",
    "        }\n",
    "        \n",
    "        self.knns = {hero:NearestNeighbors(n_neighbors=max_k, metric=\"l1\", n_jobs=-1).fit(self.train_unique_csr_by_hero[hero])\n",
    "                     for hero in tqdm(all_heroes)}\n",
    "        \n",
    "        return self\n",
    "    \n",
    "    def recommend_one(self, src_deck, distances, indices, hero):\n",
    "        recommendations = []\n",
    "        for dist, idx in zip(distances, indices):\n",
    "            # if dist is not 1 it's not a match\n",
    "            if dist > 1:\n",
    "                break\n",
    "            # retrieve the missing card_id\n",
    "            tgt_deck = self.train_unique_csr_by_hero[hero][idx]\n",
    "            # nonzero gives a tuple by dim -> we want the 0th element of col idxs \n",
    "            recommendations.append((tgt_deck-src_deck).nonzero()[1][0])\n",
    "        return recommendations\n",
    "        \n",
    "    def predict(self, test_csr, test_heroes, max_k=3):\n",
    "        assert max_k <= self.max_k, \"requested k is above the one used for fitting\"\n",
    "        self.dist_mat = np.empty((len(test_heroes),max_k))\n",
    "        self.idx_mat =  np.empty((len(test_heroes),max_k),dtype=int)\n",
    "\n",
    "        for hero in tqdm(all_heroes):\n",
    "            \n",
    "            test_idxs = test_heroes==hero\n",
    "            per_hero_dist, per_hero_idx = self.knns[hero].kneighbors(test_csr[test_idxs])\n",
    "\n",
    "            # clip, then save it to general matrices\n",
    "            self.dist_mat[test_idxs] = per_hero_dist[:, :max_k]\n",
    "            self.idx_mat[test_idxs] = per_hero_idx[:, :max_k]\n",
    "        \n",
    "        return [self.recommend_one(deck, dist, idx, hero) \n",
    "                    for deck, dist, idx, hero in zip(test_csr, \n",
    "                                                     self.dist_mat, \n",
    "                                                     self.idx_mat, \n",
    "                                                     test_heroes)] "
   ]
  },
  {
   "cell_type": "code",
   "execution_count": 113,
   "id": "fb0435b8",
   "metadata": {
    "execution": {
     "iopub.execute_input": "2022-10-29T00:31:06.576814Z",
     "iopub.status.busy": "2022-10-29T00:31:06.576498Z",
     "iopub.status.idle": "2022-10-29T00:31:22.949270Z",
     "shell.execute_reply": "2022-10-29T00:31:22.948229Z"
    },
    "papermill": {
     "duration": 16.57231,
     "end_time": "2022-10-29T00:31:22.950978",
     "exception": false,
     "start_time": "2022-10-29T00:31:06.378668",
     "status": "completed"
    },
    "tags": []
   },
   "outputs": [
    {
     "name": "stderr",
     "output_type": "stream",
     "text": [
      "100%|██████████| 9/9 [00:06<00:00,  1.43it/s]\n",
      "100%|██████████| 9/9 [00:00<00:00, 1221.76it/s]\n",
      "100%|██████████| 9/9 [00:07<00:00,  1.16it/s]\n"
     ]
    }
   ],
   "source": [
    "# check that this gives the same predictions as before\n",
    "m2 = DuplicateCorrector().fit(dfp_train, dfp_cards, max_k=3)\n",
    "m2_preds = m2.predict(test_csr, dfp_test[\"hero\"],max_k=3)"
   ]
  },
  {
   "cell_type": "code",
   "execution_count": 114,
   "id": "0fa2d622",
   "metadata": {
    "execution": {
     "iopub.execute_input": "2022-10-29T00:31:23.274185Z",
     "iopub.status.busy": "2022-10-29T00:31:23.273898Z",
     "iopub.status.idle": "2022-10-29T00:31:23.278550Z",
     "shell.execute_reply": "2022-10-29T00:31:23.277802Z"
    },
    "papermill": {
     "duration": 0.168221,
     "end_time": "2022-10-29T00:31:23.280204",
     "exception": false,
     "start_time": "2022-10-29T00:31:23.111983",
     "status": "completed"
    },
    "tags": []
   },
   "outputs": [],
   "source": [
    "for idx,(x,y) in enumerate(zip(duplicate_correction_recommendations, m2_preds)):\n",
    "    if x!=y:\n",
    "        print(idx,x,y)"
   ]
  },
  {
   "cell_type": "markdown",
   "id": "0f2c0ea0",
   "metadata": {
    "papermill": {
     "duration": 0.1609,
     "end_time": "2022-10-29T00:31:23.603529",
     "exception": false,
     "start_time": "2022-10-29T00:31:23.442629",
     "status": "completed"
    },
    "tags": []
   },
   "source": [
    "# Evaluation"
   ]
  },
  {
   "cell_type": "code",
   "execution_count": 115,
   "id": "75cbe457",
   "metadata": {
    "execution": {
     "iopub.execute_input": "2022-10-29T00:31:23.922735Z",
     "iopub.status.busy": "2022-10-29T00:31:23.922421Z",
     "iopub.status.idle": "2022-10-29T00:31:24.133603Z",
     "shell.execute_reply": "2022-10-29T00:31:24.132755Z"
    },
    "papermill": {
     "duration": 0.372691,
     "end_time": "2022-10-29T00:31:24.135345",
     "exception": false,
     "start_time": "2022-10-29T00:31:23.762654",
     "status": "completed"
    },
    "tags": []
   },
   "outputs": [
    {
     "data": {
      "text/plain": [
       "(600606, 4925, 698)"
      ]
     },
     "execution_count": 115,
     "metadata": {},
     "output_type": "execute_result"
    }
   ],
   "source": [
    "# make a temporal split as to compare it with MAP@3 and some rank measure like a way of 1-NDCG\n",
    "train_idxs = dfp_train[\"update_delta\"] >= 7\n",
    "X_train = dfp_train[train_idxs]\n",
    "X_valid = dfp_train[~train_idxs].copy()\n",
    "\n",
    "X_train_last_patch = X_train[X_train[\"update_date\"] >= launch_dates[\"the boomsday project\"]]\n",
    "\n",
    "rng = np.random.default_rng(seed=42)\n",
    "shuffled_decks = [rng.permuted(deck) for deck in X_valid[\"cards\"]]\n",
    "X_valid[\"cards_incomplete\"], y_valid = zip(*[(deck[:-1], deck[-1]) for deck in shuffled_decks])\n",
    "\n",
    "X_train_csr = train_csr[train_idxs]\n",
    "X_train_last_patch_csr = train_csr[(train_idxs) & (X_train[\"update_date\"] >= launch_dates[\"the boomsday project\"])]\n",
    "\n",
    "# reset the index so Pandas' index doesn't break the CSR's one\n",
    "X_valid_csr = df_deck_to_csr(X_valid.reset_index(drop=True),  \n",
    "                              \"cards_incomplete\", \n",
    "                              shape=((len(X_valid),len(dfp_cards))))\n",
    "\n",
    "len(X_train), len(X_train_last_patch), len(X_valid)"
   ]
  },
  {
   "cell_type": "code",
   "execution_count": 116,
   "id": "61c421f9",
   "metadata": {
    "execution": {
     "iopub.execute_input": "2022-10-29T00:31:24.450747Z",
     "iopub.status.busy": "2022-10-29T00:31:24.450163Z",
     "iopub.status.idle": "2022-10-29T00:31:24.458220Z",
     "shell.execute_reply": "2022-10-29T00:31:24.457298Z"
    },
    "papermill": {
     "duration": 0.16664,
     "end_time": "2022-10-29T00:31:24.459879",
     "exception": false,
     "start_time": "2022-10-29T00:31:24.293239",
     "status": "completed"
    },
    "tags": []
   },
   "outputs": [],
   "source": [
    "def map3(y_true, y_preds, return_mean=True):\n",
    "    all_values = [y_true_i in y_preds_i[:3] for y_true_i,y_preds_i in zip(y_true, y_preds)]\n",
    "    return np.mean(all_values) if return_mean else all_values\n",
    "\n",
    "def ndcg1(y_true, y_ranks, weighting_f = lambda idx: 1 / np.log(idx+2), return_mean=True):\n",
    "    all_values = [weighting_f(np.argmax(y_rank==y_true_i))/weighting_f(0) if y_true_i in y_rank else 0\n",
    "                  for y_true_i, y_rank in zip(y_true, y_ranks) ] # if it's not there it adds 0\n",
    "    return np.mean(all_values) if return_mean else all_values\n",
    "\n",
    "def report(y_true, y_preds, heroes, digits=5):\n",
    "    results_map3 = map3(y_true,y_preds, return_mean=False)\n",
    "    results_ndcg = ndcg1(y_true,y_preds, return_mean=False)\n",
    "    \n",
    "    print(\"Mean MAP@3:\", np.mean(results_map3).round(digits))\n",
    "    print(\"Mean NDCG1:\", np.mean(results_ndcg).round(digits), end=\"\\n\")\n",
    "    \n",
    "    return pd.DataFrame({\n",
    "        'MAP@3': results_map3,\n",
    "        'NDCG1': ndcg1(y_true,y_preds, return_mean=False),\n",
    "        'hero': heroes\n",
    "    }).groupby('hero').agg(lambda x: x.mean().round(digits))"
   ]
  },
  {
   "cell_type": "code",
   "execution_count": 117,
   "id": "e92b1f9a",
   "metadata": {
    "execution": {
     "iopub.execute_input": "2022-10-29T00:31:24.786823Z",
     "iopub.status.busy": "2022-10-29T00:31:24.786030Z",
     "iopub.status.idle": "2022-10-29T00:31:24.797089Z",
     "shell.execute_reply": "2022-10-29T00:31:24.796555Z"
    },
    "papermill": {
     "duration": 0.174749,
     "end_time": "2022-10-29T00:31:24.798550",
     "exception": false,
     "start_time": "2022-10-29T00:31:24.623801",
     "status": "completed"
    },
    "tags": []
   },
   "outputs": [
    {
     "data": {
      "text/plain": [
       "(1.0, 1.0)"
      ]
     },
     "execution_count": 117,
     "metadata": {},
     "output_type": "execute_result"
    }
   ],
   "source": [
    "# perfect metrics\n",
    "ndcg1(y_valid,[[x]*5 for x in y_valid]), map3(y_valid, [[x]*5 for x in y_valid])"
   ]
  },
  {
   "cell_type": "markdown",
   "id": "599a7393",
   "metadata": {
    "papermill": {
     "duration": 0.162889,
     "end_time": "2022-10-29T00:31:25.167716",
     "exception": false,
     "start_time": "2022-10-29T00:31:25.004827",
     "status": "completed"
    },
    "tags": []
   },
   "source": [
    "## Redo previous models, measure their performance on validation set"
   ]
  },
  {
   "cell_type": "code",
   "execution_count": 118,
   "id": "4ab81d50",
   "metadata": {
    "execution": {
     "iopub.execute_input": "2022-10-29T00:31:25.491475Z",
     "iopub.status.busy": "2022-10-29T00:31:25.491024Z",
     "iopub.status.idle": "2022-10-29T00:31:26.049193Z",
     "shell.execute_reply": "2022-10-29T00:31:26.048350Z"
    },
    "papermill": {
     "duration": 0.722376,
     "end_time": "2022-10-29T00:31:26.050844",
     "exception": false,
     "start_time": "2022-10-29T00:31:25.328468",
     "status": "completed"
    },
    "tags": []
   },
   "outputs": [
    {
     "name": "stdout",
     "output_type": "stream",
     "text": [
      "Mean MAP@3: 0.24069\n",
      "Mean NDCG1: 0.25096\n"
     ]
    },
    {
     "data": {
      "text/html": [
       "<div>\n",
       "<style scoped>\n",
       "    .dataframe tbody tr th:only-of-type {\n",
       "        vertical-align: middle;\n",
       "    }\n",
       "\n",
       "    .dataframe tbody tr th {\n",
       "        vertical-align: top;\n",
       "    }\n",
       "\n",
       "    .dataframe thead th {\n",
       "        text-align: right;\n",
       "    }\n",
       "</style>\n",
       "<table border=\"1\" class=\"dataframe\">\n",
       "  <thead>\n",
       "    <tr style=\"text-align: right;\">\n",
       "      <th></th>\n",
       "      <th>MAP@3</th>\n",
       "      <th>NDCG1</th>\n",
       "    </tr>\n",
       "    <tr>\n",
       "      <th>hero</th>\n",
       "      <th></th>\n",
       "      <th></th>\n",
       "    </tr>\n",
       "  </thead>\n",
       "  <tbody>\n",
       "    <tr>\n",
       "      <th>druid</th>\n",
       "      <td>0.10000</td>\n",
       "      <td>0.14415</td>\n",
       "    </tr>\n",
       "    <tr>\n",
       "      <th>hunter</th>\n",
       "      <td>0.10526</td>\n",
       "      <td>0.12945</td>\n",
       "    </tr>\n",
       "    <tr>\n",
       "      <th>mage</th>\n",
       "      <td>0.30769</td>\n",
       "      <td>0.28029</td>\n",
       "    </tr>\n",
       "    <tr>\n",
       "      <th>paladin</th>\n",
       "      <td>0.18095</td>\n",
       "      <td>0.21152</td>\n",
       "    </tr>\n",
       "    <tr>\n",
       "      <th>priest</th>\n",
       "      <td>0.30769</td>\n",
       "      <td>0.30084</td>\n",
       "    </tr>\n",
       "    <tr>\n",
       "      <th>rogue</th>\n",
       "      <td>0.23140</td>\n",
       "      <td>0.24827</td>\n",
       "    </tr>\n",
       "    <tr>\n",
       "      <th>shaman</th>\n",
       "      <td>0.10769</td>\n",
       "      <td>0.12968</td>\n",
       "    </tr>\n",
       "    <tr>\n",
       "      <th>warlock</th>\n",
       "      <td>0.47826</td>\n",
       "      <td>0.45793</td>\n",
       "    </tr>\n",
       "    <tr>\n",
       "      <th>warrior</th>\n",
       "      <td>0.27778</td>\n",
       "      <td>0.31985</td>\n",
       "    </tr>\n",
       "  </tbody>\n",
       "</table>\n",
       "</div>"
      ],
      "text/plain": [
       "           MAP@3    NDCG1\n",
       "hero                     \n",
       "druid    0.10000  0.14415\n",
       "hunter   0.10526  0.12945\n",
       "mage     0.30769  0.28029\n",
       "paladin  0.18095  0.21152\n",
       "priest   0.30769  0.30084\n",
       "rogue    0.23140  0.24827\n",
       "shaman   0.10769  0.12968\n",
       "warlock  0.47826  0.45793\n",
       "warrior  0.27778  0.31985"
      ]
     },
     "execution_count": 118,
     "metadata": {},
     "output_type": "execute_result"
    }
   ],
   "source": [
    "m1_valid_preds = PopularityModel().fit(X_train_last_patch, dfp_cards).predict(X_valid,max_k=10)\n",
    "report(y_valid,m1_valid_preds,X_valid[\"hero\"])"
   ]
  },
  {
   "cell_type": "code",
   "execution_count": 119,
   "id": "9af9f3a0",
   "metadata": {
    "execution": {
     "iopub.execute_input": "2022-10-29T00:31:26.375002Z",
     "iopub.status.busy": "2022-10-29T00:31:26.374704Z",
     "iopub.status.idle": "2022-10-29T00:31:38.097780Z",
     "shell.execute_reply": "2022-10-29T00:31:38.097032Z"
    },
    "papermill": {
     "duration": 11.886992,
     "end_time": "2022-10-29T00:31:38.100116",
     "exception": false,
     "start_time": "2022-10-29T00:31:26.213124",
     "status": "completed"
    },
    "tags": []
   },
   "outputs": [
    {
     "name": "stderr",
     "output_type": "stream",
     "text": [
      "100%|██████████| 9/9 [00:06<00:00,  1.43it/s]\n",
      "100%|██████████| 9/9 [00:00<00:00, 1416.52it/s]\n",
      "100%|██████████| 9/9 [00:03<00:00,  2.74it/s]"
     ]
    },
    {
     "name": "stdout",
     "output_type": "stream",
     "text": [
      "Mean MAP@3: 0.39398\n",
      "Mean NDCG1: 0.39463\n"
     ]
    },
    {
     "name": "stderr",
     "output_type": "stream",
     "text": [
      "\n"
     ]
    },
    {
     "data": {
      "text/html": [
       "<div>\n",
       "<style scoped>\n",
       "    .dataframe tbody tr th:only-of-type {\n",
       "        vertical-align: middle;\n",
       "    }\n",
       "\n",
       "    .dataframe tbody tr th {\n",
       "        vertical-align: top;\n",
       "    }\n",
       "\n",
       "    .dataframe thead th {\n",
       "        text-align: right;\n",
       "    }\n",
       "</style>\n",
       "<table border=\"1\" class=\"dataframe\">\n",
       "  <thead>\n",
       "    <tr style=\"text-align: right;\">\n",
       "      <th></th>\n",
       "      <th>MAP@3</th>\n",
       "      <th>NDCG1</th>\n",
       "    </tr>\n",
       "    <tr>\n",
       "      <th>hero</th>\n",
       "      <th></th>\n",
       "      <th></th>\n",
       "    </tr>\n",
       "  </thead>\n",
       "  <tbody>\n",
       "    <tr>\n",
       "      <th>druid</th>\n",
       "      <td>0.32000</td>\n",
       "      <td>0.35920</td>\n",
       "    </tr>\n",
       "    <tr>\n",
       "      <th>hunter</th>\n",
       "      <td>0.22807</td>\n",
       "      <td>0.25549</td>\n",
       "    </tr>\n",
       "    <tr>\n",
       "      <th>mage</th>\n",
       "      <td>0.42857</td>\n",
       "      <td>0.38976</td>\n",
       "    </tr>\n",
       "    <tr>\n",
       "      <th>paladin</th>\n",
       "      <td>0.39048</td>\n",
       "      <td>0.39927</td>\n",
       "    </tr>\n",
       "    <tr>\n",
       "      <th>priest</th>\n",
       "      <td>0.50962</td>\n",
       "      <td>0.47508</td>\n",
       "    </tr>\n",
       "    <tr>\n",
       "      <th>rogue</th>\n",
       "      <td>0.41322</td>\n",
       "      <td>0.43257</td>\n",
       "    </tr>\n",
       "    <tr>\n",
       "      <th>shaman</th>\n",
       "      <td>0.16923</td>\n",
       "      <td>0.19946</td>\n",
       "    </tr>\n",
       "    <tr>\n",
       "      <th>warlock</th>\n",
       "      <td>0.55072</td>\n",
       "      <td>0.52836</td>\n",
       "    </tr>\n",
       "    <tr>\n",
       "      <th>warrior</th>\n",
       "      <td>0.38889</td>\n",
       "      <td>0.39901</td>\n",
       "    </tr>\n",
       "  </tbody>\n",
       "</table>\n",
       "</div>"
      ],
      "text/plain": [
       "           MAP@3    NDCG1\n",
       "hero                     \n",
       "druid    0.32000  0.35920\n",
       "hunter   0.22807  0.25549\n",
       "mage     0.42857  0.38976\n",
       "paladin  0.39048  0.39927\n",
       "priest   0.50962  0.47508\n",
       "rogue    0.41322  0.43257\n",
       "shaman   0.16923  0.19946\n",
       "warlock  0.55072  0.52836\n",
       "warrior  0.38889  0.39901"
      ]
     },
     "execution_count": 119,
     "metadata": {},
     "output_type": "execute_result"
    }
   ],
   "source": [
    "m2_valid_corrections = DuplicateCorrector().fit(X_train,dfp_cards,max_k=10).predict(X_valid_csr,X_valid[\"hero\"],max_k=10)\n",
    "\n",
    "m2_valid_preds = append_corrections(preds=m1_valid_preds,\n",
    "                                    corrections=m2_valid_corrections,\n",
    "                                    k_corrections=10,\n",
    "                                    k_predictions=10)\n",
    "\n",
    "#ndcg1(y_valid,m2_valid_preds), map3(y_valid, m2_valid_preds)\n",
    "report(y_valid,m2_valid_preds,X_valid[\"hero\"])"
   ]
  },
  {
   "cell_type": "markdown",
   "id": "2a7bf730",
   "metadata": {
    "papermill": {
     "duration": 0.162837,
     "end_time": "2022-10-29T00:31:38.424173",
     "exception": false,
     "start_time": "2022-10-29T00:31:38.261336",
     "status": "completed"
    },
    "tags": []
   },
   "source": [
    "**summary V2:**\n",
    "\n",
    "Submission | LB MAP@3 | Valid MAP@3 | NDCG1 | Ratio LB/Valid MAP@3\n",
    ":---: | :---:  |:---: | :---:  | :---:  \n",
    "\\[>2 included\\] Popular | 0.17251 | 0.2432 | 0.2523 | 0.70933\n",
    "\\[>2 included\\] Duplicate correction (all 3) | 0.29492 |  0.40057 | 0.39804 | 0.73625\n",
    "Popular | 0.17191 | 0.24069 | 0.25096 | 0.7142\n",
    "Duplicate correction (all 3) | 0.29432 | 0.39398 | 0.39516 | 0.7470\n",
    "\n",
    "Note that the scores have dropped a bit, but these are very basic models and we can expect more complex ones to perform better now that the train set is fully sanitized "
   ]
  },
  {
   "cell_type": "markdown",
   "id": "44798eea",
   "metadata": {
    "papermill": {
     "duration": 0.160471,
     "end_time": "2022-10-29T00:31:39.433667",
     "exception": false,
     "start_time": "2022-10-29T00:31:39.273196",
     "status": "completed"
    },
    "tags": []
   },
   "source": [
    "# Missing double copy correction\n",
    "\n",
    "We assume that non-highlander decks have a tendency to either have 0 or the maximum number of copies (2, 1 if it's legendary) of a card. Hence, given a non-highlander incomplete deck with one copy of a non-legendary card, the missing one is recommended.\n",
    "It should be noted that this works best when all other cards are maxed out, otherwise the uncertainty increases very rapidly."
   ]
  },
  {
   "cell_type": "code",
   "execution_count": 120,
   "id": "4e3fd622",
   "metadata": {
    "execution": {
     "iopub.execute_input": "2022-10-29T00:31:39.758760Z",
     "iopub.status.busy": "2022-10-29T00:31:39.757923Z",
     "iopub.status.idle": "2022-10-29T00:31:40.311841Z",
     "shell.execute_reply": "2022-10-29T00:31:40.311020Z"
    },
    "papermill": {
     "duration": 0.71853,
     "end_time": "2022-10-29T00:31:40.313664",
     "exception": false,
     "start_time": "2022-10-29T00:31:39.595134",
     "status": "completed"
    },
    "tags": []
   },
   "outputs": [
    {
     "data": {
      "text/html": [
       "<div>\n",
       "<style scoped>\n",
       "    .dataframe tbody tr th:only-of-type {\n",
       "        vertical-align: middle;\n",
       "    }\n",
       "\n",
       "    .dataframe tbody tr th {\n",
       "        vertical-align: top;\n",
       "    }\n",
       "\n",
       "    .dataframe thead th {\n",
       "        text-align: right;\n",
       "    }\n",
       "</style>\n",
       "<table border=\"1\" class=\"dataframe\">\n",
       "  <thead>\n",
       "    <tr style=\"text-align: right;\">\n",
       "      <th></th>\n",
       "      <th>deckid</th>\n",
       "      <th>cards_incomplete</th>\n",
       "      <th>count</th>\n",
       "      <th>max_count</th>\n",
       "      <th>remaining</th>\n",
       "    </tr>\n",
       "  </thead>\n",
       "  <tbody>\n",
       "    <tr>\n",
       "      <th>0</th>\n",
       "      <td>0021e568-1f26-468d-83f5-c1ecbeea675f</td>\n",
       "      <td>160</td>\n",
       "      <td>1</td>\n",
       "      <td>1</td>\n",
       "      <td>0</td>\n",
       "    </tr>\n",
       "    <tr>\n",
       "      <th>976</th>\n",
       "      <td>07e36379-2d0e-4e21-a4c5-e8174bb5439b</td>\n",
       "      <td>160</td>\n",
       "      <td>1</td>\n",
       "      <td>1</td>\n",
       "      <td>0</td>\n",
       "    </tr>\n",
       "    <tr>\n",
       "      <th>5147</th>\n",
       "      <td>203c6007-48f7-4efc-88c4-fe406519cb42</td>\n",
       "      <td>160</td>\n",
       "      <td>1</td>\n",
       "      <td>1</td>\n",
       "      <td>0</td>\n",
       "    </tr>\n",
       "    <tr>\n",
       "      <th>6610</th>\n",
       "      <td>2aaa7f06-0360-4d93-897d-d72a2adcf1f5</td>\n",
       "      <td>160</td>\n",
       "      <td>1</td>\n",
       "      <td>1</td>\n",
       "      <td>0</td>\n",
       "    </tr>\n",
       "    <tr>\n",
       "      <th>8352</th>\n",
       "      <td>349e9d6e-a1a6-4033-8943-a7c42e517782</td>\n",
       "      <td>160</td>\n",
       "      <td>1</td>\n",
       "      <td>1</td>\n",
       "      <td>0</td>\n",
       "    </tr>\n",
       "    <tr>\n",
       "      <th>...</th>\n",
       "      <td>...</td>\n",
       "      <td>...</td>\n",
       "      <td>...</td>\n",
       "      <td>...</td>\n",
       "      <td>...</td>\n",
       "    </tr>\n",
       "    <tr>\n",
       "      <th>38784</th>\n",
       "      <td>fac6a219-59fd-438b-a7a5-337cbd912ffb</td>\n",
       "      <td>1214</td>\n",
       "      <td>1</td>\n",
       "      <td>2</td>\n",
       "      <td>1</td>\n",
       "    </tr>\n",
       "    <tr>\n",
       "      <th>39255</th>\n",
       "      <td>fe952f2e-0c15-4707-a89d-952706e2fd60</td>\n",
       "      <td>122</td>\n",
       "      <td>1</td>\n",
       "      <td>1</td>\n",
       "      <td>0</td>\n",
       "    </tr>\n",
       "    <tr>\n",
       "      <th>39257</th>\n",
       "      <td>fe952f2e-0c15-4707-a89d-952706e2fd60</td>\n",
       "      <td>272</td>\n",
       "      <td>1</td>\n",
       "      <td>1</td>\n",
       "      <td>0</td>\n",
       "    </tr>\n",
       "    <tr>\n",
       "      <th>39315</th>\n",
       "      <td>fef57835-53ce-4dc4-bad6-5c3fabb55548</td>\n",
       "      <td>1126</td>\n",
       "      <td>2</td>\n",
       "      <td>2</td>\n",
       "      <td>0</td>\n",
       "    </tr>\n",
       "    <tr>\n",
       "      <th>39390</th>\n",
       "      <td>ffb65ba6-73bb-4dc2-ba39-3ebbe0afd81b</td>\n",
       "      <td>950</td>\n",
       "      <td>2</td>\n",
       "      <td>2</td>\n",
       "      <td>0</td>\n",
       "    </tr>\n",
       "  </tbody>\n",
       "</table>\n",
       "<p>39456 rows × 5 columns</p>\n",
       "</div>"
      ],
      "text/plain": [
       "                                     deckid  cards_incomplete  count  \\\n",
       "0      0021e568-1f26-468d-83f5-c1ecbeea675f               160      1   \n",
       "976    07e36379-2d0e-4e21-a4c5-e8174bb5439b               160      1   \n",
       "5147   203c6007-48f7-4efc-88c4-fe406519cb42               160      1   \n",
       "6610   2aaa7f06-0360-4d93-897d-d72a2adcf1f5               160      1   \n",
       "8352   349e9d6e-a1a6-4033-8943-a7c42e517782               160      1   \n",
       "...                                     ...               ...    ...   \n",
       "38784  fac6a219-59fd-438b-a7a5-337cbd912ffb              1214      1   \n",
       "39255  fe952f2e-0c15-4707-a89d-952706e2fd60               122      1   \n",
       "39257  fe952f2e-0c15-4707-a89d-952706e2fd60               272      1   \n",
       "39315  fef57835-53ce-4dc4-bad6-5c3fabb55548              1126      2   \n",
       "39390  ffb65ba6-73bb-4dc2-ba39-3ebbe0afd81b               950      2   \n",
       "\n",
       "       max_count  remaining  \n",
       "0              1          0  \n",
       "976            1          0  \n",
       "5147           1          0  \n",
       "6610           1          0  \n",
       "8352           1          0  \n",
       "...          ...        ...  \n",
       "38784          2          1  \n",
       "39255          1          0  \n",
       "39257          1          0  \n",
       "39315          2          0  \n",
       "39390          2          0  \n",
       "\n",
       "[39456 rows x 5 columns]"
      ]
     },
     "execution_count": 120,
     "metadata": {},
     "output_type": "execute_result"
    }
   ],
   "source": [
    "df, deck_key = dfp_test, \"cards_incomplete\"\n",
    "\n",
    "_ = (df[[\"deckid\",deck_key]]\n",
    " .explode(deck_key)\n",
    " .groupby([\"deckid\", deck_key])\n",
    " .size()\n",
    " .rename(\"count\")\n",
    " .reset_index()\n",
    " .merge(dfp_cards[\"max_count\"],right_index=True, left_on=deck_key))\n",
    "\n",
    "_[\"remaining\"] = _.apply(lambda row: row[\"max_count\"]-row[\"count\"],axis=1)\n",
    "_"
   ]
  },
  {
   "cell_type": "code",
   "execution_count": 121,
   "id": "d3a46568",
   "metadata": {
    "execution": {
     "iopub.execute_input": "2022-10-29T00:31:40.642843Z",
     "iopub.status.busy": "2022-10-29T00:31:40.642127Z",
     "iopub.status.idle": "2022-10-29T00:31:40.648850Z",
     "shell.execute_reply": "2022-10-29T00:31:40.648272Z"
    },
    "papermill": {
     "duration": 0.172316,
     "end_time": "2022-10-29T00:31:40.650338",
     "exception": false,
     "start_time": "2022-10-29T00:31:40.478022",
     "status": "completed"
    },
    "tags": []
   },
   "outputs": [
    {
     "data": {
      "text/plain": [
       " 0    30277\n",
       " 1     9173\n",
       "-1        6\n",
       "Name: remaining, dtype: int64"
      ]
     },
     "execution_count": 121,
     "metadata": {},
     "output_type": "execute_result"
    }
   ],
   "source": [
    "# note that as we didn't drop the count-exceeding decks in the test set, now \"remaining\" can take negative values\n",
    "_[\"remaining\"].value_counts()"
   ]
  },
  {
   "cell_type": "code",
   "execution_count": 122,
   "id": "0296b920",
   "metadata": {
    "execution": {
     "iopub.execute_input": "2022-10-29T00:31:40.977103Z",
     "iopub.status.busy": "2022-10-29T00:31:40.976789Z",
     "iopub.status.idle": "2022-10-29T00:31:40.988727Z",
     "shell.execute_reply": "2022-10-29T00:31:40.987881Z"
    },
    "papermill": {
     "duration": 0.176361,
     "end_time": "2022-10-29T00:31:40.990221",
     "exception": false,
     "start_time": "2022-10-29T00:31:40.813860",
     "status": "completed"
    },
    "tags": []
   },
   "outputs": [
    {
     "data": {
      "text/html": [
       "<div>\n",
       "<style scoped>\n",
       "    .dataframe tbody tr th:only-of-type {\n",
       "        vertical-align: middle;\n",
       "    }\n",
       "\n",
       "    .dataframe tbody tr th {\n",
       "        vertical-align: top;\n",
       "    }\n",
       "\n",
       "    .dataframe thead th {\n",
       "        text-align: right;\n",
       "    }\n",
       "</style>\n",
       "<table border=\"1\" class=\"dataframe\">\n",
       "  <thead>\n",
       "    <tr style=\"text-align: right;\">\n",
       "      <th></th>\n",
       "      <th>deckid</th>\n",
       "      <th>cards_incomplete</th>\n",
       "      <th>count</th>\n",
       "      <th>max_count</th>\n",
       "      <th>remaining</th>\n",
       "    </tr>\n",
       "  </thead>\n",
       "  <tbody>\n",
       "    <tr>\n",
       "      <th>1</th>\n",
       "      <td>0021e568-1f26-468d-83f5-c1ecbeea675f</td>\n",
       "      <td>198</td>\n",
       "      <td>1</td>\n",
       "      <td>2</td>\n",
       "      <td>1</td>\n",
       "    </tr>\n",
       "    <tr>\n",
       "      <th>145</th>\n",
       "      <td>01641faf-9231-40e3-b9b5-1ef7f3fd454a</td>\n",
       "      <td>198</td>\n",
       "      <td>1</td>\n",
       "      <td>2</td>\n",
       "      <td>1</td>\n",
       "    </tr>\n",
       "    <tr>\n",
       "      <th>425</th>\n",
       "      <td>03fcc595-6173-4b30-8773-6e2a5aad7a52</td>\n",
       "      <td>198</td>\n",
       "      <td>1</td>\n",
       "      <td>2</td>\n",
       "      <td>1</td>\n",
       "    </tr>\n",
       "    <tr>\n",
       "      <th>752</th>\n",
       "      <td>069b4fb8-475f-48a7-a100-855be08253a3</td>\n",
       "      <td>198</td>\n",
       "      <td>1</td>\n",
       "      <td>2</td>\n",
       "      <td>1</td>\n",
       "    </tr>\n",
       "    <tr>\n",
       "      <th>874</th>\n",
       "      <td>06cf209e-1048-4c1d-be6a-261606e3b52e</td>\n",
       "      <td>198</td>\n",
       "      <td>1</td>\n",
       "      <td>2</td>\n",
       "      <td>1</td>\n",
       "    </tr>\n",
       "    <tr>\n",
       "      <th>...</th>\n",
       "      <td>...</td>\n",
       "      <td>...</td>\n",
       "      <td>...</td>\n",
       "      <td>...</td>\n",
       "      <td>...</td>\n",
       "    </tr>\n",
       "    <tr>\n",
       "      <th>35841</th>\n",
       "      <td>e8db9dc5-7ada-4921-b4dd-91bd28a6093a</td>\n",
       "      <td>791</td>\n",
       "      <td>1</td>\n",
       "      <td>2</td>\n",
       "      <td>1</td>\n",
       "    </tr>\n",
       "    <tr>\n",
       "      <th>36041</th>\n",
       "      <td>ea04c4e2-0bb3-4408-b33b-ff347cbe1f23</td>\n",
       "      <td>791</td>\n",
       "      <td>1</td>\n",
       "      <td>2</td>\n",
       "      <td>1</td>\n",
       "    </tr>\n",
       "    <tr>\n",
       "      <th>37115</th>\n",
       "      <td>f1974176-df25-425c-b7a0-77bf6751acaa</td>\n",
       "      <td>1310</td>\n",
       "      <td>1</td>\n",
       "      <td>2</td>\n",
       "      <td>1</td>\n",
       "    </tr>\n",
       "    <tr>\n",
       "      <th>38343</th>\n",
       "      <td>f7f8f41c-7867-4a46-8904-ea97d04fde6b</td>\n",
       "      <td>1310</td>\n",
       "      <td>1</td>\n",
       "      <td>2</td>\n",
       "      <td>1</td>\n",
       "    </tr>\n",
       "    <tr>\n",
       "      <th>38784</th>\n",
       "      <td>fac6a219-59fd-438b-a7a5-337cbd912ffb</td>\n",
       "      <td>1214</td>\n",
       "      <td>1</td>\n",
       "      <td>2</td>\n",
       "      <td>1</td>\n",
       "    </tr>\n",
       "  </tbody>\n",
       "</table>\n",
       "<p>9173 rows × 5 columns</p>\n",
       "</div>"
      ],
      "text/plain": [
       "                                     deckid  cards_incomplete  count  \\\n",
       "1      0021e568-1f26-468d-83f5-c1ecbeea675f               198      1   \n",
       "145    01641faf-9231-40e3-b9b5-1ef7f3fd454a               198      1   \n",
       "425    03fcc595-6173-4b30-8773-6e2a5aad7a52               198      1   \n",
       "752    069b4fb8-475f-48a7-a100-855be08253a3               198      1   \n",
       "874    06cf209e-1048-4c1d-be6a-261606e3b52e               198      1   \n",
       "...                                     ...               ...    ...   \n",
       "35841  e8db9dc5-7ada-4921-b4dd-91bd28a6093a               791      1   \n",
       "36041  ea04c4e2-0bb3-4408-b33b-ff347cbe1f23               791      1   \n",
       "37115  f1974176-df25-425c-b7a0-77bf6751acaa              1310      1   \n",
       "38343  f7f8f41c-7867-4a46-8904-ea97d04fde6b              1310      1   \n",
       "38784  fac6a219-59fd-438b-a7a5-337cbd912ffb              1214      1   \n",
       "\n",
       "       max_count  remaining  \n",
       "1              2          1  \n",
       "145            2          1  \n",
       "425            2          1  \n",
       "752            2          1  \n",
       "874            2          1  \n",
       "...          ...        ...  \n",
       "35841          2          1  \n",
       "36041          2          1  \n",
       "37115          2          1  \n",
       "38343          2          1  \n",
       "38784          2          1  \n",
       "\n",
       "[9173 rows x 5 columns]"
      ]
     },
     "execution_count": 122,
     "metadata": {},
     "output_type": "execute_result"
    }
   ],
   "source": [
    "_[_[\"remaining\"] > 0]"
   ]
  },
  {
   "cell_type": "code",
   "execution_count": 123,
   "id": "37ca47d6",
   "metadata": {
    "execution": {
     "iopub.execute_input": "2022-10-29T00:31:41.323533Z",
     "iopub.status.busy": "2022-10-29T00:31:41.322788Z",
     "iopub.status.idle": "2022-10-29T00:31:41.341938Z",
     "shell.execute_reply": "2022-10-29T00:31:41.340126Z"
    },
    "papermill": {
     "duration": 0.191449,
     "end_time": "2022-10-29T00:31:41.343893",
     "exception": false,
     "start_time": "2022-10-29T00:31:41.152444",
     "status": "completed"
    },
    "tags": []
   },
   "outputs": [
    {
     "data": {
      "text/plain": [
       "count\n",
       "2        2186\n",
       "1          30\n",
       "3           5\n",
       "dtype: int64"
      ]
     },
     "execution_count": 123,
     "metadata": {},
     "output_type": "execute_result"
    }
   ],
   "source": [
    "# how many decks have at least one card with 2 copies?\n",
    "_.groupby([\"deckid\"]).agg({\"count\":np.max}).value_counts()"
   ]
  },
  {
   "cell_type": "markdown",
   "id": "941c24ed",
   "metadata": {
    "papermill": {
     "duration": 0.159322,
     "end_time": "2022-10-29T00:31:41.666066",
     "exception": false,
     "start_time": "2022-10-29T00:31:41.506744",
     "status": "completed"
    },
    "tags": []
   },
   "source": [
    "There's no point in filtering out 35 decks of the 2200 (5 of which have at least one card with 3 copies and the rest are highlanders)"
   ]
  },
  {
   "cell_type": "code",
   "execution_count": 124,
   "id": "36c85de1",
   "metadata": {
    "execution": {
     "iopub.execute_input": "2022-10-29T00:31:42.044972Z",
     "iopub.status.busy": "2022-10-29T00:31:42.044680Z",
     "iopub.status.idle": "2022-10-29T00:31:55.200201Z",
     "shell.execute_reply": "2022-10-29T00:31:55.199646Z"
    },
    "papermill": {
     "duration": 13.324322,
     "end_time": "2022-10-29T00:31:55.201842",
     "exception": false,
     "start_time": "2022-10-29T00:31:41.877520",
     "status": "completed"
    },
    "tags": []
   },
   "outputs": [
    {
     "data": {
      "text/plain": [
       "0    8174650\n",
       "1    3368575\n",
       "Name: remaining, dtype: int64"
      ]
     },
     "execution_count": 124,
     "metadata": {},
     "output_type": "execute_result"
    }
   ],
   "source": [
    "# here we want to make sure we are not suggesting completing a pair for a card that's not usually picked in pairs\n",
    "# how popular is for each of the remaining cards to be picked as a pair?\n",
    "\n",
    "df, deck_key = dfp_train, \"cards\"\n",
    "aux = (\n",
    "    df[[\"deckid\",deck_key]]\n",
    "    .explode(deck_key)\n",
    "    .groupby([\"deckid\",deck_key])\n",
    "    .size()\n",
    "    .rename(\"count\")\n",
    "    .reset_index()\n",
    "    .merge(dfp_cards[\"max_count\"],right_index=True, left_on=deck_key)\n",
    ")\n",
    "\n",
    "aux[\"remaining\"] = aux[\"max_count\"] - aux[\"count\"]\n",
    "aux[\"remaining\"].value_counts()"
   ]
  },
  {
   "cell_type": "code",
   "execution_count": 125,
   "id": "e0279898",
   "metadata": {
    "execution": {
     "iopub.execute_input": "2022-10-29T00:31:55.531116Z",
     "iopub.status.busy": "2022-10-29T00:31:55.529985Z",
     "iopub.status.idle": "2022-10-29T00:31:55.727574Z",
     "shell.execute_reply": "2022-10-29T00:31:55.726782Z"
    },
    "papermill": {
     "duration": 0.367227,
     "end_time": "2022-10-29T00:31:55.729338",
     "exception": false,
     "start_time": "2022-10-29T00:31:55.362111",
     "status": "completed"
    },
    "tags": []
   },
   "outputs": [
    {
     "data": {
      "text/plain": [
       "cards\n",
       "0       0.825940\n",
       "1       0.631635\n",
       "2       0.622266\n",
       "3       1.000000\n",
       "4       1.000000\n",
       "          ...   \n",
       "1718    0.950202\n",
       "1719    1.000000\n",
       "1720    0.449870\n",
       "1721    0.465753\n",
       "1722    0.827899\n",
       "Name: remaining, Length: 1723, dtype: float64"
      ]
     },
     "execution_count": 125,
     "metadata": {},
     "output_type": "execute_result"
    }
   ],
   "source": [
    "pair_completeness = 1 - (\n",
    "    aux\n",
    "    .groupby(deck_key)\n",
    "    .agg({\"remaining\":np.mean})\n",
    ")[\"remaining\"]\n",
    "\n",
    "pair_completeness"
   ]
  },
  {
   "cell_type": "code",
   "execution_count": 126,
   "id": "bae225ef",
   "metadata": {
    "execution": {
     "iopub.execute_input": "2022-10-29T00:31:56.047337Z",
     "iopub.status.busy": "2022-10-29T00:31:56.047039Z",
     "iopub.status.idle": "2022-10-29T00:31:56.050943Z",
     "shell.execute_reply": "2022-10-29T00:31:56.050383Z"
    },
    "papermill": {
     "duration": 0.164412,
     "end_time": "2022-10-29T00:31:56.052322",
     "exception": false,
     "start_time": "2022-10-29T00:31:55.887910",
     "status": "completed"
    },
    "tags": []
   },
   "outputs": [],
   "source": [
    "# add it as a card feature\n",
    "dfp_cards[\"pair_completeness\"] = pair_completeness"
   ]
  },
  {
   "cell_type": "code",
   "execution_count": 127,
   "id": "f8fc829a",
   "metadata": {
    "execution": {
     "iopub.execute_input": "2022-10-29T00:31:56.371962Z",
     "iopub.status.busy": "2022-10-29T00:31:56.371186Z",
     "iopub.status.idle": "2022-10-29T00:31:56.682183Z",
     "shell.execute_reply": "2022-10-29T00:31:56.681417Z"
    },
    "papermill": {
     "duration": 0.472229,
     "end_time": "2022-10-29T00:31:56.683931",
     "exception": false,
     "start_time": "2022-10-29T00:31:56.211702",
     "status": "completed"
    },
    "tags": []
   },
   "outputs": [
    {
     "data": {
      "text/plain": [
       "<seaborn.axisgrid.FacetGrid at 0x7f463fd12810>"
      ]
     },
     "execution_count": 127,
     "metadata": {},
     "output_type": "execute_result"
    },
    {
     "data": {
      "image/png": "[encoded data removed]",
      "text/plain": [
       "<Figure size 360x360 with 1 Axes>"
      ]
     },
     "metadata": {
      "needs_background": "light"
     },
     "output_type": "display_data"
    }
   ],
   "source": [
    "non_legendary_pair_completeness = pair_completeness[dfp_cards[\"rarity\"]!=\"legendary\"]\n",
    "sns.displot(x=non_legendary_pair_completeness,kde=True)"
   ]
  },
  {
   "cell_type": "code",
   "execution_count": 128,
   "id": "521ce046",
   "metadata": {
    "execution": {
     "iopub.execute_input": "2022-10-29T00:31:57.015555Z",
     "iopub.status.busy": "2022-10-29T00:31:57.015251Z",
     "iopub.status.idle": "2022-10-29T00:31:57.195095Z",
     "shell.execute_reply": "2022-10-29T00:31:57.194281Z"
    },
    "papermill": {
     "duration": 0.348682,
     "end_time": "2022-10-29T00:31:57.196912",
     "exception": false,
     "start_time": "2022-10-29T00:31:56.848230",
     "status": "completed"
    },
    "tags": []
   },
   "outputs": [
    {
     "data": {
      "text/plain": [
       "<AxesSubplot:xlabel='remaining', ylabel='Proportion'>"
      ]
     },
     "execution_count": 128,
     "metadata": {},
     "output_type": "execute_result"
    },
    {
     "data": {
      "image/png": "[encoded data removed]",
      "text/plain": [
       "<Figure size 432x288 with 1 Axes>"
      ]
     },
     "metadata": {
      "needs_background": "light"
     },
     "output_type": "display_data"
    }
   ],
   "source": [
    "sns.ecdfplot(x=non_legendary_pair_completeness)"
   ]
  },
  {
   "cell_type": "code",
   "execution_count": 129,
   "id": "906a0c01",
   "metadata": {
    "execution": {
     "iopub.execute_input": "2022-10-29T00:31:57.554420Z",
     "iopub.status.busy": "2022-10-29T00:31:57.553881Z",
     "iopub.status.idle": "2022-10-29T00:31:57.560507Z",
     "shell.execute_reply": "2022-10-29T00:31:57.559739Z"
    },
    "papermill": {
     "duration": 0.205133,
     "end_time": "2022-10-29T00:31:57.563028",
     "exception": false,
     "start_time": "2022-10-29T00:31:57.357895",
     "status": "completed"
    },
    "tags": []
   },
   "outputs": [
    {
     "data": {
      "text/plain": [
       "0.22064777327935223"
      ]
     },
     "execution_count": 129,
     "metadata": {},
     "output_type": "execute_result"
    }
   ],
   "source": [
    "(pair_completeness[dfp_cards[\"rarity\"]!=\"legendary\"] > 0.8).mean()"
   ]
  },
  {
   "cell_type": "code",
   "execution_count": 130,
   "id": "8976fd02",
   "metadata": {
    "execution": {
     "iopub.execute_input": "2022-10-29T00:31:57.893125Z",
     "iopub.status.busy": "2022-10-29T00:31:57.892800Z",
     "iopub.status.idle": "2022-10-29T00:31:58.246038Z",
     "shell.execute_reply": "2022-10-29T00:31:58.245118Z"
    },
    "papermill": {
     "duration": 0.518039,
     "end_time": "2022-10-29T00:31:58.247918",
     "exception": false,
     "start_time": "2022-10-29T00:31:57.729879",
     "status": "completed"
    },
    "tags": []
   },
   "outputs": [
    {
     "data": {
      "text/plain": [
       "<AxesSubplot:xlabel='remaining'>"
      ]
     },
     "execution_count": 130,
     "metadata": {},
     "output_type": "execute_result"
    },
    {
     "data": {
      "image/png": "[encoded data removed]",
      "text/plain": [
       "<Figure size 432x288 with 1 Axes>"
      ]
     },
     "metadata": {
      "needs_background": "light"
     },
     "output_type": "display_data"
    }
   ],
   "source": [
    "# how popular is any given # of unique non-legendary cards for decks?\n",
    "remaining_sum_test = _.groupby(\"deckid\").agg({\"remaining\":np.sum}).value_counts().sort_index()\n",
    "remaining_sum_test.plot(kind='bar')"
   ]
  },
  {
   "cell_type": "code",
   "execution_count": 131,
   "id": "ebc8f454",
   "metadata": {
    "execution": {
     "iopub.execute_input": "2022-10-29T00:31:58.575259Z",
     "iopub.status.busy": "2022-10-29T00:31:58.574232Z",
     "iopub.status.idle": "2022-10-29T00:31:58.731660Z",
     "shell.execute_reply": "2022-10-29T00:31:58.730657Z"
    },
    "papermill": {
     "duration": 0.321779,
     "end_time": "2022-10-29T00:31:58.733451",
     "exception": false,
     "start_time": "2022-10-29T00:31:58.411672",
     "status": "completed"
    },
    "tags": []
   },
   "outputs": [
    {
     "data": {
      "text/plain": [
       "<AxesSubplot:xlabel='remaining'>"
      ]
     },
     "execution_count": 131,
     "metadata": {},
     "output_type": "execute_result"
    },
    {
     "data": {
      "image/png": "[encoded data removed]",
      "text/plain": [
       "<Figure size 432x288 with 1 Axes>"
      ]
     },
     "metadata": {
      "needs_background": "light"
     },
     "output_type": "display_data"
    }
   ],
   "source": [
    "(remaining_sum_test.cumsum() / remaining_sum_test.sum()).plot()"
   ]
  },
  {
   "cell_type": "markdown",
   "id": "8e8950d2",
   "metadata": {
    "papermill": {
     "duration": 0.165382,
     "end_time": "2022-10-29T00:31:59.062572",
     "exception": false,
     "start_time": "2022-10-29T00:31:58.897190",
     "status": "completed"
    },
    "tags": []
   },
   "source": [
    "We see that 80\\% of the test set decks have at most 5 unique non-legendary cards. We can tune from the validation set the minimum completeness level as to maximize the LB performance."
   ]
  },
  {
   "cell_type": "code",
   "execution_count": 132,
   "id": "b5efb5a2",
   "metadata": {
    "execution": {
     "iopub.execute_input": "2022-10-29T00:31:59.388520Z",
     "iopub.status.busy": "2022-10-29T00:31:59.388189Z",
     "iopub.status.idle": "2022-10-29T00:31:59.398168Z",
     "shell.execute_reply": "2022-10-29T00:31:59.397405Z"
    },
    "papermill": {
     "duration": 0.174357,
     "end_time": "2022-10-29T00:31:59.400202",
     "exception": false,
     "start_time": "2022-10-29T00:31:59.225845",
     "status": "completed"
    },
    "tags": []
   },
   "outputs": [],
   "source": [
    "# class version\n",
    "class MissingCopyCorrector:\n",
    "    def fit(self, df_train, df_cards, deck_key=\"cards\"):\n",
    "        aux = (\n",
    "            df_train[[\"deckid\",deck_key]]\n",
    "            .explode(deck_key)\n",
    "            .groupby([\"deckid\",deck_key])\n",
    "            .size()\n",
    "            .rename(\"count\")\n",
    "            .reset_index()\n",
    "            .merge(df_cards[\"max_count\"],right_index=True, left_on=deck_key)\n",
    "        )\n",
    "\n",
    "        aux[\"remaining\"] = aux[\"max_count\"] - aux[\"count\"]\n",
    "        \n",
    "        self.df_cards = df_cards[[\"max_count\"]].copy()\n",
    "        self.df_cards[\"pair_completeness\"] = 1 - (\n",
    "            aux\n",
    "            .groupby(deck_key)\n",
    "            .agg({\"remaining\":np.mean})\n",
    "        )[\"remaining\"]\n",
    "        return self\n",
    "    \n",
    "    def recommend_one(self, deck, min_completeness, max_k):\n",
    "        aux = (\n",
    "            self.df_cards[[\"pair_completeness\",\"max_count\"]]\n",
    "            .merge(pd.value_counts(deck).rename(\"count\"), left_index=True, right_index=True)\n",
    "        )\n",
    "        # keep only those cards where remaining > 0 and pair_completeness > min_completeness, sort by pair_completeness\n",
    "        aux = aux[(((aux[\"max_count\"] - aux[\"count\"]) > 0) & \n",
    "                   (aux[\"pair_completeness\"] > min_completeness))].sort_values(\"pair_completeness\", ascending=False)\n",
    "        \n",
    "        return aux.index.to_list()[:max_k]\n",
    "        \n",
    "    def predict(self, df_test, deck_key=\"cards_incomplete\", min_completeness=0.8, max_k=3):\n",
    "        return [self.recommend_one(deck, min_completeness, max_k) for deck in df_test[deck_key]]"
   ]
  },
  {
   "cell_type": "code",
   "execution_count": 133,
   "id": "9fb63958",
   "metadata": {
    "execution": {
     "iopub.execute_input": "2022-10-29T00:31:59.772103Z",
     "iopub.status.busy": "2022-10-29T00:31:59.771800Z",
     "iopub.status.idle": "2022-10-29T00:32:14.961488Z",
     "shell.execute_reply": "2022-10-29T00:32:14.960510Z"
    },
    "papermill": {
     "duration": 15.401829,
     "end_time": "2022-10-29T00:32:14.963420",
     "exception": false,
     "start_time": "2022-10-29T00:31:59.561591",
     "status": "completed"
    },
    "tags": []
   },
   "outputs": [
    {
     "name": "stdout",
     "output_type": "stream",
     "text": [
      "Mean MAP@3: 0.47135\n",
      "Mean NDCG1: 0.4284\n"
     ]
    },
    {
     "data": {
      "text/html": [
       "<div>\n",
       "<style scoped>\n",
       "    .dataframe tbody tr th:only-of-type {\n",
       "        vertical-align: middle;\n",
       "    }\n",
       "\n",
       "    .dataframe tbody tr th {\n",
       "        vertical-align: top;\n",
       "    }\n",
       "\n",
       "    .dataframe thead th {\n",
       "        text-align: right;\n",
       "    }\n",
       "</style>\n",
       "<table border=\"1\" class=\"dataframe\">\n",
       "  <thead>\n",
       "    <tr style=\"text-align: right;\">\n",
       "      <th></th>\n",
       "      <th>MAP@3</th>\n",
       "      <th>NDCG1</th>\n",
       "    </tr>\n",
       "    <tr>\n",
       "      <th>hero</th>\n",
       "      <th></th>\n",
       "      <th></th>\n",
       "    </tr>\n",
       "  </thead>\n",
       "  <tbody>\n",
       "    <tr>\n",
       "      <th>druid</th>\n",
       "      <td>0.52000</td>\n",
       "      <td>0.48309</td>\n",
       "    </tr>\n",
       "    <tr>\n",
       "      <th>hunter</th>\n",
       "      <td>0.45614</td>\n",
       "      <td>0.43212</td>\n",
       "    </tr>\n",
       "    <tr>\n",
       "      <th>mage</th>\n",
       "      <td>0.38462</td>\n",
       "      <td>0.33856</td>\n",
       "    </tr>\n",
       "    <tr>\n",
       "      <th>paladin</th>\n",
       "      <td>0.49524</td>\n",
       "      <td>0.44580</td>\n",
       "    </tr>\n",
       "    <tr>\n",
       "      <th>priest</th>\n",
       "      <td>0.41346</td>\n",
       "      <td>0.36206</td>\n",
       "    </tr>\n",
       "    <tr>\n",
       "      <th>rogue</th>\n",
       "      <td>0.52893</td>\n",
       "      <td>0.49105</td>\n",
       "    </tr>\n",
       "    <tr>\n",
       "      <th>shaman</th>\n",
       "      <td>0.35385</td>\n",
       "      <td>0.34048</td>\n",
       "    </tr>\n",
       "    <tr>\n",
       "      <th>warlock</th>\n",
       "      <td>0.60870</td>\n",
       "      <td>0.54037</td>\n",
       "    </tr>\n",
       "    <tr>\n",
       "      <th>warrior</th>\n",
       "      <td>0.50000</td>\n",
       "      <td>0.44808</td>\n",
       "    </tr>\n",
       "  </tbody>\n",
       "</table>\n",
       "</div>"
      ],
      "text/plain": [
       "           MAP@3    NDCG1\n",
       "hero                     \n",
       "druid    0.52000  0.48309\n",
       "hunter   0.45614  0.43212\n",
       "mage     0.38462  0.33856\n",
       "paladin  0.49524  0.44580\n",
       "priest   0.41346  0.36206\n",
       "rogue    0.52893  0.49105\n",
       "shaman   0.35385  0.34048\n",
       "warlock  0.60870  0.54037\n",
       "warrior  0.50000  0.44808"
      ]
     },
     "execution_count": 133,
     "metadata": {},
     "output_type": "execute_result"
    }
   ],
   "source": [
    "m4_valid_corrections = (MissingCopyCorrector()\n",
    "                        .fit(X_train, dfp_cards)\n",
    "                        .predict(X_valid, min_completeness=0.8, max_k=3))\n",
    "\n",
    "m4_valid_preds = append_corrections(preds=m1_valid_preds,\n",
    "                                    corrections=m4_valid_corrections,\n",
    "                                    k_corrections=3,\n",
    "                                    k_predictions=3)\n",
    "\n",
    "#ndcg1(y_valid,m3_valid_preds), map3(y_valid, m3_valid_preds)\n",
    "report(y_valid,m4_valid_preds, X_valid[\"hero\"])"
   ]
  },
  {
   "cell_type": "code",
   "execution_count": 134,
   "id": "370e4da2",
   "metadata": {
    "execution": {
     "iopub.execute_input": "2022-10-29T00:32:15.290489Z",
     "iopub.status.busy": "2022-10-29T00:32:15.290177Z",
     "iopub.status.idle": "2022-10-29T00:32:15.326209Z",
     "shell.execute_reply": "2022-10-29T00:32:15.325282Z"
    },
    "papermill": {
     "duration": 0.201416,
     "end_time": "2022-10-29T00:32:15.327866",
     "exception": false,
     "start_time": "2022-10-29T00:32:15.126450",
     "status": "completed"
    },
    "tags": []
   },
   "outputs": [
    {
     "name": "stdout",
     "output_type": "stream",
     "text": [
      "Mean MAP@3: 0.5616\n",
      "Mean NDCG1: 0.52224\n"
     ]
    },
    {
     "data": {
      "text/html": [
       "<div>\n",
       "<style scoped>\n",
       "    .dataframe tbody tr th:only-of-type {\n",
       "        vertical-align: middle;\n",
       "    }\n",
       "\n",
       "    .dataframe tbody tr th {\n",
       "        vertical-align: top;\n",
       "    }\n",
       "\n",
       "    .dataframe thead th {\n",
       "        text-align: right;\n",
       "    }\n",
       "</style>\n",
       "<table border=\"1\" class=\"dataframe\">\n",
       "  <thead>\n",
       "    <tr style=\"text-align: right;\">\n",
       "      <th></th>\n",
       "      <th>MAP@3</th>\n",
       "      <th>NDCG1</th>\n",
       "    </tr>\n",
       "    <tr>\n",
       "      <th>hero</th>\n",
       "      <th></th>\n",
       "      <th></th>\n",
       "    </tr>\n",
       "  </thead>\n",
       "  <tbody>\n",
       "    <tr>\n",
       "      <th>druid</th>\n",
       "      <td>0.60000</td>\n",
       "      <td>0.56309</td>\n",
       "    </tr>\n",
       "    <tr>\n",
       "      <th>hunter</th>\n",
       "      <td>0.50877</td>\n",
       "      <td>0.47828</td>\n",
       "    </tr>\n",
       "    <tr>\n",
       "      <th>mage</th>\n",
       "      <td>0.48352</td>\n",
       "      <td>0.42530</td>\n",
       "    </tr>\n",
       "    <tr>\n",
       "      <th>paladin</th>\n",
       "      <td>0.61905</td>\n",
       "      <td>0.56837</td>\n",
       "    </tr>\n",
       "    <tr>\n",
       "      <th>priest</th>\n",
       "      <td>0.56731</td>\n",
       "      <td>0.52198</td>\n",
       "    </tr>\n",
       "    <tr>\n",
       "      <th>rogue</th>\n",
       "      <td>0.62810</td>\n",
       "      <td>0.60350</td>\n",
       "    </tr>\n",
       "    <tr>\n",
       "      <th>shaman</th>\n",
       "      <td>0.40000</td>\n",
       "      <td>0.39432</td>\n",
       "    </tr>\n",
       "    <tr>\n",
       "      <th>warlock</th>\n",
       "      <td>0.63768</td>\n",
       "      <td>0.58385</td>\n",
       "    </tr>\n",
       "    <tr>\n",
       "      <th>warrior</th>\n",
       "      <td>0.52778</td>\n",
       "      <td>0.48611</td>\n",
       "    </tr>\n",
       "  </tbody>\n",
       "</table>\n",
       "</div>"
      ],
      "text/plain": [
       "           MAP@3    NDCG1\n",
       "hero                     \n",
       "druid    0.60000  0.56309\n",
       "hunter   0.50877  0.47828\n",
       "mage     0.48352  0.42530\n",
       "paladin  0.61905  0.56837\n",
       "priest   0.56731  0.52198\n",
       "rogue    0.62810  0.60350\n",
       "shaman   0.40000  0.39432\n",
       "warlock  0.63768  0.58385\n",
       "warrior  0.52778  0.48611"
      ]
     },
     "execution_count": 134,
     "metadata": {},
     "output_type": "execute_result"
    }
   ],
   "source": [
    "# now also with DuplicateCorrector on top (as it is a more specific correction)\n",
    "m4_valid_preds_with_2 = append_corrections(preds=m4_valid_preds,\n",
    "                                           corrections=m2_valid_corrections,\n",
    "                                           k_corrections=3,\n",
    "                                           k_predictions=3)\n",
    "\n",
    "report(y_valid,m4_valid_preds_with_2, X_valid[\"hero\"])"
   ]
  },
  {
   "cell_type": "code",
   "execution_count": 135,
   "id": "7d619dfd",
   "metadata": {
    "execution": {
     "iopub.execute_input": "2022-10-29T00:32:15.655068Z",
     "iopub.status.busy": "2022-10-29T00:32:15.654768Z",
     "iopub.status.idle": "2022-10-29T00:32:15.663896Z",
     "shell.execute_reply": "2022-10-29T00:32:15.662911Z"
    },
    "papermill": {
     "duration": 0.173571,
     "end_time": "2022-10-29T00:32:15.666212",
     "exception": false,
     "start_time": "2022-10-29T00:32:15.492641",
     "status": "completed"
    },
    "tags": []
   },
   "outputs": [
    {
     "name": "stdout",
     "output_type": "stream",
     "text": [
      "1 -> 0.5558739255014327\n",
      "2 -> 0.5616045845272206\n",
      "3 -> 0.5616045845272206\n"
     ]
    }
   ],
   "source": [
    "for k_corrections in range(1,4):\n",
    "    _ = append_corrections(preds=m4_valid_preds,\n",
    "                           corrections=m2_valid_corrections,\n",
    "                           k_corrections=k_corrections,\n",
    "                           k_predictions=3)\n",
    "    print(k_corrections,\"->\",map3(y_valid, _))"
   ]
  },
  {
   "cell_type": "code",
   "execution_count": 136,
   "id": "2b538787",
   "metadata": {
    "execution": {
     "iopub.execute_input": "2022-10-29T00:32:15.999143Z",
     "iopub.status.busy": "2022-10-29T00:32:15.998856Z",
     "iopub.status.idle": "2022-10-29T00:37:21.878685Z",
     "shell.execute_reply": "2022-10-29T00:37:21.877819Z"
    },
    "papermill": {
     "duration": 306.229149,
     "end_time": "2022-10-29T00:37:22.063585",
     "exception": false,
     "start_time": "2022-10-29T00:32:15.834436",
     "status": "completed"
    },
    "tags": []
   },
   "outputs": [
    {
     "name": "stderr",
     "output_type": "stream",
     "text": [
      "100%|██████████| 20/20 [05:05<00:00, 15.29s/it]\n"
     ]
    }
   ],
   "source": [
    "# now that we're sure the best we can do is MissingCopy(3) -> Duplicate(3), grid search over min_completeness\n",
    "GRID_SEARCH_MIN_COMPLETENESS = True\n",
    "if GRID_SEARCH_MIN_COMPLETENESS:\n",
    "    x = np.linspace(start=0, stop=1, num=20)\n",
    "    def measure_performance(min_completeness):\n",
    "        m4_valid_corrections = (MissingCopyCorrector()\n",
    "                                .fit(X_train, dfp_cards)\n",
    "                                .predict(X_valid, min_completeness=min_completeness, max_k=3))\n",
    "\n",
    "        m4_valid_preds = append_corrections(preds=m1_valid_preds,\n",
    "                                            corrections=m4_valid_corrections,\n",
    "                                            k_corrections=3,\n",
    "                                            k_predictions=3)\n",
    "\n",
    "        m4_valid_preds_with_2 = append_corrections(preds=m4_valid_preds,\n",
    "                                                   corrections=m2_valid_corrections,\n",
    "                                                   k_corrections=3,\n",
    "                                                   k_predictions=3)\n",
    "\n",
    "        y_true = y_valid\n",
    "        y_preds = m4_valid_preds_with_2\n",
    "        return (map3(y_true, y_preds), ndcg1(y_true,y_preds))\n",
    "\n",
    "    y_map3, y_ndcg1 = zip(*[measure_performance(k) for k in tqdm(x)])"
   ]
  },
  {
   "cell_type": "code",
   "execution_count": 137,
   "id": "cec71ad2",
   "metadata": {
    "execution": {
     "iopub.execute_input": "2022-10-29T00:37:22.438141Z",
     "iopub.status.busy": "2022-10-29T00:37:22.437522Z",
     "iopub.status.idle": "2022-10-29T00:37:22.638426Z",
     "shell.execute_reply": "2022-10-29T00:37:22.637442Z"
    },
    "papermill": {
     "duration": 0.398151,
     "end_time": "2022-10-29T00:37:22.640732",
     "exception": false,
     "start_time": "2022-10-29T00:37:22.242581",
     "status": "completed"
    },
    "tags": []
   },
   "outputs": [
    {
     "data": {
      "image/png": "[encoded data removed]",
      "text/plain": [
       "<Figure size 864x720 with 1 Axes>"
      ]
     },
     "metadata": {
      "needs_background": "light"
     },
     "output_type": "display_data"
    }
   ],
   "source": [
    "if GRID_SEARCH_MIN_COMPLETENESS:\n",
    "    fig, ax = plt.subplots(figsize=(12,10))\n",
    "    _ = pd.DataFrame({\"x\":x, \"MAP3\":y_map3, \"NDCG1\":y_ndcg1}).melt(\"x\", [\"MAP3\", \"NDCG1\"])\n",
    "    sns.lineplot(data=_, x=\"x\", y=\"value\", hue=\"variable\", ax=ax)\n",
    "    plt.show()"
   ]
  },
  {
   "cell_type": "code",
   "execution_count": 138,
   "id": "40951d5b",
   "metadata": {
    "execution": {
     "iopub.execute_input": "2022-10-29T00:37:22.972167Z",
     "iopub.status.busy": "2022-10-29T00:37:22.971597Z",
     "iopub.status.idle": "2022-10-29T00:37:22.976208Z",
     "shell.execute_reply": "2022-10-29T00:37:22.975563Z"
    },
    "papermill": {
     "duration": 0.170673,
     "end_time": "2022-10-29T00:37:22.977940",
     "exception": false,
     "start_time": "2022-10-29T00:37:22.807267",
     "status": "completed"
    },
    "tags": []
   },
   "outputs": [
    {
     "name": "stdout",
     "output_type": "stream",
     "text": [
      "0.0\n"
     ]
    }
   ],
   "source": [
    "if GRID_SEARCH_MIN_COMPLETENESS:\n",
    "    print(x[np.argmax(y_map3)])"
   ]
  },
  {
   "cell_type": "code",
   "execution_count": 139,
   "id": "09a8edb0",
   "metadata": {
    "execution": {
     "iopub.execute_input": "2022-10-29T00:37:23.311083Z",
     "iopub.status.busy": "2022-10-29T00:37:23.310780Z",
     "iopub.status.idle": "2022-10-29T00:37:23.315091Z",
     "shell.execute_reply": "2022-10-29T00:37:23.314161Z"
    },
    "papermill": {
     "duration": 0.172501,
     "end_time": "2022-10-29T00:37:23.317656",
     "exception": false,
     "start_time": "2022-10-29T00:37:23.145155",
     "status": "completed"
    },
    "tags": []
   },
   "outputs": [
    {
     "name": "stdout",
     "output_type": "stream",
     "text": [
      "0.7621776504297995 0.6892449503684036\n"
     ]
    }
   ],
   "source": [
    "if GRID_SEARCH_MIN_COMPLETENESS:\n",
    "    print(y_map3[0], y_ndcg1[0])"
   ]
  },
  {
   "cell_type": "markdown",
   "id": "e8ee2592",
   "metadata": {
    "papermill": {
     "duration": 0.166653,
     "end_time": "2022-10-29T00:37:23.706163",
     "exception": false,
     "start_time": "2022-10-29T00:37:23.539510",
     "status": "completed"
    },
    "tags": []
   },
   "source": [
    "Contrary to what we'd have assumed, it seems that using the top 3 options for correction is *always* better, no matter how rare it is for the pair to be completed in the train set. This performance is kept stable until min\\_completeness is around 0.3, suggesting that *in practice <0.3-completeness pairs are rarely suggested*. This raises the question about whether the actual best min\\_completeness value is somewhere in between 0 and 0.3 but we can't observe it, but there's not much we can do without generating another temporal split (which would in turn raise doubts about distribution shifts)."
   ]
  },
  {
   "cell_type": "code",
   "execution_count": 140,
   "id": "a224794d",
   "metadata": {
    "execution": {
     "iopub.execute_input": "2022-10-29T00:37:24.040775Z",
     "iopub.status.busy": "2022-10-29T00:37:24.040422Z",
     "iopub.status.idle": "2022-10-29T00:37:43.671186Z",
     "shell.execute_reply": "2022-10-29T00:37:43.669928Z"
    },
    "papermill": {
     "duration": 19.800274,
     "end_time": "2022-10-29T00:37:43.673237",
     "exception": false,
     "start_time": "2022-10-29T00:37:23.872963",
     "status": "completed"
    },
    "tags": []
   },
   "outputs": [],
   "source": [
    "# submit this last version\n",
    "m4 = MissingCopyCorrector().fit(dfp_train, dfp_cards)\n",
    "m4_corrections = m4.predict(dfp_test, min_completeness=0, max_k=3)\n",
    "m1_preds_corrected_4 = append_corrections(popular_by_hero_preds,m4_corrections)\n",
    "m4_preds_corrected_2 = append_corrections(m1_preds_corrected_4,m2_preds)\n",
    "\n",
    "submit(dfp_test[\"deckid\"], m4_preds_corrected_2).to_csv(\"missing_pair.csv\",index=False)"
   ]
  },
  {
   "cell_type": "markdown",
   "id": "a8e5b68f",
   "metadata": {
    "papermill": {
     "duration": 0.162926,
     "end_time": "2022-10-29T00:37:44.000765",
     "exception": false,
     "start_time": "2022-10-29T00:37:43.837839",
     "status": "completed"
    },
    "tags": []
   },
   "source": [
    "**summary V2:**\n",
    "\n",
    "Submission | LB MAP@3 | Valid MAP@3 | NDCG1 | Ratio LB/Valid MAP@3\n",
    ":---: | :---:  |:---: | :---:  | :---:  \n",
    "\\[>2 included\\] Popular | 0.17251 | 0.2432 | 0.2523 | 0.70933\n",
    "\\[>2 included\\] Duplicate correction (all 3) | 0.29492 |  0.40057 | 0.39804 | 0.73625\n",
    "Popular | 0.17191 | 0.24069 | 0.25096 | 0.7142\n",
    "Duplicate correction (all 3) | 0.29432 | 0.39398 | 0.39516 | 0.7470\n",
    "Popular+MissingCopy+Duplicate | 0.63576 | 0.76218 | 0.68977 | 0.83413\n",
    "\n",
    "At submission this model led to the 5th rank in the public LB, which is extremely high considering it's made up of 3 non-ML models, just backed up by HS (or just plain TCG?) concepts:\n",
    "1. Popular cards are so because they're picked in many decks\n",
    "2. If two decks have 29 cards in common it's highly probable that the 30th one is the same\n",
    "3. There are, broadly speaking, two kind of cards in a deck: those that fit the deck's theme, and tech cards. The first kind are assumed to benefit your deck, hence one should include as many copies of each as possible while the second are specific answers to other decks (e.g. [Dirty Rat](https://hearthstone.fandom.com/wiki/Dirty_Rat) vs OTK/Reno decks) and represent a deviation of the deck's theme, which leads to only keeping a single copy unless the card in itself is strong. One basic approach is, for decks that feature a single copy of a card that's usually included in pairs, suggesting the \"missing\" copy."
   ]
  },
  {
   "cell_type": "code",
   "execution_count": 141,
   "id": "0c86b26f",
   "metadata": {
    "execution": {
     "iopub.execute_input": "2022-10-29T00:37:44.340949Z",
     "iopub.status.busy": "2022-10-29T00:37:44.340323Z",
     "iopub.status.idle": "2022-10-29T00:37:44.344419Z",
     "shell.execute_reply": "2022-10-29T00:37:44.343590Z"
    },
    "papermill": {
     "duration": 0.181459,
     "end_time": "2022-10-29T00:37:44.346127",
     "exception": false,
     "start_time": "2022-10-29T00:37:44.164668",
     "status": "completed"
    },
    "tags": []
   },
   "outputs": [],
   "source": [
    "# submit last one\n",
    "submission = \"missing_pair\""
   ]
  },
  {
   "cell_type": "code",
   "execution_count": 142,
   "id": "707611a9",
   "metadata": {
    "execution": {
     "iopub.execute_input": "2022-10-29T00:37:44.692592Z",
     "iopub.status.busy": "2022-10-29T00:37:44.692254Z",
     "iopub.status.idle": "2022-10-29T00:37:44.696561Z",
     "shell.execute_reply": "2022-10-29T00:37:44.695653Z"
    },
    "papermill": {
     "duration": 0.17593,
     "end_time": "2022-10-29T00:37:44.698100",
     "exception": false,
     "start_time": "2022-10-29T00:37:44.522170",
     "status": "completed"
    },
    "tags": []
   },
   "outputs": [],
   "source": [
    "os.rename(f\"{submission}.csv\",\"submission.csv\")"
   ]
  }
 ],
 "metadata": {
  "kernelspec": {
   "display_name": "Python 3.8.7 32-bit",
   "language": "python",
   "name": "python3"
  },
  "language_info": {
   "codemirror_mode": {
    "name": "ipython",
    "version": 3
   },
   "file_extension": ".py",
   "mimetype": "text/x-python",
   "name": "python",
   "nbconvert_exporter": "python",
   "pygments_lexer": "ipython3",
   "version": "3.8.7"
  },
  "papermill": {
   "default_parameters": {},
   "duration": 772.887295,
   "end_time": "2022-10-29T00:37:46.688807",
   "environment_variables": {},
   "exception": null,
   "input_path": "__notebook__.ipynb",
   "output_path": "__notebook__.ipynb",
   "parameters": {},
   "start_time": "2022-10-29T00:24:53.801512",
   "version": "2.3.4"
  },
  "vscode": {
   "interpreter": {
    "hash": "5f5c997f0203e7764ea029d41d095d132c95e6a352df4da9f0a1bcc57002cf09"
   }
  }
 },
 "nbformat": 4,
 "nbformat_minor": 5
}
