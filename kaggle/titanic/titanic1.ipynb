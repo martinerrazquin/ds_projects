{
 "cells": [
  {
   "cell_type": "code",
   "execution_count": 1,
   "id": "d12d274f",
   "metadata": {
    "_cell_guid": "b1076dfc-b9ad-4769-8c92-a6c4dae69d19",
    "_uuid": "8f2839f25d086af736a60e9eeb907d3b93b6e0e5",
    "execution": {
     "iopub.execute_input": "2022-03-01T17:36:16.149107Z",
     "iopub.status.busy": "2022-03-01T17:36:16.148365Z",
     "iopub.status.idle": "2022-03-01T17:36:17.697207Z",
     "shell.execute_reply": "2022-03-01T17:36:17.696416Z",
     "shell.execute_reply.started": "2022-03-01T16:52:22.363983Z"
    },
    "papermill": {
     "duration": 1.674523,
     "end_time": "2022-03-01T17:36:17.697398",
     "exception": false,
     "start_time": "2022-03-01T17:36:16.022875",
     "status": "completed"
    },
    "tags": []
   },
   "outputs": [
    {
     "name": "stdout",
     "output_type": "stream",
     "text": [
      "/kaggle/input/titanic/train.csv\n",
      "/kaggle/input/titanic/test.csv\n",
      "/kaggle/input/titanic/gender_submission.csv\n"
     ]
    }
   ],
   "source": [
    "# This Python 3 environment comes with many helpful analytics libraries installed\n",
    "# It is defined by the kaggle/python Docker image: https://github.com/kaggle/docker-python\n",
    "# For example, here's several helpful packages to load\n",
    "\n",
    "import warnings\n",
    "# disabling pesky FutureWarning\n",
    "warnings.simplefilter(action='ignore', category=FutureWarning)\n",
    "\n",
    "import numpy as np # linear algebra\n",
    "import pandas as pd # data processing, CSV file I/O (e.g. pd.read_csv)\n",
    "import matplotlib.pyplot as plt\n",
    "import seaborn as sns\n",
    "from pathlib import Path\n",
    "from sklearn.pipeline import Pipeline\n",
    "from sklearn.compose import ColumnTransformer\n",
    "from sklearn.preprocessing import OneHotEncoder, FunctionTransformer\n",
    "from sklearn.base import BaseEstimator, TransformerMixin\n",
    "from sklearn.impute import SimpleImputer\n",
    "from sklearn.model_selection import cross_val_score\n",
    "from sklearn.ensemble import RandomForestClassifier\n",
    "\n",
    "sns.set_theme()\n",
    "# Input data files are available in the read-only \"../input/\" directory\n",
    "# For example, running this (by clicking run or pressing Shift+Enter) will list all files under the input directory\n",
    "\n",
    "import os\n",
    "for dirname, _, filenames in os.walk('/kaggle/input'):\n",
    "    for filename in filenames:\n",
    "        print(os.path.join(dirname, filename))\n",
    "\n",
    "# You can write up to 20GB to the current directory (/kaggle/working/) that gets preserved as output when you create a version using \"Save & Run All\" \n",
    "# You can also write temporary files to /kaggle/temp/, but they won't be saved outside of the current session"
   ]
  },
  {
   "cell_type": "code",
   "execution_count": 2,
   "id": "a9c01edc",
   "metadata": {
    "execution": {
     "iopub.execute_input": "2022-03-01T17:36:17.924466Z",
     "iopub.status.busy": "2022-03-01T17:36:17.923712Z",
     "iopub.status.idle": "2022-03-01T17:36:17.963482Z",
     "shell.execute_reply": "2022-03-01T17:36:17.962858Z",
     "shell.execute_reply.started": "2022-03-01T16:52:23.731368Z"
    },
    "papermill": {
     "duration": 0.154141,
     "end_time": "2022-03-01T17:36:17.963663",
     "exception": false,
     "start_time": "2022-03-01T17:36:17.809522",
     "status": "completed"
    },
    "tags": []
   },
   "outputs": [],
   "source": [
    "data_path = Path('/kaggle/input/titanic')\n",
    "train_df = pd.read_csv(data_path / \"train.csv\", index_col='PassengerId')\n",
    "test_df = pd.read_csv(data_path / \"test.csv\", index_col='PassengerId')"
   ]
  },
  {
   "cell_type": "code",
   "execution_count": 3,
   "id": "f21cdbb7",
   "metadata": {
    "execution": {
     "iopub.execute_input": "2022-03-01T17:36:18.193682Z",
     "iopub.status.busy": "2022-03-01T17:36:18.192931Z",
     "iopub.status.idle": "2022-03-01T17:36:18.216208Z",
     "shell.execute_reply": "2022-03-01T17:36:18.216790Z",
     "shell.execute_reply.started": "2022-03-01T16:52:23.767842Z"
    },
    "papermill": {
     "duration": 0.140466,
     "end_time": "2022-03-01T17:36:18.216996",
     "exception": false,
     "start_time": "2022-03-01T17:36:18.076530",
     "status": "completed"
    },
    "tags": []
   },
   "outputs": [
    {
     "data": {
      "text/html": [
       "<div>\n",
       "<style scoped>\n",
       "    .dataframe tbody tr th:only-of-type {\n",
       "        vertical-align: middle;\n",
       "    }\n",
       "\n",
       "    .dataframe tbody tr th {\n",
       "        vertical-align: top;\n",
       "    }\n",
       "\n",
       "    .dataframe thead th {\n",
       "        text-align: right;\n",
       "    }\n",
       "</style>\n",
       "<table border=\"1\" class=\"dataframe\">\n",
       "  <thead>\n",
       "    <tr style=\"text-align: right;\">\n",
       "      <th></th>\n",
       "      <th>Survived</th>\n",
       "      <th>Pclass</th>\n",
       "      <th>Name</th>\n",
       "      <th>Sex</th>\n",
       "      <th>Age</th>\n",
       "      <th>SibSp</th>\n",
       "      <th>Parch</th>\n",
       "      <th>Ticket</th>\n",
       "      <th>Fare</th>\n",
       "      <th>Cabin</th>\n",
       "      <th>Embarked</th>\n",
       "    </tr>\n",
       "    <tr>\n",
       "      <th>PassengerId</th>\n",
       "      <th></th>\n",
       "      <th></th>\n",
       "      <th></th>\n",
       "      <th></th>\n",
       "      <th></th>\n",
       "      <th></th>\n",
       "      <th></th>\n",
       "      <th></th>\n",
       "      <th></th>\n",
       "      <th></th>\n",
       "      <th></th>\n",
       "    </tr>\n",
       "  </thead>\n",
       "  <tbody>\n",
       "    <tr>\n",
       "      <th>1</th>\n",
       "      <td>0</td>\n",
       "      <td>3</td>\n",
       "      <td>Braund, Mr. Owen Harris</td>\n",
       "      <td>male</td>\n",
       "      <td>22.0</td>\n",
       "      <td>1</td>\n",
       "      <td>0</td>\n",
       "      <td>A/5 21171</td>\n",
       "      <td>7.2500</td>\n",
       "      <td>NaN</td>\n",
       "      <td>S</td>\n",
       "    </tr>\n",
       "    <tr>\n",
       "      <th>2</th>\n",
       "      <td>1</td>\n",
       "      <td>1</td>\n",
       "      <td>Cumings, Mrs. John Bradley (Florence Briggs Th...</td>\n",
       "      <td>female</td>\n",
       "      <td>38.0</td>\n",
       "      <td>1</td>\n",
       "      <td>0</td>\n",
       "      <td>PC 17599</td>\n",
       "      <td>71.2833</td>\n",
       "      <td>C85</td>\n",
       "      <td>C</td>\n",
       "    </tr>\n",
       "    <tr>\n",
       "      <th>3</th>\n",
       "      <td>1</td>\n",
       "      <td>3</td>\n",
       "      <td>Heikkinen, Miss. Laina</td>\n",
       "      <td>female</td>\n",
       "      <td>26.0</td>\n",
       "      <td>0</td>\n",
       "      <td>0</td>\n",
       "      <td>STON/O2. 3101282</td>\n",
       "      <td>7.9250</td>\n",
       "      <td>NaN</td>\n",
       "      <td>S</td>\n",
       "    </tr>\n",
       "    <tr>\n",
       "      <th>4</th>\n",
       "      <td>1</td>\n",
       "      <td>1</td>\n",
       "      <td>Futrelle, Mrs. Jacques Heath (Lily May Peel)</td>\n",
       "      <td>female</td>\n",
       "      <td>35.0</td>\n",
       "      <td>1</td>\n",
       "      <td>0</td>\n",
       "      <td>113803</td>\n",
       "      <td>53.1000</td>\n",
       "      <td>C123</td>\n",
       "      <td>S</td>\n",
       "    </tr>\n",
       "    <tr>\n",
       "      <th>5</th>\n",
       "      <td>0</td>\n",
       "      <td>3</td>\n",
       "      <td>Allen, Mr. William Henry</td>\n",
       "      <td>male</td>\n",
       "      <td>35.0</td>\n",
       "      <td>0</td>\n",
       "      <td>0</td>\n",
       "      <td>373450</td>\n",
       "      <td>8.0500</td>\n",
       "      <td>NaN</td>\n",
       "      <td>S</td>\n",
       "    </tr>\n",
       "  </tbody>\n",
       "</table>\n",
       "</div>"
      ],
      "text/plain": [
       "             Survived  Pclass  \\\n",
       "PassengerId                     \n",
       "1                   0       3   \n",
       "2                   1       1   \n",
       "3                   1       3   \n",
       "4                   1       1   \n",
       "5                   0       3   \n",
       "\n",
       "                                                          Name     Sex   Age  \\\n",
       "PassengerId                                                                    \n",
       "1                                      Braund, Mr. Owen Harris    male  22.0   \n",
       "2            Cumings, Mrs. John Bradley (Florence Briggs Th...  female  38.0   \n",
       "3                                       Heikkinen, Miss. Laina  female  26.0   \n",
       "4                 Futrelle, Mrs. Jacques Heath (Lily May Peel)  female  35.0   \n",
       "5                                     Allen, Mr. William Henry    male  35.0   \n",
       "\n",
       "             SibSp  Parch            Ticket     Fare Cabin Embarked  \n",
       "PassengerId                                                          \n",
       "1                1      0         A/5 21171   7.2500   NaN        S  \n",
       "2                1      0          PC 17599  71.2833   C85        C  \n",
       "3                0      0  STON/O2. 3101282   7.9250   NaN        S  \n",
       "4                1      0            113803  53.1000  C123        S  \n",
       "5                0      0            373450   8.0500   NaN        S  "
      ]
     },
     "execution_count": 3,
     "metadata": {},
     "output_type": "execute_result"
    }
   ],
   "source": [
    "# taking a peek\n",
    "train_df.head()"
   ]
  },
  {
   "cell_type": "code",
   "execution_count": 4,
   "id": "a8d8f97b",
   "metadata": {
    "execution": {
     "iopub.execute_input": "2022-03-01T17:36:18.442961Z",
     "iopub.status.busy": "2022-03-01T17:36:18.442088Z",
     "iopub.status.idle": "2022-03-01T17:36:18.447836Z",
     "shell.execute_reply": "2022-03-01T17:36:18.448506Z",
     "shell.execute_reply.started": "2022-03-01T16:52:23.795868Z"
    },
    "papermill": {
     "duration": 0.12156,
     "end_time": "2022-03-01T17:36:18.448690",
     "exception": false,
     "start_time": "2022-03-01T17:36:18.327130",
     "status": "completed"
    },
    "tags": []
   },
   "outputs": [
    {
     "data": {
      "text/plain": [
       "(891, 418)"
      ]
     },
     "execution_count": 4,
     "metadata": {},
     "output_type": "execute_result"
    }
   ],
   "source": [
    "len(train_df), len(test_df)"
   ]
  },
  {
   "cell_type": "markdown",
   "id": "6a850a18",
   "metadata": {
    "papermill": {
     "duration": 0.11125,
     "end_time": "2022-03-01T17:36:18.673589",
     "exception": false,
     "start_time": "2022-03-01T17:36:18.562339",
     "status": "completed"
    },
    "tags": []
   },
   "source": [
    "Since there are so few features we can inspect the number of NAs manually"
   ]
  },
  {
   "cell_type": "code",
   "execution_count": 5,
   "id": "e5adc0a3",
   "metadata": {
    "execution": {
     "iopub.execute_input": "2022-03-01T17:36:18.900593Z",
     "iopub.status.busy": "2022-03-01T17:36:18.899810Z",
     "iopub.status.idle": "2022-03-01T17:36:18.938649Z",
     "shell.execute_reply": "2022-03-01T17:36:18.937966Z",
     "shell.execute_reply.started": "2022-03-01T16:52:23.804648Z"
    },
    "papermill": {
     "duration": 0.153254,
     "end_time": "2022-03-01T17:36:18.938802",
     "exception": false,
     "start_time": "2022-03-01T17:36:18.785548",
     "status": "completed"
    },
    "tags": []
   },
   "outputs": [
    {
     "data": {
      "text/html": [
       "<div>\n",
       "<style scoped>\n",
       "    .dataframe tbody tr th:only-of-type {\n",
       "        vertical-align: middle;\n",
       "    }\n",
       "\n",
       "    .dataframe tbody tr th {\n",
       "        vertical-align: top;\n",
       "    }\n",
       "\n",
       "    .dataframe thead th {\n",
       "        text-align: right;\n",
       "    }\n",
       "</style>\n",
       "<table border=\"1\" class=\"dataframe\">\n",
       "  <thead>\n",
       "    <tr style=\"text-align: right;\">\n",
       "      <th></th>\n",
       "      <th>NAs</th>\n",
       "      <th>NA %</th>\n",
       "      <th>Dtype</th>\n",
       "      <th>Unique values</th>\n",
       "      <th>% uniqueness</th>\n",
       "      <th>Mean/mode</th>\n",
       "    </tr>\n",
       "  </thead>\n",
       "  <tbody>\n",
       "    <tr>\n",
       "      <th>Survived</th>\n",
       "      <td>0</td>\n",
       "      <td>0.00</td>\n",
       "      <td>int64</td>\n",
       "      <td>2</td>\n",
       "      <td>0.22</td>\n",
       "      <td>0.383838</td>\n",
       "    </tr>\n",
       "    <tr>\n",
       "      <th>Pclass</th>\n",
       "      <td>0</td>\n",
       "      <td>0.00</td>\n",
       "      <td>int64</td>\n",
       "      <td>3</td>\n",
       "      <td>0.34</td>\n",
       "      <td>2.308642</td>\n",
       "    </tr>\n",
       "    <tr>\n",
       "      <th>Name</th>\n",
       "      <td>0</td>\n",
       "      <td>0.00</td>\n",
       "      <td>object</td>\n",
       "      <td>891</td>\n",
       "      <td>100.00</td>\n",
       "      <td>Abbing, Mr. Anthony</td>\n",
       "    </tr>\n",
       "    <tr>\n",
       "      <th>Sex</th>\n",
       "      <td>0</td>\n",
       "      <td>0.00</td>\n",
       "      <td>object</td>\n",
       "      <td>2</td>\n",
       "      <td>0.22</td>\n",
       "      <td>male</td>\n",
       "    </tr>\n",
       "    <tr>\n",
       "      <th>Age</th>\n",
       "      <td>177</td>\n",
       "      <td>19.87</td>\n",
       "      <td>float64</td>\n",
       "      <td>88</td>\n",
       "      <td>9.88</td>\n",
       "      <td>29.699118</td>\n",
       "    </tr>\n",
       "    <tr>\n",
       "      <th>SibSp</th>\n",
       "      <td>0</td>\n",
       "      <td>0.00</td>\n",
       "      <td>int64</td>\n",
       "      <td>7</td>\n",
       "      <td>0.79</td>\n",
       "      <td>0.523008</td>\n",
       "    </tr>\n",
       "    <tr>\n",
       "      <th>Parch</th>\n",
       "      <td>0</td>\n",
       "      <td>0.00</td>\n",
       "      <td>int64</td>\n",
       "      <td>7</td>\n",
       "      <td>0.79</td>\n",
       "      <td>0.381594</td>\n",
       "    </tr>\n",
       "    <tr>\n",
       "      <th>Ticket</th>\n",
       "      <td>0</td>\n",
       "      <td>0.00</td>\n",
       "      <td>object</td>\n",
       "      <td>681</td>\n",
       "      <td>76.43</td>\n",
       "      <td>1601</td>\n",
       "    </tr>\n",
       "    <tr>\n",
       "      <th>Fare</th>\n",
       "      <td>0</td>\n",
       "      <td>0.00</td>\n",
       "      <td>float64</td>\n",
       "      <td>248</td>\n",
       "      <td>27.83</td>\n",
       "      <td>32.204208</td>\n",
       "    </tr>\n",
       "    <tr>\n",
       "      <th>Cabin</th>\n",
       "      <td>687</td>\n",
       "      <td>77.10</td>\n",
       "      <td>object</td>\n",
       "      <td>147</td>\n",
       "      <td>16.50</td>\n",
       "      <td>B96 B98</td>\n",
       "    </tr>\n",
       "    <tr>\n",
       "      <th>Embarked</th>\n",
       "      <td>2</td>\n",
       "      <td>0.22</td>\n",
       "      <td>object</td>\n",
       "      <td>3</td>\n",
       "      <td>0.34</td>\n",
       "      <td>S</td>\n",
       "    </tr>\n",
       "  </tbody>\n",
       "</table>\n",
       "</div>"
      ],
      "text/plain": [
       "          NAs   NA %    Dtype  Unique values  % uniqueness  \\\n",
       "Survived    0   0.00    int64              2          0.22   \n",
       "Pclass      0   0.00    int64              3          0.34   \n",
       "Name        0   0.00   object            891        100.00   \n",
       "Sex         0   0.00   object              2          0.22   \n",
       "Age       177  19.87  float64             88          9.88   \n",
       "SibSp       0   0.00    int64              7          0.79   \n",
       "Parch       0   0.00    int64              7          0.79   \n",
       "Ticket      0   0.00   object            681         76.43   \n",
       "Fare        0   0.00  float64            248         27.83   \n",
       "Cabin     687  77.10   object            147         16.50   \n",
       "Embarked    2   0.22   object              3          0.34   \n",
       "\n",
       "                    Mean/mode  \n",
       "Survived             0.383838  \n",
       "Pclass               2.308642  \n",
       "Name      Abbing, Mr. Anthony  \n",
       "Sex                      male  \n",
       "Age                 29.699118  \n",
       "SibSp                0.523008  \n",
       "Parch                0.381594  \n",
       "Ticket                   1601  \n",
       "Fare                32.204208  \n",
       "Cabin                 B96 B98  \n",
       "Embarked                    S  "
      ]
     },
     "execution_count": 5,
     "metadata": {},
     "output_type": "execute_result"
    }
   ],
   "source": [
    "# some high-level description\n",
    "num_NAs_by_feature_train = train_df.isna().sum()\n",
    "num_NAs_by_feature_test = test_df.isna().sum()\n",
    "\n",
    "pd.DataFrame({\n",
    "    'NAs': num_NAs_by_feature_train,\n",
    "    'NA %': (num_NAs_by_feature_train / len(train_df) * 100).round(2),\n",
    "    'Dtype': train_df.dtypes,\n",
    "    'Unique values': train_df.nunique(),\n",
    "    '% uniqueness': (train_df.nunique() / len(train_df) * 100).round(2),\n",
    "    'Mean/mode': [train_df[col].mode()[0] if str(train_df[col].dtype)=='object' \n",
    "                  else train_df[col].mean()\n",
    "                  for col in train_df.columns]\n",
    "}, index=train_df.columns)"
   ]
  },
  {
   "cell_type": "code",
   "execution_count": 6,
   "id": "b3292af6",
   "metadata": {
    "execution": {
     "iopub.execute_input": "2022-03-01T17:36:19.171178Z",
     "iopub.status.busy": "2022-03-01T17:36:19.170450Z",
     "iopub.status.idle": "2022-03-01T17:36:19.198900Z",
     "shell.execute_reply": "2022-03-01T17:36:19.199576Z",
     "shell.execute_reply.started": "2022-03-01T16:52:23.846116Z"
    },
    "papermill": {
     "duration": 0.144847,
     "end_time": "2022-03-01T17:36:19.199772",
     "exception": false,
     "start_time": "2022-03-01T17:36:19.054925",
     "status": "completed"
    },
    "tags": []
   },
   "outputs": [
    {
     "data": {
      "text/html": [
       "<div>\n",
       "<style scoped>\n",
       "    .dataframe tbody tr th:only-of-type {\n",
       "        vertical-align: middle;\n",
       "    }\n",
       "\n",
       "    .dataframe tbody tr th {\n",
       "        vertical-align: top;\n",
       "    }\n",
       "\n",
       "    .dataframe thead th {\n",
       "        text-align: right;\n",
       "    }\n",
       "</style>\n",
       "<table border=\"1\" class=\"dataframe\">\n",
       "  <thead>\n",
       "    <tr style=\"text-align: right;\">\n",
       "      <th></th>\n",
       "      <th>Survived</th>\n",
       "      <th>Pclass</th>\n",
       "      <th>Age</th>\n",
       "      <th>SibSp</th>\n",
       "      <th>Parch</th>\n",
       "      <th>Fare</th>\n",
       "    </tr>\n",
       "  </thead>\n",
       "  <tbody>\n",
       "    <tr>\n",
       "      <th>count</th>\n",
       "      <td>891.000000</td>\n",
       "      <td>891.000000</td>\n",
       "      <td>714.000000</td>\n",
       "      <td>891.000000</td>\n",
       "      <td>891.000000</td>\n",
       "      <td>891.000000</td>\n",
       "    </tr>\n",
       "    <tr>\n",
       "      <th>mean</th>\n",
       "      <td>0.383838</td>\n",
       "      <td>2.308642</td>\n",
       "      <td>29.699118</td>\n",
       "      <td>0.523008</td>\n",
       "      <td>0.381594</td>\n",
       "      <td>32.204208</td>\n",
       "    </tr>\n",
       "    <tr>\n",
       "      <th>std</th>\n",
       "      <td>0.486592</td>\n",
       "      <td>0.836071</td>\n",
       "      <td>14.526497</td>\n",
       "      <td>1.102743</td>\n",
       "      <td>0.806057</td>\n",
       "      <td>49.693429</td>\n",
       "    </tr>\n",
       "    <tr>\n",
       "      <th>min</th>\n",
       "      <td>0.000000</td>\n",
       "      <td>1.000000</td>\n",
       "      <td>0.420000</td>\n",
       "      <td>0.000000</td>\n",
       "      <td>0.000000</td>\n",
       "      <td>0.000000</td>\n",
       "    </tr>\n",
       "    <tr>\n",
       "      <th>25%</th>\n",
       "      <td>0.000000</td>\n",
       "      <td>2.000000</td>\n",
       "      <td>20.125000</td>\n",
       "      <td>0.000000</td>\n",
       "      <td>0.000000</td>\n",
       "      <td>7.910400</td>\n",
       "    </tr>\n",
       "    <tr>\n",
       "      <th>50%</th>\n",
       "      <td>0.000000</td>\n",
       "      <td>3.000000</td>\n",
       "      <td>28.000000</td>\n",
       "      <td>0.000000</td>\n",
       "      <td>0.000000</td>\n",
       "      <td>14.454200</td>\n",
       "    </tr>\n",
       "    <tr>\n",
       "      <th>75%</th>\n",
       "      <td>1.000000</td>\n",
       "      <td>3.000000</td>\n",
       "      <td>38.000000</td>\n",
       "      <td>1.000000</td>\n",
       "      <td>0.000000</td>\n",
       "      <td>31.000000</td>\n",
       "    </tr>\n",
       "    <tr>\n",
       "      <th>max</th>\n",
       "      <td>1.000000</td>\n",
       "      <td>3.000000</td>\n",
       "      <td>80.000000</td>\n",
       "      <td>8.000000</td>\n",
       "      <td>6.000000</td>\n",
       "      <td>512.329200</td>\n",
       "    </tr>\n",
       "  </tbody>\n",
       "</table>\n",
       "</div>"
      ],
      "text/plain": [
       "         Survived      Pclass         Age       SibSp       Parch        Fare\n",
       "count  891.000000  891.000000  714.000000  891.000000  891.000000  891.000000\n",
       "mean     0.383838    2.308642   29.699118    0.523008    0.381594   32.204208\n",
       "std      0.486592    0.836071   14.526497    1.102743    0.806057   49.693429\n",
       "min      0.000000    1.000000    0.420000    0.000000    0.000000    0.000000\n",
       "25%      0.000000    2.000000   20.125000    0.000000    0.000000    7.910400\n",
       "50%      0.000000    3.000000   28.000000    0.000000    0.000000   14.454200\n",
       "75%      1.000000    3.000000   38.000000    1.000000    0.000000   31.000000\n",
       "max      1.000000    3.000000   80.000000    8.000000    6.000000  512.329200"
      ]
     },
     "execution_count": 6,
     "metadata": {},
     "output_type": "execute_result"
    }
   ],
   "source": [
    "# quantiles and variability of numeric features\n",
    "train_df.describe()"
   ]
  },
  {
   "cell_type": "code",
   "execution_count": 7,
   "id": "c0827891",
   "metadata": {
    "execution": {
     "iopub.execute_input": "2022-03-01T17:36:19.431827Z",
     "iopub.status.busy": "2022-03-01T17:36:19.426083Z",
     "iopub.status.idle": "2022-03-01T17:36:19.807511Z",
     "shell.execute_reply": "2022-03-01T17:36:19.806905Z",
     "shell.execute_reply.started": "2022-03-01T16:52:23.877944Z"
    },
    "papermill": {
     "duration": 0.495292,
     "end_time": "2022-03-01T17:36:19.807657",
     "exception": false,
     "start_time": "2022-03-01T17:36:19.312365",
     "status": "completed"
    },
    "tags": []
   },
   "outputs": [
    {
     "data": {
      "image/png": "[encoded data removed]",
      "text/plain": [
       "<Figure size 720x720 with 1 Axes>"
      ]
     },
     "metadata": {},
     "output_type": "display_data"
    }
   ],
   "source": [
    "# putting NAs into plots\n",
    "def annotate_bars(ax):\n",
    "    for patch in ax.patches:\n",
    "        x = patch.get_x() + patch.get_width() / 2\n",
    "        y = patch.get_height()\n",
    "        ax.annotate(int(y),xy=(x,y), \n",
    "                    xytext=(0,8),\n",
    "                    textcoords='offset points',\n",
    "                    ha='center', va='center')\n",
    "        \n",
    "fig, ax = plt.subplots(figsize=(10,10))\n",
    "\n",
    "ax = sns.barplot(y=num_NAs_by_feature_train, x=num_NAs_by_feature_train.index)\n",
    "ax.set_ylim(0, len(train_df))\n",
    "ax.set_xlabel(\"Feature\")\n",
    "ax.set_ylabel(\"Number of NAs\")\n",
    "ax.set_title(\"NAs per feature - train set\")\n",
    "annotate_bars(ax)"
   ]
  },
  {
   "cell_type": "markdown",
   "id": "553ab5bf",
   "metadata": {
    "papermill": {
     "duration": 0.111417,
     "end_time": "2022-03-01T17:36:20.033185",
     "exception": false,
     "start_time": "2022-03-01T17:36:19.921768",
     "status": "completed"
    },
    "tags": []
   },
   "source": [
    "So far we have:\n",
    "* <20% missing values for *Age*: imputation looks good\n",
    "* 77.1% (> 3/4) missing values for *Cabin*:\n",
    "    * If we find it to have good predictive power, we can build 2 different models, one that includes it and another which doesn't.\n",
    "    * If it doesn't turn out to be a great predictor, it may be viable to drop it altogether.\n",
    "* 2 (out of 891) missing values for *Embarked*: if the test set has missing values for this feature we can use imputation, if it doesn't we may just drop those two rows.\n",
    "\n",
    "Now we need to check whether there's another new variable with NAs in the test set which doesn't lack any in the train set."
   ]
  },
  {
   "cell_type": "code",
   "execution_count": 8,
   "id": "e604f732",
   "metadata": {
    "execution": {
     "iopub.execute_input": "2022-03-01T17:36:20.298106Z",
     "iopub.status.busy": "2022-03-01T17:36:20.292976Z",
     "iopub.status.idle": "2022-03-01T17:36:20.579797Z",
     "shell.execute_reply": "2022-03-01T17:36:20.579095Z",
     "shell.execute_reply.started": "2022-03-01T16:52:24.247110Z"
    },
    "papermill": {
     "duration": 0.433527,
     "end_time": "2022-03-01T17:36:20.579945",
     "exception": false,
     "start_time": "2022-03-01T17:36:20.146418",
     "status": "completed"
    },
    "tags": []
   },
   "outputs": [
    {
     "data": {
      "image/png": "[encoded data removed]",
      "text/plain": [
       "<Figure size 720x720 with 1 Axes>"
      ]
     },
     "metadata": {},
     "output_type": "display_data"
    }
   ],
   "source": [
    "fig, ax = plt.subplots(figsize=(10,10))\n",
    "\n",
    "ax = sns.barplot(y=num_NAs_by_feature_test, x=num_NAs_by_feature_test.index)\n",
    "ax.set_ylim(0, len(test_df))\n",
    "ax.set_xlabel(\"Feature\")\n",
    "ax.set_ylabel(\"Number of NAs\")\n",
    "ax.set_title(\"NAs per feature - test set\")\n",
    "annotate_bars(ax)"
   ]
  },
  {
   "cell_type": "markdown",
   "id": "5e6c60b4",
   "metadata": {
    "papermill": {
     "duration": 0.112789,
     "end_time": "2022-03-01T17:36:20.808318",
     "exception": false,
     "start_time": "2022-03-01T17:36:20.695529",
     "status": "completed"
    },
    "tags": []
   },
   "source": [
    "* *Cabin* still looks like a very likely-to-be-dropped variable\n",
    "* *Age* may still need imputation\n",
    "* One observation misses its *Fare* value. We can use imputation for this one, but more importantly we need to handle it."
   ]
  },
  {
   "cell_type": "markdown",
   "id": "f45f6aaf",
   "metadata": {
    "papermill": {
     "duration": 0.113313,
     "end_time": "2022-03-01T17:36:21.034420",
     "exception": false,
     "start_time": "2022-03-01T17:36:20.921107",
     "status": "completed"
    },
    "tags": []
   },
   "source": [
    "## Per-feature analysis\n",
    "\n",
    "So far we have:\n",
    "* A binary classification problem with target variable *Survived*\n",
    "* 1 ordinal categorical variable (*Pclass*)\n",
    "* 5 nominal categorical variables (*Name*, *Sex*, *Ticket*, *Cabin*, *Embarked*)\n",
    "* 4 numerical variables (*Age*, *SibSp*, *Parch*, *Fare*)\n",
    "\n",
    "First we will analize their potential as standalone predictors, then marginal distributions and then how to encode them inside the main pipeline."
   ]
  },
  {
   "cell_type": "code",
   "execution_count": 9,
   "id": "01695257",
   "metadata": {
    "execution": {
     "iopub.execute_input": "2022-03-01T17:36:21.271272Z",
     "iopub.status.busy": "2022-03-01T17:36:21.270382Z",
     "iopub.status.idle": "2022-03-01T17:36:21.273713Z",
     "shell.execute_reply": "2022-03-01T17:36:21.273145Z",
     "shell.execute_reply.started": "2022-03-01T16:52:24.564833Z"
    },
    "papermill": {
     "duration": 0.125123,
     "end_time": "2022-03-01T17:36:21.273878",
     "exception": false,
     "start_time": "2022-03-01T17:36:21.148755",
     "status": "completed"
    },
    "tags": []
   },
   "outputs": [],
   "source": [
    "# create lists for the pipeline\n",
    "passthrough_vars = []\n",
    "drop_vars = []\n",
    "pipeline_transformers = []"
   ]
  },
  {
   "cell_type": "markdown",
   "id": "e1ac90a7",
   "metadata": {
    "papermill": {
     "duration": 0.112839,
     "end_time": "2022-03-01T17:36:21.501339",
     "exception": false,
     "start_time": "2022-03-01T17:36:21.388500",
     "status": "completed"
    },
    "tags": []
   },
   "source": [
    "### **Survived**\n",
    "**Target variable (binary)**\n",
    "\n",
    "As noted in the description, it's an imbalanced data set. For cat plots we will therefore use % instead of counts, in order to account for such inbalance.\n",
    "We will try to find whether there's a clear relationship between this target variable and one of the features."
   ]
  },
  {
   "cell_type": "code",
   "execution_count": 10,
   "id": "e1b5db5e",
   "metadata": {
    "execution": {
     "iopub.execute_input": "2022-03-01T17:36:21.740975Z",
     "iopub.status.busy": "2022-03-01T17:36:21.740263Z",
     "iopub.status.idle": "2022-03-01T17:36:21.892223Z",
     "shell.execute_reply": "2022-03-01T17:36:21.893195Z",
     "shell.execute_reply.started": "2022-03-01T16:52:24.572216Z"
    },
    "papermill": {
     "duration": 0.278202,
     "end_time": "2022-03-01T17:36:21.893493",
     "exception": false,
     "start_time": "2022-03-01T17:36:21.615291",
     "status": "completed"
    },
    "tags": []
   },
   "outputs": [
    {
     "data": {
      "image/png": "[encoded data removed]",
      "text/plain": [
       "<Figure size 432x288 with 1 Axes>"
      ]
     },
     "metadata": {},
     "output_type": "display_data"
    }
   ],
   "source": [
    "ax = sns.countplot(x='Survived',data=train_df)\n",
    "ax.set_ylim(0,600)\n",
    "annotate_bars(ax)"
   ]
  },
  {
   "cell_type": "code",
   "execution_count": 11,
   "id": "d28ccde1",
   "metadata": {
    "execution": {
     "iopub.execute_input": "2022-03-01T17:36:22.131225Z",
     "iopub.status.busy": "2022-03-01T17:36:22.130361Z",
     "iopub.status.idle": "2022-03-01T17:36:22.650267Z",
     "shell.execute_reply": "2022-03-01T17:36:22.650739Z",
     "shell.execute_reply.started": "2022-03-01T16:52:24.723157Z"
    },
    "papermill": {
     "duration": 0.638984,
     "end_time": "2022-03-01T17:36:22.650931",
     "exception": false,
     "start_time": "2022-03-01T17:36:22.011947",
     "status": "completed"
    },
    "tags": []
   },
   "outputs": [
    {
     "data": {
      "image/png": "[encoded data removed]",
      "text/plain": [
       "<Figure size 720x576 with 1 Axes>"
      ]
     },
     "metadata": {},
     "output_type": "display_data"
    },
    {
     "data": {
      "image/png": "[encoded data removed]",
      "text/plain": [
       "<Figure size 720x576 with 1 Axes>"
      ]
     },
     "metadata": {},
     "output_type": "display_data"
    }
   ],
   "source": [
    "# categorical variables\n",
    "def cat_vs_cat_plot(first,second,dataset,normalize_on_first=True,figsize=(10,8)):\n",
    "    df_individual = dataset.groupby([first,second]).size().to_frame(name='count')\n",
    "    normalizing_var = first if normalize_on_first else second\n",
    "    df_total = df_individual.groupby(normalizing_var).sum().rename(columns={'count':'total'})\n",
    "    df_join = df_individual.join(df_total).reset_index()\n",
    "    df_join['count_normalized'] = df_join['count']/df_join['total']\n",
    "    \n",
    "    ax, fig = plt.subplots(figsize=figsize)\n",
    "    ax = sns.barplot(data=df_join,hue=first,x=second, y='count_normalized')\n",
    "    ax.set_title(f\"Fractions of {first} by {second}, normalized across {normalizing_var}\")\n",
    "    ax.set_ylim(0,1)\n",
    "    for patch in ax.patches:\n",
    "        x = patch.get_x() + patch.get_width() / 2\n",
    "        y = patch.get_height()\n",
    "        ax.annotate(round(y,2),xy=(x,y), \n",
    "                    xytext=(0,8),\n",
    "                    textcoords='offset points',\n",
    "                    ha='center', va='center')\n",
    "    return ax\n",
    "\n",
    "cat_vs_cat_plot('Survived','Sex',train_df)\n",
    "plt.show()\n",
    "cat_vs_cat_plot('Survived','Sex',train_df,normalize_on_first=False)\n",
    "plt.show()"
   ]
  },
  {
   "cell_type": "markdown",
   "id": "e57c0e7a",
   "metadata": {
    "papermill": {
     "duration": 0.117608,
     "end_time": "2022-03-01T17:36:22.886174",
     "exception": false,
     "start_time": "2022-03-01T17:36:22.768566",
     "status": "completed"
    },
    "tags": []
   },
   "source": [
    "Note that normalizing on the first variable (*Survived*) provides a better understanding of the \"recall\", e.g. \"what % of the survivors does the 'sex=Male' class hold?\" while normalizing on the second variable (*Sex*) shows a better 'precision' perspective, e.g. \"what % of the 'sex=Male' class is made of survivors?\""
   ]
  },
  {
   "cell_type": "markdown",
   "id": "6687bef6",
   "metadata": {
    "papermill": {
     "duration": 0.116921,
     "end_time": "2022-03-01T17:36:23.123385",
     "exception": false,
     "start_time": "2022-03-01T17:36:23.006464",
     "status": "completed"
    },
    "tags": []
   },
   "source": [
    "This is how the first plot is commonly done but from a predictive perspective is not as good: the *Survived* variable value is unknown at prediction time, therefore one should look at *Sex* first, then *Survived*, not the other way around"
   ]
  },
  {
   "cell_type": "code",
   "execution_count": 12,
   "id": "2af04695",
   "metadata": {
    "execution": {
     "iopub.execute_input": "2022-03-01T17:36:23.366401Z",
     "iopub.status.busy": "2022-03-01T17:36:23.365616Z",
     "iopub.status.idle": "2022-03-01T17:36:23.622596Z",
     "shell.execute_reply": "2022-03-01T17:36:23.623162Z",
     "shell.execute_reply.started": "2022-03-01T16:52:25.239946Z"
    },
    "papermill": {
     "duration": 0.382157,
     "end_time": "2022-03-01T17:36:23.623372",
     "exception": false,
     "start_time": "2022-03-01T17:36:23.241215",
     "status": "completed"
    },
    "tags": []
   },
   "outputs": [
    {
     "data": {
      "image/png": "[encoded data removed]",
      "text/plain": [
       "<Figure size 720x576 with 1 Axes>"
      ]
     },
     "metadata": {},
     "output_type": "display_data"
    }
   ],
   "source": [
    "cat_vs_cat_plot('Sex','Survived',train_df,normalize_on_first=False)\n",
    "plt.show()"
   ]
  },
  {
   "cell_type": "markdown",
   "id": "7d5137f2",
   "metadata": {
    "papermill": {
     "duration": 0.116955,
     "end_time": "2022-03-01T17:36:23.859876",
     "exception": false,
     "start_time": "2022-03-01T17:36:23.742921",
     "status": "completed"
    },
    "tags": []
   },
   "source": [
    "Now vs *Embarked*"
   ]
  },
  {
   "cell_type": "code",
   "execution_count": 13,
   "id": "ca60ef98",
   "metadata": {
    "execution": {
     "iopub.execute_input": "2022-03-01T17:36:24.104617Z",
     "iopub.status.busy": "2022-03-01T17:36:24.103902Z",
     "iopub.status.idle": "2022-03-01T17:36:24.549383Z",
     "shell.execute_reply": "2022-03-01T17:36:24.548626Z",
     "shell.execute_reply.started": "2022-03-01T16:52:25.497201Z"
    },
    "papermill": {
     "duration": 0.570013,
     "end_time": "2022-03-01T17:36:24.549538",
     "exception": false,
     "start_time": "2022-03-01T17:36:23.979525",
     "status": "completed"
    },
    "tags": []
   },
   "outputs": [
    {
     "data": {
      "text/plain": [
       "<AxesSubplot:title={'center':'Fractions of Survived by Embarked, normalized across Survived'}, xlabel='Embarked', ylabel='count_normalized'>"
      ]
     },
     "execution_count": 13,
     "metadata": {},
     "output_type": "execute_result"
    },
    {
     "data": {
      "image/png": "[encoded data removed]",
      "text/plain": [
       "<Figure size 720x576 with 1 Axes>"
      ]
     },
     "metadata": {},
     "output_type": "display_data"
    }
   ],
   "source": [
    "cat_vs_cat_plot('Survived','Embarked',train_df)"
   ]
  },
  {
   "cell_type": "code",
   "execution_count": 14,
   "id": "67cf3c41",
   "metadata": {
    "execution": {
     "iopub.execute_input": "2022-03-01T17:36:24.794317Z",
     "iopub.status.busy": "2022-03-01T17:36:24.793549Z",
     "iopub.status.idle": "2022-03-01T17:36:25.100801Z",
     "shell.execute_reply": "2022-03-01T17:36:25.100160Z",
     "shell.execute_reply.started": "2022-03-01T16:52:25.935072Z"
    },
    "papermill": {
     "duration": 0.432285,
     "end_time": "2022-03-01T17:36:25.100949",
     "exception": false,
     "start_time": "2022-03-01T17:36:24.668664",
     "status": "completed"
    },
    "tags": []
   },
   "outputs": [
    {
     "data": {
      "text/plain": [
       "<AxesSubplot:title={'center':'Fractions of Survived by Embarked, normalized across Embarked'}, xlabel='Embarked', ylabel='count_normalized'>"
      ]
     },
     "execution_count": 14,
     "metadata": {},
     "output_type": "execute_result"
    },
    {
     "data": {
      "image/png": "[encoded data removed]",
      "text/plain": [
       "<Figure size 720x576 with 1 Axes>"
      ]
     },
     "metadata": {},
     "output_type": "display_data"
    }
   ],
   "source": [
    "cat_vs_cat_plot('Survived','Embarked',train_df,normalize_on_first=False)"
   ]
  },
  {
   "cell_type": "markdown",
   "id": "c269f175",
   "metadata": {
    "papermill": {
     "duration": 0.120085,
     "end_time": "2022-03-01T17:36:25.341618",
     "exception": false,
     "start_time": "2022-03-01T17:36:25.221533",
     "status": "completed"
    },
    "tags": []
   },
   "source": [
    "Here we will treat *Pclass* as just another categorical feature, but will normalize across Pclass in order to find specifically how good of a predictor is, discarding imbalances between classes (first class will have less observations than third)"
   ]
  },
  {
   "cell_type": "code",
   "execution_count": 15,
   "id": "8ad300d3",
   "metadata": {
    "execution": {
     "iopub.execute_input": "2022-03-01T17:36:25.587303Z",
     "iopub.status.busy": "2022-03-01T17:36:25.586607Z",
     "iopub.status.idle": "2022-03-01T17:36:25.904917Z",
     "shell.execute_reply": "2022-03-01T17:36:25.904207Z",
     "shell.execute_reply.started": "2022-03-01T16:52:26.241195Z"
    },
    "papermill": {
     "duration": 0.441792,
     "end_time": "2022-03-01T17:36:25.905089",
     "exception": false,
     "start_time": "2022-03-01T17:36:25.463297",
     "status": "completed"
    },
    "tags": []
   },
   "outputs": [
    {
     "data": {
      "text/plain": [
       "<AxesSubplot:title={'center':'Fractions of Survived by Pclass, normalized across Pclass'}, xlabel='Pclass', ylabel='count_normalized'>"
      ]
     },
     "execution_count": 15,
     "metadata": {},
     "output_type": "execute_result"
    },
    {
     "data": {
      "image/png": "[encoded data removed]",
      "text/plain": [
       "<Figure size 720x576 with 1 Axes>"
      ]
     },
     "metadata": {},
     "output_type": "display_data"
    }
   ],
   "source": [
    "cat_vs_cat_plot('Survived','Pclass',train_df,normalize_on_first=False)"
   ]
  },
  {
   "cell_type": "markdown",
   "id": "d7355816",
   "metadata": {
    "papermill": {
     "duration": 0.121949,
     "end_time": "2022-03-01T17:36:26.152205",
     "exception": false,
     "start_time": "2022-03-01T17:36:26.030256",
     "status": "completed"
    },
    "tags": []
   },
   "source": [
    "Extreme values for *Pclass* are very good predictors for survival, middle ones not so much. We can expect the same to happen with the *Fare* feature."
   ]
  },
  {
   "cell_type": "code",
   "execution_count": 16,
   "id": "f209bcd6",
   "metadata": {
    "execution": {
     "iopub.execute_input": "2022-03-01T17:36:26.405556Z",
     "iopub.status.busy": "2022-03-01T17:36:26.403234Z",
     "iopub.status.idle": "2022-03-01T17:36:26.640375Z",
     "shell.execute_reply": "2022-03-01T17:36:26.640903Z",
     "shell.execute_reply.started": "2022-03-01T16:52:26.554571Z"
    },
    "papermill": {
     "duration": 0.3659,
     "end_time": "2022-03-01T17:36:26.641152",
     "exception": false,
     "start_time": "2022-03-01T17:36:26.275252",
     "status": "completed"
    },
    "tags": []
   },
   "outputs": [
    {
     "data": {
      "text/plain": [
       "<AxesSubplot:xlabel='Survived', ylabel='Age'>"
      ]
     },
     "execution_count": 16,
     "metadata": {},
     "output_type": "execute_result"
    },
    {
     "data": {
      "image/png": "[encoded data removed]",
      "text/plain": [
       "<Figure size 432x288 with 1 Axes>"
      ]
     },
     "metadata": {},
     "output_type": "display_data"
    }
   ],
   "source": [
    "sns.boxplot(data=train_df, y='Age', x='Survived')"
   ]
  },
  {
   "cell_type": "markdown",
   "id": "748509bd",
   "metadata": {
    "papermill": {
     "duration": 0.125843,
     "end_time": "2022-03-01T17:36:26.916353",
     "exception": false,
     "start_time": "2022-03-01T17:36:26.790510",
     "status": "completed"
    },
    "tags": []
   },
   "source": [
    "Survivors seem to have a stronger presence for the lower values of *Age*, while the rest is dominated by non-survivors (partially due to parents rather saving their kids than themselves, but also just due to the set being imbalanced)"
   ]
  },
  {
   "cell_type": "code",
   "execution_count": 17,
   "id": "8cd84241",
   "metadata": {
    "execution": {
     "iopub.execute_input": "2022-03-01T17:36:27.177902Z",
     "iopub.status.busy": "2022-03-01T17:36:27.175711Z",
     "iopub.status.idle": "2022-03-01T17:36:27.406512Z",
     "shell.execute_reply": "2022-03-01T17:36:27.405930Z",
     "shell.execute_reply.started": "2022-03-01T16:52:26.784458Z"
    },
    "papermill": {
     "duration": 0.364187,
     "end_time": "2022-03-01T17:36:27.406672",
     "exception": false,
     "start_time": "2022-03-01T17:36:27.042485",
     "status": "completed"
    },
    "tags": []
   },
   "outputs": [
    {
     "data": {
      "text/plain": [
       "<AxesSubplot:xlabel='Survived', ylabel='SibSp'>"
      ]
     },
     "execution_count": 17,
     "metadata": {},
     "output_type": "execute_result"
    },
    {
     "data": {
      "image/png": "[encoded data removed]",
      "text/plain": [
       "<Figure size 432x288 with 1 Axes>"
      ]
     },
     "metadata": {},
     "output_type": "display_data"
    }
   ],
   "source": [
    "sns.boxplot(data=train_df, y='SibSp', x='Survived')"
   ]
  },
  {
   "cell_type": "code",
   "execution_count": 18,
   "id": "e9aad9d7",
   "metadata": {
    "execution": {
     "iopub.execute_input": "2022-03-01T17:36:27.664984Z",
     "iopub.status.busy": "2022-03-01T17:36:27.664263Z",
     "iopub.status.idle": "2022-03-01T17:36:28.533330Z",
     "shell.execute_reply": "2022-03-01T17:36:28.532744Z",
     "shell.execute_reply.started": "2022-03-01T16:52:27.027764Z"
    },
    "papermill": {
     "duration": 0.998671,
     "end_time": "2022-03-01T17:36:28.533484",
     "exception": false,
     "start_time": "2022-03-01T17:36:27.534813",
     "status": "completed"
    },
    "tags": []
   },
   "outputs": [
    {
     "data": {
      "text/plain": [
       "<seaborn.axisgrid.FacetGrid at 0x7f3772d5b250>"
      ]
     },
     "execution_count": 18,
     "metadata": {},
     "output_type": "execute_result"
    },
    {
     "data": {
      "image/png": "[encoded data removed]",
      "text/plain": [
       "<Figure size 421.55x360 with 1 Axes>"
      ]
     },
     "metadata": {},
     "output_type": "display_data"
    }
   ],
   "source": [
    "sns.displot(data=train_df, x='SibSp', hue='Survived', kde=True)"
   ]
  },
  {
   "cell_type": "markdown",
   "id": "5d76be4f",
   "metadata": {
    "papermill": {
     "duration": 0.128566,
     "end_time": "2022-03-01T17:36:28.788231",
     "exception": false,
     "start_time": "2022-03-01T17:36:28.659665",
     "status": "completed"
    },
    "tags": []
   },
   "source": [
    "No meaningful insight can be drawn from the plots other than :\n",
    "* SibSp not being a great predictor\n",
    "* Huge accumulation point on 0\n",
    "* Very few values despite being a $\\mathbb{N}_0$-ranged variable"
   ]
  },
  {
   "cell_type": "code",
   "execution_count": 19,
   "id": "6b10dcff",
   "metadata": {
    "execution": {
     "iopub.execute_input": "2022-03-01T17:36:29.052656Z",
     "iopub.status.busy": "2022-03-01T17:36:29.051808Z",
     "iopub.status.idle": "2022-03-01T17:36:29.055824Z",
     "shell.execute_reply": "2022-03-01T17:36:29.055289Z",
     "shell.execute_reply.started": "2022-03-01T16:52:27.891493Z"
    },
    "papermill": {
     "duration": 0.139507,
     "end_time": "2022-03-01T17:36:29.055967",
     "exception": false,
     "start_time": "2022-03-01T17:36:28.916460",
     "status": "completed"
    },
    "tags": []
   },
   "outputs": [
    {
     "data": {
      "text/plain": [
       "0    608\n",
       "1    209\n",
       "2     28\n",
       "3     16\n",
       "4     18\n",
       "5      5\n",
       "8      7\n",
       "Name: SibSp, dtype: int64"
      ]
     },
     "execution_count": 19,
     "metadata": {},
     "output_type": "execute_result"
    }
   ],
   "source": [
    "# doing this the non-fancy way\n",
    "train_df.SibSp.value_counts().sort_index()"
   ]
  },
  {
   "cell_type": "code",
   "execution_count": 20,
   "id": "06117bd2",
   "metadata": {
    "execution": {
     "iopub.execute_input": "2022-03-01T17:36:29.322685Z",
     "iopub.status.busy": "2022-03-01T17:36:29.321948Z",
     "iopub.status.idle": "2022-03-01T17:36:29.985120Z",
     "shell.execute_reply": "2022-03-01T17:36:29.984574Z",
     "shell.execute_reply.started": "2022-03-01T16:52:27.904280Z"
    },
    "papermill": {
     "duration": 0.79995,
     "end_time": "2022-03-01T17:36:29.985287",
     "exception": false,
     "start_time": "2022-03-01T17:36:29.185337",
     "status": "completed"
    },
    "tags": []
   },
   "outputs": [
    {
     "data": {
      "text/plain": [
       "<seaborn.axisgrid.FacetGrid at 0x7f3774fee450>"
      ]
     },
     "execution_count": 20,
     "metadata": {},
     "output_type": "execute_result"
    },
    {
     "data": {
      "image/png": "[encoded data removed]",
      "text/plain": [
       "<Figure size 421.55x360 with 1 Axes>"
      ]
     },
     "metadata": {},
     "output_type": "display_data"
    }
   ],
   "source": [
    "sns.displot(data=train_df, x='Parch', hue='Survived', kde=True)"
   ]
  },
  {
   "cell_type": "markdown",
   "id": "1dd84136",
   "metadata": {
    "papermill": {
     "duration": 0.129011,
     "end_time": "2022-03-01T17:36:30.249456",
     "exception": false,
     "start_time": "2022-03-01T17:36:30.120445",
     "status": "completed"
    },
    "tags": []
   },
   "source": [
    "Same conclusions as with *SibSp*"
   ]
  },
  {
   "cell_type": "code",
   "execution_count": 21,
   "id": "475cc574",
   "metadata": {
    "execution": {
     "iopub.execute_input": "2022-03-01T17:36:30.513857Z",
     "iopub.status.busy": "2022-03-01T17:36:30.513110Z",
     "iopub.status.idle": "2022-03-01T17:36:30.519866Z",
     "shell.execute_reply": "2022-03-01T17:36:30.520419Z",
     "shell.execute_reply.started": "2022-03-01T16:52:28.561883Z"
    },
    "papermill": {
     "duration": 0.142646,
     "end_time": "2022-03-01T17:36:30.520600",
     "exception": false,
     "start_time": "2022-03-01T17:36:30.377954",
     "status": "completed"
    },
    "tags": []
   },
   "outputs": [
    {
     "data": {
      "text/plain": [
       "0    678\n",
       "1    118\n",
       "2     80\n",
       "3      5\n",
       "4      4\n",
       "5      5\n",
       "6      1\n",
       "Name: Parch, dtype: int64"
      ]
     },
     "execution_count": 21,
     "metadata": {},
     "output_type": "execute_result"
    }
   ],
   "source": [
    "train_df.Parch.value_counts().sort_index()"
   ]
  },
  {
   "cell_type": "code",
   "execution_count": 22,
   "id": "4da8a338",
   "metadata": {
    "execution": {
     "iopub.execute_input": "2022-03-01T17:36:30.782839Z",
     "iopub.status.busy": "2022-03-01T17:36:30.782184Z",
     "iopub.status.idle": "2022-03-01T17:36:30.995471Z",
     "shell.execute_reply": "2022-03-01T17:36:30.994832Z",
     "shell.execute_reply.started": "2022-03-01T16:52:28.570922Z"
    },
    "papermill": {
     "duration": 0.345015,
     "end_time": "2022-03-01T17:36:30.995613",
     "exception": false,
     "start_time": "2022-03-01T17:36:30.650598",
     "status": "completed"
    },
    "tags": []
   },
   "outputs": [
    {
     "data": {
      "text/plain": [
       "<AxesSubplot:xlabel='Survived', ylabel='Fare'>"
      ]
     },
     "execution_count": 22,
     "metadata": {},
     "output_type": "execute_result"
    },
    {
     "data": {
      "image/png": "[encoded data removed]",
      "text/plain": [
       "<Figure size 432x288 with 1 Axes>"
      ]
     },
     "metadata": {},
     "output_type": "display_data"
    }
   ],
   "source": [
    "sns.boxplot(data=train_df, y='Fare', x='Survived')"
   ]
  },
  {
   "cell_type": "markdown",
   "id": "dfe391b2",
   "metadata": {
    "papermill": {
     "duration": 0.129744,
     "end_time": "2022-03-01T17:36:31.256616",
     "exception": false,
     "start_time": "2022-03-01T17:36:31.126872",
     "status": "completed"
    },
    "tags": []
   },
   "source": [
    "Same as with *Pclass*, this variable looks like a good predictor for survival."
   ]
  },
  {
   "cell_type": "markdown",
   "id": "b704ccee",
   "metadata": {
    "papermill": {
     "duration": 0.130071,
     "end_time": "2022-03-01T17:36:31.519824",
     "exception": false,
     "start_time": "2022-03-01T17:36:31.389753",
     "status": "completed"
    },
    "tags": []
   },
   "source": [
    "## Pclass\n",
    "\n",
    "This ordinal categorical feature is somewhat imbalanced but has good predictive power and a manageable range. Will therefore leave it as is."
   ]
  },
  {
   "cell_type": "code",
   "execution_count": 23,
   "id": "72a14e7f",
   "metadata": {
    "execution": {
     "iopub.execute_input": "2022-03-01T17:36:31.787219Z",
     "iopub.status.busy": "2022-03-01T17:36:31.786407Z",
     "iopub.status.idle": "2022-03-01T17:36:31.987155Z",
     "shell.execute_reply": "2022-03-01T17:36:31.986417Z",
     "shell.execute_reply.started": "2022-03-01T16:52:28.786920Z"
    },
    "papermill": {
     "duration": 0.337723,
     "end_time": "2022-03-01T17:36:31.987321",
     "exception": false,
     "start_time": "2022-03-01T17:36:31.649598",
     "status": "completed"
    },
    "tags": []
   },
   "outputs": [
    {
     "data": {
      "text/plain": [
       "<AxesSubplot:xlabel='Pclass', ylabel='count'>"
      ]
     },
     "execution_count": 23,
     "metadata": {},
     "output_type": "execute_result"
    },
    {
     "data": {
      "image/png": "[encoded data removed]",
      "text/plain": [
       "<Figure size 432x288 with 1 Axes>"
      ]
     },
     "metadata": {},
     "output_type": "display_data"
    }
   ],
   "source": [
    "sns.countplot(data=train_df, x='Pclass')"
   ]
  },
  {
   "cell_type": "code",
   "execution_count": 24,
   "id": "37d32082",
   "metadata": {
    "execution": {
     "iopub.execute_input": "2022-03-01T17:36:32.254784Z",
     "iopub.status.busy": "2022-03-01T17:36:32.254092Z",
     "iopub.status.idle": "2022-03-01T17:36:32.257282Z",
     "shell.execute_reply": "2022-03-01T17:36:32.256577Z",
     "shell.execute_reply.started": "2022-03-01T16:52:28.985748Z"
    },
    "papermill": {
     "duration": 0.138819,
     "end_time": "2022-03-01T17:36:32.257444",
     "exception": false,
     "start_time": "2022-03-01T17:36:32.118625",
     "status": "completed"
    },
    "tags": []
   },
   "outputs": [],
   "source": [
    "passthrough_vars.append('Pclass')"
   ]
  },
  {
   "cell_type": "markdown",
   "id": "0b587fdd",
   "metadata": {
    "papermill": {
     "duration": 0.131283,
     "end_time": "2022-03-01T17:36:32.520211",
     "exception": false,
     "start_time": "2022-03-01T17:36:32.388928",
     "status": "completed"
    },
    "tags": []
   },
   "source": [
    "### Name\n",
    "\n",
    "Because of its very high cardinality this categorical feature can never work as a predictor as it is. Based on the hypothesis that all names are in the form of < *last_name*, *title*, *name* > (may not be true) there's a possibility that either the last name or the title show lower cardinality and some predictive power."
   ]
  },
  {
   "cell_type": "code",
   "execution_count": 25,
   "id": "100a9a2e",
   "metadata": {
    "execution": {
     "iopub.execute_input": "2022-03-01T17:36:32.790718Z",
     "iopub.status.busy": "2022-03-01T17:36:32.789856Z",
     "iopub.status.idle": "2022-03-01T17:36:32.793741Z",
     "shell.execute_reply": "2022-03-01T17:36:32.793195Z",
     "shell.execute_reply.started": "2022-03-01T16:52:28.992154Z"
    },
    "papermill": {
     "duration": 0.142237,
     "end_time": "2022-03-01T17:36:32.793882",
     "exception": false,
     "start_time": "2022-03-01T17:36:32.651645",
     "status": "completed"
    },
    "tags": []
   },
   "outputs": [
    {
     "data": {
      "text/plain": [
       "PassengerId\n",
       "1                              Braund, Mr. Owen Harris\n",
       "2    Cumings, Mrs. John Bradley (Florence Briggs Th...\n",
       "3                               Heikkinen, Miss. Laina\n",
       "4         Futrelle, Mrs. Jacques Heath (Lily May Peel)\n",
       "5                             Allen, Mr. William Henry\n",
       "Name: Name, dtype: object"
      ]
     },
     "execution_count": 25,
     "metadata": {},
     "output_type": "execute_result"
    }
   ],
   "source": [
    "train_df[\"Name\"].head()"
   ]
  },
  {
   "cell_type": "code",
   "execution_count": 26,
   "id": "6dacd8ca",
   "metadata": {
    "execution": {
     "iopub.execute_input": "2022-03-01T17:36:33.070731Z",
     "iopub.status.busy": "2022-03-01T17:36:33.068817Z",
     "iopub.status.idle": "2022-03-01T17:36:33.074862Z",
     "shell.execute_reply": "2022-03-01T17:36:33.074147Z",
     "shell.execute_reply.started": "2022-03-01T16:52:29.007685Z"
    },
    "papermill": {
     "duration": 0.1494,
     "end_time": "2022-03-01T17:36:33.075013",
     "exception": false,
     "start_time": "2022-03-01T17:36:32.925613",
     "status": "completed"
    },
    "tags": []
   },
   "outputs": [
    {
     "data": {
      "text/plain": [
       "(667, 17)"
      ]
     },
     "execution_count": 26,
     "metadata": {},
     "output_type": "execute_result"
    }
   ],
   "source": [
    "def lastname_and_title(name_text):\n",
    "    lastname, title_and_name = name_text.split(\",\")\n",
    "    title = title_and_name.split(\".\")[0]\n",
    "    return lastname.lower().strip(),title.lower().strip()\n",
    "\n",
    "lastnames, titles = zip(*train_df.Name.apply(lastname_and_title))\n",
    "# from tuples to np arrays\n",
    "lastnames = np.array(lastnames)\n",
    "titles = np.array(titles)\n",
    "len(np.unique(lastnames)), len(np.unique(titles))"
   ]
  },
  {
   "cell_type": "markdown",
   "id": "6124dead",
   "metadata": {
    "papermill": {
     "duration": 0.132638,
     "end_time": "2022-03-01T17:36:33.341469",
     "exception": false,
     "start_time": "2022-03-01T17:36:33.208831",
     "status": "completed"
    },
    "tags": []
   },
   "source": [
    "While the last names still have very high cardinality, titles work much better. Now to find whether or not they have some predictive power:"
   ]
  },
  {
   "cell_type": "code",
   "execution_count": 27,
   "id": "30e44075",
   "metadata": {
    "execution": {
     "iopub.execute_input": "2022-03-01T17:36:33.614979Z",
     "iopub.status.busy": "2022-03-01T17:36:33.614307Z",
     "iopub.status.idle": "2022-03-01T17:36:34.009240Z",
     "shell.execute_reply": "2022-03-01T17:36:34.008548Z",
     "shell.execute_reply.started": "2022-03-01T16:52:29.024777Z"
    },
    "papermill": {
     "duration": 0.534913,
     "end_time": "2022-03-01T17:36:34.009392",
     "exception": false,
     "start_time": "2022-03-01T17:36:33.474479",
     "status": "completed"
    },
    "tags": []
   },
   "outputs": [
    {
     "data": {
      "image/png": "[encoded data removed]",
      "text/plain": [
       "<Figure size 864x576 with 1 Axes>"
      ]
     },
     "metadata": {},
     "output_type": "display_data"
    }
   ],
   "source": [
    "fig, ax = plt.subplots(figsize=(12,8))\n",
    "sns.countplot(x=titles, ax=ax)\n",
    "ax.set_xticklabels(ax.get_xticklabels(), rotation=45, ha='right')\n",
    "annotate_bars(ax)\n",
    "plt.show()"
   ]
  },
  {
   "cell_type": "code",
   "execution_count": 28,
   "id": "f5bed383",
   "metadata": {
    "execution": {
     "iopub.execute_input": "2022-03-01T17:36:34.290575Z",
     "iopub.status.busy": "2022-03-01T17:36:34.289847Z",
     "iopub.status.idle": "2022-03-01T17:36:34.792101Z",
     "shell.execute_reply": "2022-03-01T17:36:34.791570Z",
     "shell.execute_reply.started": "2022-03-01T16:52:29.417158Z"
    },
    "papermill": {
     "duration": 0.645327,
     "end_time": "2022-03-01T17:36:34.792295",
     "exception": false,
     "start_time": "2022-03-01T17:36:34.146968",
     "status": "completed"
    },
    "tags": []
   },
   "outputs": [
    {
     "data": {
      "image/png": "[encoded data removed]",
      "text/plain": [
       "<Figure size 864x576 with 1 Axes>"
      ]
     },
     "metadata": {},
     "output_type": "display_data"
    }
   ],
   "source": [
    "# again but disaggregated by Survival\n",
    "fig, ax = plt.subplots(figsize=(12,8))\n",
    "sns.countplot(x=titles, ax=ax, hue=np.array(train_df.Survived))\n",
    "ax.set_xticklabels(ax.get_xticklabels(), rotation=45, ha='right')\n",
    "#annotate_bars(ax)\n",
    "# custom annotation as to not break things\n",
    "for patch in ax.patches:\n",
    "    x = patch.get_x() + patch.get_width() / 2\n",
    "    y = patch.get_height()\n",
    "    try: \n",
    "        label=int(y) \n",
    "    except Exception: \n",
    "        label= 0\n",
    "    ax.annotate(label,xy=(x,y), \n",
    "                xytext=(0,8),\n",
    "                textcoords='offset points',\n",
    "                ha='center', va='center')\n",
    "plt.show()"
   ]
  },
  {
   "cell_type": "markdown",
   "id": "8f56a606",
   "metadata": {
    "papermill": {
     "duration": 0.136506,
     "end_time": "2022-03-01T17:36:35.066158",
     "exception": false,
     "start_time": "2022-03-01T17:36:34.929652",
     "status": "completed"
    },
    "tags": []
   },
   "source": [
    "All the 4 main titles (mr, mrs, miss and master) show good predictive power, other values are so sparse that should be binned into a 'other' category (to be then dropped in order to prevent multicollinearity) "
   ]
  },
  {
   "cell_type": "code",
   "execution_count": 29,
   "id": "9c39fae2",
   "metadata": {
    "execution": {
     "iopub.execute_input": "2022-03-01T17:36:35.344727Z",
     "iopub.status.busy": "2022-03-01T17:36:35.343948Z",
     "iopub.status.idle": "2022-03-01T17:36:35.345799Z",
     "shell.execute_reply": "2022-03-01T17:36:35.346310Z",
     "shell.execute_reply.started": "2022-03-01T16:52:29.921557Z"
    },
    "papermill": {
     "duration": 0.144786,
     "end_time": "2022-03-01T17:36:35.346495",
     "exception": false,
     "start_time": "2022-03-01T17:36:35.201709",
     "status": "completed"
    },
    "tags": []
   },
   "outputs": [],
   "source": [
    "class Name_to_title_encoder(BaseEstimator, TransformerMixin):\n",
    "    def __init__(self,encoded_names):\n",
    "        self.encoded_names = frozenset(encoded_names)\n",
    "        \n",
    "    def _parse_one_row(self, text):\n",
    "        # text should be of the form <lastname>, <title>. <rest>\n",
    "        try:\n",
    "            title = text.split(\",\")[1].split(\".\")[0].lower().strip()\n",
    "            return title if title in self.encoded_names else \"other\"\n",
    "        except Exception as e:\n",
    "            print(e)\n",
    "            raise ValueError()\n",
    "            return \"unknown\"\n",
    "        \n",
    "    def fit(self,X,y):\n",
    "        return self\n",
    "    \n",
    "    def transform(self, name_series):\n",
    "        return name_series.apply(self._parse_one_row).rename(\"title\").to_frame()"
   ]
  },
  {
   "cell_type": "code",
   "execution_count": 30,
   "id": "c270d787",
   "metadata": {
    "execution": {
     "iopub.execute_input": "2022-03-01T17:36:35.620441Z",
     "iopub.status.busy": "2022-03-01T17:36:35.619255Z",
     "iopub.status.idle": "2022-03-01T17:36:35.632863Z",
     "shell.execute_reply": "2022-03-01T17:36:35.633377Z",
     "shell.execute_reply.started": "2022-03-01T16:52:29.931756Z"
    },
    "papermill": {
     "duration": 0.151787,
     "end_time": "2022-03-01T17:36:35.633561",
     "exception": false,
     "start_time": "2022-03-01T17:36:35.481774",
     "status": "completed"
    },
    "tags": []
   },
   "outputs": [
    {
     "name": "stdout",
     "output_type": "stream",
     "text": [
      "title \n",
      "mr        517\n",
      "miss      182\n",
      "mrs       125\n",
      "master     40\n",
      "other      27\n",
      "dtype: int64\n",
      "891\n"
     ]
    }
   ],
   "source": [
    "# demonstrate usage of custom transformer\n",
    "encodable_names = ['mr','mrs','miss','master']\n",
    "m = Name_to_title_encoder(encoded_names=encodable_names)\n",
    "m.fit(train_df.drop(columns=[\"Survived\"]), train_df['Survived'])\n",
    "result = m.transform(train_df['Name'])\n",
    "print(result.value_counts())\n",
    "print(len(result))"
   ]
  },
  {
   "cell_type": "code",
   "execution_count": 31,
   "id": "3eb9a64d",
   "metadata": {
    "execution": {
     "iopub.execute_input": "2022-03-01T17:36:35.911364Z",
     "iopub.status.busy": "2022-03-01T17:36:35.910631Z",
     "iopub.status.idle": "2022-03-01T17:36:35.915691Z",
     "shell.execute_reply": "2022-03-01T17:36:35.916211Z",
     "shell.execute_reply.started": "2022-03-01T16:52:29.950361Z"
    },
    "papermill": {
     "duration": 0.145921,
     "end_time": "2022-03-01T17:36:35.916417",
     "exception": false,
     "start_time": "2022-03-01T17:36:35.770496",
     "status": "completed"
    },
    "tags": []
   },
   "outputs": [],
   "source": [
    "class ColumnDropper(BaseEstimator, TransformerMixin):\n",
    "    def __init__(self, cols):\n",
    "        self.cols = cols\n",
    "    \n",
    "    def fit(self, X, y):\n",
    "        return self\n",
    "    \n",
    "    def transform(self, X):\n",
    "        return X.drop(columns=self.cols)"
   ]
  },
  {
   "cell_type": "code",
   "execution_count": 32,
   "id": "13877349",
   "metadata": {
    "execution": {
     "iopub.execute_input": "2022-03-01T17:36:36.191675Z",
     "iopub.status.busy": "2022-03-01T17:36:36.190933Z",
     "iopub.status.idle": "2022-03-01T17:36:36.206388Z",
     "shell.execute_reply": "2022-03-01T17:36:36.206933Z",
     "shell.execute_reply.started": "2022-03-01T16:52:29.963119Z"
    },
    "papermill": {
     "duration": 0.155658,
     "end_time": "2022-03-01T17:36:36.207119",
     "exception": false,
     "start_time": "2022-03-01T17:36:36.051461",
     "status": "completed"
    },
    "tags": []
   },
   "outputs": [
    {
     "data": {
      "text/plain": [
       "array([ 40., 182., 517., 125.,  27.])"
      ]
     },
     "execution_count": 32,
     "metadata": {},
     "output_type": "execute_result"
    }
   ],
   "source": [
    "# make a pipeline to one-hot encode, then drop the title_other category\n",
    "# this wont work as OneHotEncoder returns an array instead of a DataFrame\n",
    "\"\"\"\n",
    "name_title_pipe = Pipeline(steps=[\n",
    "    ('name_encoder', Name_to_title_encoder(encoded_names=encodable_names)),\n",
    "    ('one-hot', OneHotEncoder(sparse=False, handle_unknown='ignore')),\n",
    "    ('other-dropper', ColumnDropper(drop_columns=['title_other']))\n",
    "])\n",
    "\n",
    "name_title_pipe.fit_transform(train_df['Name'],train_df.Survived)\n",
    "\"\"\"\n",
    "# so not deleting the column yet\n",
    "class NameTitlePipWrapper(Pipeline):\n",
    "    def __init__(self, steps):\n",
    "        self.pip = Pipeline(steps)\n",
    "    \n",
    "    def get_feature_names(self):\n",
    "        # hardcoded behavior\n",
    "        return name_title_pipe.pip[1].get_feature_names([\"title\"])\n",
    "    \n",
    "    def __getattr__(self, name):\n",
    "        return self.pip.__getattribute__(name)\n",
    "    \n",
    "    def __hasattr__(self, name):\n",
    "        return self.pip.__hasattribute__(name)\n",
    "\n",
    "name_title_pipe = NameTitlePipWrapper(steps=[\n",
    "    ('name_encoder', Name_to_title_encoder(encoded_names=encodable_names)),\n",
    "    ('one-hot', OneHotEncoder(sparse=False, handle_unknown='ignore'))\n",
    "])\n",
    "\n",
    "name_title_pipe.fit_transform(train_df['Name'],train_df.Survived).sum(axis=0)"
   ]
  },
  {
   "cell_type": "code",
   "execution_count": 33,
   "id": "95fb738e",
   "metadata": {
    "execution": {
     "iopub.execute_input": "2022-03-01T17:36:36.485341Z",
     "iopub.status.busy": "2022-03-01T17:36:36.484618Z",
     "iopub.status.idle": "2022-03-01T17:36:36.491532Z",
     "shell.execute_reply": "2022-03-01T17:36:36.490687Z",
     "shell.execute_reply.started": "2022-03-01T16:52:29.982335Z"
    },
    "papermill": {
     "duration": 0.148027,
     "end_time": "2022-03-01T17:36:36.491715",
     "exception": false,
     "start_time": "2022-03-01T17:36:36.343688",
     "status": "completed"
    },
    "tags": []
   },
   "outputs": [
    {
     "data": {
      "text/plain": [
       "array(['title_master', 'title_miss', 'title_mr', 'title_mrs',\n",
       "       'title_other'], dtype=object)"
      ]
     },
     "execution_count": 33,
     "metadata": {},
     "output_type": "execute_result"
    }
   ],
   "source": [
    "# check usage\n",
    "name_title_pipe.get_feature_names()"
   ]
  },
  {
   "cell_type": "code",
   "execution_count": 34,
   "id": "8dd0539d",
   "metadata": {
    "execution": {
     "iopub.execute_input": "2022-03-01T17:36:36.771584Z",
     "iopub.status.busy": "2022-03-01T17:36:36.770855Z",
     "iopub.status.idle": "2022-03-01T17:36:36.773404Z",
     "shell.execute_reply": "2022-03-01T17:36:36.773959Z",
     "shell.execute_reply.started": "2022-03-01T16:52:29.994801Z"
    },
    "papermill": {
     "duration": 0.145344,
     "end_time": "2022-03-01T17:36:36.774155",
     "exception": false,
     "start_time": "2022-03-01T17:36:36.628811",
     "status": "completed"
    },
    "tags": []
   },
   "outputs": [],
   "source": [
    "# add to the pipeline\n",
    "pipeline_transformers.append(\n",
    "    ('name-to-title',name_title_pipe, 'Name')\n",
    ")"
   ]
  },
  {
   "cell_type": "markdown",
   "id": "b5d4a2f7",
   "metadata": {
    "papermill": {
     "duration": 0.13532,
     "end_time": "2022-03-01T17:36:37.045726",
     "exception": false,
     "start_time": "2022-03-01T17:36:36.910406",
     "status": "completed"
    },
    "tags": []
   },
   "source": [
    "### Sex\n",
    "\n",
    "As a binary feature, we want to encode this as 0 vs 1, where \"female\" is chosen for the 1 value as it correlates positively with survival."
   ]
  },
  {
   "cell_type": "code",
   "execution_count": 35,
   "id": "7dd18d41",
   "metadata": {
    "execution": {
     "iopub.execute_input": "2022-03-01T17:36:37.323277Z",
     "iopub.status.busy": "2022-03-01T17:36:37.322322Z",
     "iopub.status.idle": "2022-03-01T17:36:37.328317Z",
     "shell.execute_reply": "2022-03-01T17:36:37.328881Z",
     "shell.execute_reply.started": "2022-03-01T16:52:30.003920Z"
    },
    "papermill": {
     "duration": 0.14647,
     "end_time": "2022-03-01T17:36:37.329094",
     "exception": false,
     "start_time": "2022-03-01T17:36:37.182624",
     "status": "completed"
    },
    "tags": []
   },
   "outputs": [],
   "source": [
    "class BinaryEncoder(BaseEstimator, TransformerMixin):\n",
    "    def __init__(self, positive):\n",
    "        self.positive = positive\n",
    "        \n",
    "    def fit(self, X, y=None):\n",
    "        return self\n",
    "    \n",
    "    def transform(self, X):\n",
    "        return (X == self.positive).astype(int).to_frame()\n",
    "    \n",
    "    def get_feature_names(self):\n",
    "        return [\"is_\"+self.positive]"
   ]
  },
  {
   "cell_type": "code",
   "execution_count": 36,
   "id": "e896c3c7",
   "metadata": {
    "execution": {
     "iopub.execute_input": "2022-03-01T17:36:37.617566Z",
     "iopub.status.busy": "2022-03-01T17:36:37.616482Z",
     "iopub.status.idle": "2022-03-01T17:36:37.627461Z",
     "shell.execute_reply": "2022-03-01T17:36:37.628440Z",
     "shell.execute_reply.started": "2022-03-01T16:52:30.017136Z"
    },
    "papermill": {
     "duration": 0.16126,
     "end_time": "2022-03-01T17:36:37.628712",
     "exception": false,
     "start_time": "2022-03-01T17:36:37.467452",
     "status": "completed"
    },
    "tags": []
   },
   "outputs": [
    {
     "data": {
      "text/html": [
       "<div>\n",
       "<style scoped>\n",
       "    .dataframe tbody tr th:only-of-type {\n",
       "        vertical-align: middle;\n",
       "    }\n",
       "\n",
       "    .dataframe tbody tr th {\n",
       "        vertical-align: top;\n",
       "    }\n",
       "\n",
       "    .dataframe thead th {\n",
       "        text-align: right;\n",
       "    }\n",
       "</style>\n",
       "<table border=\"1\" class=\"dataframe\">\n",
       "  <thead>\n",
       "    <tr style=\"text-align: right;\">\n",
       "      <th></th>\n",
       "      <th>Sex</th>\n",
       "    </tr>\n",
       "    <tr>\n",
       "      <th>PassengerId</th>\n",
       "      <th></th>\n",
       "    </tr>\n",
       "  </thead>\n",
       "  <tbody>\n",
       "    <tr>\n",
       "      <th>1</th>\n",
       "      <td>0</td>\n",
       "    </tr>\n",
       "    <tr>\n",
       "      <th>2</th>\n",
       "      <td>1</td>\n",
       "    </tr>\n",
       "    <tr>\n",
       "      <th>3</th>\n",
       "      <td>1</td>\n",
       "    </tr>\n",
       "    <tr>\n",
       "      <th>4</th>\n",
       "      <td>1</td>\n",
       "    </tr>\n",
       "    <tr>\n",
       "      <th>5</th>\n",
       "      <td>0</td>\n",
       "    </tr>\n",
       "    <tr>\n",
       "      <th>...</th>\n",
       "      <td>...</td>\n",
       "    </tr>\n",
       "    <tr>\n",
       "      <th>887</th>\n",
       "      <td>0</td>\n",
       "    </tr>\n",
       "    <tr>\n",
       "      <th>888</th>\n",
       "      <td>1</td>\n",
       "    </tr>\n",
       "    <tr>\n",
       "      <th>889</th>\n",
       "      <td>1</td>\n",
       "    </tr>\n",
       "    <tr>\n",
       "      <th>890</th>\n",
       "      <td>0</td>\n",
       "    </tr>\n",
       "    <tr>\n",
       "      <th>891</th>\n",
       "      <td>0</td>\n",
       "    </tr>\n",
       "  </tbody>\n",
       "</table>\n",
       "<p>891 rows × 1 columns</p>\n",
       "</div>"
      ],
      "text/plain": [
       "             Sex\n",
       "PassengerId     \n",
       "1              0\n",
       "2              1\n",
       "3              1\n",
       "4              1\n",
       "5              0\n",
       "...          ...\n",
       "887            0\n",
       "888            1\n",
       "889            1\n",
       "890            0\n",
       "891            0\n",
       "\n",
       "[891 rows x 1 columns]"
      ]
     },
     "execution_count": 36,
     "metadata": {},
     "output_type": "execute_result"
    }
   ],
   "source": [
    "# show usage\n",
    "sex_positive_label = \"female\"\n",
    "BinaryEncoder(sex_positive_label).transform(train_df[\"Sex\"])"
   ]
  },
  {
   "cell_type": "code",
   "execution_count": 37,
   "id": "1cb44aa1",
   "metadata": {
    "execution": {
     "iopub.execute_input": "2022-03-01T17:36:37.944660Z",
     "iopub.status.busy": "2022-03-01T17:36:37.943613Z",
     "iopub.status.idle": "2022-03-01T17:36:37.949336Z",
     "shell.execute_reply": "2022-03-01T17:36:37.949835Z",
     "shell.execute_reply.started": "2022-03-01T16:52:30.036786Z"
    },
    "papermill": {
     "duration": 0.152388,
     "end_time": "2022-03-01T17:36:37.950009",
     "exception": false,
     "start_time": "2022-03-01T17:36:37.797621",
     "status": "completed"
    },
    "tags": []
   },
   "outputs": [
    {
     "data": {
      "text/plain": [
       "['is_female']"
      ]
     },
     "execution_count": 37,
     "metadata": {},
     "output_type": "execute_result"
    }
   ],
   "source": [
    "BinaryEncoder(sex_positive_label).get_feature_names()"
   ]
  },
  {
   "cell_type": "code",
   "execution_count": 38,
   "id": "47b7dccc",
   "metadata": {
    "execution": {
     "iopub.execute_input": "2022-03-01T17:36:38.233547Z",
     "iopub.status.busy": "2022-03-01T17:36:38.232389Z",
     "iopub.status.idle": "2022-03-01T17:36:38.234516Z",
     "shell.execute_reply": "2022-03-01T17:36:38.235157Z",
     "shell.execute_reply.started": "2022-03-01T16:52:30.043549Z"
    },
    "papermill": {
     "duration": 0.14655,
     "end_time": "2022-03-01T17:36:38.235346",
     "exception": false,
     "start_time": "2022-03-01T17:36:38.088796",
     "status": "completed"
    },
    "tags": []
   },
   "outputs": [],
   "source": [
    "# add to the pipeline\n",
    "pipeline_transformers.append(\n",
    "    (\"sex-encoder\",BinaryEncoder(sex_positive_label), \"Sex\")\n",
    ")"
   ]
  },
  {
   "cell_type": "markdown",
   "id": "81187d8b",
   "metadata": {
    "papermill": {
     "duration": 0.14165,
     "end_time": "2022-03-01T17:36:38.519012",
     "exception": false,
     "start_time": "2022-03-01T17:36:38.377362",
     "status": "completed"
    },
    "tags": []
   },
   "source": [
    "### Age"
   ]
  },
  {
   "cell_type": "code",
   "execution_count": 39,
   "id": "af9e709c",
   "metadata": {
    "execution": {
     "iopub.execute_input": "2022-03-01T17:36:38.805665Z",
     "iopub.status.busy": "2022-03-01T17:36:38.804391Z",
     "iopub.status.idle": "2022-03-01T17:36:39.302484Z",
     "shell.execute_reply": "2022-03-01T17:36:39.301884Z",
     "shell.execute_reply.started": "2022-03-01T16:52:30.055803Z"
    },
    "papermill": {
     "duration": 0.643228,
     "end_time": "2022-03-01T17:36:39.302640",
     "exception": false,
     "start_time": "2022-03-01T17:36:38.659412",
     "status": "completed"
    },
    "tags": []
   },
   "outputs": [
    {
     "data": {
      "text/plain": [
       "<seaborn.axisgrid.FacetGrid at 0x7f3772ab9d90>"
      ]
     },
     "execution_count": 39,
     "metadata": {},
     "output_type": "execute_result"
    },
    {
     "data": {
      "image/png": "[encoded data removed]",
      "text/plain": [
       "<Figure size 360x360 with 1 Axes>"
      ]
     },
     "metadata": {},
     "output_type": "display_data"
    }
   ],
   "source": [
    "sns.displot(data=train_df, x=\"Age\", kde=True)"
   ]
  },
  {
   "cell_type": "code",
   "execution_count": 40,
   "id": "78c8dc06",
   "metadata": {
    "execution": {
     "iopub.execute_input": "2022-03-01T17:36:39.590802Z",
     "iopub.status.busy": "2022-03-01T17:36:39.588533Z",
     "iopub.status.idle": "2022-03-01T17:36:40.330075Z",
     "shell.execute_reply": "2022-03-01T17:36:40.330674Z",
     "shell.execute_reply.started": "2022-03-01T16:52:30.515818Z"
    },
    "papermill": {
     "duration": 0.888779,
     "end_time": "2022-03-01T17:36:40.330877",
     "exception": false,
     "start_time": "2022-03-01T17:36:39.442098",
     "status": "completed"
    },
    "tags": []
   },
   "outputs": [
    {
     "data": {
      "text/plain": [
       "<seaborn.axisgrid.FacetGrid at 0x7f376a581510>"
      ]
     },
     "execution_count": 40,
     "metadata": {},
     "output_type": "execute_result"
    },
    {
     "data": {
      "image/png": "[encoded data removed]",
      "text/plain": [
       "<Figure size 421.55x360 with 1 Axes>"
      ]
     },
     "metadata": {},
     "output_type": "display_data"
    }
   ],
   "source": [
    "sns.displot(data=train_df, x=\"Age\", kde=True, hue='Survived')"
   ]
  },
  {
   "cell_type": "code",
   "execution_count": 41,
   "id": "2f53b072",
   "metadata": {
    "execution": {
     "iopub.execute_input": "2022-03-01T17:36:40.615398Z",
     "iopub.status.busy": "2022-03-01T17:36:40.614662Z",
     "iopub.status.idle": "2022-03-01T17:36:40.624858Z",
     "shell.execute_reply": "2022-03-01T17:36:40.625480Z",
     "shell.execute_reply.started": "2022-03-01T16:52:31.234770Z"
    },
    "papermill": {
     "duration": 0.154493,
     "end_time": "2022-03-01T17:36:40.625652",
     "exception": false,
     "start_time": "2022-03-01T17:36:40.471159",
     "status": "completed"
    },
    "tags": []
   },
   "outputs": [
    {
     "data": {
      "text/plain": [
       "0.42      1\n",
       "0.67      1\n",
       "0.75      2\n",
       "0.83      2\n",
       "0.92      1\n",
       "1.00      7\n",
       "2.00     10\n",
       "3.00      6\n",
       "4.00     10\n",
       "5.00      4\n",
       "6.00      3\n",
       "7.00      3\n",
       "8.00      4\n",
       "9.00      8\n",
       "10.00     2\n",
       "11.00     4\n",
       "12.00     1\n",
       "13.00     2\n",
       "14.00     6\n",
       "14.50     1\n",
       "Name: Age, dtype: int64"
      ]
     },
     "execution_count": 41,
     "metadata": {},
     "output_type": "execute_result"
    }
   ],
   "source": [
    "# there's some accumulation in the first years (kids), let's inspect this more carefully:\n",
    "train_df.Age[train_df.Age < 15].value_counts().sort_index()"
   ]
  },
  {
   "cell_type": "markdown",
   "id": "072f3279",
   "metadata": {
    "papermill": {
     "duration": 0.141032,
     "end_time": "2022-03-01T17:36:40.907534",
     "exception": false,
     "start_time": "2022-03-01T17:36:40.766502",
     "status": "completed"
    },
    "tags": []
   },
   "source": [
    "While this is a clearly bimodal distribution there is no clear justification for a special encoding. If neeeded, the entire set can be then standardized."
   ]
  },
  {
   "cell_type": "code",
   "execution_count": 42,
   "id": "26c6927b",
   "metadata": {
    "execution": {
     "iopub.execute_input": "2022-03-01T17:36:41.198764Z",
     "iopub.status.busy": "2022-03-01T17:36:41.198046Z",
     "iopub.status.idle": "2022-03-01T17:36:41.201332Z",
     "shell.execute_reply": "2022-03-01T17:36:41.201854Z",
     "shell.execute_reply.started": "2022-03-01T16:52:31.248961Z"
    },
    "papermill": {
     "duration": 0.150429,
     "end_time": "2022-03-01T17:36:41.202058",
     "exception": false,
     "start_time": "2022-03-01T17:36:41.051629",
     "status": "completed"
    },
    "tags": []
   },
   "outputs": [],
   "source": [
    "passthrough_vars.append('Age')"
   ]
  },
  {
   "cell_type": "markdown",
   "id": "bf57b3c9",
   "metadata": {
    "papermill": {
     "duration": 0.143567,
     "end_time": "2022-03-01T17:36:41.488785",
     "exception": false,
     "start_time": "2022-03-01T17:36:41.345218",
     "status": "completed"
    },
    "tags": []
   },
   "source": [
    "### SibSp\n",
    "\n",
    "As it is already known that it doesn't work well at least as a standalone predictor, one last effort is done by finding out whether 0 vs 1+ SibSp/Parch is a more meaningful encoding."
   ]
  },
  {
   "cell_type": "code",
   "execution_count": 43,
   "id": "fe1fd489",
   "metadata": {
    "execution": {
     "iopub.execute_input": "2022-03-01T17:36:41.773303Z",
     "iopub.status.busy": "2022-03-01T17:36:41.772512Z",
     "iopub.status.idle": "2022-03-01T17:36:42.017002Z",
     "shell.execute_reply": "2022-03-01T17:36:42.017596Z",
     "shell.execute_reply.started": "2022-03-01T16:52:31.254201Z"
    },
    "papermill": {
     "duration": 0.389339,
     "end_time": "2022-03-01T17:36:42.017787",
     "exception": false,
     "start_time": "2022-03-01T17:36:41.628448",
     "status": "completed"
    },
    "tags": []
   },
   "outputs": [
    {
     "data": {
      "image/png": "[encoded data removed]",
      "text/plain": [
       "<Figure size 720x576 with 1 Axes>"
      ]
     },
     "metadata": {},
     "output_type": "display_data"
    }
   ],
   "source": [
    "fig, ax = plt.subplots(figsize=(10,8))\n",
    "sns.countplot(x=(train_df.SibSp > 0).astype(int), hue=train_df.Survived, ax=ax)\n",
    "annotate_bars(ax)\n",
    "plt.show()"
   ]
  },
  {
   "cell_type": "code",
   "execution_count": 44,
   "id": "e14291c4",
   "metadata": {
    "execution": {
     "iopub.execute_input": "2022-03-01T17:36:42.308093Z",
     "iopub.status.busy": "2022-03-01T17:36:42.307372Z",
     "iopub.status.idle": "2022-03-01T17:36:42.581828Z",
     "shell.execute_reply": "2022-03-01T17:36:42.581167Z",
     "shell.execute_reply.started": "2022-03-01T16:52:31.499170Z"
    },
    "papermill": {
     "duration": 0.418902,
     "end_time": "2022-03-01T17:36:42.581977",
     "exception": false,
     "start_time": "2022-03-01T17:36:42.163075",
     "status": "completed"
    },
    "tags": []
   },
   "outputs": [
    {
     "data": {
      "image/png": "[encoded data removed]",
      "text/plain": [
       "<Figure size 720x576 with 1 Axes>"
      ]
     },
     "metadata": {},
     "output_type": "display_data"
    }
   ],
   "source": [
    "# 0 vs 1 looked better, try 0,1,2\n",
    "fig, ax = plt.subplots(figsize=(10,8))\n",
    "sns.countplot(x=train_df.SibSp.clip(lower=0, upper=2), hue=train_df.Survived, ax=ax)\n",
    "annotate_bars(ax)\n",
    "plt.show()"
   ]
  },
  {
   "cell_type": "code",
   "execution_count": 45,
   "id": "9fb618c7",
   "metadata": {
    "execution": {
     "iopub.execute_input": "2022-03-01T17:36:42.916070Z",
     "iopub.status.busy": "2022-03-01T17:36:42.914987Z",
     "iopub.status.idle": "2022-03-01T17:36:42.922739Z",
     "shell.execute_reply": "2022-03-01T17:36:42.923307Z",
     "shell.execute_reply.started": "2022-03-01T16:52:31.764202Z"
    },
    "papermill": {
     "duration": 0.173834,
     "end_time": "2022-03-01T17:36:42.923493",
     "exception": false,
     "start_time": "2022-03-01T17:36:42.749659",
     "status": "completed"
    },
    "tags": []
   },
   "outputs": [],
   "source": [
    "class ColumnClipper(BaseEstimator, TransformerMixin):\n",
    "    def __init__(self, minval, maxval,name=\"\"):\n",
    "        self.minval = minval\n",
    "        self.maxval = maxval\n",
    "        self.name = name\n",
    "        \n",
    "    def fit(self, X, y=None):\n",
    "        return self\n",
    "    \n",
    "    def transform(self, X):\n",
    "        return X.clip(lower=self.minval, upper=self.maxval).to_frame(name=self.get_feature_names()[0])\n",
    "    \n",
    "    def get_feature_names(self):\n",
    "        return [\"clipped_\"+self.name]"
   ]
  },
  {
   "cell_type": "code",
   "execution_count": 46,
   "id": "5f1b4011",
   "metadata": {
    "execution": {
     "iopub.execute_input": "2022-03-01T17:36:43.235975Z",
     "iopub.status.busy": "2022-03-01T17:36:43.235259Z",
     "iopub.status.idle": "2022-03-01T17:36:43.245142Z",
     "shell.execute_reply": "2022-03-01T17:36:43.245727Z",
     "shell.execute_reply.started": "2022-03-01T16:52:31.773089Z"
    },
    "papermill": {
     "duration": 0.164763,
     "end_time": "2022-03-01T17:36:43.245911",
     "exception": false,
     "start_time": "2022-03-01T17:36:43.081148",
     "status": "completed"
    },
    "tags": []
   },
   "outputs": [
    {
     "data": {
      "text/plain": [
       "clipped_sibsp\n",
       "0                608\n",
       "1                209\n",
       "2                 74\n",
       "dtype: int64"
      ]
     },
     "execution_count": 46,
     "metadata": {},
     "output_type": "execute_result"
    }
   ],
   "source": [
    "ColumnClipper(0,2,name=\"sibsp\").transform(train_df.SibSp).value_counts()"
   ]
  },
  {
   "cell_type": "code",
   "execution_count": 47,
   "id": "d85155d2",
   "metadata": {
    "execution": {
     "iopub.execute_input": "2022-03-01T17:36:43.537348Z",
     "iopub.status.busy": "2022-03-01T17:36:43.536652Z",
     "iopub.status.idle": "2022-03-01T17:36:43.541866Z",
     "shell.execute_reply": "2022-03-01T17:36:43.541299Z",
     "shell.execute_reply.started": "2022-03-01T16:52:31.790014Z"
    },
    "papermill": {
     "duration": 0.150606,
     "end_time": "2022-03-01T17:36:43.542025",
     "exception": false,
     "start_time": "2022-03-01T17:36:43.391419",
     "status": "completed"
    },
    "tags": []
   },
   "outputs": [],
   "source": [
    "# add it to the pipeline\n",
    "pipeline_transformers.append(\n",
    "    ('sibsp-clipper', ColumnClipper(0,2,name=\"sibsp\"), \"SibSp\")\n",
    ")"
   ]
  },
  {
   "cell_type": "markdown",
   "id": "fde7defc",
   "metadata": {
    "papermill": {
     "duration": 0.143068,
     "end_time": "2022-03-01T17:36:43.833185",
     "exception": false,
     "start_time": "2022-03-01T17:36:43.690117",
     "status": "completed"
    },
    "tags": []
   },
   "source": [
    "### Parch\n",
    "\n",
    "Same as with *SibSp*"
   ]
  },
  {
   "cell_type": "code",
   "execution_count": 48,
   "id": "36515d18",
   "metadata": {
    "execution": {
     "iopub.execute_input": "2022-03-01T17:36:44.125126Z",
     "iopub.status.busy": "2022-03-01T17:36:44.124227Z",
     "iopub.status.idle": "2022-03-01T17:36:44.350606Z",
     "shell.execute_reply": "2022-03-01T17:36:44.349957Z",
     "shell.execute_reply.started": "2022-03-01T16:52:31.797165Z"
    },
    "papermill": {
     "duration": 0.372946,
     "end_time": "2022-03-01T17:36:44.350758",
     "exception": false,
     "start_time": "2022-03-01T17:36:43.977812",
     "status": "completed"
    },
    "tags": []
   },
   "outputs": [
    {
     "data": {
      "image/png": "[encoded data removed]",
      "text/plain": [
       "<Figure size 720x576 with 1 Axes>"
      ]
     },
     "metadata": {},
     "output_type": "display_data"
    }
   ],
   "source": [
    "fig, ax = plt.subplots(figsize=(10,8))\n",
    "sns.countplot(x=(train_df.Parch > 0).astype(int), hue=train_df.Survived, ax=ax)\n",
    "annotate_bars(ax)\n",
    "plt.show()"
   ]
  },
  {
   "cell_type": "code",
   "execution_count": 49,
   "id": "57242c73",
   "metadata": {
    "execution": {
     "iopub.execute_input": "2022-03-01T17:36:44.809633Z",
     "iopub.status.busy": "2022-03-01T17:36:44.808910Z",
     "iopub.status.idle": "2022-03-01T17:36:45.051180Z",
     "shell.execute_reply": "2022-03-01T17:36:45.050489Z",
     "shell.execute_reply.started": "2022-03-01T16:52:32.166440Z"
    },
    "papermill": {
     "duration": 0.556541,
     "end_time": "2022-03-01T17:36:45.051349",
     "exception": false,
     "start_time": "2022-03-01T17:36:44.494808",
     "status": "completed"
    },
    "tags": []
   },
   "outputs": [
    {
     "data": {
      "image/png": "[encoded data removed]",
      "text/plain": [
       "<Figure size 720x576 with 1 Axes>"
      ]
     },
     "metadata": {},
     "output_type": "display_data"
    }
   ],
   "source": [
    "# again 0 vs 1 looked better, try 0,1,2\n",
    "fig, ax = plt.subplots(figsize=(10,8))\n",
    "sns.countplot(x=train_df.Parch.clip(lower=0, upper=2), hue=train_df.Survived, ax=ax)\n",
    "annotate_bars(ax)\n",
    "plt.show()"
   ]
  },
  {
   "cell_type": "markdown",
   "id": "5546821b",
   "metadata": {
    "papermill": {
     "duration": 0.14523,
     "end_time": "2022-03-01T17:36:45.342226",
     "exception": false,
     "start_time": "2022-03-01T17:36:45.196996",
     "status": "completed"
    },
    "tags": []
   },
   "source": [
    "Now the \\[0,2] clipping doesnt improve on the \\[0,1] one, so we keep the latter. It seems that SibSp=1 is special because it could be an indicator of an adult couple, while having at least one parent/children is already indicator of a family (Parch=1), therefore 2+ not adding much information over that."
   ]
  },
  {
   "cell_type": "code",
   "execution_count": 50,
   "id": "11c963dd",
   "metadata": {
    "execution": {
     "iopub.execute_input": "2022-03-01T17:36:45.637703Z",
     "iopub.status.busy": "2022-03-01T17:36:45.635798Z",
     "iopub.status.idle": "2022-03-01T17:36:45.641104Z",
     "shell.execute_reply": "2022-03-01T17:36:45.640524Z",
     "shell.execute_reply.started": "2022-03-01T16:52:32.411398Z"
    },
    "papermill": {
     "duration": 0.152865,
     "end_time": "2022-03-01T17:36:45.641256",
     "exception": false,
     "start_time": "2022-03-01T17:36:45.488391",
     "status": "completed"
    },
    "tags": []
   },
   "outputs": [],
   "source": [
    "# add it to the pipeline\n",
    "pipeline_transformers.append(\n",
    "    ('parch-clipper', ColumnClipper(0,1,name=\"parch\"), \"Parch\")\n",
    ")"
   ]
  },
  {
   "cell_type": "markdown",
   "id": "999a85e8",
   "metadata": {
    "papermill": {
     "duration": 0.148103,
     "end_time": "2022-03-01T17:36:45.934616",
     "exception": false,
     "start_time": "2022-03-01T17:36:45.786513",
     "status": "completed"
    },
    "tags": []
   },
   "source": [
    "### Ticket\n",
    "\n",
    "This is the ticket number and as such, has some information that might be useful but requires some very specific parsing."
   ]
  },
  {
   "cell_type": "code",
   "execution_count": 51,
   "id": "1b2ba4c1",
   "metadata": {
    "execution": {
     "iopub.execute_input": "2022-03-01T17:36:46.232517Z",
     "iopub.status.busy": "2022-03-01T17:36:46.231685Z",
     "iopub.status.idle": "2022-03-01T17:36:46.240135Z",
     "shell.execute_reply": "2022-03-01T17:36:46.240708Z",
     "shell.execute_reply.started": "2022-03-01T16:52:32.417291Z"
    },
    "papermill": {
     "duration": 0.158964,
     "end_time": "2022-03-01T17:36:46.240894",
     "exception": false,
     "start_time": "2022-03-01T17:36:46.081930",
     "status": "completed"
    },
    "tags": []
   },
   "outputs": [
    {
     "data": {
      "text/plain": [
       "347082              7\n",
       "1601                7\n",
       "CA. 2343            7\n",
       "3101295             6\n",
       "CA 2144             6\n",
       "                   ..\n",
       "2683                1\n",
       "SOTON/O2 3101287    1\n",
       "11774               1\n",
       "392092              1\n",
       "370376              1\n",
       "Name: Ticket, Length: 681, dtype: int64"
      ]
     },
     "execution_count": 51,
     "metadata": {},
     "output_type": "execute_result"
    }
   ],
   "source": [
    "train_df.Ticket.value_counts().sort_values(ascending=False)"
   ]
  },
  {
   "cell_type": "code",
   "execution_count": 52,
   "id": "0fa8996b",
   "metadata": {
    "execution": {
     "iopub.execute_input": "2022-03-01T17:36:46.539180Z",
     "iopub.status.busy": "2022-03-01T17:36:46.538516Z",
     "iopub.status.idle": "2022-03-01T17:36:46.545793Z",
     "shell.execute_reply": "2022-03-01T17:36:46.546480Z",
     "shell.execute_reply.started": "2022-03-01T16:52:32.437537Z"
    },
    "papermill": {
     "duration": 0.16008,
     "end_time": "2022-03-01T17:36:46.546676",
     "exception": false,
     "start_time": "2022-03-01T17:36:46.386596",
     "status": "completed"
    },
    "tags": []
   },
   "outputs": [
    {
     "data": {
      "text/plain": [
       "PassengerId\n",
       "1            A/5 21171\n",
       "2             PC 17599\n",
       "3     STON/O2. 3101282\n",
       "4               113803\n",
       "5               373450\n",
       "6               330877\n",
       "7                17463\n",
       "8               349909\n",
       "9               347742\n",
       "10              237736\n",
       "Name: Ticket, dtype: object"
      ]
     },
     "execution_count": 52,
     "metadata": {},
     "output_type": "execute_result"
    }
   ],
   "source": [
    "train_df.Ticket.head(10)"
   ]
  },
  {
   "cell_type": "markdown",
   "id": "41b1ebfa",
   "metadata": {
    "papermill": {
     "duration": 0.150212,
     "end_time": "2022-03-01T17:36:46.843708",
     "exception": false,
     "start_time": "2022-03-01T17:36:46.693496",
     "status": "completed"
    },
    "tags": []
   },
   "source": [
    "As seen, not only is the format inconsistent but also numbers most likely don't translate into any meaningful information. There is a chance that some locality-based feature has predictive power, but the model is far simpler without this feature."
   ]
  },
  {
   "cell_type": "code",
   "execution_count": 53,
   "id": "b73e2dcf",
   "metadata": {
    "execution": {
     "iopub.execute_input": "2022-03-01T17:36:47.142568Z",
     "iopub.status.busy": "2022-03-01T17:36:47.141839Z",
     "iopub.status.idle": "2022-03-01T17:36:47.145838Z",
     "shell.execute_reply": "2022-03-01T17:36:47.146433Z",
     "shell.execute_reply.started": "2022-03-01T16:52:32.445423Z"
    },
    "papermill": {
     "duration": 0.156555,
     "end_time": "2022-03-01T17:36:47.146617",
     "exception": false,
     "start_time": "2022-03-01T17:36:46.990062",
     "status": "completed"
    },
    "tags": []
   },
   "outputs": [],
   "source": [
    "drop_vars.append('Ticket')"
   ]
  },
  {
   "cell_type": "markdown",
   "id": "f0c1bc28",
   "metadata": {
    "papermill": {
     "duration": 0.147515,
     "end_time": "2022-03-01T17:36:47.443338",
     "exception": false,
     "start_time": "2022-03-01T17:36:47.295823",
     "status": "completed"
    },
    "tags": []
   },
   "source": [
    "### Fare"
   ]
  },
  {
   "cell_type": "code",
   "execution_count": 54,
   "id": "335f4726",
   "metadata": {
    "execution": {
     "iopub.execute_input": "2022-03-01T17:36:47.748810Z",
     "iopub.status.busy": "2022-03-01T17:36:47.748090Z",
     "iopub.status.idle": "2022-03-01T17:36:48.214406Z",
     "shell.execute_reply": "2022-03-01T17:36:48.214945Z",
     "shell.execute_reply.started": "2022-03-01T16:52:32.454894Z"
    },
    "papermill": {
     "duration": 0.62069,
     "end_time": "2022-03-01T17:36:48.215166",
     "exception": false,
     "start_time": "2022-03-01T17:36:47.594476",
     "status": "completed"
    },
    "tags": []
   },
   "outputs": [
    {
     "data": {
      "image/png": "[encoded data removed]",
      "text/plain": [
       "<Figure size 720x576 with 1 Axes>"
      ]
     },
     "metadata": {},
     "output_type": "display_data"
    }
   ],
   "source": [
    "fig, ax = plt.subplots(figsize=(10,8))\n",
    "sns.histplot(data=train_df, x='Fare', kde=True)\n",
    "plt.show()"
   ]
  },
  {
   "cell_type": "code",
   "execution_count": 55,
   "id": "7af85dfa",
   "metadata": {
    "execution": {
     "iopub.execute_input": "2022-03-01T17:36:48.517544Z",
     "iopub.status.busy": "2022-03-01T17:36:48.516749Z",
     "iopub.status.idle": "2022-03-01T17:36:49.369692Z",
     "shell.execute_reply": "2022-03-01T17:36:49.368499Z",
     "shell.execute_reply.started": "2022-03-01T16:52:32.915970Z"
    },
    "papermill": {
     "duration": 1.007445,
     "end_time": "2022-03-01T17:36:49.369882",
     "exception": false,
     "start_time": "2022-03-01T17:36:48.362437",
     "status": "completed"
    },
    "tags": []
   },
   "outputs": [
    {
     "data": {
      "image/png": "[encoded data removed]",
      "text/plain": [
       "<Figure size 720x576 with 1 Axes>"
      ]
     },
     "metadata": {},
     "output_type": "display_data"
    }
   ],
   "source": [
    "fig, ax = plt.subplots(figsize=(10,8))\n",
    "sns.histplot(data=train_df, x='Fare', hue='Survived', kde=True)\n",
    "plt.show()"
   ]
  },
  {
   "cell_type": "code",
   "execution_count": 56,
   "id": "9dfb6616",
   "metadata": {
    "execution": {
     "iopub.execute_input": "2022-03-01T17:36:49.673602Z",
     "iopub.status.busy": "2022-03-01T17:36:49.672841Z",
     "iopub.status.idle": "2022-03-01T17:36:49.988682Z",
     "shell.execute_reply": "2022-03-01T17:36:49.989336Z",
     "shell.execute_reply.started": "2022-03-01T16:52:33.695425Z"
    },
    "papermill": {
     "duration": 0.470157,
     "end_time": "2022-03-01T17:36:49.989555",
     "exception": false,
     "start_time": "2022-03-01T17:36:49.519398",
     "status": "completed"
    },
    "tags": []
   },
   "outputs": [
    {
     "name": "stderr",
     "output_type": "stream",
     "text": [
      "/opt/conda/lib/python3.7/site-packages/pandas/core/arraylike.py:364: RuntimeWarning: divide by zero encountered in log10\n",
      "  result = getattr(ufunc, method)(*inputs, **kwargs)\n"
     ]
    },
    {
     "data": {
      "image/png": "[encoded data removed]",
      "text/plain": [
       "<Figure size 720x576 with 1 Axes>"
      ]
     },
     "metadata": {},
     "output_type": "display_data"
    }
   ],
   "source": [
    "# trying with log-scaled fare to cope with the long, not-so-small tail\n",
    "fig, ax = plt.subplots(figsize=(10,8))\n",
    "sns.histplot(x=np.log10(train_df.Fare), kde=True)\n",
    "plt.show()"
   ]
  },
  {
   "cell_type": "code",
   "execution_count": 57,
   "id": "64b4bbb7",
   "metadata": {
    "execution": {
     "iopub.execute_input": "2022-03-01T17:36:50.299100Z",
     "iopub.status.busy": "2022-03-01T17:36:50.298445Z",
     "iopub.status.idle": "2022-03-01T17:36:50.304299Z",
     "shell.execute_reply": "2022-03-01T17:36:50.304854Z",
     "shell.execute_reply.started": "2022-03-01T16:52:33.990342Z"
    },
    "papermill": {
     "duration": 0.161456,
     "end_time": "2022-03-01T17:36:50.305060",
     "exception": false,
     "start_time": "2022-03-01T17:36:50.143604",
     "status": "completed"
    },
    "tags": []
   },
   "outputs": [
    {
     "data": {
      "text/plain": [
       "15"
      ]
     },
     "execution_count": 57,
     "metadata": {},
     "output_type": "execute_result"
    }
   ],
   "source": [
    "# even if it can be seen in the describe() method, it's weird for Fare to be 0. Is this a common problem?\n",
    "sum(train_df.Fare==0)"
   ]
  },
  {
   "cell_type": "code",
   "execution_count": 58,
   "id": "0e7c91b9",
   "metadata": {
    "execution": {
     "iopub.execute_input": "2022-03-01T17:36:50.610104Z",
     "iopub.status.busy": "2022-03-01T17:36:50.609369Z",
     "iopub.status.idle": "2022-03-01T17:36:50.616791Z",
     "shell.execute_reply": "2022-03-01T17:36:50.617388Z",
     "shell.execute_reply.started": "2022-03-01T16:52:33.998232Z"
    },
    "papermill": {
     "duration": 0.160666,
     "end_time": "2022-03-01T17:36:50.617584",
     "exception": false,
     "start_time": "2022-03-01T17:36:50.456918",
     "status": "completed"
    },
    "tags": []
   },
   "outputs": [
    {
     "data": {
      "text/plain": [
       "4.0125"
      ]
     },
     "execution_count": 58,
     "metadata": {},
     "output_type": "execute_result"
    }
   ],
   "source": [
    "# is the next value in the cents? or goes up to probably the min-fare ticket \n",
    "np.min(train_df.Fare[train_df.Fare>0])"
   ]
  },
  {
   "cell_type": "code",
   "execution_count": 59,
   "id": "39423866",
   "metadata": {
    "execution": {
     "iopub.execute_input": "2022-03-01T17:36:50.933316Z",
     "iopub.status.busy": "2022-03-01T17:36:50.932522Z",
     "iopub.status.idle": "2022-03-01T17:36:51.295289Z",
     "shell.execute_reply": "2022-03-01T17:36:51.294535Z",
     "shell.execute_reply.started": "2022-03-01T16:52:34.010267Z"
    },
    "papermill": {
     "duration": 0.52355,
     "end_time": "2022-03-01T17:36:51.295452",
     "exception": false,
     "start_time": "2022-03-01T17:36:50.771902",
     "status": "completed"
    },
    "tags": []
   },
   "outputs": [
    {
     "data": {
      "image/png": "[encoded data removed]",
      "text/plain": [
       "<Figure size 720x576 with 1 Axes>"
      ]
     },
     "metadata": {},
     "output_type": "display_data"
    }
   ],
   "source": [
    "# so the free ticket is fairly uncommon, but definitely not unique to a single observation\n",
    "# also next smallest value is 4\n",
    "\n",
    "# using shifted log scale now\n",
    "fig, ax = plt.subplots(figsize=(10,8))\n",
    "sns.histplot(x=np.log1p(train_df.Fare), kde=True)\n",
    "plt.show()"
   ]
  },
  {
   "cell_type": "code",
   "execution_count": 60,
   "id": "200aab43",
   "metadata": {
    "execution": {
     "iopub.execute_input": "2022-03-01T17:36:51.646634Z",
     "iopub.status.busy": "2022-03-01T17:36:51.635630Z",
     "iopub.status.idle": "2022-03-01T17:36:52.083701Z",
     "shell.execute_reply": "2022-03-01T17:36:52.083137Z",
     "shell.execute_reply.started": "2022-03-01T16:52:34.338703Z"
    },
    "papermill": {
     "duration": 0.619747,
     "end_time": "2022-03-01T17:36:52.083866",
     "exception": false,
     "start_time": "2022-03-01T17:36:51.464119",
     "status": "completed"
    },
    "tags": []
   },
   "outputs": [
    {
     "data": {
      "image/png": "[encoded data removed]",
      "text/plain": [
       "<Figure size 720x576 with 1 Axes>"
      ]
     },
     "metadata": {},
     "output_type": "display_data"
    }
   ],
   "source": [
    "# disaggregating by Survival\n",
    "fig, ax = plt.subplots(figsize=(10,8))\n",
    "sns.histplot(x=np.log1p(train_df.Fare), hue=train_df.Survived, kde=True)\n",
    "plt.show()"
   ]
  },
  {
   "cell_type": "code",
   "execution_count": 61,
   "id": "58c865e7",
   "metadata": {
    "execution": {
     "iopub.execute_input": "2022-03-01T17:36:52.409699Z",
     "iopub.status.busy": "2022-03-01T17:36:52.408880Z",
     "iopub.status.idle": "2022-03-01T17:36:52.411394Z",
     "shell.execute_reply": "2022-03-01T17:36:52.411939Z",
     "shell.execute_reply.started": "2022-03-01T16:52:34.759453Z"
    },
    "papermill": {
     "duration": 0.168285,
     "end_time": "2022-03-01T17:36:52.412139",
     "exception": false,
     "start_time": "2022-03-01T17:36:52.243854",
     "status": "completed"
    },
    "tags": []
   },
   "outputs": [],
   "source": [
    "# using FunctionTransformer for this, because whatever\n",
    "\n",
    "class NamedFunctionTransformer(BaseEstimator, TransformerMixin):\n",
    "    def __init__(self, fun, names):\n",
    "        self.fun = fun\n",
    "        self.names = names\n",
    "        \n",
    "    def fit(self, X, y=None):\n",
    "        return self\n",
    "    \n",
    "    def transform(self, X):\n",
    "        result = self.fun(X)\n",
    "        return result if type(result) is pd.DataFrame else result.to_frame()\n",
    "    \n",
    "    def get_feature_names(self):\n",
    "        return self.names\n",
    "\n",
    "\n",
    "log1pTransformer = NamedFunctionTransformer(np.log1p, names=[\"shifted_fare\"])"
   ]
  },
  {
   "cell_type": "code",
   "execution_count": 62,
   "id": "bfa7373a",
   "metadata": {
    "execution": {
     "iopub.execute_input": "2022-03-01T17:36:52.730787Z",
     "iopub.status.busy": "2022-03-01T17:36:52.730096Z",
     "iopub.status.idle": "2022-03-01T17:36:52.740431Z",
     "shell.execute_reply": "2022-03-01T17:36:52.740984Z",
     "shell.execute_reply.started": "2022-03-01T16:52:34.769154Z"
    },
    "papermill": {
     "duration": 0.174447,
     "end_time": "2022-03-01T17:36:52.741195",
     "exception": false,
     "start_time": "2022-03-01T17:36:52.566748",
     "status": "completed"
    },
    "tags": []
   },
   "outputs": [
    {
     "data": {
      "text/html": [
       "<div>\n",
       "<style scoped>\n",
       "    .dataframe tbody tr th:only-of-type {\n",
       "        vertical-align: middle;\n",
       "    }\n",
       "\n",
       "    .dataframe tbody tr th {\n",
       "        vertical-align: top;\n",
       "    }\n",
       "\n",
       "    .dataframe thead th {\n",
       "        text-align: right;\n",
       "    }\n",
       "</style>\n",
       "<table border=\"1\" class=\"dataframe\">\n",
       "  <thead>\n",
       "    <tr style=\"text-align: right;\">\n",
       "      <th></th>\n",
       "      <th>Fare</th>\n",
       "    </tr>\n",
       "    <tr>\n",
       "      <th>PassengerId</th>\n",
       "      <th></th>\n",
       "    </tr>\n",
       "  </thead>\n",
       "  <tbody>\n",
       "    <tr>\n",
       "      <th>1</th>\n",
       "      <td>2.110213</td>\n",
       "    </tr>\n",
       "    <tr>\n",
       "      <th>2</th>\n",
       "      <td>4.280593</td>\n",
       "    </tr>\n",
       "    <tr>\n",
       "      <th>3</th>\n",
       "      <td>2.188856</td>\n",
       "    </tr>\n",
       "    <tr>\n",
       "      <th>4</th>\n",
       "      <td>3.990834</td>\n",
       "    </tr>\n",
       "    <tr>\n",
       "      <th>5</th>\n",
       "      <td>2.202765</td>\n",
       "    </tr>\n",
       "    <tr>\n",
       "      <th>...</th>\n",
       "      <td>...</td>\n",
       "    </tr>\n",
       "    <tr>\n",
       "      <th>887</th>\n",
       "      <td>2.639057</td>\n",
       "    </tr>\n",
       "    <tr>\n",
       "      <th>888</th>\n",
       "      <td>3.433987</td>\n",
       "    </tr>\n",
       "    <tr>\n",
       "      <th>889</th>\n",
       "      <td>3.196630</td>\n",
       "    </tr>\n",
       "    <tr>\n",
       "      <th>890</th>\n",
       "      <td>3.433987</td>\n",
       "    </tr>\n",
       "    <tr>\n",
       "      <th>891</th>\n",
       "      <td>2.169054</td>\n",
       "    </tr>\n",
       "  </tbody>\n",
       "</table>\n",
       "<p>891 rows × 1 columns</p>\n",
       "</div>"
      ],
      "text/plain": [
       "                 Fare\n",
       "PassengerId          \n",
       "1            2.110213\n",
       "2            4.280593\n",
       "3            2.188856\n",
       "4            3.990834\n",
       "5            2.202765\n",
       "...               ...\n",
       "887          2.639057\n",
       "888          3.433987\n",
       "889          3.196630\n",
       "890          3.433987\n",
       "891          2.169054\n",
       "\n",
       "[891 rows x 1 columns]"
      ]
     },
     "execution_count": 62,
     "metadata": {},
     "output_type": "execute_result"
    }
   ],
   "source": [
    "log1pTransformer.transform(train_df.Fare)"
   ]
  },
  {
   "cell_type": "code",
   "execution_count": 63,
   "id": "0ba1a2fa",
   "metadata": {
    "execution": {
     "iopub.execute_input": "2022-03-01T17:36:53.062267Z",
     "iopub.status.busy": "2022-03-01T17:36:53.061525Z",
     "iopub.status.idle": "2022-03-01T17:36:53.064687Z",
     "shell.execute_reply": "2022-03-01T17:36:53.064150Z",
     "shell.execute_reply.started": "2022-03-01T16:52:34.795037Z"
    },
    "papermill": {
     "duration": 0.167183,
     "end_time": "2022-03-01T17:36:53.064845",
     "exception": false,
     "start_time": "2022-03-01T17:36:52.897662",
     "status": "completed"
    },
    "tags": []
   },
   "outputs": [],
   "source": [
    "# add it to the pipeline\n",
    "pipeline_transformers.append(\n",
    "    (\"log-fare\",log1pTransformer,[\"Fare\"])\n",
    ")"
   ]
  },
  {
   "cell_type": "markdown",
   "id": "89665b9e",
   "metadata": {
    "papermill": {
     "duration": 0.159173,
     "end_time": "2022-03-01T17:36:53.379668",
     "exception": false,
     "start_time": "2022-03-01T17:36:53.220495",
     "status": "completed"
    },
    "tags": []
   },
   "source": [
    "### Cabin\n",
    "\n",
    "This feature is not only absent in over 75% of the observations, of the 891-687=204 observations where it's present, 147 of them are unique values (72% uniqueness). Imputing values based on only 1/4 of the dataset adds more variance in the prediction than the predicion power obtained from this feature. Proceeding to drop it."
   ]
  },
  {
   "cell_type": "code",
   "execution_count": 64,
   "id": "5f9ec82f",
   "metadata": {
    "execution": {
     "iopub.execute_input": "2022-03-01T17:36:53.708166Z",
     "iopub.status.busy": "2022-03-01T17:36:53.707450Z",
     "iopub.status.idle": "2022-03-01T17:36:53.709644Z",
     "shell.execute_reply": "2022-03-01T17:36:53.710185Z",
     "shell.execute_reply.started": "2022-03-01T16:52:34.805830Z"
    },
    "papermill": {
     "duration": 0.173834,
     "end_time": "2022-03-01T17:36:53.710386",
     "exception": false,
     "start_time": "2022-03-01T17:36:53.536552",
     "status": "completed"
    },
    "tags": []
   },
   "outputs": [],
   "source": [
    "drop_vars.append('Cabin')"
   ]
  },
  {
   "cell_type": "markdown",
   "id": "35f6b663",
   "metadata": {
    "papermill": {
     "duration": 0.221168,
     "end_time": "2022-03-01T17:36:54.085930",
     "exception": false,
     "start_time": "2022-03-01T17:36:53.864762",
     "status": "completed"
    },
    "tags": []
   },
   "source": [
    "### Embarked\n"
   ]
  },
  {
   "cell_type": "code",
   "execution_count": 65,
   "id": "ee152a3a",
   "metadata": {
    "execution": {
     "iopub.execute_input": "2022-03-01T17:36:54.418202Z",
     "iopub.status.busy": "2022-03-01T17:36:54.406894Z",
     "iopub.status.idle": "2022-03-01T17:36:54.611266Z",
     "shell.execute_reply": "2022-03-01T17:36:54.611831Z",
     "shell.execute_reply.started": "2022-03-01T16:52:34.818213Z"
    },
    "papermill": {
     "duration": 0.369558,
     "end_time": "2022-03-01T17:36:54.612022",
     "exception": false,
     "start_time": "2022-03-01T17:36:54.242464",
     "status": "completed"
    },
    "tags": []
   },
   "outputs": [
    {
     "data": {
      "text/plain": [
       "<AxesSubplot:xlabel='Embarked', ylabel='count'>"
      ]
     },
     "execution_count": 65,
     "metadata": {},
     "output_type": "execute_result"
    },
    {
     "data": {
      "image/png": "[encoded data removed]",
      "text/plain": [
       "<Figure size 432x288 with 1 Axes>"
      ]
     },
     "metadata": {},
     "output_type": "display_data"
    }
   ],
   "source": [
    "sns.countplot(data=train_df, x=\"Embarked\")"
   ]
  },
  {
   "cell_type": "code",
   "execution_count": 66,
   "id": "17afe8a8",
   "metadata": {
    "execution": {
     "iopub.execute_input": "2022-03-01T17:36:54.938364Z",
     "iopub.status.busy": "2022-03-01T17:36:54.937618Z",
     "iopub.status.idle": "2022-03-01T17:36:55.214538Z",
     "shell.execute_reply": "2022-03-01T17:36:55.213946Z",
     "shell.execute_reply.started": "2022-03-01T16:52:35.025156Z"
    },
    "papermill": {
     "duration": 0.446257,
     "end_time": "2022-03-01T17:36:55.214702",
     "exception": false,
     "start_time": "2022-03-01T17:36:54.768445",
     "status": "completed"
    },
    "tags": []
   },
   "outputs": [
    {
     "data": {
      "text/plain": [
       "<AxesSubplot:xlabel='Embarked', ylabel='count'>"
      ]
     },
     "execution_count": 66,
     "metadata": {},
     "output_type": "execute_result"
    },
    {
     "data": {
      "image/png": "[encoded data removed]",
      "text/plain": [
       "<Figure size 432x288 with 1 Axes>"
      ]
     },
     "metadata": {},
     "output_type": "display_data"
    }
   ],
   "source": [
    "sns.countplot(data=train_df, x=\"Embarked\", hue='Survived')"
   ]
  },
  {
   "cell_type": "markdown",
   "id": "aad28de2",
   "metadata": {
    "papermill": {
     "duration": 0.163103,
     "end_time": "2022-03-01T17:36:55.537784",
     "exception": false,
     "start_time": "2022-03-01T17:36:55.374681",
     "status": "completed"
    },
    "tags": []
   },
   "source": [
    "As seen before, C and Q values for *Embarked* seem to be good while S is not that far off from the average ratio. One-hot encoding of this feature while dropping the first class is the selected option."
   ]
  },
  {
   "cell_type": "code",
   "execution_count": 67,
   "id": "1885c595",
   "metadata": {
    "execution": {
     "iopub.execute_input": "2022-03-01T17:36:55.867159Z",
     "iopub.status.busy": "2022-03-01T17:36:55.866470Z",
     "iopub.status.idle": "2022-03-01T17:36:55.872391Z",
     "shell.execute_reply": "2022-03-01T17:36:55.871756Z",
     "shell.execute_reply.started": "2022-03-01T16:52:35.273057Z"
    },
    "papermill": {
     "duration": 0.170496,
     "end_time": "2022-03-01T17:36:55.872563",
     "exception": false,
     "start_time": "2022-03-01T17:36:55.702067",
     "status": "completed"
    },
    "tags": []
   },
   "outputs": [],
   "source": [
    "pipeline_transformers.append(\n",
    "    ('one-hot-embarked', OneHotEncoder(sparse=False, handle_unknown='error',drop='first'), ['Embarked'])\n",
    ")"
   ]
  },
  {
   "cell_type": "markdown",
   "id": "aa9da5d7",
   "metadata": {
    "papermill": {
     "duration": 0.157848,
     "end_time": "2022-03-01T17:36:56.192906",
     "exception": false,
     "start_time": "2022-03-01T17:36:56.035058",
     "status": "completed"
    },
    "tags": []
   },
   "source": [
    "## Training pipeline: Baseline Model + Evaluation Pipeline + Submission generation"
   ]
  },
  {
   "cell_type": "markdown",
   "id": "296faa32",
   "metadata": {
    "papermill": {
     "duration": 0.159338,
     "end_time": "2022-03-01T17:36:56.511042",
     "exception": false,
     "start_time": "2022-03-01T17:36:56.351704",
     "status": "completed"
    },
    "tags": []
   },
   "source": [
    "### Imputation\n",
    "\n",
    "Need to impute:\n",
    "\n",
    "* *Fare*, which is a moderately long-tailed continuous variable -> median\n",
    "* *Age*, same as above\n",
    "* *Embarked*, a nominal categorical variable -> mode"
   ]
  },
  {
   "cell_type": "code",
   "execution_count": 68,
   "id": "c2201e07",
   "metadata": {
    "execution": {
     "iopub.execute_input": "2022-03-01T17:36:56.842263Z",
     "iopub.status.busy": "2022-03-01T17:36:56.841504Z",
     "iopub.status.idle": "2022-03-01T17:36:56.852657Z",
     "shell.execute_reply": "2022-03-01T17:36:56.852081Z",
     "shell.execute_reply.started": "2022-03-01T16:52:35.280013Z"
    },
    "papermill": {
     "duration": 0.175351,
     "end_time": "2022-03-01T17:36:56.852835",
     "exception": false,
     "start_time": "2022-03-01T17:36:56.677484",
     "status": "completed"
    },
    "tags": []
   },
   "outputs": [],
   "source": [
    "# a OOP oriented pipeline of SimpleImputers that returns a dataframe (keeps labels)\n",
    "class DataFrameSimpleImputer:\n",
    "    def __init__(self, imputation_dict):\n",
    "        \"\"\"Imputation_dict must be of the form {strategy: list_of_features_for_strat}, e.g. {'mean':['Age']}\"\"\"\n",
    "        self.p = ColumnTransformer(transformers=[\n",
    "            (strat, SimpleImputer(strategy=strat), features) for strat, features in imputation_dict.items()], \n",
    "                                   remainder='passthrough')\n",
    "        # this columns will be the left-most in the transformed dataframes\n",
    "        self.imputed_columns = sum(imputation_dict.values(),[])\n",
    "        \n",
    "    def fit(self, X, y=None):\n",
    "        return self.p.fit(X,y)\n",
    "    \n",
    "    def _restore_df(self, X, imputed_X):\n",
    "        # left-most cols are imputed ones, then all the others in order of appearance\n",
    "        set_imputed_cols = set(self.imputed_columns)\n",
    "        passthrough_cols = [col for col in X.columns if col not in set_imputed_cols]\n",
    "        \n",
    "        # build df and restore index, column labels and re-infer dtypes\n",
    "        return (pd.DataFrame(imputed_X,\n",
    "                           index=X.index,\n",
    "                           columns=self.imputed_columns + passthrough_cols)\n",
    "                .infer_objects()\n",
    "               )\n",
    "        \n",
    "    def transform(self, X):\n",
    "        imputed_mat = self.p.transform(X)\n",
    "        return self._restore_df(X, imputed_mat)\n",
    "    \n",
    "    def fit_transform(self, X, y=None):\n",
    "        imputed_mat = self.p.fit_transform(X, y)\n",
    "        return self._restore_df(X, imputed_mat)"
   ]
  },
  {
   "cell_type": "code",
   "execution_count": 69,
   "id": "d6789bb9",
   "metadata": {
    "execution": {
     "iopub.execute_input": "2022-03-01T17:36:57.185590Z",
     "iopub.status.busy": "2022-03-01T17:36:57.184784Z",
     "iopub.status.idle": "2022-03-01T17:36:57.212335Z",
     "shell.execute_reply": "2022-03-01T17:36:57.211689Z",
     "shell.execute_reply.started": "2022-03-01T16:52:35.294577Z"
    },
    "papermill": {
     "duration": 0.203181,
     "end_time": "2022-03-01T17:36:57.212499",
     "exception": false,
     "start_time": "2022-03-01T17:36:57.009318",
     "status": "completed"
    },
    "tags": []
   },
   "outputs": [
    {
     "name": "stdout",
     "output_type": "stream",
     "text": [
      "<class 'pandas.core.frame.DataFrame'>\n",
      "Int64Index: 891 entries, 1 to 891\n",
      "Data columns (total 10 columns):\n",
      " #   Column    Non-Null Count  Dtype  \n",
      "---  ------    --------------  -----  \n",
      " 0   Age       891 non-null    float64\n",
      " 1   Fare      891 non-null    float64\n",
      " 2   Embarked  891 non-null    object \n",
      " 3   Pclass    891 non-null    int64  \n",
      " 4   Name      891 non-null    object \n",
      " 5   Sex       891 non-null    object \n",
      " 6   SibSp     891 non-null    int64  \n",
      " 7   Parch     891 non-null    int64  \n",
      " 8   Ticket    891 non-null    object \n",
      " 9   Cabin     204 non-null    object \n",
      "dtypes: float64(2), int64(3), object(5)\n",
      "memory usage: 108.9+ KB\n"
     ]
    }
   ],
   "source": [
    "# show usage\n",
    "imputer = DataFrameSimpleImputer({'median':['Age','Fare'], 'most_frequent':['Embarked']})\n",
    "imputer.fit_transform(train_df.drop(columns=[\"Survived\"])).info()"
   ]
  },
  {
   "cell_type": "code",
   "execution_count": 70,
   "id": "6ecfa6ac",
   "metadata": {
    "execution": {
     "iopub.execute_input": "2022-03-01T17:36:57.542588Z",
     "iopub.status.busy": "2022-03-01T17:36:57.541876Z",
     "iopub.status.idle": "2022-03-01T17:36:57.565020Z",
     "shell.execute_reply": "2022-03-01T17:36:57.565591Z",
     "shell.execute_reply.started": "2022-03-01T16:52:35.335573Z"
    },
    "papermill": {
     "duration": 0.19089,
     "end_time": "2022-03-01T17:36:57.565803",
     "exception": false,
     "start_time": "2022-03-01T17:36:57.374913",
     "status": "completed"
    },
    "tags": []
   },
   "outputs": [
    {
     "name": "stdout",
     "output_type": "stream",
     "text": [
      "<class 'pandas.core.frame.DataFrame'>\n",
      "Int64Index: 418 entries, 892 to 1309\n",
      "Data columns (total 10 columns):\n",
      " #   Column    Non-Null Count  Dtype  \n",
      "---  ------    --------------  -----  \n",
      " 0   Age       418 non-null    float64\n",
      " 1   Fare      418 non-null    float64\n",
      " 2   Embarked  418 non-null    object \n",
      " 3   Pclass    418 non-null    int64  \n",
      " 4   Name      418 non-null    object \n",
      " 5   Sex       418 non-null    object \n",
      " 6   SibSp     418 non-null    int64  \n",
      " 7   Parch     418 non-null    int64  \n",
      " 8   Ticket    418 non-null    object \n",
      " 9   Cabin     91 non-null     object \n",
      "dtypes: float64(2), int64(3), object(5)\n",
      "memory usage: 35.9+ KB\n"
     ]
    }
   ],
   "source": [
    "imputer.transform(test_df).info()"
   ]
  },
  {
   "cell_type": "markdown",
   "id": "53af6feb",
   "metadata": {
    "papermill": {
     "duration": 0.160442,
     "end_time": "2022-03-01T17:36:57.893425",
     "exception": false,
     "start_time": "2022-03-01T17:36:57.732983",
     "status": "completed"
    },
    "tags": []
   },
   "source": [
    "## Encoding\n",
    "\n",
    "Done through a simple ColumnTransformer thanks to previous lists *passthrough_vars*, *drop_vars* and *pipeline_transformers*."
   ]
  },
  {
   "cell_type": "code",
   "execution_count": 71,
   "id": "2949a89b",
   "metadata": {
    "execution": {
     "iopub.execute_input": "2022-03-01T17:36:58.221993Z",
     "iopub.status.busy": "2022-03-01T17:36:58.221263Z",
     "iopub.status.idle": "2022-03-01T17:36:58.271384Z",
     "shell.execute_reply": "2022-03-01T17:36:58.271948Z",
     "shell.execute_reply.started": "2022-03-01T16:52:35.361601Z"
    },
    "papermill": {
     "duration": 0.216248,
     "end_time": "2022-03-01T17:36:58.272176",
     "exception": false,
     "start_time": "2022-03-01T17:36:58.055928",
     "status": "completed"
    },
    "tags": []
   },
   "outputs": [
    {
     "data": {
      "text/html": [
       "<div>\n",
       "<style scoped>\n",
       "    .dataframe tbody tr th:only-of-type {\n",
       "        vertical-align: middle;\n",
       "    }\n",
       "\n",
       "    .dataframe tbody tr th {\n",
       "        vertical-align: top;\n",
       "    }\n",
       "\n",
       "    .dataframe thead th {\n",
       "        text-align: right;\n",
       "    }\n",
       "</style>\n",
       "<table border=\"1\" class=\"dataframe\">\n",
       "  <thead>\n",
       "    <tr style=\"text-align: right;\">\n",
       "      <th></th>\n",
       "      <th>Pclass</th>\n",
       "      <th>Age</th>\n",
       "      <th>name-to-title__title_master</th>\n",
       "      <th>name-to-title__title_miss</th>\n",
       "      <th>name-to-title__title_mr</th>\n",
       "      <th>name-to-title__title_mrs</th>\n",
       "      <th>name-to-title__title_other</th>\n",
       "      <th>sex-encoder__is_female</th>\n",
       "      <th>sibsp-clipper__clipped_sibsp</th>\n",
       "      <th>parch-clipper__clipped_parch</th>\n",
       "      <th>log-fare__shifted_fare</th>\n",
       "      <th>one-hot-embarked__x0_Q</th>\n",
       "      <th>one-hot-embarked__x0_S</th>\n",
       "    </tr>\n",
       "  </thead>\n",
       "  <tbody>\n",
       "    <tr>\n",
       "      <th>0</th>\n",
       "      <td>1.0</td>\n",
       "      <td>38.0</td>\n",
       "      <td>0.0</td>\n",
       "      <td>0.0</td>\n",
       "      <td>0.0</td>\n",
       "      <td>1.0</td>\n",
       "      <td>0.0</td>\n",
       "      <td>1.0</td>\n",
       "      <td>1.0</td>\n",
       "      <td>0.0</td>\n",
       "      <td>4.280593</td>\n",
       "      <td>0.0</td>\n",
       "      <td>0.0</td>\n",
       "    </tr>\n",
       "    <tr>\n",
       "      <th>1</th>\n",
       "      <td>1.0</td>\n",
       "      <td>35.0</td>\n",
       "      <td>0.0</td>\n",
       "      <td>0.0</td>\n",
       "      <td>0.0</td>\n",
       "      <td>1.0</td>\n",
       "      <td>0.0</td>\n",
       "      <td>1.0</td>\n",
       "      <td>1.0</td>\n",
       "      <td>0.0</td>\n",
       "      <td>3.990834</td>\n",
       "      <td>0.0</td>\n",
       "      <td>1.0</td>\n",
       "    </tr>\n",
       "    <tr>\n",
       "      <th>2</th>\n",
       "      <td>1.0</td>\n",
       "      <td>54.0</td>\n",
       "      <td>0.0</td>\n",
       "      <td>0.0</td>\n",
       "      <td>1.0</td>\n",
       "      <td>0.0</td>\n",
       "      <td>0.0</td>\n",
       "      <td>0.0</td>\n",
       "      <td>0.0</td>\n",
       "      <td>0.0</td>\n",
       "      <td>3.967694</td>\n",
       "      <td>0.0</td>\n",
       "      <td>1.0</td>\n",
       "    </tr>\n",
       "    <tr>\n",
       "      <th>3</th>\n",
       "      <td>3.0</td>\n",
       "      <td>4.0</td>\n",
       "      <td>0.0</td>\n",
       "      <td>1.0</td>\n",
       "      <td>0.0</td>\n",
       "      <td>0.0</td>\n",
       "      <td>0.0</td>\n",
       "      <td>1.0</td>\n",
       "      <td>1.0</td>\n",
       "      <td>1.0</td>\n",
       "      <td>2.873565</td>\n",
       "      <td>0.0</td>\n",
       "      <td>1.0</td>\n",
       "    </tr>\n",
       "    <tr>\n",
       "      <th>4</th>\n",
       "      <td>1.0</td>\n",
       "      <td>58.0</td>\n",
       "      <td>0.0</td>\n",
       "      <td>1.0</td>\n",
       "      <td>0.0</td>\n",
       "      <td>0.0</td>\n",
       "      <td>0.0</td>\n",
       "      <td>1.0</td>\n",
       "      <td>0.0</td>\n",
       "      <td>0.0</td>\n",
       "      <td>3.316003</td>\n",
       "      <td>0.0</td>\n",
       "      <td>1.0</td>\n",
       "    </tr>\n",
       "    <tr>\n",
       "      <th>...</th>\n",
       "      <td>...</td>\n",
       "      <td>...</td>\n",
       "      <td>...</td>\n",
       "      <td>...</td>\n",
       "      <td>...</td>\n",
       "      <td>...</td>\n",
       "      <td>...</td>\n",
       "      <td>...</td>\n",
       "      <td>...</td>\n",
       "      <td>...</td>\n",
       "      <td>...</td>\n",
       "      <td>...</td>\n",
       "      <td>...</td>\n",
       "    </tr>\n",
       "    <tr>\n",
       "      <th>178</th>\n",
       "      <td>1.0</td>\n",
       "      <td>47.0</td>\n",
       "      <td>0.0</td>\n",
       "      <td>0.0</td>\n",
       "      <td>0.0</td>\n",
       "      <td>1.0</td>\n",
       "      <td>0.0</td>\n",
       "      <td>1.0</td>\n",
       "      <td>1.0</td>\n",
       "      <td>1.0</td>\n",
       "      <td>3.980694</td>\n",
       "      <td>0.0</td>\n",
       "      <td>1.0</td>\n",
       "    </tr>\n",
       "    <tr>\n",
       "      <th>179</th>\n",
       "      <td>1.0</td>\n",
       "      <td>33.0</td>\n",
       "      <td>0.0</td>\n",
       "      <td>0.0</td>\n",
       "      <td>1.0</td>\n",
       "      <td>0.0</td>\n",
       "      <td>0.0</td>\n",
       "      <td>0.0</td>\n",
       "      <td>0.0</td>\n",
       "      <td>0.0</td>\n",
       "      <td>1.791759</td>\n",
       "      <td>0.0</td>\n",
       "      <td>1.0</td>\n",
       "    </tr>\n",
       "    <tr>\n",
       "      <th>180</th>\n",
       "      <td>1.0</td>\n",
       "      <td>56.0</td>\n",
       "      <td>0.0</td>\n",
       "      <td>0.0</td>\n",
       "      <td>0.0</td>\n",
       "      <td>1.0</td>\n",
       "      <td>0.0</td>\n",
       "      <td>1.0</td>\n",
       "      <td>0.0</td>\n",
       "      <td>1.0</td>\n",
       "      <td>4.432700</td>\n",
       "      <td>0.0</td>\n",
       "      <td>0.0</td>\n",
       "    </tr>\n",
       "    <tr>\n",
       "      <th>181</th>\n",
       "      <td>1.0</td>\n",
       "      <td>19.0</td>\n",
       "      <td>0.0</td>\n",
       "      <td>1.0</td>\n",
       "      <td>0.0</td>\n",
       "      <td>0.0</td>\n",
       "      <td>0.0</td>\n",
       "      <td>1.0</td>\n",
       "      <td>0.0</td>\n",
       "      <td>0.0</td>\n",
       "      <td>3.433987</td>\n",
       "      <td>0.0</td>\n",
       "      <td>1.0</td>\n",
       "    </tr>\n",
       "    <tr>\n",
       "      <th>182</th>\n",
       "      <td>1.0</td>\n",
       "      <td>26.0</td>\n",
       "      <td>0.0</td>\n",
       "      <td>0.0</td>\n",
       "      <td>1.0</td>\n",
       "      <td>0.0</td>\n",
       "      <td>0.0</td>\n",
       "      <td>0.0</td>\n",
       "      <td>0.0</td>\n",
       "      <td>0.0</td>\n",
       "      <td>3.433987</td>\n",
       "      <td>0.0</td>\n",
       "      <td>0.0</td>\n",
       "    </tr>\n",
       "  </tbody>\n",
       "</table>\n",
       "<p>183 rows × 13 columns</p>\n",
       "</div>"
      ],
      "text/plain": [
       "     Pclass   Age  name-to-title__title_master  name-to-title__title_miss  \\\n",
       "0       1.0  38.0                          0.0                        0.0   \n",
       "1       1.0  35.0                          0.0                        0.0   \n",
       "2       1.0  54.0                          0.0                        0.0   \n",
       "3       3.0   4.0                          0.0                        1.0   \n",
       "4       1.0  58.0                          0.0                        1.0   \n",
       "..      ...   ...                          ...                        ...   \n",
       "178     1.0  47.0                          0.0                        0.0   \n",
       "179     1.0  33.0                          0.0                        0.0   \n",
       "180     1.0  56.0                          0.0                        0.0   \n",
       "181     1.0  19.0                          0.0                        1.0   \n",
       "182     1.0  26.0                          0.0                        0.0   \n",
       "\n",
       "     name-to-title__title_mr  name-to-title__title_mrs  \\\n",
       "0                        0.0                       1.0   \n",
       "1                        0.0                       1.0   \n",
       "2                        1.0                       0.0   \n",
       "3                        0.0                       0.0   \n",
       "4                        0.0                       0.0   \n",
       "..                       ...                       ...   \n",
       "178                      0.0                       1.0   \n",
       "179                      1.0                       0.0   \n",
       "180                      0.0                       1.0   \n",
       "181                      0.0                       0.0   \n",
       "182                      1.0                       0.0   \n",
       "\n",
       "     name-to-title__title_other  sex-encoder__is_female  \\\n",
       "0                           0.0                     1.0   \n",
       "1                           0.0                     1.0   \n",
       "2                           0.0                     0.0   \n",
       "3                           0.0                     1.0   \n",
       "4                           0.0                     1.0   \n",
       "..                          ...                     ...   \n",
       "178                         0.0                     1.0   \n",
       "179                         0.0                     0.0   \n",
       "180                         0.0                     1.0   \n",
       "181                         0.0                     1.0   \n",
       "182                         0.0                     0.0   \n",
       "\n",
       "     sibsp-clipper__clipped_sibsp  parch-clipper__clipped_parch  \\\n",
       "0                             1.0                           0.0   \n",
       "1                             1.0                           0.0   \n",
       "2                             0.0                           0.0   \n",
       "3                             1.0                           1.0   \n",
       "4                             0.0                           0.0   \n",
       "..                            ...                           ...   \n",
       "178                           1.0                           1.0   \n",
       "179                           0.0                           0.0   \n",
       "180                           0.0                           1.0   \n",
       "181                           0.0                           0.0   \n",
       "182                           0.0                           0.0   \n",
       "\n",
       "     log-fare__shifted_fare  one-hot-embarked__x0_Q  one-hot-embarked__x0_S  \n",
       "0                  4.280593                     0.0                     0.0  \n",
       "1                  3.990834                     0.0                     1.0  \n",
       "2                  3.967694                     0.0                     1.0  \n",
       "3                  2.873565                     0.0                     1.0  \n",
       "4                  3.316003                     0.0                     1.0  \n",
       "..                      ...                     ...                     ...  \n",
       "178                3.980694                     0.0                     1.0  \n",
       "179                1.791759                     0.0                     1.0  \n",
       "180                4.432700                     0.0                     0.0  \n",
       "181                3.433987                     0.0                     1.0  \n",
       "182                3.433987                     0.0                     0.0  \n",
       "\n",
       "[183 rows x 13 columns]"
      ]
     },
     "execution_count": 71,
     "metadata": {},
     "output_type": "execute_result"
    }
   ],
   "source": [
    "encoder = ColumnTransformer(transformers=[('passthrough','passthrough',passthrough_vars),\n",
    "                                               ('drop','drop',drop_vars)]  + pipeline_transformers)\n",
    "\n",
    "\n",
    "# show usage on fake DF without missing data\n",
    "fake_df = train_df.dropna()\n",
    "\n",
    "encoded_mat = encoder.fit_transform(fake_df.drop(columns=['Survived']), fake_df.Survived)\n",
    "encoded_df = pd.DataFrame(encoded_mat, columns=encoder.get_feature_names())\n",
    "encoded_df"
   ]
  },
  {
   "cell_type": "code",
   "execution_count": 72,
   "id": "6dafe6b2",
   "metadata": {
    "execution": {
     "iopub.execute_input": "2022-03-01T17:36:58.615499Z",
     "iopub.status.busy": "2022-03-01T17:36:58.614723Z",
     "iopub.status.idle": "2022-03-01T17:36:58.620599Z",
     "shell.execute_reply": "2022-03-01T17:36:58.621216Z",
     "shell.execute_reply.started": "2022-03-01T16:52:35.415356Z"
    },
    "papermill": {
     "duration": 0.182969,
     "end_time": "2022-03-01T17:36:58.621457",
     "exception": false,
     "start_time": "2022-03-01T17:36:58.438488",
     "status": "completed"
    },
    "tags": []
   },
   "outputs": [
    {
     "data": {
      "text/plain": [
       "Index(['Pclass', 'Age', 'name-to-title__title_master',\n",
       "       'name-to-title__title_miss', 'name-to-title__title_mr',\n",
       "       'name-to-title__title_mrs', 'name-to-title__title_other',\n",
       "       'sex-encoder__is_female', 'sibsp-clipper__clipped_sibsp',\n",
       "       'parch-clipper__clipped_parch', 'log-fare__shifted_fare',\n",
       "       'one-hot-embarked__x0_Q', 'one-hot-embarked__x0_S'],\n",
       "      dtype='object')"
      ]
     },
     "execution_count": 72,
     "metadata": {},
     "output_type": "execute_result"
    }
   ],
   "source": [
    "encoded_df.columns"
   ]
  },
  {
   "cell_type": "code",
   "execution_count": 73,
   "id": "8893a874",
   "metadata": {
    "execution": {
     "iopub.execute_input": "2022-03-01T17:36:58.951411Z",
     "iopub.status.busy": "2022-03-01T17:36:58.950725Z",
     "iopub.status.idle": "2022-03-01T17:36:58.960624Z",
     "shell.execute_reply": "2022-03-01T17:36:58.961172Z",
     "shell.execute_reply.started": "2022-03-01T16:52:35.423807Z"
    },
    "papermill": {
     "duration": 0.177644,
     "end_time": "2022-03-01T17:36:58.961359",
     "exception": false,
     "start_time": "2022-03-01T17:36:58.783715",
     "status": "completed"
    },
    "tags": []
   },
   "outputs": [],
   "source": [
    "# can't use a Pipeline because this version of Sk Learn insists on dropping all feature names\n",
    "class Preprocessor:\n",
    "    def __init__(self,imputer,encoder, dropper):\n",
    "        self.p = Pipeline(steps=[('imputation', imputer),\n",
    "                                 ('encoding', encoder)])\n",
    "        self.dropper = dropper\n",
    "        \n",
    "    def fit_transform(self, X, y=None):\n",
    "        aux = self.p.fit_transform(X, y)\n",
    "        aux_df = pd.DataFrame(aux, index=X.index, columns=self.p[-1].get_feature_names())\n",
    "        return self.dropper.transform(aux_df).infer_objects()\n",
    "    \n",
    "    def transform(self, X):\n",
    "        aux = self.p.transform(X)\n",
    "        aux_df = pd.DataFrame(aux, index=X.index, columns=self.p[-1].get_feature_names())\n",
    "        return self.dropper.transform(aux_df).infer_objects()\n",
    "\n",
    "preprocessor = Preprocessor(imputer=imputer, \n",
    "                            encoder=encoder, \n",
    "                            dropper=ColumnDropper(cols=['name-to-title__title_other']))"
   ]
  },
  {
   "cell_type": "code",
   "execution_count": 74,
   "id": "8c93343e",
   "metadata": {
    "execution": {
     "iopub.execute_input": "2022-03-01T17:36:59.284821Z",
     "iopub.status.busy": "2022-03-01T17:36:59.284110Z",
     "iopub.status.idle": "2022-03-01T17:36:59.340212Z",
     "shell.execute_reply": "2022-03-01T17:36:59.340768Z",
     "shell.execute_reply.started": "2022-03-01T16:52:35.435163Z"
    },
    "papermill": {
     "duration": 0.22083,
     "end_time": "2022-03-01T17:36:59.340952",
     "exception": false,
     "start_time": "2022-03-01T17:36:59.120122",
     "status": "completed"
    },
    "tags": []
   },
   "outputs": [],
   "source": [
    "TARGET_VAR = 'Survived'\n",
    "X_train = train_df.drop(columns=[TARGET_VAR])\n",
    "y_train = train_df[TARGET_VAR]\n",
    "X_test = test_df\n",
    "\n",
    "# encode\n",
    "X_train = preprocessor.fit_transform(X_train, y_train)\n",
    "X_test = preprocessor.transform(X_test)"
   ]
  },
  {
   "cell_type": "markdown",
   "id": "87cdd9a8",
   "metadata": {
    "papermill": {
     "duration": 0.173486,
     "end_time": "2022-03-01T17:36:59.672618",
     "exception": false,
     "start_time": "2022-03-01T17:36:59.499132",
     "status": "completed"
    },
    "tags": []
   },
   "source": [
    "### Baseline Model and Evaluation pipeline\n",
    "\n",
    "Since the competition' selected metric is *accuracy*, so will be for us."
   ]
  },
  {
   "cell_type": "code",
   "execution_count": 75,
   "id": "f751e04c",
   "metadata": {
    "execution": {
     "iopub.execute_input": "2022-03-01T17:37:00.009881Z",
     "iopub.status.busy": "2022-03-01T17:37:00.009128Z",
     "iopub.status.idle": "2022-03-01T17:37:03.193087Z",
     "shell.execute_reply": "2022-03-01T17:37:03.194230Z",
     "shell.execute_reply.started": "2022-03-01T16:52:35.494211Z"
    },
    "papermill": {
     "duration": 3.351367,
     "end_time": "2022-03-01T17:37:03.194448",
     "exception": false,
     "start_time": "2022-03-01T17:36:59.843081",
     "status": "completed"
    },
    "tags": []
   },
   "outputs": [
    {
     "name": "stdout",
     "output_type": "stream",
     "text": [
      "Accuracy for baseline RF: mean=0.805, 1se=0.768\n"
     ]
    }
   ],
   "source": [
    "def eval_model(model, name, kfolds=5):\n",
    "    scores =  cross_val_score(model, X_train, y_train, cv=kfolds, scoring='accuracy',n_jobs=-1)\n",
    "    print(f\"Accuracy for {name}: mean={scores.mean():.3f}, 1se={scores.mean()-scores.std():.3f}\")\n",
    "    return scores\n",
    "\n",
    "# test it\n",
    "RNG_SEED = 45\n",
    "baseline_model = RandomForestClassifier(random_state=RNG_SEED)\n",
    "\n",
    "scores_baseline = eval_model(baseline_model, 'baseline RF')"
   ]
  },
  {
   "cell_type": "markdown",
   "id": "9b54535f",
   "metadata": {
    "papermill": {
     "duration": 0.157524,
     "end_time": "2022-03-01T17:37:03.514640",
     "exception": false,
     "start_time": "2022-03-01T17:37:03.357116",
     "status": "completed"
    },
    "tags": []
   },
   "source": [
    "The baseline model, which is an out-of-the-box RandomForestClassifier has a decent performance of ~0.8 (unbiased CV estimate) accuracy, with a 1-SE accuracy of 0.768.\n",
    "Now we will produce a submission to get that out of the way, and proceed to optimize hyperparameters."
   ]
  },
  {
   "cell_type": "markdown",
   "id": "db5c47c9",
   "metadata": {
    "papermill": {
     "duration": 0.16823,
     "end_time": "2022-03-01T17:37:03.868712",
     "exception": false,
     "start_time": "2022-03-01T17:37:03.700482",
     "status": "completed"
    },
    "tags": []
   },
   "source": [
    "### Submission generation"
   ]
  },
  {
   "cell_type": "code",
   "execution_count": 76,
   "id": "20c8a8e8",
   "metadata": {
    "execution": {
     "iopub.execute_input": "2022-03-01T17:37:04.229001Z",
     "iopub.status.busy": "2022-03-01T17:37:04.228305Z",
     "iopub.status.idle": "2022-03-01T17:37:04.230138Z",
     "shell.execute_reply": "2022-03-01T17:37:04.230642Z",
     "shell.execute_reply.started": "2022-03-01T16:52:38.595693Z"
    },
    "papermill": {
     "duration": 0.195325,
     "end_time": "2022-03-01T17:37:04.230819",
     "exception": false,
     "start_time": "2022-03-01T17:37:04.035494",
     "status": "completed"
    },
    "tags": []
   },
   "outputs": [],
   "source": [
    "def submit_model(model, name, also_train=False):\n",
    "    # train model on full data if needed\n",
    "    if also_train:\n",
    "        model.fit(X_train, y_train)\n",
    "    predictions = model.predict(X_test)\n",
    "    \n",
    "    filename=name+\".csv\"\n",
    "    \n",
    "    pd.DataFrame({\n",
    "        \"PassengerId\": X_test.index.to_list(),\n",
    "        TARGET_VAR: predictions\n",
    "    }).to_csv(filename,index=False)"
   ]
  },
  {
   "cell_type": "code",
   "execution_count": 77,
   "id": "87ae85ce",
   "metadata": {
    "execution": {
     "iopub.execute_input": "2022-03-01T17:37:04.559610Z",
     "iopub.status.busy": "2022-03-01T17:37:04.558796Z",
     "iopub.status.idle": "2022-03-01T17:37:04.848070Z",
     "shell.execute_reply": "2022-03-01T17:37:04.847417Z",
     "shell.execute_reply.started": "2022-03-01T16:52:38.603913Z"
    },
    "papermill": {
     "duration": 0.455042,
     "end_time": "2022-03-01T17:37:04.848246",
     "exception": false,
     "start_time": "2022-03-01T17:37:04.393204",
     "status": "completed"
    },
    "tags": []
   },
   "outputs": [],
   "source": [
    "submit_model(baseline_model, 'baseline',also_train=True)"
   ]
  },
  {
   "cell_type": "markdown",
   "id": "9e52d5bc",
   "metadata": {
    "papermill": {
     "duration": 0.162388,
     "end_time": "2022-03-01T17:37:05.174170",
     "exception": false,
     "start_time": "2022-03-01T17:37:05.011782",
     "status": "completed"
    },
    "tags": []
   },
   "source": [
    "This baseline gets a score of $0.74401$ in the leaderboard, which is similar to the $1_{SE}$ CV-estimated accuracy score."
   ]
  },
  {
   "cell_type": "markdown",
   "id": "9db63621",
   "metadata": {
    "papermill": {
     "duration": 0.159459,
     "end_time": "2022-03-01T17:37:05.501405",
     "exception": false,
     "start_time": "2022-03-01T17:37:05.341946",
     "status": "completed"
    },
    "tags": []
   },
   "source": [
    "## Model search"
   ]
  },
  {
   "cell_type": "code",
   "execution_count": 78,
   "id": "fd001ad2",
   "metadata": {
    "execution": {
     "iopub.execute_input": "2022-03-01T17:37:05.854245Z",
     "iopub.status.busy": "2022-03-01T17:37:05.853496Z",
     "iopub.status.idle": "2022-03-01T17:37:19.578643Z",
     "shell.execute_reply": "2022-03-01T17:37:19.579256Z",
     "shell.execute_reply.started": "2022-03-01T16:52:38.868694Z"
    },
    "papermill": {
     "duration": 13.918637,
     "end_time": "2022-03-01T17:37:19.579455",
     "exception": false,
     "start_time": "2022-03-01T17:37:05.660818",
     "status": "completed"
    },
    "tags": []
   },
   "outputs": [
    {
     "name": "stdout",
     "output_type": "stream",
     "text": [
      "Collecting hyperopt==0.2.5\r\n",
      "  Downloading hyperopt-0.2.5-py2.py3-none-any.whl (965 kB)\r\n",
      "     |████████████████████████████████| 965 kB 242 kB/s            \r\n",
      "\u001b[?25hRequirement already satisfied: scipy in /opt/conda/lib/python3.7/site-packages (from hyperopt==0.2.5) (1.7.3)\r\n",
      "Requirement already satisfied: six in /opt/conda/lib/python3.7/site-packages (from hyperopt==0.2.5) (1.16.0)\r\n",
      "Requirement already satisfied: networkx>=2.2 in /opt/conda/lib/python3.7/site-packages (from hyperopt==0.2.5) (2.6.3)\r\n",
      "Requirement already satisfied: cloudpickle in /opt/conda/lib/python3.7/site-packages (from hyperopt==0.2.5) (2.0.0)\r\n",
      "Requirement already satisfied: future in /opt/conda/lib/python3.7/site-packages (from hyperopt==0.2.5) (0.18.2)\r\n",
      "Requirement already satisfied: numpy in /opt/conda/lib/python3.7/site-packages (from hyperopt==0.2.5) (1.20.3)\r\n",
      "Requirement already satisfied: tqdm in /opt/conda/lib/python3.7/site-packages (from hyperopt==0.2.5) (4.62.3)\r\n",
      "Installing collected packages: hyperopt\r\n",
      "  Attempting uninstall: hyperopt\r\n",
      "    Found existing installation: hyperopt 0.2.7\r\n",
      "    Uninstalling hyperopt-0.2.7:\r\n",
      "      Successfully uninstalled hyperopt-0.2.7\r\n",
      "Successfully installed hyperopt-0.2.5\r\n",
      "\u001b[33mWARNING: Running pip as the 'root' user can result in broken permissions and conflicting behaviour with the system package manager. It is recommended to use a virtual environment instead: https://pip.pypa.io/warnings/venv\u001b[0m\r\n"
     ]
    }
   ],
   "source": [
    "# downgrading version of hyperopt per https://github.com/hyperopt/hyperopt-sklearn/issues/179\n",
    "!pip install hyperopt==0.2.5"
   ]
  },
  {
   "cell_type": "code",
   "execution_count": 79,
   "id": "41bed59a",
   "metadata": {
    "execution": {
     "iopub.execute_input": "2022-03-01T17:37:19.943006Z",
     "iopub.status.busy": "2022-03-01T17:37:19.942299Z",
     "iopub.status.idle": "2022-03-01T17:37:34.303841Z",
     "shell.execute_reply": "2022-03-01T17:37:34.303240Z",
     "shell.execute_reply.started": "2022-03-01T16:52:50.521687Z"
    },
    "papermill": {
     "duration": 14.548462,
     "end_time": "2022-03-01T17:37:34.304000",
     "exception": false,
     "start_time": "2022-03-01T17:37:19.755538",
     "status": "completed"
    },
    "tags": []
   },
   "outputs": [
    {
     "name": "stdout",
     "output_type": "stream",
     "text": [
      "Collecting git+https://github.com/hyperopt/hyperopt-sklearn\r\n",
      "  Cloning https://github.com/hyperopt/hyperopt-sklearn to /tmp/pip-req-build-1nxt12m3\r\n",
      "  Running command git clone --filter=blob:none -q https://github.com/hyperopt/hyperopt-sklearn /tmp/pip-req-build-1nxt12m3\r\n",
      "  Resolved https://github.com/hyperopt/hyperopt-sklearn to commit c66f8df76003b5e72cb242399eeb139f951a1883\r\n",
      "  Preparing metadata (setup.py) ... \u001b[?25l-\b \bdone\r\n",
      "\u001b[?25hRequirement already satisfied: hyperopt in /opt/conda/lib/python3.7/site-packages (from hpsklearn==0.0.3) (0.2.5)\r\n",
      "Requirement already satisfied: nose in /opt/conda/lib/python3.7/site-packages (from hpsklearn==0.0.3) (1.3.7)\r\n",
      "Requirement already satisfied: numpy in /opt/conda/lib/python3.7/site-packages (from hpsklearn==0.0.3) (1.20.3)\r\n",
      "Requirement already satisfied: scikit-learn in /opt/conda/lib/python3.7/site-packages (from hpsklearn==0.0.3) (0.23.2)\r\n",
      "Requirement already satisfied: scipy in /opt/conda/lib/python3.7/site-packages (from hpsklearn==0.0.3) (1.7.3)\r\n",
      "Requirement already satisfied: tqdm in /opt/conda/lib/python3.7/site-packages (from hyperopt->hpsklearn==0.0.3) (4.62.3)\r\n",
      "Requirement already satisfied: six in /opt/conda/lib/python3.7/site-packages (from hyperopt->hpsklearn==0.0.3) (1.16.0)\r\n",
      "Requirement already satisfied: cloudpickle in /opt/conda/lib/python3.7/site-packages (from hyperopt->hpsklearn==0.0.3) (2.0.0)\r\n",
      "Requirement already satisfied: future in /opt/conda/lib/python3.7/site-packages (from hyperopt->hpsklearn==0.0.3) (0.18.2)\r\n",
      "Requirement already satisfied: networkx>=2.2 in /opt/conda/lib/python3.7/site-packages (from hyperopt->hpsklearn==0.0.3) (2.6.3)\r\n",
      "Requirement already satisfied: joblib>=0.11 in /opt/conda/lib/python3.7/site-packages (from scikit-learn->hpsklearn==0.0.3) (1.1.0)\r\n",
      "Requirement already satisfied: threadpoolctl>=2.0.0 in /opt/conda/lib/python3.7/site-packages (from scikit-learn->hpsklearn==0.0.3) (3.0.0)\r\n",
      "Building wheels for collected packages: hpsklearn\r\n",
      "  Building wheel for hpsklearn (setup.py) ... \u001b[?25l-\b \b\\\b \bdone\r\n",
      "\u001b[?25h  Created wheel for hpsklearn: filename=hpsklearn-0.0.3-py3-none-any.whl size=27009 sha256=43b10e43fb504c8d87b9149ab7f707682400fff528dbe4d2c5914067be03f624\r\n",
      "  Stored in directory: /tmp/pip-ephem-wheel-cache-6r0yyk5n/wheels/4b/06/53/c35e360ca94aa0ab93518bf53abe5fb270c95dbe56b8e2e76b\r\n",
      "Successfully built hpsklearn\r\n",
      "Installing collected packages: hpsklearn\r\n",
      "  Attempting uninstall: hpsklearn\r\n",
      "    Found existing installation: hpsklearn 0.1.0\r\n",
      "    Uninstalling hpsklearn-0.1.0:\r\n",
      "      Successfully uninstalled hpsklearn-0.1.0\r\n",
      "Successfully installed hpsklearn-0.0.3\r\n",
      "\u001b[33mWARNING: Running pip as the 'root' user can result in broken permissions and conflicting behaviour with the system package manager. It is recommended to use a virtual environment instead: https://pip.pypa.io/warnings/venv\u001b[0m\r\n"
     ]
    }
   ],
   "source": [
    "!pip install git+https://github.com/hyperopt/hyperopt-sklearn"
   ]
  },
  {
   "cell_type": "code",
   "execution_count": 80,
   "id": "7a592145",
   "metadata": {
    "execution": {
     "iopub.execute_input": "2022-03-01T17:37:34.653681Z",
     "iopub.status.busy": "2022-03-01T17:37:34.653003Z",
     "iopub.status.idle": "2022-03-01T17:37:35.174876Z",
     "shell.execute_reply": "2022-03-01T17:37:35.174007Z",
     "shell.execute_reply.started": "2022-03-01T16:53:03.337451Z"
    },
    "papermill": {
     "duration": 0.699029,
     "end_time": "2022-03-01T17:37:35.175082",
     "exception": false,
     "start_time": "2022-03-01T17:37:34.476053",
     "status": "completed"
    },
    "tags": []
   },
   "outputs": [
    {
     "name": "stdout",
     "output_type": "stream",
     "text": [
      "Hyperopt version: 0.2.5\n"
     ]
    }
   ],
   "source": [
    "# more imports, now based on models\n",
    "import xgboost as xgb\n",
    "import hyperopt as hp\n",
    "\n",
    "print(\"Hyperopt version:\",hp.__version__)"
   ]
  },
  {
   "cell_type": "markdown",
   "id": "d7dc2b64",
   "metadata": {
    "papermill": {
     "duration": 0.172716,
     "end_time": "2022-03-01T17:37:35.521863",
     "exception": false,
     "start_time": "2022-03-01T17:37:35.349147",
     "status": "completed"
    },
    "tags": []
   },
   "source": [
    "### HPSklearn \n",
    "\n",
    "This experimental library uses *HyperOpt* and a list of predefined search spaces for each of the models to look for either just the best hyperparameters or even the model."
   ]
  },
  {
   "cell_type": "code",
   "execution_count": 81,
   "id": "9e7ad49e",
   "metadata": {
    "execution": {
     "iopub.execute_input": "2022-03-01T17:37:35.873000Z",
     "iopub.status.busy": "2022-03-01T17:37:35.872304Z",
     "iopub.status.idle": "2022-03-01T17:37:37.170102Z",
     "shell.execute_reply": "2022-03-01T17:37:37.169480Z",
     "shell.execute_reply.started": "2022-03-01T16:53:03.828984Z"
    },
    "papermill": {
     "duration": 1.475214,
     "end_time": "2022-03-01T17:37:37.170274",
     "exception": false,
     "start_time": "2022-03-01T17:37:35.695060",
     "status": "completed"
    },
    "tags": []
   },
   "outputs": [
    {
     "name": "stdout",
     "output_type": "stream",
     "text": [
      "WARN: OMP_NUM_THREADS=None =>\n",
      "... If you are using openblas if you are using openblas set OMP_NUM_THREADS=1 or risk subprocess calls hanging indefinitely\n"
     ]
    },
    {
     "data": {
      "text/html": [
       "<style type='text/css'>\n",
       ".datatable table.frame { margin-bottom: 0; }\n",
       ".datatable table.frame thead { border-bottom: none; }\n",
       ".datatable table.frame tr.coltypes td {  color: #FFFFFF;  line-height: 6px;  padding: 0 0.5em;}\n",
       ".datatable .bool    { background: #DDDD99; }\n",
       ".datatable .object  { background: #565656; }\n",
       ".datatable .int     { background: #5D9E5D; }\n",
       ".datatable .float   { background: #4040CC; }\n",
       ".datatable .str     { background: #CC4040; }\n",
       ".datatable .time    { background: #40CC40; }\n",
       ".datatable .row_index {  background: var(--jp-border-color3);  border-right: 1px solid var(--jp-border-color0);  color: var(--jp-ui-font-color3);  font-size: 9px;}\n",
       ".datatable .frame tbody td { text-align: left; }\n",
       ".datatable .frame tr.coltypes .row_index {  background: var(--jp-border-color0);}\n",
       ".datatable th:nth-child(2) { padding-left: 12px; }\n",
       ".datatable .hellipsis {  color: var(--jp-cell-editor-border-color);}\n",
       ".datatable .vellipsis {  background: var(--jp-layout-color0);  color: var(--jp-cell-editor-border-color);}\n",
       ".datatable .na {  color: var(--jp-cell-editor-border-color);  font-size: 80%;}\n",
       ".datatable .sp {  opacity: 0.25;}\n",
       ".datatable .footer { font-size: 9px; }\n",
       ".datatable .frame_dimensions {  background: var(--jp-border-color3);  border-top: 1px solid var(--jp-border-color0);  color: var(--jp-ui-font-color3);  display: inline-block;  opacity: 0.6;  padding: 1px 10px 1px 5px;}\n",
       "</style>\n"
      ],
      "text/plain": [
       "<IPython.core.display.HTML object>"
      ]
     },
     "metadata": {},
     "output_type": "display_data"
    }
   ],
   "source": [
    "from hpsklearn import HyperoptEstimator, extra_trees, xgboost_classification\n",
    "\n",
    "extra_trees_estim = HyperoptEstimator(classifier=extra_trees('extra-trees'),\n",
    "                                      algo=hp.tpe.suggest,\n",
    "                                      max_evals=100,\n",
    "                                      trial_timeout=360)"
   ]
  },
  {
   "cell_type": "code",
   "execution_count": 82,
   "id": "fdae69aa",
   "metadata": {
    "execution": {
     "iopub.execute_input": "2022-03-01T17:37:37.529175Z",
     "iopub.status.busy": "2022-03-01T17:37:37.528125Z",
     "iopub.status.idle": "2022-03-01T17:44:49.990482Z",
     "shell.execute_reply": "2022-03-01T17:44:49.991122Z",
     "shell.execute_reply.started": "2022-03-01T16:53:05.114077Z"
    },
    "papermill": {
     "duration": 432.646264,
     "end_time": "2022-03-01T17:44:49.991327",
     "exception": false,
     "start_time": "2022-03-01T17:37:37.345063",
     "status": "completed"
    },
    "tags": []
   },
   "outputs": [
    {
     "name": "stdout",
     "output_type": "stream",
     "text": [
      "100%|██████████| 1/1 [00:19<00:00, 19.10s/trial, best loss: 0.21099887766554437]\n",
      "100%|██████████| 2/2 [00:00<00:00,  5.37trial/s, best loss: 0.18181818181818177]\n",
      "100%|██████████| 3/3 [00:13<00:00, 13.05s/trial, best loss: 0.18181818181818177]\n",
      "100%|██████████| 4/4 [00:08<00:00,  8.07s/trial, best loss: 0.18181818181818177]\n",
      "100%|██████████| 5/5 [00:00<00:00,  5.43trial/s, best loss: 0.18181818181818177]\n",
      "100%|██████████| 6/6 [00:04<00:00,  4.31s/trial, best loss: 0.18181818181818177]\n",
      "100%|██████████| 7/7 [00:00<00:00,  2.96trial/s, best loss: 0.18181818181818177]\n",
      "100%|██████████| 8/8 [00:01<00:00,  1.66s/trial, best loss: 0.18181818181818177]\n",
      "100%|██████████| 9/9 [00:01<00:00,  1.37s/trial, best loss: 0.18181818181818177]\n",
      "100%|██████████| 10/10 [00:00<00:00,  5.78trial/s, best loss: 0.18181818181818177]\n",
      "100%|██████████| 11/11 [00:12<00:00, 12.22s/trial, best loss: 0.18181818181818177]\n",
      "100%|██████████| 12/12 [00:00<00:00,  3.38trial/s, best loss: 0.17845117845117842]\n",
      "100%|██████████| 13/13 [00:03<00:00,  3.24s/trial, best loss: 0.17732884399551063]\n",
      "100%|██████████| 14/14 [00:05<00:00,  5.50s/trial, best loss: 0.17732884399551063]\n",
      "100%|██████████| 15/15 [00:00<00:00,  1.26trial/s, best loss: 0.17732884399551063]\n",
      "100%|██████████| 16/16 [00:00<00:00,  1.84trial/s, best loss: 0.17732884399551063]\n",
      "100%|██████████| 17/17 [00:01<00:00,  1.05s/trial, best loss: 0.17732884399551063]\n",
      "100%|██████████| 18/18 [00:00<00:00,  1.36trial/s, best loss: 0.17732884399551063]\n",
      "100%|██████████| 19/19 [00:01<00:00,  1.76s/trial, best loss: 0.17732884399551063]\n",
      "100%|██████████| 20/20 [00:01<00:00,  1.15s/trial, best loss: 0.17732884399551063]\n",
      "100%|██████████| 21/21 [00:02<00:00,  2.94s/trial, best loss: 0.17732884399551063]\n",
      "100%|██████████| 22/22 [00:00<00:00,  4.15trial/s, best loss: 0.17732884399551063]\n",
      "100%|██████████| 23/23 [00:02<00:00,  2.22s/trial, best loss: 0.17732884399551063]\n",
      "100%|██████████| 24/24 [00:02<00:00,  2.01s/trial, best loss: 0.17732884399551063]\n",
      "100%|██████████| 25/25 [00:00<00:00,  4.03trial/s, best loss: 0.17732884399551063]\n",
      "100%|██████████| 26/26 [00:22<00:00, 22.28s/trial, best loss: 0.17732884399551063]\n",
      "100%|██████████| 27/27 [00:01<00:00,  1.77s/trial, best loss: 0.17732884399551063]\n",
      "100%|██████████| 28/28 [00:06<00:00,  6.34s/trial, best loss: 0.17620650953984285]\n",
      "100%|██████████| 29/29 [00:23<00:00, 23.29s/trial, best loss: 0.17620650953984285]\n",
      "100%|██████████| 30/30 [00:08<00:00,  8.29s/trial, best loss: 0.17620650953984285]\n",
      "100%|██████████| 31/31 [00:04<00:00,  4.75s/trial, best loss: 0.17620650953984285]\n",
      "100%|██████████| 32/32 [00:17<00:00, 17.82s/trial, best loss: 0.17620650953984285]\n",
      "100%|██████████| 33/33 [00:09<00:00,  9.65s/trial, best loss: 0.1717171717171717]\n",
      "100%|██████████| 34/34 [00:11<00:00, 11.38s/trial, best loss: 0.1717171717171717]\n",
      "100%|██████████| 35/35 [00:17<00:00, 17.58s/trial, best loss: 0.1717171717171717]\n",
      "100%|██████████| 36/36 [00:06<00:00,  6.27s/trial, best loss: 0.1717171717171717]\n",
      "100%|██████████| 37/37 [00:15<00:00, 15.62s/trial, best loss: 0.1717171717171717]\n",
      "100%|██████████| 38/38 [00:04<00:00,  4.12s/trial, best loss: 0.1717171717171717]\n",
      "100%|██████████| 39/39 [00:02<00:00,  2.10s/trial, best loss: 0.1717171717171717]\n",
      "100%|██████████| 40/40 [00:10<00:00, 10.74s/trial, best loss: 0.1717171717171717]\n",
      "100%|██████████| 41/41 [00:05<00:00,  5.82s/trial, best loss: 0.1717171717171717]\n",
      "100%|██████████| 42/42 [00:10<00:00, 10.69s/trial, best loss: 0.1717171717171717]\n",
      "100%|██████████| 43/43 [00:21<00:00, 21.04s/trial, best loss: 0.1717171717171717]\n",
      "100%|██████████| 44/44 [00:10<00:00, 10.81s/trial, best loss: 0.1717171717171717]\n",
      "100%|██████████| 45/45 [00:04<00:00,  4.59s/trial, best loss: 0.1717171717171717]\n",
      "100%|██████████| 46/46 [00:03<00:00,  3.05s/trial, best loss: 0.1717171717171717]\n",
      "100%|██████████| 47/47 [00:00<00:00,  1.00trial/s, best loss: 0.1717171717171717]\n",
      "100%|██████████| 48/48 [00:01<00:00,  1.60s/trial, best loss: 0.1717171717171717]\n",
      "100%|██████████| 49/49 [00:07<00:00,  7.44s/trial, best loss: 0.1717171717171717]\n",
      "100%|██████████| 50/50 [00:07<00:00,  7.87s/trial, best loss: 0.1717171717171717]\n",
      "100%|██████████| 51/51 [00:04<00:00,  4.35s/trial, best loss: 0.1717171717171717]\n",
      "100%|██████████| 52/52 [00:00<00:00,  1.50trial/s, best loss: 0.1717171717171717]\n",
      "100%|██████████| 53/53 [00:19<00:00, 19.65s/trial, best loss: 0.1717171717171717]\n",
      "100%|██████████| 54/54 [00:03<00:00,  3.67s/trial, best loss: 0.1717171717171717]\n",
      "100%|██████████| 55/55 [00:01<00:00,  1.13s/trial, best loss: 0.1717171717171717]\n",
      "100%|██████████| 56/56 [00:09<00:00,  9.76s/trial, best loss: 0.1717171717171717]\n",
      "100%|██████████| 57/57 [00:03<00:00,  3.38s/trial, best loss: 0.1717171717171717]\n",
      "100%|██████████| 58/58 [00:01<00:00,  1.26s/trial, best loss: 0.1717171717171717]\n",
      "100%|██████████| 59/59 [00:00<00:00,  3.28trial/s, best loss: 0.1717171717171717]\n",
      "100%|██████████| 60/60 [00:07<00:00,  7.10s/trial, best loss: 0.1717171717171717]\n",
      "100%|██████████| 61/61 [00:01<00:00,  1.99s/trial, best loss: 0.1717171717171717]\n",
      "100%|██████████| 62/62 [00:00<00:00,  4.15trial/s, best loss: 0.1717171717171717]\n",
      "100%|██████████| 63/63 [00:17<00:00, 17.89s/trial, best loss: 0.1717171717171717]\n",
      "100%|██████████| 64/64 [00:00<00:00,  1.72trial/s, best loss: 0.1717171717171717]\n",
      "100%|██████████| 65/65 [00:05<00:00,  5.64s/trial, best loss: 0.1717171717171717]\n",
      "100%|██████████| 66/66 [00:03<00:00,  3.26s/trial, best loss: 0.1717171717171717]\n",
      "100%|██████████| 67/67 [00:01<00:00,  1.73s/trial, best loss: 0.1717171717171717]\n",
      "100%|██████████| 68/68 [00:01<00:00,  1.22s/trial, best loss: 0.1717171717171717]\n",
      "100%|██████████| 69/69 [00:00<00:00,  1.86trial/s, best loss: 0.1717171717171717]\n",
      "100%|██████████| 70/70 [00:01<00:00,  1.58s/trial, best loss: 0.1717171717171717]\n",
      "100%|██████████| 71/71 [00:00<00:00,  1.02trial/s, best loss: 0.1717171717171717]\n",
      "100%|██████████| 72/72 [00:03<00:00,  3.32s/trial, best loss: 0.1717171717171717]\n",
      "100%|██████████| 73/73 [00:01<00:00,  1.78s/trial, best loss: 0.1717171717171717]\n",
      "100%|██████████| 74/74 [00:02<00:00,  2.75s/trial, best loss: 0.1717171717171717]\n",
      "100%|██████████| 75/75 [00:04<00:00,  4.66s/trial, best loss: 0.1717171717171717]\n",
      "100%|██████████| 76/76 [00:01<00:00,  1.53s/trial, best loss: 0.1717171717171717]\n",
      "100%|██████████| 77/77 [00:00<00:00,  4.12trial/s, best loss: 0.1717171717171717]\n",
      "100%|██████████| 78/78 [00:00<00:00,  1.85trial/s, best loss: 0.1717171717171717]\n",
      "100%|██████████| 79/79 [00:00<00:00,  1.65trial/s, best loss: 0.1717171717171717]\n",
      "100%|██████████| 80/80 [00:00<00:00,  2.44trial/s, best loss: 0.1717171717171717]\n",
      "100%|██████████| 81/81 [00:00<00:00,  2.70trial/s, best loss: 0.1717171717171717]\n",
      "100%|██████████| 82/82 [00:00<00:00,  1.98trial/s, best loss: 0.1717171717171717]\n",
      "100%|██████████| 83/83 [00:00<00:00,  3.23trial/s, best loss: 0.1717171717171717]\n",
      "100%|██████████| 84/84 [00:00<00:00,  1.59trial/s, best loss: 0.1717171717171717]\n",
      "100%|██████████| 85/85 [00:01<00:00,  1.07s/trial, best loss: 0.1717171717171717]\n",
      "100%|██████████| 86/86 [00:00<00:00,  3.29trial/s, best loss: 0.1717171717171717]\n",
      "100%|██████████| 87/87 [00:00<00:00,  3.30trial/s, best loss: 0.1717171717171717]\n",
      "100%|██████████| 88/88 [00:00<00:00,  2.84trial/s, best loss: 0.1717171717171717]\n",
      "100%|██████████| 89/89 [00:00<00:00,  3.84trial/s, best loss: 0.1717171717171717]\n",
      "100%|██████████| 90/90 [00:00<00:00,  2.66trial/s, best loss: 0.1717171717171717]\n",
      "100%|██████████| 91/91 [00:00<00:00,  4.43trial/s, best loss: 0.17059483726150393]\n",
      "100%|██████████| 92/92 [00:00<00:00,  4.68trial/s, best loss: 0.17059483726150393]\n",
      "100%|██████████| 93/93 [00:00<00:00,  4.41trial/s, best loss: 0.17059483726150393]\n",
      "100%|██████████| 94/94 [00:00<00:00,  3.79trial/s, best loss: 0.17059483726150393]\n",
      "100%|██████████| 95/95 [00:00<00:00,  3.10trial/s, best loss: 0.17059483726150393]\n",
      "100%|██████████| 96/96 [00:00<00:00,  2.49trial/s, best loss: 0.17059483726150393]\n",
      "100%|██████████| 97/97 [00:00<00:00,  2.93trial/s, best loss: 0.17059483726150393]\n",
      "100%|██████████| 98/98 [00:00<00:00,  4.74trial/s, best loss: 0.17059483726150393]\n",
      "100%|██████████| 99/99 [00:00<00:00,  1.47trial/s, best loss: 0.17059483726150393]\n",
      "100%|██████████| 100/100 [00:00<00:00,  2.16trial/s, best loss: 0.17059483726150393]\n",
      "ExtraTreesClassifier(bootstrap=True, max_features=0.43487647864479484,\n",
      "                     min_samples_leaf=3, n_estimators=11, n_jobs=1,\n",
      "                     random_state=4, verbose=False)\n"
     ]
    }
   ],
   "source": [
    "# fit the extra trees estimator\n",
    "extra_trees_estim.fit(X_train.to_numpy(), y_train.to_numpy(), n_folds=5)\n",
    "\n",
    "# print best model\n",
    "hpskl_extra_trees_best_model = extra_trees_estim.best_model()['learner']\n",
    "print(hpskl_extra_trees_best_model)"
   ]
  },
  {
   "cell_type": "code",
   "execution_count": 83,
   "id": "4500b132",
   "metadata": {
    "execution": {
     "iopub.execute_input": "2022-03-01T17:44:50.574416Z",
     "iopub.status.busy": "2022-03-01T17:44:50.573347Z",
     "iopub.status.idle": "2022-03-01T17:44:53.114790Z",
     "shell.execute_reply": "2022-03-01T17:44:53.115354Z",
     "shell.execute_reply.started": "2022-03-01T16:56:50.318465Z"
    },
    "papermill": {
     "duration": 2.83896,
     "end_time": "2022-03-01T17:44:53.115534",
     "exception": false,
     "start_time": "2022-03-01T17:44:50.276574",
     "status": "completed"
    },
    "tags": []
   },
   "outputs": [
    {
     "name": "stdout",
     "output_type": "stream",
     "text": [
      "Accuracy for HPSKL Extra trees: mean=0.829, 1se=0.796\n"
     ]
    },
    {
     "data": {
      "text/plain": [
       "array([0.83240223, 0.8258427 , 0.86516854, 0.76966292, 0.85393258])"
      ]
     },
     "execution_count": 83,
     "metadata": {},
     "output_type": "execute_result"
    }
   ],
   "source": [
    "eval_model(model=hpskl_extra_trees_best_model,name='HPSKL Extra trees')"
   ]
  },
  {
   "cell_type": "markdown",
   "id": "b1e87efc",
   "metadata": {
    "papermill": {
     "duration": 0.299324,
     "end_time": "2022-03-01T17:44:53.697789",
     "exception": false,
     "start_time": "2022-03-01T17:44:53.398465",
     "status": "completed"
    },
    "tags": []
   },
   "source": [
    "### XGBoost"
   ]
  },
  {
   "cell_type": "code",
   "execution_count": 84,
   "id": "e58ab502",
   "metadata": {
    "execution": {
     "iopub.execute_input": "2022-03-01T17:44:54.313967Z",
     "iopub.status.busy": "2022-03-01T17:44:54.313302Z",
     "iopub.status.idle": "2022-03-01T17:54:03.408627Z",
     "shell.execute_reply": "2022-03-01T17:54:03.409417Z",
     "shell.execute_reply.started": "2022-03-01T16:56:50.559318Z"
    },
    "papermill": {
     "duration": 549.418702,
     "end_time": "2022-03-01T17:54:03.409671",
     "exception": false,
     "start_time": "2022-03-01T17:44:53.990969",
     "status": "completed"
    },
    "tags": []
   },
   "outputs": [
    {
     "name": "stdout",
     "output_type": "stream",
     "text": [
      "  0%|          | 0/1 [00:00<?, ?trial/s, best loss=?]"
     ]
    },
    {
     "name": "stderr",
     "output_type": "stream",
     "text": [
      "/opt/conda/lib/python3.7/site-packages/xgboost/sklearn.py:1224: UserWarning: The use of label encoder in XGBClassifier is deprecated and will be removed in a future release. To remove this warning, do the following: 1) Pass option use_label_encoder=False when constructing XGBClassifier object; and 2) Encode your labels (y) as integers starting with 0, i.e. 0, 1, 2, ..., [num_class - 1].\n",
      "  warnings.warn(label_encoder_deprecation_msg, UserWarning)\n",
      "\n"
     ]
    },
    {
     "name": "stdout",
     "output_type": "stream",
     "text": [
      "[17:44:54] WARNING: ../src/learner.cc:1115: Starting in XGBoost 1.3.0, the default evaluation metric used with the objective 'binary:logistic' was changed from 'error' to 'logloss'. Explicitly set eval_metric if you'd like to restore the old behavior.\n",
      "  0%|          | 0/1 [00:00<?, ?trial/s, best loss=?]"
     ]
    },
    {
     "name": "stderr",
     "output_type": "stream",
     "text": [
      "/opt/conda/lib/python3.7/site-packages/xgboost/sklearn.py:1224: UserWarning: The use of label encoder in XGBClassifier is deprecated and will be removed in a future release. To remove this warning, do the following: 1) Pass option use_label_encoder=False when constructing XGBClassifier object; and 2) Encode your labels (y) as integers starting with 0, i.e. 0, 1, 2, ..., [num_class - 1].\n",
      "  warnings.warn(label_encoder_deprecation_msg, UserWarning)\n",
      "\n"
     ]
    },
    {
     "name": "stdout",
     "output_type": "stream",
     "text": [
      "[17:44:59] WARNING: ../src/learner.cc:1115: Starting in XGBoost 1.3.0, the default evaluation metric used with the objective 'binary:logistic' was changed from 'error' to 'logloss'. Explicitly set eval_metric if you'd like to restore the old behavior.\n",
      "  0%|          | 0/1 [00:05<?, ?trial/s, best loss=?]"
     ]
    },
    {
     "name": "stderr",
     "output_type": "stream",
     "text": [
      "/opt/conda/lib/python3.7/site-packages/xgboost/sklearn.py:1224: UserWarning: The use of label encoder in XGBClassifier is deprecated and will be removed in a future release. To remove this warning, do the following: 1) Pass option use_label_encoder=False when constructing XGBClassifier object; and 2) Encode your labels (y) as integers starting with 0, i.e. 0, 1, 2, ..., [num_class - 1].\n",
      "  warnings.warn(label_encoder_deprecation_msg, UserWarning)\n",
      "\n"
     ]
    },
    {
     "name": "stdout",
     "output_type": "stream",
     "text": [
      "[17:45:05] WARNING: ../src/learner.cc:1115: Starting in XGBoost 1.3.0, the default evaluation metric used with the objective 'binary:logistic' was changed from 'error' to 'logloss'. Explicitly set eval_metric if you'd like to restore the old behavior.\n",
      "  0%|          | 0/1 [00:10<?, ?trial/s, best loss=?]"
     ]
    },
    {
     "name": "stderr",
     "output_type": "stream",
     "text": [
      "/opt/conda/lib/python3.7/site-packages/xgboost/sklearn.py:1224: UserWarning: The use of label encoder in XGBClassifier is deprecated and will be removed in a future release. To remove this warning, do the following: 1) Pass option use_label_encoder=False when constructing XGBClassifier object; and 2) Encode your labels (y) as integers starting with 0, i.e. 0, 1, 2, ..., [num_class - 1].\n",
      "  warnings.warn(label_encoder_deprecation_msg, UserWarning)\n",
      "\n"
     ]
    },
    {
     "name": "stdout",
     "output_type": "stream",
     "text": [
      "[17:45:10] WARNING: ../src/learner.cc:1115: Starting in XGBoost 1.3.0, the default evaluation metric used with the objective 'binary:logistic' was changed from 'error' to 'logloss'. Explicitly set eval_metric if you'd like to restore the old behavior.\n",
      "  0%|          | 0/1 [00:16<?, ?trial/s, best loss=?]"
     ]
    },
    {
     "name": "stderr",
     "output_type": "stream",
     "text": [
      "/opt/conda/lib/python3.7/site-packages/xgboost/sklearn.py:1224: UserWarning: The use of label encoder in XGBClassifier is deprecated and will be removed in a future release. To remove this warning, do the following: 1) Pass option use_label_encoder=False when constructing XGBClassifier object; and 2) Encode your labels (y) as integers starting with 0, i.e. 0, 1, 2, ..., [num_class - 1].\n",
      "  warnings.warn(label_encoder_deprecation_msg, UserWarning)\n",
      "\n"
     ]
    },
    {
     "name": "stdout",
     "output_type": "stream",
     "text": [
      "[17:45:15] WARNING: ../src/learner.cc:1115: Starting in XGBoost 1.3.0, the default evaluation metric used with the objective 'binary:logistic' was changed from 'error' to 'logloss'. Explicitly set eval_metric if you'd like to restore the old behavior.\n",
      "100%|██████████| 1/1 [00:27<00:00, 27.19s/trial, best loss: 0.23120089786756448]\n",
      " 50%|█████     | 1/2 [00:00<?, ?trial/s, best loss=?]"
     ]
    },
    {
     "name": "stderr",
     "output_type": "stream",
     "text": [
      "/opt/conda/lib/python3.7/site-packages/xgboost/sklearn.py:1224: UserWarning: The use of label encoder in XGBClassifier is deprecated and will be removed in a future release. To remove this warning, do the following: 1) Pass option use_label_encoder=False when constructing XGBClassifier object; and 2) Encode your labels (y) as integers starting with 0, i.e. 0, 1, 2, ..., [num_class - 1].\n",
      "  warnings.warn(label_encoder_deprecation_msg, UserWarning)\n",
      "\n"
     ]
    },
    {
     "name": "stdout",
     "output_type": "stream",
     "text": [
      "[17:45:21] WARNING: ../src/learner.cc:1115: Starting in XGBoost 1.3.0, the default evaluation metric used with the objective 'binary:logistic' was changed from 'error' to 'logloss'. Explicitly set eval_metric if you'd like to restore the old behavior.\n",
      "[17:45:34] WARNING: ../src/learner.cc:1115: Starting in XGBoost 1.3.0, the default evaluation metric used with the objective 'binary:logistic' was changed from 'error' to 'logloss'. Explicitly set eval_metric if you'd like to restore the old behavior.\n",
      "[17:45:46] WARNING: ../src/learner.cc:1115: Starting in XGBoost 1.3.0, the default evaluation metric used with the objective 'binary:logistic' was changed from 'error' to 'logloss'. Explicitly set eval_metric if you'd like to restore the old behavior.\n",
      "[17:45:59] WARNING: ../src/learner.cc:1115: Starting in XGBoost 1.3.0, the default evaluation metric used with the objective 'binary:logistic' was changed from 'error' to 'logloss'. Explicitly set eval_metric if you'd like to restore the old behavior.\n",
      "[17:46:12] WARNING: ../src/learner.cc:1115: Starting in XGBoost 1.3.0, the default evaluation metric used with the objective 'binary:logistic' was changed from 'error' to 'logloss'. Explicitly set eval_metric if you'd like to restore the old behavior.\n",
      "100%|██████████| 2/2 [01:04<00:00, 64.19s/trial, best loss: 0.164983164983165]\n",
      " 67%|██████▋   | 2/3 [00:00<?, ?trial/s, best loss=?]"
     ]
    },
    {
     "name": "stderr",
     "output_type": "stream",
     "text": [
      "/opt/conda/lib/python3.7/site-packages/xgboost/sklearn.py:1224: UserWarning: The use of label encoder in XGBClassifier is deprecated and will be removed in a future release. To remove this warning, do the following: 1) Pass option use_label_encoder=False when constructing XGBClassifier object; and 2) Encode your labels (y) as integers starting with 0, i.e. 0, 1, 2, ..., [num_class - 1].\n",
      "  warnings.warn(label_encoder_deprecation_msg, UserWarning)\n",
      "\n"
     ]
    },
    {
     "name": "stdout",
     "output_type": "stream",
     "text": [
      "[17:46:25] WARNING: ../src/learner.cc:1115: Starting in XGBoost 1.3.0, the default evaluation metric used with the objective 'binary:logistic' was changed from 'error' to 'logloss'. Explicitly set eval_metric if you'd like to restore the old behavior.\n",
      " 67%|██████▋   | 2/3 [00:00<?, ?trial/s, best loss=?]"
     ]
    },
    {
     "name": "stderr",
     "output_type": "stream",
     "text": [
      "/opt/conda/lib/python3.7/site-packages/xgboost/sklearn.py:1224: UserWarning: The use of label encoder in XGBClassifier is deprecated and will be removed in a future release. To remove this warning, do the following: 1) Pass option use_label_encoder=False when constructing XGBClassifier object; and 2) Encode your labels (y) as integers starting with 0, i.e. 0, 1, 2, ..., [num_class - 1].\n",
      "  warnings.warn(label_encoder_deprecation_msg, UserWarning)\n",
      "\n"
     ]
    },
    {
     "name": "stdout",
     "output_type": "stream",
     "text": [
      "[17:46:38] WARNING: ../src/learner.cc:1115: Starting in XGBoost 1.3.0, the default evaluation metric used with the objective 'binary:logistic' was changed from 'error' to 'logloss'. Explicitly set eval_metric if you'd like to restore the old behavior.\n",
      " 67%|██████▋   | 2/3 [00:12<?, ?trial/s, best loss=?]"
     ]
    },
    {
     "name": "stderr",
     "output_type": "stream",
     "text": [
      "/opt/conda/lib/python3.7/site-packages/xgboost/sklearn.py:1224: UserWarning: The use of label encoder in XGBClassifier is deprecated and will be removed in a future release. To remove this warning, do the following: 1) Pass option use_label_encoder=False when constructing XGBClassifier object; and 2) Encode your labels (y) as integers starting with 0, i.e. 0, 1, 2, ..., [num_class - 1].\n",
      "  warnings.warn(label_encoder_deprecation_msg, UserWarning)\n",
      "\n"
     ]
    },
    {
     "name": "stdout",
     "output_type": "stream",
     "text": [
      "[17:46:50] WARNING: ../src/learner.cc:1115: Starting in XGBoost 1.3.0, the default evaluation metric used with the objective 'binary:logistic' was changed from 'error' to 'logloss'. Explicitly set eval_metric if you'd like to restore the old behavior.\n",
      " 67%|██████▋   | 2/3 [00:24<?, ?trial/s, best loss=?]"
     ]
    },
    {
     "name": "stderr",
     "output_type": "stream",
     "text": [
      "/opt/conda/lib/python3.7/site-packages/xgboost/sklearn.py:1224: UserWarning: The use of label encoder in XGBClassifier is deprecated and will be removed in a future release. To remove this warning, do the following: 1) Pass option use_label_encoder=False when constructing XGBClassifier object; and 2) Encode your labels (y) as integers starting with 0, i.e. 0, 1, 2, ..., [num_class - 1].\n",
      "  warnings.warn(label_encoder_deprecation_msg, UserWarning)\n",
      "\n"
     ]
    },
    {
     "name": "stdout",
     "output_type": "stream",
     "text": [
      "[17:47:03] WARNING: ../src/learner.cc:1115: Starting in XGBoost 1.3.0, the default evaluation metric used with the objective 'binary:logistic' was changed from 'error' to 'logloss'. Explicitly set eval_metric if you'd like to restore the old behavior.\n",
      " 67%|██████▋   | 2/3 [00:37<?, ?trial/s, best loss=?]"
     ]
    },
    {
     "name": "stderr",
     "output_type": "stream",
     "text": [
      "/opt/conda/lib/python3.7/site-packages/xgboost/sklearn.py:1224: UserWarning: The use of label encoder in XGBClassifier is deprecated and will be removed in a future release. To remove this warning, do the following: 1) Pass option use_label_encoder=False when constructing XGBClassifier object; and 2) Encode your labels (y) as integers starting with 0, i.e. 0, 1, 2, ..., [num_class - 1].\n",
      "  warnings.warn(label_encoder_deprecation_msg, UserWarning)\n",
      "\n"
     ]
    },
    {
     "name": "stdout",
     "output_type": "stream",
     "text": [
      "[17:47:15] WARNING: ../src/learner.cc:1115: Starting in XGBoost 1.3.0, the default evaluation metric used with the objective 'binary:logistic' was changed from 'error' to 'logloss'. Explicitly set eval_metric if you'd like to restore the old behavior.\n",
      "100%|██████████| 3/3 [01:03<00:00, 63.14s/trial, best loss: 0.164983164983165]\n",
      " 75%|███████▌  | 3/4 [00:00<?, ?trial/s, best loss=?]"
     ]
    },
    {
     "name": "stderr",
     "output_type": "stream",
     "text": [
      "/opt/conda/lib/python3.7/site-packages/xgboost/sklearn.py:1224: UserWarning: The use of label encoder in XGBClassifier is deprecated and will be removed in a future release. To remove this warning, do the following: 1) Pass option use_label_encoder=False when constructing XGBClassifier object; and 2) Encode your labels (y) as integers starting with 0, i.e. 0, 1, 2, ..., [num_class - 1].\n",
      "  warnings.warn(label_encoder_deprecation_msg, UserWarning)\n",
      "\n"
     ]
    },
    {
     "name": "stdout",
     "output_type": "stream",
     "text": [
      "[17:47:29] WARNING: ../src/learner.cc:1115: Starting in XGBoost 1.3.0, the default evaluation metric used with the objective 'binary:logistic' was changed from 'error' to 'logloss'. Explicitly set eval_metric if you'd like to restore the old behavior.\n",
      " 75%|███████▌  | 3/4 [00:00<?, ?trial/s, best loss=?]"
     ]
    },
    {
     "name": "stderr",
     "output_type": "stream",
     "text": [
      "/opt/conda/lib/python3.7/site-packages/xgboost/sklearn.py:1224: UserWarning: The use of label encoder in XGBClassifier is deprecated and will be removed in a future release. To remove this warning, do the following: 1) Pass option use_label_encoder=False when constructing XGBClassifier object; and 2) Encode your labels (y) as integers starting with 0, i.e. 0, 1, 2, ..., [num_class - 1].\n",
      "  warnings.warn(label_encoder_deprecation_msg, UserWarning)\n",
      "\n"
     ]
    },
    {
     "name": "stdout",
     "output_type": "stream",
     "text": [
      "[17:47:36] WARNING: ../src/learner.cc:1115: Starting in XGBoost 1.3.0, the default evaluation metric used with the objective 'binary:logistic' was changed from 'error' to 'logloss'. Explicitly set eval_metric if you'd like to restore the old behavior.\n",
      " 75%|███████▌  | 3/4 [00:07<?, ?trial/s, best loss=?]"
     ]
    },
    {
     "name": "stderr",
     "output_type": "stream",
     "text": [
      "/opt/conda/lib/python3.7/site-packages/xgboost/sklearn.py:1224: UserWarning: The use of label encoder in XGBClassifier is deprecated and will be removed in a future release. To remove this warning, do the following: 1) Pass option use_label_encoder=False when constructing XGBClassifier object; and 2) Encode your labels (y) as integers starting with 0, i.e. 0, 1, 2, ..., [num_class - 1].\n",
      "  warnings.warn(label_encoder_deprecation_msg, UserWarning)\n",
      "\n"
     ]
    },
    {
     "name": "stdout",
     "output_type": "stream",
     "text": [
      "[17:47:43] WARNING: ../src/learner.cc:1115: Starting in XGBoost 1.3.0, the default evaluation metric used with the objective 'binary:logistic' was changed from 'error' to 'logloss'. Explicitly set eval_metric if you'd like to restore the old behavior.\n",
      " 75%|███████▌  | 3/4 [00:15<?, ?trial/s, best loss=?]"
     ]
    },
    {
     "name": "stderr",
     "output_type": "stream",
     "text": [
      "/opt/conda/lib/python3.7/site-packages/xgboost/sklearn.py:1224: UserWarning: The use of label encoder in XGBClassifier is deprecated and will be removed in a future release. To remove this warning, do the following: 1) Pass option use_label_encoder=False when constructing XGBClassifier object; and 2) Encode your labels (y) as integers starting with 0, i.e. 0, 1, 2, ..., [num_class - 1].\n",
      "  warnings.warn(label_encoder_deprecation_msg, UserWarning)\n",
      "\n"
     ]
    },
    {
     "name": "stdout",
     "output_type": "stream",
     "text": [
      "[17:47:51] WARNING: ../src/learner.cc:1115: Starting in XGBoost 1.3.0, the default evaluation metric used with the objective 'binary:logistic' was changed from 'error' to 'logloss'. Explicitly set eval_metric if you'd like to restore the old behavior.\n",
      " 75%|███████▌  | 3/4 [00:22<?, ?trial/s, best loss=?]"
     ]
    },
    {
     "name": "stderr",
     "output_type": "stream",
     "text": [
      "/opt/conda/lib/python3.7/site-packages/xgboost/sklearn.py:1224: UserWarning: The use of label encoder in XGBClassifier is deprecated and will be removed in a future release. To remove this warning, do the following: 1) Pass option use_label_encoder=False when constructing XGBClassifier object; and 2) Encode your labels (y) as integers starting with 0, i.e. 0, 1, 2, ..., [num_class - 1].\n",
      "  warnings.warn(label_encoder_deprecation_msg, UserWarning)\n",
      "\n"
     ]
    },
    {
     "name": "stdout",
     "output_type": "stream",
     "text": [
      "[17:47:58] WARNING: ../src/learner.cc:1115: Starting in XGBoost 1.3.0, the default evaluation metric used with the objective 'binary:logistic' was changed from 'error' to 'logloss'. Explicitly set eval_metric if you'd like to restore the old behavior.\n",
      "100%|██████████| 4/4 [00:37<00:00, 37.70s/trial, best loss: 0.164983164983165]\n",
      " 80%|████████  | 4/5 [00:00<?, ?trial/s, best loss=?]"
     ]
    },
    {
     "name": "stderr",
     "output_type": "stream",
     "text": [
      "/opt/conda/lib/python3.7/site-packages/xgboost/sklearn.py:1224: UserWarning: The use of label encoder in XGBClassifier is deprecated and will be removed in a future release. To remove this warning, do the following: 1) Pass option use_label_encoder=False when constructing XGBClassifier object; and 2) Encode your labels (y) as integers starting with 0, i.e. 0, 1, 2, ..., [num_class - 1].\n",
      "  warnings.warn(label_encoder_deprecation_msg, UserWarning)\n",
      "\n"
     ]
    },
    {
     "name": "stdout",
     "output_type": "stream",
     "text": [
      "[17:48:06] WARNING: ../src/learner.cc:1115: Starting in XGBoost 1.3.0, the default evaluation metric used with the objective 'binary:logistic' was changed from 'error' to 'logloss'. Explicitly set eval_metric if you'd like to restore the old behavior.\n",
      " 80%|████████  | 4/5 [00:00<?, ?trial/s, best loss=?]"
     ]
    },
    {
     "name": "stderr",
     "output_type": "stream",
     "text": [
      "/opt/conda/lib/python3.7/site-packages/xgboost/sklearn.py:1224: UserWarning: The use of label encoder in XGBClassifier is deprecated and will be removed in a future release. To remove this warning, do the following: 1) Pass option use_label_encoder=False when constructing XGBClassifier object; and 2) Encode your labels (y) as integers starting with 0, i.e. 0, 1, 2, ..., [num_class - 1].\n",
      "  warnings.warn(label_encoder_deprecation_msg, UserWarning)\n",
      "\n"
     ]
    },
    {
     "name": "stdout",
     "output_type": "stream",
     "text": [
      "[17:48:13] WARNING: ../src/learner.cc:1115: Starting in XGBoost 1.3.0, the default evaluation metric used with the objective 'binary:logistic' was changed from 'error' to 'logloss'. Explicitly set eval_metric if you'd like to restore the old behavior.\n",
      " 80%|████████  | 4/5 [00:06<?, ?trial/s, best loss=?]"
     ]
    },
    {
     "name": "stderr",
     "output_type": "stream",
     "text": [
      "/opt/conda/lib/python3.7/site-packages/xgboost/sklearn.py:1224: UserWarning: The use of label encoder in XGBClassifier is deprecated and will be removed in a future release. To remove this warning, do the following: 1) Pass option use_label_encoder=False when constructing XGBClassifier object; and 2) Encode your labels (y) as integers starting with 0, i.e. 0, 1, 2, ..., [num_class - 1].\n",
      "  warnings.warn(label_encoder_deprecation_msg, UserWarning)\n",
      "\n"
     ]
    },
    {
     "name": "stdout",
     "output_type": "stream",
     "text": [
      "[17:48:19] WARNING: ../src/learner.cc:1115: Starting in XGBoost 1.3.0, the default evaluation metric used with the objective 'binary:logistic' was changed from 'error' to 'logloss'. Explicitly set eval_metric if you'd like to restore the old behavior.\n",
      " 80%|████████  | 4/5 [00:13<?, ?trial/s, best loss=?]"
     ]
    },
    {
     "name": "stderr",
     "output_type": "stream",
     "text": [
      "/opt/conda/lib/python3.7/site-packages/xgboost/sklearn.py:1224: UserWarning: The use of label encoder in XGBClassifier is deprecated and will be removed in a future release. To remove this warning, do the following: 1) Pass option use_label_encoder=False when constructing XGBClassifier object; and 2) Encode your labels (y) as integers starting with 0, i.e. 0, 1, 2, ..., [num_class - 1].\n",
      "  warnings.warn(label_encoder_deprecation_msg, UserWarning)\n",
      "\n"
     ]
    },
    {
     "name": "stdout",
     "output_type": "stream",
     "text": [
      "[17:48:25] WARNING: ../src/learner.cc:1115: Starting in XGBoost 1.3.0, the default evaluation metric used with the objective 'binary:logistic' was changed from 'error' to 'logloss'. Explicitly set eval_metric if you'd like to restore the old behavior.\n",
      " 80%|████████  | 4/5 [00:19<?, ?trial/s, best loss=?]"
     ]
    },
    {
     "name": "stderr",
     "output_type": "stream",
     "text": [
      "/opt/conda/lib/python3.7/site-packages/xgboost/sklearn.py:1224: UserWarning: The use of label encoder in XGBClassifier is deprecated and will be removed in a future release. To remove this warning, do the following: 1) Pass option use_label_encoder=False when constructing XGBClassifier object; and 2) Encode your labels (y) as integers starting with 0, i.e. 0, 1, 2, ..., [num_class - 1].\n",
      "  warnings.warn(label_encoder_deprecation_msg, UserWarning)\n",
      "\n"
     ]
    },
    {
     "name": "stdout",
     "output_type": "stream",
     "text": [
      "[17:48:32] WARNING: ../src/learner.cc:1115: Starting in XGBoost 1.3.0, the default evaluation metric used with the objective 'binary:logistic' was changed from 'error' to 'logloss'. Explicitly set eval_metric if you'd like to restore the old behavior.\n",
      "100%|██████████| 5/5 [00:32<00:00, 32.56s/trial, best loss: 0.164983164983165]\n",
      " 83%|████████▎ | 5/6 [00:00<?, ?trial/s, best loss=?]"
     ]
    },
    {
     "name": "stderr",
     "output_type": "stream",
     "text": [
      "/opt/conda/lib/python3.7/site-packages/xgboost/sklearn.py:1224: UserWarning: The use of label encoder in XGBClassifier is deprecated and will be removed in a future release. To remove this warning, do the following: 1) Pass option use_label_encoder=False when constructing XGBClassifier object; and 2) Encode your labels (y) as integers starting with 0, i.e. 0, 1, 2, ..., [num_class - 1].\n",
      "  warnings.warn(label_encoder_deprecation_msg, UserWarning)\n",
      "\n"
     ]
    },
    {
     "name": "stdout",
     "output_type": "stream",
     "text": [
      "[17:48:39] WARNING: ../src/learner.cc:1115: Starting in XGBoost 1.3.0, the default evaluation metric used with the objective 'binary:logistic' was changed from 'error' to 'logloss'. Explicitly set eval_metric if you'd like to restore the old behavior.\n",
      "[17:48:47] WARNING: ../src/learner.cc:1115: Starting in XGBoost 1.3.0, the default evaluation metric used with the objective 'binary:logistic' was changed from 'error' to 'logloss'. Explicitly set eval_metric if you'd like to restore the old behavior.\n",
      "[17:48:56] WARNING: ../src/learner.cc:1115: Starting in XGBoost 1.3.0, the default evaluation metric used with the objective 'binary:logistic' was changed from 'error' to 'logloss'. Explicitly set eval_metric if you'd like to restore the old behavior.\n",
      "[17:49:04] WARNING: ../src/learner.cc:1115: Starting in XGBoost 1.3.0, the default evaluation metric used with the objective 'binary:logistic' was changed from 'error' to 'logloss'. Explicitly set eval_metric if you'd like to restore the old behavior.\n",
      "[17:49:13] WARNING: ../src/learner.cc:1115: Starting in XGBoost 1.3.0, the default evaluation metric used with the objective 'binary:logistic' was changed from 'error' to 'logloss'. Explicitly set eval_metric if you'd like to restore the old behavior.\n",
      "100%|██████████| 6/6 [00:43<00:00, 43.27s/trial, best loss: 0.164983164983165]\n",
      " 86%|████████▌ | 6/7 [00:00<?, ?trial/s, best loss=?]"
     ]
    },
    {
     "name": "stderr",
     "output_type": "stream",
     "text": [
      "/opt/conda/lib/python3.7/site-packages/xgboost/sklearn.py:1224: UserWarning: The use of label encoder in XGBClassifier is deprecated and will be removed in a future release. To remove this warning, do the following: 1) Pass option use_label_encoder=False when constructing XGBClassifier object; and 2) Encode your labels (y) as integers starting with 0, i.e. 0, 1, 2, ..., [num_class - 1].\n",
      "  warnings.warn(label_encoder_deprecation_msg, UserWarning)\n",
      "\n"
     ]
    },
    {
     "name": "stdout",
     "output_type": "stream",
     "text": [
      "[17:49:22] WARNING: ../src/learner.cc:1115: Starting in XGBoost 1.3.0, the default evaluation metric used with the objective 'binary:logistic' was changed from 'error' to 'logloss'. Explicitly set eval_metric if you'd like to restore the old behavior.\n",
      " 86%|████████▌ | 6/7 [00:00<?, ?trial/s, best loss=?]"
     ]
    },
    {
     "name": "stderr",
     "output_type": "stream",
     "text": [
      "/opt/conda/lib/python3.7/site-packages/xgboost/sklearn.py:1224: UserWarning: The use of label encoder in XGBClassifier is deprecated and will be removed in a future release. To remove this warning, do the following: 1) Pass option use_label_encoder=False when constructing XGBClassifier object; and 2) Encode your labels (y) as integers starting with 0, i.e. 0, 1, 2, ..., [num_class - 1].\n",
      "  warnings.warn(label_encoder_deprecation_msg, UserWarning)\n",
      "\n"
     ]
    },
    {
     "name": "stdout",
     "output_type": "stream",
     "text": [
      "[17:49:41] WARNING: ../src/learner.cc:1115: Starting in XGBoost 1.3.0, the default evaluation metric used with the objective 'binary:logistic' was changed from 'error' to 'logloss'. Explicitly set eval_metric if you'd like to restore the old behavior.\n",
      " 86%|████████▌ | 6/7 [00:19<?, ?trial/s, best loss=?]"
     ]
    },
    {
     "name": "stderr",
     "output_type": "stream",
     "text": [
      "/opt/conda/lib/python3.7/site-packages/xgboost/sklearn.py:1224: UserWarning: The use of label encoder in XGBClassifier is deprecated and will be removed in a future release. To remove this warning, do the following: 1) Pass option use_label_encoder=False when constructing XGBClassifier object; and 2) Encode your labels (y) as integers starting with 0, i.e. 0, 1, 2, ..., [num_class - 1].\n",
      "  warnings.warn(label_encoder_deprecation_msg, UserWarning)\n",
      "\n"
     ]
    },
    {
     "name": "stdout",
     "output_type": "stream",
     "text": [
      "[17:50:00] WARNING: ../src/learner.cc:1115: Starting in XGBoost 1.3.0, the default evaluation metric used with the objective 'binary:logistic' was changed from 'error' to 'logloss'. Explicitly set eval_metric if you'd like to restore the old behavior.\n",
      " 86%|████████▌ | 6/7 [00:38<?, ?trial/s, best loss=?]"
     ]
    },
    {
     "name": "stderr",
     "output_type": "stream",
     "text": [
      "/opt/conda/lib/python3.7/site-packages/xgboost/sklearn.py:1224: UserWarning: The use of label encoder in XGBClassifier is deprecated and will be removed in a future release. To remove this warning, do the following: 1) Pass option use_label_encoder=False when constructing XGBClassifier object; and 2) Encode your labels (y) as integers starting with 0, i.e. 0, 1, 2, ..., [num_class - 1].\n",
      "  warnings.warn(label_encoder_deprecation_msg, UserWarning)\n",
      "\n"
     ]
    },
    {
     "name": "stdout",
     "output_type": "stream",
     "text": [
      "[17:50:19] WARNING: ../src/learner.cc:1115: Starting in XGBoost 1.3.0, the default evaluation metric used with the objective 'binary:logistic' was changed from 'error' to 'logloss'. Explicitly set eval_metric if you'd like to restore the old behavior.\n",
      " 86%|████████▌ | 6/7 [00:57<?, ?trial/s, best loss=?]"
     ]
    },
    {
     "name": "stderr",
     "output_type": "stream",
     "text": [
      "/opt/conda/lib/python3.7/site-packages/xgboost/sklearn.py:1224: UserWarning: The use of label encoder in XGBClassifier is deprecated and will be removed in a future release. To remove this warning, do the following: 1) Pass option use_label_encoder=False when constructing XGBClassifier object; and 2) Encode your labels (y) as integers starting with 0, i.e. 0, 1, 2, ..., [num_class - 1].\n",
      "  warnings.warn(label_encoder_deprecation_msg, UserWarning)\n",
      "\n"
     ]
    },
    {
     "name": "stdout",
     "output_type": "stream",
     "text": [
      "[17:50:37] WARNING: ../src/learner.cc:1115: Starting in XGBoost 1.3.0, the default evaluation metric used with the objective 'binary:logistic' was changed from 'error' to 'logloss'. Explicitly set eval_metric if you'd like to restore the old behavior.\n",
      "100%|██████████| 7/7 [01:33<00:00, 93.76s/trial, best loss: 0.164983164983165]\n",
      " 88%|████████▊ | 7/8 [00:00<?, ?trial/s, best loss=?]"
     ]
    },
    {
     "name": "stderr",
     "output_type": "stream",
     "text": [
      "/opt/conda/lib/python3.7/site-packages/xgboost/sklearn.py:1224: UserWarning: The use of label encoder in XGBClassifier is deprecated and will be removed in a future release. To remove this warning, do the following: 1) Pass option use_label_encoder=False when constructing XGBClassifier object; and 2) Encode your labels (y) as integers starting with 0, i.e. 0, 1, 2, ..., [num_class - 1].\n",
      "  warnings.warn(label_encoder_deprecation_msg, UserWarning)\n",
      "\n"
     ]
    },
    {
     "name": "stdout",
     "output_type": "stream",
     "text": [
      "[17:50:56] WARNING: ../src/learner.cc:1115: Starting in XGBoost 1.3.0, the default evaluation metric used with the objective 'binary:logistic' was changed from 'error' to 'logloss'. Explicitly set eval_metric if you'd like to restore the old behavior.\n",
      "[17:51:13] WARNING: ../src/learner.cc:1115: Starting in XGBoost 1.3.0, the default evaluation metric used with the objective 'binary:logistic' was changed from 'error' to 'logloss'. Explicitly set eval_metric if you'd like to restore the old behavior.\n",
      "[17:51:31] WARNING: ../src/learner.cc:1115: Starting in XGBoost 1.3.0, the default evaluation metric used with the objective 'binary:logistic' was changed from 'error' to 'logloss'. Explicitly set eval_metric if you'd like to restore the old behavior.\n",
      "[17:51:48] WARNING: ../src/learner.cc:1115: Starting in XGBoost 1.3.0, the default evaluation metric used with the objective 'binary:logistic' was changed from 'error' to 'logloss'. Explicitly set eval_metric if you'd like to restore the old behavior.\n",
      "[17:52:06] WARNING: ../src/learner.cc:1115: Starting in XGBoost 1.3.0, the default evaluation metric used with the objective 'binary:logistic' was changed from 'error' to 'logloss'. Explicitly set eval_metric if you'd like to restore the old behavior.\n",
      "100%|██████████| 8/8 [01:27<00:00, 87.06s/trial, best loss: 0.1582491582491582]\n",
      " 89%|████████▉ | 8/9 [00:00<?, ?trial/s, best loss=?]"
     ]
    },
    {
     "name": "stderr",
     "output_type": "stream",
     "text": [
      "/opt/conda/lib/python3.7/site-packages/xgboost/sklearn.py:1224: UserWarning: The use of label encoder in XGBClassifier is deprecated and will be removed in a future release. To remove this warning, do the following: 1) Pass option use_label_encoder=False when constructing XGBClassifier object; and 2) Encode your labels (y) as integers starting with 0, i.e. 0, 1, 2, ..., [num_class - 1].\n",
      "  warnings.warn(label_encoder_deprecation_msg, UserWarning)\n",
      "\n"
     ]
    },
    {
     "name": "stdout",
     "output_type": "stream",
     "text": [
      "[17:52:23] WARNING: ../src/learner.cc:1115: Starting in XGBoost 1.3.0, the default evaluation metric used with the objective 'binary:logistic' was changed from 'error' to 'logloss'. Explicitly set eval_metric if you'd like to restore the old behavior.\n",
      "[17:52:34] WARNING: ../src/learner.cc:1115: Starting in XGBoost 1.3.0, the default evaluation metric used with the objective 'binary:logistic' was changed from 'error' to 'logloss'. Explicitly set eval_metric if you'd like to restore the old behavior.\n",
      "[17:52:44] WARNING: ../src/learner.cc:1115: Starting in XGBoost 1.3.0, the default evaluation metric used with the objective 'binary:logistic' was changed from 'error' to 'logloss'. Explicitly set eval_metric if you'd like to restore the old behavior.\n",
      "[17:52:55] WARNING: ../src/learner.cc:1115: Starting in XGBoost 1.3.0, the default evaluation metric used with the objective 'binary:logistic' was changed from 'error' to 'logloss'. Explicitly set eval_metric if you'd like to restore the old behavior.\n",
      "[17:53:06] WARNING: ../src/learner.cc:1115: Starting in XGBoost 1.3.0, the default evaluation metric used with the objective 'binary:logistic' was changed from 'error' to 'logloss'. Explicitly set eval_metric if you'd like to restore the old behavior.\n",
      "100%|██████████| 9/9 [00:53<00:00, 53.30s/trial, best loss: 0.1582491582491582]\n",
      " 90%|█████████ | 9/10 [00:00<?, ?trial/s, best loss=?]"
     ]
    },
    {
     "name": "stderr",
     "output_type": "stream",
     "text": [
      "/opt/conda/lib/python3.7/site-packages/xgboost/sklearn.py:1224: UserWarning: The use of label encoder in XGBClassifier is deprecated and will be removed in a future release. To remove this warning, do the following: 1) Pass option use_label_encoder=False when constructing XGBClassifier object; and 2) Encode your labels (y) as integers starting with 0, i.e. 0, 1, 2, ..., [num_class - 1].\n",
      "  warnings.warn(label_encoder_deprecation_msg, UserWarning)\n",
      "\n"
     ]
    },
    {
     "name": "stdout",
     "output_type": "stream",
     "text": [
      "[17:53:16] WARNING: ../src/learner.cc:1115: Starting in XGBoost 1.3.0, the default evaluation metric used with the objective 'binary:logistic' was changed from 'error' to 'logloss'. Explicitly set eval_metric if you'd like to restore the old behavior.\n",
      " 90%|█████████ | 9/10 [00:00<?, ?trial/s, best loss=?]"
     ]
    },
    {
     "name": "stderr",
     "output_type": "stream",
     "text": [
      "/opt/conda/lib/python3.7/site-packages/xgboost/sklearn.py:1224: UserWarning: The use of label encoder in XGBClassifier is deprecated and will be removed in a future release. To remove this warning, do the following: 1) Pass option use_label_encoder=False when constructing XGBClassifier object; and 2) Encode your labels (y) as integers starting with 0, i.e. 0, 1, 2, ..., [num_class - 1].\n",
      "  warnings.warn(label_encoder_deprecation_msg, UserWarning)\n",
      "\n"
     ]
    },
    {
     "name": "stdout",
     "output_type": "stream",
     "text": [
      "[17:53:22] WARNING: ../src/learner.cc:1115: Starting in XGBoost 1.3.0, the default evaluation metric used with the objective 'binary:logistic' was changed from 'error' to 'logloss'. Explicitly set eval_metric if you'd like to restore the old behavior.\n",
      " 90%|█████████ | 9/10 [00:05<?, ?trial/s, best loss=?]"
     ]
    },
    {
     "name": "stderr",
     "output_type": "stream",
     "text": [
      "/opt/conda/lib/python3.7/site-packages/xgboost/sklearn.py:1224: UserWarning: The use of label encoder in XGBClassifier is deprecated and will be removed in a future release. To remove this warning, do the following: 1) Pass option use_label_encoder=False when constructing XGBClassifier object; and 2) Encode your labels (y) as integers starting with 0, i.e. 0, 1, 2, ..., [num_class - 1].\n",
      "  warnings.warn(label_encoder_deprecation_msg, UserWarning)\n",
      "\n"
     ]
    },
    {
     "name": "stdout",
     "output_type": "stream",
     "text": [
      "[17:53:28] WARNING: ../src/learner.cc:1115: Starting in XGBoost 1.3.0, the default evaluation metric used with the objective 'binary:logistic' was changed from 'error' to 'logloss'. Explicitly set eval_metric if you'd like to restore the old behavior.\n",
      " 90%|█████████ | 9/10 [00:11<?, ?trial/s, best loss=?]"
     ]
    },
    {
     "name": "stderr",
     "output_type": "stream",
     "text": [
      "/opt/conda/lib/python3.7/site-packages/xgboost/sklearn.py:1224: UserWarning: The use of label encoder in XGBClassifier is deprecated and will be removed in a future release. To remove this warning, do the following: 1) Pass option use_label_encoder=False when constructing XGBClassifier object; and 2) Encode your labels (y) as integers starting with 0, i.e. 0, 1, 2, ..., [num_class - 1].\n",
      "  warnings.warn(label_encoder_deprecation_msg, UserWarning)\n",
      "\n"
     ]
    },
    {
     "name": "stdout",
     "output_type": "stream",
     "text": [
      "[17:53:35] WARNING: ../src/learner.cc:1115: Starting in XGBoost 1.3.0, the default evaluation metric used with the objective 'binary:logistic' was changed from 'error' to 'logloss'. Explicitly set eval_metric if you'd like to restore the old behavior.\n",
      " 90%|█████████ | 9/10 [00:18<?, ?trial/s, best loss=?]"
     ]
    },
    {
     "name": "stderr",
     "output_type": "stream",
     "text": [
      "/opt/conda/lib/python3.7/site-packages/xgboost/sklearn.py:1224: UserWarning: The use of label encoder in XGBClassifier is deprecated and will be removed in a future release. To remove this warning, do the following: 1) Pass option use_label_encoder=False when constructing XGBClassifier object; and 2) Encode your labels (y) as integers starting with 0, i.e. 0, 1, 2, ..., [num_class - 1].\n",
      "  warnings.warn(label_encoder_deprecation_msg, UserWarning)\n",
      "\n"
     ]
    },
    {
     "name": "stdout",
     "output_type": "stream",
     "text": [
      "[17:53:40] WARNING: ../src/learner.cc:1115: Starting in XGBoost 1.3.0, the default evaluation metric used with the objective 'binary:logistic' was changed from 'error' to 'logloss'. Explicitly set eval_metric if you'd like to restore the old behavior.\n",
      "100%|██████████| 10/10 [00:29<00:00, 29.03s/trial, best loss: 0.1582491582491582]\n",
      "[17:53:45] WARNING: ../src/learner.cc:1115: Starting in XGBoost 1.3.0, the default evaluation metric used with the objective 'binary:logistic' was changed from 'error' to 'logloss'. Explicitly set eval_metric if you'd like to restore the old behavior.\n"
     ]
    },
    {
     "name": "stderr",
     "output_type": "stream",
     "text": [
      "/opt/conda/lib/python3.7/site-packages/xgboost/sklearn.py:1224: UserWarning: The use of label encoder in XGBClassifier is deprecated and will be removed in a future release. To remove this warning, do the following: 1) Pass option use_label_encoder=False when constructing XGBClassifier object; and 2) Encode your labels (y) as integers starting with 0, i.e. 0, 1, 2, ..., [num_class - 1].\n",
      "  warnings.warn(label_encoder_deprecation_msg, UserWarning)\n"
     ]
    },
    {
     "name": "stdout",
     "output_type": "stream",
     "text": [
      "XGBClassifier(base_score=0.5, booster='gbtree',\n",
      "              colsample_bylevel=0.7569428504466125, colsample_bynode=1,\n",
      "              colsample_bytree=0.6799178979413578, enable_categorical=False,\n",
      "              gamma=0.11855551804480993, gpu_id=-1, importance_type=None,\n",
      "              interaction_constraints='', learning_rate=0.016447837295620424,\n",
      "              max_delta_step=0, max_depth=3, min_child_weight=1, missing=nan,\n",
      "              monotone_constraints='()', n_estimators=4400, n_jobs=-1,\n",
      "              num_parallel_tree=1, predictor='auto', random_state=1,\n",
      "              reg_alpha=0.3497897935717643, reg_lambda=1.504193641873445,\n",
      "              scale_pos_weight=1, seed=1, subsample=0.5339001474235694,\n",
      "              tree_method='exact', validate_parameters=1, verbosity=None)\n"
     ]
    }
   ],
   "source": [
    "# baseline XGBoost\n",
    "\"\"\"\n",
    "dtrain = xgb.DMatrix(X_train,label=y_train)\n",
    "dtest = xgb.DMatrix(X_test)\n",
    "\n",
    "# refer to https://xgboost.readthedocs.io/en/stable/parameter.html#parameters-for-tree-booster\n",
    "# for parameters\n",
    "baseline_params={\n",
    "    'max_depth':2, \n",
    "    'eta':0.5,\n",
    "    'objective':'binary:logistic'\n",
    "}\n",
    "\n",
    "res = xgb.cv(baseline_params, dtrain, num_boost_round=5, nfold=5,\n",
    "       seed=RNG_SEED,\n",
    "       metrics={'logloss'},\n",
    "       callbacks=[xgb.callback.EvaluationMonitor(show_stdv=True)])\n",
    "\"\"\"\n",
    "\n",
    "xgb_estim = HyperoptEstimator(classifier=xgboost_classification('xgb-clf'),\n",
    "                              algo=hp.tpe.suggest,\n",
    "                              max_evals=10,\n",
    "                              trial_timeout=360,\n",
    "                              n_jobs=-1)\n",
    "\n",
    "# Search the hyperparameter space based on the data\n",
    "xgb_estim.fit(X_train.to_numpy(), y_train.to_numpy(),  n_folds=5)\n",
    "\n",
    "hpskl_xgb = xgb_estim.best_model()['learner']\n",
    "\n",
    "print(hpskl_xgb)"
   ]
  },
  {
   "cell_type": "code",
   "execution_count": 85,
   "id": "ee65d1fc",
   "metadata": {
    "execution": {
     "iopub.execute_input": "2022-03-01T17:54:04.253901Z",
     "iopub.status.busy": "2022-03-01T17:54:04.252833Z",
     "iopub.status.idle": "2022-03-01T18:19:56.814996Z",
     "shell.execute_reply": "2022-03-01T18:19:56.814444Z",
     "shell.execute_reply.started": "2022-03-01T17:07:36.200135Z"
    },
    "papermill": {
     "duration": 1552.985901,
     "end_time": "2022-03-01T18:19:56.815171",
     "exception": false,
     "start_time": "2022-03-01T17:54:03.829270",
     "status": "completed"
    },
    "tags": []
   },
   "outputs": [
    {
     "name": "stdout",
     "output_type": "stream",
     "text": [
      "Accuracy for HPSKL XGB: mean=0.842, 1se=0.825\n"
     ]
    },
    {
     "data": {
      "text/plain": [
       "array([0.83798883, 0.8258427 , 0.87078652, 0.8258427 , 0.84831461])"
      ]
     },
     "execution_count": 85,
     "metadata": {},
     "output_type": "execute_result"
    }
   ],
   "source": [
    "eval_model(model=hpskl_xgb,name='HPSKL XGB')"
   ]
  },
  {
   "cell_type": "code",
   "execution_count": 86,
   "id": "a7962d46",
   "metadata": {
    "execution": {
     "iopub.execute_input": "2022-03-01T18:19:57.668556Z",
     "iopub.status.busy": "2022-03-01T18:19:57.667510Z",
     "iopub.status.idle": "2022-03-01T18:19:58.009390Z",
     "shell.execute_reply": "2022-03-01T18:19:58.009885Z",
     "shell.execute_reply.started": "2022-03-01T17:25:51.993299Z"
    },
    "papermill": {
     "duration": 0.776796,
     "end_time": "2022-03-01T18:19:58.010076",
     "exception": false,
     "start_time": "2022-03-01T18:19:57.233280",
     "status": "completed"
    },
    "tags": []
   },
   "outputs": [
    {
     "data": {
      "image/png": "[encoded data removed]",
      "text/plain": [
       "<Figure size 864x576 with 1 Axes>"
      ]
     },
     "metadata": {},
     "output_type": "display_data"
    }
   ],
   "source": [
    "# plot\n",
    "fig, ax = plt.subplots(figsize=(12,8))\n",
    "xgb.plot_importance(hpskl_xgb.get_booster(), ax=ax)\n",
    "plt.show()"
   ]
  },
  {
   "cell_type": "code",
   "execution_count": 87,
   "id": "77d34a27",
   "metadata": {
    "execution": {
     "iopub.execute_input": "2022-03-01T18:19:58.855199Z",
     "iopub.status.busy": "2022-03-01T18:19:58.854207Z",
     "iopub.status.idle": "2022-03-01T18:19:59.219422Z",
     "shell.execute_reply": "2022-03-01T18:19:59.219957Z",
     "shell.execute_reply.started": "2022-03-01T17:33:12.101437Z"
    },
    "papermill": {
     "duration": 0.792575,
     "end_time": "2022-03-01T18:19:59.220152",
     "exception": false,
     "start_time": "2022-03-01T18:19:58.427577",
     "status": "completed"
    },
    "tags": []
   },
   "outputs": [
    {
     "data": {
      "image/png": "[encoded data removed]",
      "text/plain": [
       "<Figure size 864x576 with 1 Axes>"
      ]
     },
     "metadata": {},
     "output_type": "display_data"
    }
   ],
   "source": [
    "# redo with original Feature names\n",
    "name_mapping = {f\"f{idx}\":feature_name for idx, feature_name in enumerate(X_train.columns)}\n",
    "\n",
    "fig, ax = plt.subplots(figsize=(12,8))\n",
    "xgb.plot_importance(hpskl_xgb.get_booster(), ax=ax)\n",
    "\n",
    "ax.set_yticks(ax.get_yticks())\n",
    "ax.set_yticklabels([name_mapping[ticklabel.get_text()] for ticklabel in ax.get_yticklabels()])\n",
    "\n",
    "plt.show()"
   ]
  },
  {
   "cell_type": "code",
   "execution_count": 88,
   "id": "8e901644",
   "metadata": {
    "execution": {
     "iopub.execute_input": "2022-03-01T18:20:00.069652Z",
     "iopub.status.busy": "2022-03-01T18:20:00.068621Z",
     "iopub.status.idle": "2022-03-01T18:20:00.113866Z",
     "shell.execute_reply": "2022-03-01T18:20:00.113298Z",
     "shell.execute_reply.started": "2022-03-01T17:35:05.509126Z"
    },
    "papermill": {
     "duration": 0.473583,
     "end_time": "2022-03-01T18:20:00.114051",
     "exception": false,
     "start_time": "2022-03-01T18:19:59.640468",
     "status": "completed"
    },
    "tags": []
   },
   "outputs": [],
   "source": [
    "# submit xgboost\n",
    "submit_model(hpskl_xgb, 'hpskl-xgb',also_train=False)"
   ]
  }
 ],
 "metadata": {
  "kernelspec": {
   "display_name": "Python 3 (ipykernel)",
   "language": "python",
   "name": "python3"
  },
  "language_info": {
   "codemirror_mode": {
    "name": "ipython",
    "version": 3
   },
   "file_extension": ".py",
   "mimetype": "text/x-python",
   "name": "python",
   "nbconvert_exporter": "python",
   "pygments_lexer": "ipython3",
   "version": "3.8.12"
  },
  "papermill": {
   "default_parameters": {},
   "duration": 2636.971215,
   "end_time": "2022-03-01T18:20:01.656437",
   "environment_variables": {},
   "exception": null,
   "input_path": "__notebook__.ipynb",
   "output_path": "__notebook__.ipynb",
   "parameters": {},
   "start_time": "2022-03-01T17:36:04.685222",
   "version": "2.3.3"
  }
 },
 "nbformat": 4,
 "nbformat_minor": 5
}
